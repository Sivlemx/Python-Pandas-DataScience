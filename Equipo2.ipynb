{
 "cells": [
  {
   "cell_type": "code",
   "execution_count": 1,
   "metadata": {},
   "outputs": [],
   "source": [
    "import pandas as pd\n",
    "import numpy as np\n",
    "import matplotlib.pyplot as plt\n",
    "from glob import glob as gg\n",
    "from pandas_profiling import ProfileReport"
   ]
  },
  {
   "cell_type": "code",
   "execution_count": 2,
   "metadata": {},
   "outputs": [
    {
     "data": {
      "text/plain": [
       "['Equipo 2 post PARA PYTHON.xlsx']"
      ]
     },
     "execution_count": 2,
     "metadata": {},
     "output_type": "execute_result"
    }
   ],
   "source": [
    "file_xlsx = sorted(gg('Equipo*.xlsx'))"
   ]
  },
  {
   "cell_type": "code",
   "execution_count": 3,
   "metadata": {},
   "outputs": [
    {
     "data": {
      "text/html": [
       "<div>\n",
       "<style scoped>\n",
       "    .dataframe tbody tr th:only-of-type {\n",
       "        vertical-align: middle;\n",
       "    }\n",
       "\n",
       "    .dataframe tbody tr th {\n",
       "        vertical-align: top;\n",
       "    }\n",
       "\n",
       "    .dataframe thead th {\n",
       "        text-align: right;\n",
       "    }\n",
       "</style>\n",
       "<table border=\"1\" class=\"dataframe\">\n",
       "  <thead>\n",
       "    <tr style=\"text-align: right;\">\n",
       "      <th></th>\n",
       "      <th>Turno</th>\n",
       "      <th>Agente</th>\n",
       "      <th>Transcripción</th>\n",
       "    </tr>\n",
       "  </thead>\n",
       "  <tbody>\n",
       "    <tr>\n",
       "      <th>0</th>\n",
       "      <td>PARTE 1</td>\n",
       "      <td>NaN</td>\n",
       "      <td>NaN</td>\n",
       "    </tr>\n",
       "    <tr>\n",
       "      <th>1</th>\n",
       "      <td>NaN</td>\n",
       "      <td>Sinue</td>\n",
       "      <td>((Lee el ejercicio))</td>\n",
       "    </tr>\n",
       "    <tr>\n",
       "      <th>2</th>\n",
       "      <td>NaN</td>\n",
       "      <td>Fabiola</td>\n",
       "      <td>Listo ya terminaron? la lectura? ahora es la (...</td>\n",
       "    </tr>\n",
       "    <tr>\n",
       "      <th>3</th>\n",
       "      <td>NaN</td>\n",
       "      <td>Angélica</td>\n",
       "      <td>((Asiente))</td>\n",
       "    </tr>\n",
       "    <tr>\n",
       "      <th>4</th>\n",
       "      <td>01:30:00</td>\n",
       "      <td>S</td>\n",
       "      <td>Ah ok</td>\n",
       "    </tr>\n",
       "    <tr>\n",
       "      <th>...</th>\n",
       "      <td>...</td>\n",
       "      <td>...</td>\n",
       "      <td>...</td>\n",
       "    </tr>\n",
       "    <tr>\n",
       "      <th>402</th>\n",
       "      <td>NaN</td>\n",
       "      <td>A</td>\n",
       "      <td>La hora doce veinticinco o una veinticinco ((b...</td>\n",
       "    </tr>\n",
       "    <tr>\n",
       "      <th>403</th>\n",
       "      <td>NaN</td>\n",
       "      <td>S</td>\n",
       "      <td>Já fueron notas?</td>\n",
       "    </tr>\n",
       "    <tr>\n",
       "      <th>404</th>\n",
       "      <td>13:30</td>\n",
       "      <td>A</td>\n",
       "      <td>Una venticinco(.)oye (inaudible) ((busca algo,...</td>\n",
       "    </tr>\n",
       "    <tr>\n",
       "      <th>405</th>\n",
       "      <td>NaN</td>\n",
       "      <td>M</td>\n",
       "      <td>La dos la tres es esa?</td>\n",
       "    </tr>\n",
       "    <tr>\n",
       "      <th>406</th>\n",
       "      <td>NaN</td>\n",
       "      <td>FI</td>\n",
       "      <td>Aquí las recojo por favor</td>\n",
       "    </tr>\n",
       "  </tbody>\n",
       "</table>\n",
       "<p>407 rows × 3 columns</p>\n",
       "</div>"
      ],
      "text/plain": [
       "        Turno    Agente                                      Transcripción\n",
       "0     PARTE 1       NaN                                                NaN\n",
       "1         NaN     Sinue                               ((Lee el ejercicio))\n",
       "2         NaN   Fabiola  Listo ya terminaron? la lectura? ahora es la (...\n",
       "3         NaN  Angélica                                        ((Asiente))\n",
       "4    01:30:00         S                                             Ah ok \n",
       "..        ...       ...                                                ...\n",
       "402       NaN         A  La hora doce veinticinco o una veinticinco ((b...\n",
       "403       NaN         S                                   Já fueron notas?\n",
       "404     13:30         A  Una venticinco(.)oye (inaudible) ((busca algo,...\n",
       "405       NaN         M                             La dos la tres es esa?\n",
       "406       NaN        FI                          Aquí las recojo por favor\n",
       "\n",
       "[407 rows x 3 columns]"
      ]
     },
     "execution_count": 3,
     "metadata": {},
     "output_type": "execute_result"
    }
   ],
   "source": [
    "flora = pd.read_excel(file_xlsx[-1])\n",
    "flora"
   ]
  },
  {
   "cell_type": "code",
   "execution_count": null,
   "metadata": {},
   "outputs": [],
   "source": []
  }
 ],
 "metadata": {
  "kernelspec": {
   "display_name": "Python 3",
   "language": "python",
   "name": "python3"
  },
  "language_info": {
   "codemirror_mode": {
    "name": "ipython",
    "version": 3
   },
   "file_extension": ".py",
   "mimetype": "text/x-python",
   "name": "python",
   "nbconvert_exporter": "python",
   "pygments_lexer": "ipython3",
   "version": "3.8.5"
  }
 },
 "nbformat": 4,
 "nbformat_minor": 4
}
