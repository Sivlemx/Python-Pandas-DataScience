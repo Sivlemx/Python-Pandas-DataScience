{
 "cells": [
  {
   "cell_type": "code",
   "execution_count": null,
   "metadata": {},
   "outputs": [],
   "source": [
    "import pandas as pd\n",
    "import numpy as np\n",
    "import matplotlib.pyplot as plt\n",
    "from glob import glob as gg\n",
    "from pandas_profiling import ProfileReport\n",
    "import statsmodels.formula.api as smf"
   ]
  },
  {
   "cell_type": "code",
   "execution_count": null,
   "metadata": {},
   "outputs": [],
   "source": [
    "file_xslx = sorted(gg('SSPS_*CHILE*.xlsx'))\n",
    "file_xslx"
   ]
  },
  {
   "cell_type": "code",
   "execution_count": null,
   "metadata": {},
   "outputs": [],
   "source": [
    "chile = pd.read_excel(file_xslx[-1])\n",
    "print(chile.shape)\n",
    "chile.head()"
   ]
  },
  {
   "cell_type": "code",
   "execution_count": null,
   "metadata": {},
   "outputs": [],
   "source": [
    "chile.columns = chile.columns.str.replace(' ', '_')\n",
    "chile.columns = chile.columns.str.replace('.', '_')"
   ]
  },
  {
   "cell_type": "code",
   "execution_count": null,
   "metadata": {},
   "outputs": [],
   "source": [
    "perfil = ProfileReport(chile, title=\"Reporte Suicidios\", explorative=True)\n",
    "perfil.to_file(\"Suicidios_Chile.html\")"
   ]
  },
  {
   "cell_type": "markdown",
   "metadata": {},
   "source": [
    "# Diferencia y correlación de sucidio por AÑO, EDAD, SEXO; columna; 'MEC_SUICIDA', 'ESTACION', 'RANGO ETARIO', 'EDAD_CANT', 'SUBTIPO_MEC'"
   ]
  },
  {
   "cell_type": "code",
   "execution_count": null,
   "metadata": {},
   "outputs": [],
   "source": [
    "chile.info()"
   ]
  },
  {
   "cell_type": "markdown",
   "metadata": {},
   "source": [
    "## Convertir columnas/variables a categoricas"
   ]
  },
  {
   "cell_type": "code",
   "execution_count": null,
   "metadata": {},
   "outputs": [],
   "source": [
    "col_cat = ['SEXO', 'EST_CIVIL', 'EDAD_TIPO', 'EDAD_CANT', 'RENGOETARIO_N', 'RANGO_ETARIO', 'ACTIVIDAD', 'OCUPACION', 'CATEGORIA', 'ESTACION_N', 'ESTACION']\n",
    "for col in col_cat:\n",
    "    chile[col] = chile[col].astype('category')"
   ]
  },
  {
   "cell_type": "code",
   "execution_count": null,
   "metadata": {},
   "outputs": [],
   "source": [
    "chile.info()"
   ]
  },
  {
   "cell_type": "code",
   "execution_count": null,
   "metadata": {},
   "outputs": [],
   "source": [
    "perfil = ProfileReport(chile, title=\"Reporte Suicidios\", explorative=True)\n",
    "perfil.to_file(\"Suicidios_Chile.html\")"
   ]
  },
  {
   "cell_type": "code",
   "execution_count": null,
   "metadata": {},
   "outputs": [],
   "source": [
    "chile.ACTIVIDAD"
   ]
  },
  {
   "cell_type": "code",
   "execution_count": 13,
   "metadata": {},
   "outputs": [
    {
     "data": {
      "text/plain": [
       "Index(['DIA_NAC', 'MES_NAC', 'AÑONACIM', 'ANO1_NAC', 'ANO2_NAC', 'SEXO',\n",
       "       'EST_CIVIL', 'EDAD_TIPO', 'EDAD_CANT', 'RENGOETARIO_N', 'RANGO_ETARIO',\n",
       "       'EDAD_LABORAL', 'CURSO_INS', 'NIVEL_INS', 'ACTIVIDAD', 'OCUPACION',\n",
       "       'CATEGORIA', 'FECHA_DEF', 'ESTACION_N', 'ESTACION', 'DIA_SEMANA',\n",
       "       'DIA_DEF', 'MES_DEF', 'ANO_DEF', 'LUGAR_DEF', 'REG_RES', 'SERV_RES',\n",
       "       'COMUNA', 'DESC_COMUNA', 'URB_RURAL', 'DIAG1', 'DIAG2', 'MEC_SUICIDA',\n",
       "       'SUBTIPO_MEC', 'AT_MEDICA', 'CAL_MEDICO', 'COD_MENOR', 'DIA_NAC_1',\n",
       "       'MES_NAC_1', 'ANO1', 'ANO2', 'DIA_DEF_1', 'MES_DEF_1', 'ANO_DEF_1',\n",
       "       'FechaA', 'FechaD', 'FechaDesp', 'FECHA_DEF_1', 'difa', 'difb', 'difc',\n",
       "       'dist_absoluta', 'distancia_final', 'mes_suicidio', 'bimestre'],\n",
       "      dtype='object')"
      ]
     },
     "execution_count": 13,
     "metadata": {},
     "output_type": "execute_result"
    }
   ],
   "source": [
    "chile.columns"
   ]
  },
  {
   "cell_type": "code",
   "execution_count": 19,
   "metadata": {},
   "outputs": [
    {
     "data": {
      "text/plain": [
       "array(['Lesión', 'Envenenamiento'], dtype=object)"
      ]
     },
     "execution_count": 19,
     "metadata": {},
     "output_type": "execute_result"
    }
   ],
   "source": [
    "chile.MEC_SUICIDA.unique()"
   ]
  },
  {
   "cell_type": "markdown",
   "metadata": {},
   "source": [
    "# Tarea\n"
   ]
  },
  {
   "cell_type": "code",
   "execution_count": null,
   "metadata": {},
   "outputs": [],
   "source": [
    "model = smf.ols('SEXO ~ MEC_SUICIDA + RANGO_ETARIO', chile).fit()\n",
    "print(model)\n",
    "print(' ')\n",
    "print(model.summary())"
   ]
  },
  {
   "cell_type": "code",
   "execution_count": null,
   "metadata": {},
   "outputs": [],
   "source": []
  }
 ],
 "metadata": {
  "kernelspec": {
   "display_name": "Python 3",
   "language": "python",
   "name": "python3"
  },
  "language_info": {
   "codemirror_mode": {
    "name": "ipython",
    "version": 3
   },
   "file_extension": ".py",
   "mimetype": "text/x-python",
   "name": "python",
   "nbconvert_exporter": "python",
   "pygments_lexer": "ipython3",
   "version": "3.8.5"
  }
 },
 "nbformat": 4,
 "nbformat_minor": 4
}
