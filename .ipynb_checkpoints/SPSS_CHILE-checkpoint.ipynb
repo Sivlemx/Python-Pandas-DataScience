{
 "cells": [
  {
   "cell_type": "code",
   "execution_count": 35,
   "metadata": {},
   "outputs": [],
   "source": [
    "import pandas as pd\n",
    "import numpy as np\n",
    "import matplotlib.pyplot as plt\n",
    "from glob import glob as gg\n",
    "from pandas_profiling import ProfileReport\n",
    "import statsmodels.formula.api as smf"
   ]
  },
  {
   "cell_type": "code",
   "execution_count": 21,
   "metadata": {},
   "outputs": [],
   "source": [
    "file_xslx = sorted(gg('SSPS_*CHILE*.xlsx'))"
   ]
  },
  {
   "cell_type": "code",
   "execution_count": 22,
   "metadata": {},
   "outputs": [
    {
     "name": "stdout",
     "output_type": "stream",
     "text": [
      "(19329, 55)\n"
     ]
    },
    {
     "data": {
      "text/html": [
       "<div>\n",
       "<style scoped>\n",
       "    .dataframe tbody tr th:only-of-type {\n",
       "        vertical-align: middle;\n",
       "    }\n",
       "\n",
       "    .dataframe tbody tr th {\n",
       "        vertical-align: top;\n",
       "    }\n",
       "\n",
       "    .dataframe thead th {\n",
       "        text-align: right;\n",
       "    }\n",
       "</style>\n",
       "<table border=\"1\" class=\"dataframe\">\n",
       "  <thead>\n",
       "    <tr style=\"text-align: right;\">\n",
       "      <th></th>\n",
       "      <th>DIA_NAC</th>\n",
       "      <th>MES_NAC</th>\n",
       "      <th>AÑONACIM</th>\n",
       "      <th>ANO1_NAC</th>\n",
       "      <th>ANO2_NAC</th>\n",
       "      <th>SEXO</th>\n",
       "      <th>EST_CIVIL</th>\n",
       "      <th>EDAD_TIPO</th>\n",
       "      <th>EDAD_CANT</th>\n",
       "      <th>RENGOETARIO_N</th>\n",
       "      <th>...</th>\n",
       "      <th>FechaD</th>\n",
       "      <th>FechaDesp</th>\n",
       "      <th>FECHA_DEF.1</th>\n",
       "      <th>difa</th>\n",
       "      <th>difb</th>\n",
       "      <th>difc</th>\n",
       "      <th>dist_absoluta</th>\n",
       "      <th>distancia_final</th>\n",
       "      <th>mes_suicidio</th>\n",
       "      <th>bimestre</th>\n",
       "    </tr>\n",
       "  </thead>\n",
       "  <tbody>\n",
       "    <tr>\n",
       "      <th>0</th>\n",
       "      <td>13</td>\n",
       "      <td>4</td>\n",
       "      <td>1985</td>\n",
       "      <td>19</td>\n",
       "      <td>85</td>\n",
       "      <td>2</td>\n",
       "      <td>1</td>\n",
       "      <td>1</td>\n",
       "      <td>21</td>\n",
       "      <td>3</td>\n",
       "      <td>...</td>\n",
       "      <td>2007-04-13</td>\n",
       "      <td>2008-04-13</td>\n",
       "      <td>2007-01-03</td>\n",
       "      <td>-265</td>\n",
       "      <td>100</td>\n",
       "      <td>466</td>\n",
       "      <td>100</td>\n",
       "      <td>100</td>\n",
       "      <td>4</td>\n",
       "      <td>2</td>\n",
       "    </tr>\n",
       "    <tr>\n",
       "      <th>1</th>\n",
       "      <td>17</td>\n",
       "      <td>12</td>\n",
       "      <td>1975</td>\n",
       "      <td>19</td>\n",
       "      <td>75</td>\n",
       "      <td>1</td>\n",
       "      <td>1</td>\n",
       "      <td>1</td>\n",
       "      <td>31</td>\n",
       "      <td>3</td>\n",
       "      <td>...</td>\n",
       "      <td>2007-12-17</td>\n",
       "      <td>2008-12-17</td>\n",
       "      <td>2007-01-07</td>\n",
       "      <td>-21</td>\n",
       "      <td>344</td>\n",
       "      <td>710</td>\n",
       "      <td>21</td>\n",
       "      <td>-21</td>\n",
       "      <td>1</td>\n",
       "      <td>1</td>\n",
       "    </tr>\n",
       "    <tr>\n",
       "      <th>2</th>\n",
       "      <td>9</td>\n",
       "      <td>6</td>\n",
       "      <td>1956</td>\n",
       "      <td>19</td>\n",
       "      <td>56</td>\n",
       "      <td>1</td>\n",
       "      <td>2</td>\n",
       "      <td>1</td>\n",
       "      <td>51</td>\n",
       "      <td>4</td>\n",
       "      <td>...</td>\n",
       "      <td>2007-06-09</td>\n",
       "      <td>2008-06-09</td>\n",
       "      <td>2007-09-16</td>\n",
       "      <td>-464</td>\n",
       "      <td>-99</td>\n",
       "      <td>267</td>\n",
       "      <td>99</td>\n",
       "      <td>-99</td>\n",
       "      <td>4</td>\n",
       "      <td>2</td>\n",
       "    </tr>\n",
       "    <tr>\n",
       "      <th>3</th>\n",
       "      <td>28</td>\n",
       "      <td>9</td>\n",
       "      <td>1983</td>\n",
       "      <td>19</td>\n",
       "      <td>83</td>\n",
       "      <td>1</td>\n",
       "      <td>1</td>\n",
       "      <td>1</td>\n",
       "      <td>23</td>\n",
       "      <td>3</td>\n",
       "      <td>...</td>\n",
       "      <td>2007-09-28</td>\n",
       "      <td>2008-09-28</td>\n",
       "      <td>2007-01-02</td>\n",
       "      <td>-96</td>\n",
       "      <td>269</td>\n",
       "      <td>635</td>\n",
       "      <td>96</td>\n",
       "      <td>-96</td>\n",
       "      <td>4</td>\n",
       "      <td>2</td>\n",
       "    </tr>\n",
       "    <tr>\n",
       "      <th>4</th>\n",
       "      <td>24</td>\n",
       "      <td>4</td>\n",
       "      <td>1984</td>\n",
       "      <td>19</td>\n",
       "      <td>84</td>\n",
       "      <td>1</td>\n",
       "      <td>1</td>\n",
       "      <td>1</td>\n",
       "      <td>22</td>\n",
       "      <td>3</td>\n",
       "      <td>...</td>\n",
       "      <td>2007-04-24</td>\n",
       "      <td>2008-04-24</td>\n",
       "      <td>2007-01-10</td>\n",
       "      <td>-261</td>\n",
       "      <td>104</td>\n",
       "      <td>470</td>\n",
       "      <td>104</td>\n",
       "      <td>104</td>\n",
       "      <td>4</td>\n",
       "      <td>2</td>\n",
       "    </tr>\n",
       "  </tbody>\n",
       "</table>\n",
       "<p>5 rows × 55 columns</p>\n",
       "</div>"
      ],
      "text/plain": [
       "   DIA_NAC  MES_NAC  AÑONACIM  ANO1_NAC  ANO2_NAC  SEXO  EST_CIVIL  EDAD_TIPO  \\\n",
       "0       13        4      1985        19        85     2          1          1   \n",
       "1       17       12      1975        19        75     1          1          1   \n",
       "2        9        6      1956        19        56     1          2          1   \n",
       "3       28        9      1983        19        83     1          1          1   \n",
       "4       24        4      1984        19        84     1          1          1   \n",
       "\n",
       "   EDAD_CANT  RENGOETARIO_N  ...     FechaD  FechaDesp  FECHA_DEF.1  difa  \\\n",
       "0         21              3  ... 2007-04-13 2008-04-13   2007-01-03  -265   \n",
       "1         31              3  ... 2007-12-17 2008-12-17   2007-01-07   -21   \n",
       "2         51              4  ... 2007-06-09 2008-06-09   2007-09-16  -464   \n",
       "3         23              3  ... 2007-09-28 2008-09-28   2007-01-02   -96   \n",
       "4         22              3  ... 2007-04-24 2008-04-24   2007-01-10  -261   \n",
       "\n",
       "   difb difc  dist_absoluta distancia_final  mes_suicidio bimestre  \n",
       "0   100  466            100             100             4        2  \n",
       "1   344  710             21             -21             1        1  \n",
       "2   -99  267             99             -99             4        2  \n",
       "3   269  635             96             -96             4        2  \n",
       "4   104  470            104             104             4        2  \n",
       "\n",
       "[5 rows x 55 columns]"
      ]
     },
     "execution_count": 22,
     "metadata": {},
     "output_type": "execute_result"
    }
   ],
   "source": [
    "chile = pd.read_excel(file_xslx[-1])\n",
    "print(chile.shape)\n",
    "chile.head()"
   ]
  },
  {
   "cell_type": "code",
   "execution_count": 26,
   "metadata": {},
   "outputs": [],
   "source": [
    "chile.columns = chile.columns.str.replace(' ', '_')\n",
    "chile.columns = chile.columns.str.replace('.', '_')"
   ]
  },
  {
   "cell_type": "code",
   "execution_count": 4,
   "metadata": {},
   "outputs": [
    {
     "data": {
      "application/vnd.jupyter.widget-view+json": {
       "model_id": "9e546753e3704c18aa1510b12bd86e53",
       "version_major": 2,
       "version_minor": 0
      },
      "text/plain": [
       "HBox(children=(FloatProgress(value=0.0, description='Summarize dataset', max=69.0, style=ProgressStyle(descrip…"
      ]
     },
     "metadata": {},
     "output_type": "display_data"
    },
    {
     "name": "stdout",
     "output_type": "stream",
     "text": [
      "\n"
     ]
    },
    {
     "data": {
      "application/vnd.jupyter.widget-view+json": {
       "model_id": "d059af39baf74766bbd8c349a87faac1",
       "version_major": 2,
       "version_minor": 0
      },
      "text/plain": [
       "HBox(children=(FloatProgress(value=0.0, description='Generate report structure', max=1.0, style=ProgressStyle(…"
      ]
     },
     "metadata": {},
     "output_type": "display_data"
    },
    {
     "name": "stdout",
     "output_type": "stream",
     "text": [
      "\n"
     ]
    },
    {
     "data": {
      "application/vnd.jupyter.widget-view+json": {
       "model_id": "2ff71823b49f4b999b13471a22ee0f78",
       "version_major": 2,
       "version_minor": 0
      },
      "text/plain": [
       "HBox(children=(FloatProgress(value=0.0, description='Render HTML', max=1.0, style=ProgressStyle(description_wi…"
      ]
     },
     "metadata": {},
     "output_type": "display_data"
    },
    {
     "name": "stdout",
     "output_type": "stream",
     "text": [
      "\n"
     ]
    },
    {
     "data": {
      "application/vnd.jupyter.widget-view+json": {
       "model_id": "dab5212f8f4f4d59b3b3e8dacbae0167",
       "version_major": 2,
       "version_minor": 0
      },
      "text/plain": [
       "HBox(children=(FloatProgress(value=0.0, description='Export report to file', max=1.0, style=ProgressStyle(desc…"
      ]
     },
     "metadata": {},
     "output_type": "display_data"
    },
    {
     "name": "stdout",
     "output_type": "stream",
     "text": [
      "\n"
     ]
    }
   ],
   "source": [
    "perfil = ProfileReport(chile, title=\"Reporte Suicidios\", explorative=True)\n",
    "perfil.to_file(\"Suicidios_Chile.html\")"
   ]
  },
  {
   "cell_type": "markdown",
   "metadata": {},
   "source": [
    "# Diferencia y correlación de sucidio por AÑO, EDAD, SEXO; columna; 'MEC_SUICIDA', 'ESTACION', 'RANGO ETARIO', 'EDAD_CANT', 'SUBTIPO_MEC'"
   ]
  },
  {
   "cell_type": "code",
   "execution_count": null,
   "metadata": {},
   "outputs": [],
   "source": [
    "chile.info()"
   ]
  },
  {
   "cell_type": "markdown",
   "metadata": {},
   "source": [
    "## Convertir columnas/variables a categoricas"
   ]
  },
  {
   "cell_type": "code",
   "execution_count": 5,
   "metadata": {},
   "outputs": [],
   "source": [
    "#col_cat = ['SEXO', 'EST_CIVIL', 'EDAD_TIPO', 'EDAD_CANT', 'RENGOETARIO_N', 'RANGO ETARIO', 'ACTIVIDAD', 'OCUPACION', 'CATEGORIA', 'ESTACION N', 'ESTACION']\n",
    "#for col in col_cat:\n",
    "#    chile[col] = chile[col].astype('category')"
   ]
  },
  {
   "cell_type": "code",
   "execution_count": null,
   "metadata": {},
   "outputs": [],
   "source": [
    "chile.info()"
   ]
  },
  {
   "cell_type": "code",
   "execution_count": 7,
   "metadata": {},
   "outputs": [
    {
     "data": {
      "application/vnd.jupyter.widget-view+json": {
       "model_id": "2d63d47f7fd24e45b3c1bb5bc6fbc819",
       "version_major": 2,
       "version_minor": 0
      },
      "text/plain": [
       "HBox(children=(FloatProgress(value=0.0, description='Summarize dataset', max=69.0, style=ProgressStyle(descrip…"
      ]
     },
     "metadata": {},
     "output_type": "display_data"
    },
    {
     "name": "stdout",
     "output_type": "stream",
     "text": [
      "\n"
     ]
    },
    {
     "data": {
      "application/vnd.jupyter.widget-view+json": {
       "model_id": "09ad1c3639d24a078277e75747a9031a",
       "version_major": 2,
       "version_minor": 0
      },
      "text/plain": [
       "HBox(children=(FloatProgress(value=0.0, description='Generate report structure', max=1.0, style=ProgressStyle(…"
      ]
     },
     "metadata": {},
     "output_type": "display_data"
    },
    {
     "name": "stdout",
     "output_type": "stream",
     "text": [
      "\n"
     ]
    },
    {
     "data": {
      "application/vnd.jupyter.widget-view+json": {
       "model_id": "bc3df8020b8d43a199ef211098acac68",
       "version_major": 2,
       "version_minor": 0
      },
      "text/plain": [
       "HBox(children=(FloatProgress(value=0.0, description='Render HTML', max=1.0, style=ProgressStyle(description_wi…"
      ]
     },
     "metadata": {},
     "output_type": "display_data"
    },
    {
     "name": "stdout",
     "output_type": "stream",
     "text": [
      "\n"
     ]
    },
    {
     "data": {
      "application/vnd.jupyter.widget-view+json": {
       "model_id": "2c41a0ae51f74a98ae37c3fa0f3e403a",
       "version_major": 2,
       "version_minor": 0
      },
      "text/plain": [
       "HBox(children=(FloatProgress(value=0.0, description='Export report to file', max=1.0, style=ProgressStyle(desc…"
      ]
     },
     "metadata": {},
     "output_type": "display_data"
    },
    {
     "name": "stdout",
     "output_type": "stream",
     "text": [
      "\n"
     ]
    }
   ],
   "source": [
    "perfil = ProfileReport(chile, title=\"Reporte Suicidios\", explorative=True)\n",
    "perfil.to_file(\"Suicidios_Chile.html\")"
   ]
  },
  {
   "cell_type": "code",
   "execution_count": 18,
   "metadata": {},
   "outputs": [
    {
     "data": {
      "text/plain": [
       "0        0\n",
       "1        1\n",
       "2        1\n",
       "3        1\n",
       "4        1\n",
       "        ..\n",
       "19324    0\n",
       "19325    1\n",
       "19326    1\n",
       "19327    1\n",
       "19328    1\n",
       "Name: ACTIVIDAD, Length: 19329, dtype: category\n",
       "Categories (4, int64): [0, 1, 2, 9]"
      ]
     },
     "execution_count": 18,
     "metadata": {},
     "output_type": "execute_result"
    }
   ],
   "source": [
    "chile.ACTIVIDAD"
   ]
  },
  {
   "cell_type": "code",
   "execution_count": 37,
   "metadata": {},
   "outputs": [
    {
     "name": "stdout",
     "output_type": "stream",
     "text": [
      "<statsmodels.regression.linear_model.RegressionResultsWrapper object at 0x7fccf05326d0>\n",
      " \n",
      "                            OLS Regression Results                            \n",
      "==============================================================================\n",
      "Dep. Variable:                   SEXO   R-squared:                       0.031\n",
      "Model:                            OLS   Adj. R-squared:                  0.030\n",
      "Method:                 Least Squares   F-statistic:                     121.8\n",
      "Date:                Fri, 18 Sep 2020   Prob (F-statistic):          2.44e-127\n",
      "Time:                        12:05:46   Log-Likelihood:                -8941.5\n",
      "No. Observations:               19329   AIC:                         1.790e+04\n",
      "Df Residuals:                   19323   BIC:                         1.794e+04\n",
      "Df Model:                           5                                         \n",
      "Covariance Type:            nonrobust                                         \n",
      "================================================================================================\n",
      "                                   coef    std err          t      P>|t|      [0.025      0.975]\n",
      "------------------------------------------------------------------------------------------------\n",
      "Intercept                        1.5472      0.016     97.313      0.000       1.516       1.578\n",
      "MEC_SUICIDA[T.Lesión]           -0.2595      0.013    -20.005      0.000      -0.285      -0.234\n",
      "RANGO_ETARIO[T.adulto]          -0.1147      0.011    -10.646      0.000      -0.136      -0.094\n",
      "RANGO_ETARIO[T.adulto joven]    -0.1154      0.011    -10.830      0.000      -0.136      -0.095\n",
      "RANGO_ETARIO[T.adulto mayor]    -0.1797      0.013    -14.095      0.000      -0.205      -0.155\n",
      "RANGO_ETARIO[T.niño(a)]          0.0601      0.047      1.271      0.204      -0.033       0.153\n",
      "==============================================================================\n",
      "Omnibus:                     4395.132   Durbin-Watson:                   1.951\n",
      "Prob(Omnibus):                  0.000   Jarque-Bera (JB):             8081.040\n",
      "Skew:                           1.552   Prob(JB):                         0.00\n",
      "Kurtosis:                       3.631   Cond. No.                         25.9\n",
      "==============================================================================\n",
      "\n",
      "Warnings:\n",
      "[1] Standard Errors assume that the covariance matrix of the errors is correctly specified.\n"
     ]
    }
   ],
   "source": [
    "model = smf.ols('SEXO ~ MEC_SUICIDA + RANGO_ETARIO', chile).fit()\n",
    "print(model)\n",
    "print(' ')\n",
    "print(model.summary())"
   ]
  },
  {
   "cell_type": "code",
   "execution_count": null,
   "metadata": {},
   "outputs": [],
   "source": []
  }
 ],
 "metadata": {
  "kernelspec": {
   "display_name": "Python 3",
   "language": "python",
   "name": "python3"
  },
  "language_info": {
   "codemirror_mode": {
    "name": "ipython",
    "version": 3
   },
   "file_extension": ".py",
   "mimetype": "text/x-python",
   "name": "python",
   "nbconvert_exporter": "python",
   "pygments_lexer": "ipython3",
   "version": "3.8.5"
  }
 },
 "nbformat": 4,
 "nbformat_minor": 4
}
