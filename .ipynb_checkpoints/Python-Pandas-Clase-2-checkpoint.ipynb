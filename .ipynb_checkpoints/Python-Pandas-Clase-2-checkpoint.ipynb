{
 "cells": [
  {
   "cell_type": "markdown",
   "metadata": {},
   "source": [
    "# Pandas pada Psicólogos\n",
    "![](https://numfocus.org/wp-content/uploads/2016/07/pandas-logo-300.png)\n",
    "\n",
    "[pandas - Python Data Analysis Library](https://pandas.pydata.org/docs/)"
   ]
  },
  {
   "cell_type": "markdown",
   "metadata": {},
   "source": [
    "# Numpy para Psicólogos\n",
    "![](https://user-images.githubusercontent.com/50221806/85190325-2b3f4400-b26c-11ea-93f3-81a101614a88.png)\n",
    "\n",
    "[Numerical Python](https://numpy.org/)"
   ]
  },
  {
   "cell_type": "markdown",
   "metadata": {},
   "source": [
    "## Introducción a los DataSets"
   ]
  },
  {
   "cell_type": "code",
   "execution_count": null,
   "metadata": {},
   "outputs": [],
   "source": [
    "import pandas as pd\n",
    "import numpy as np\n",
    "# librería \"glob\" — Busca nombres de archivos que coincidan con un patrón.\n",
    "from glob import glob as gg\n",
    "# Libería \"tqdm\" para ver el progreso del o de los procesos\n",
    "from tqdm import tqdm\n",
    "# Para que \"tqdm\" funcione\n",
    "import time"
   ]
  },
  {
   "cell_type": "markdown",
   "metadata": {},
   "source": [
    "## 1er Dataset. Datos Inventados"
   ]
  },
  {
   "cell_type": "code",
   "execution_count": null,
   "metadata": {},
   "outputs": [],
   "source": [
    "# Búsqueda de las Bases\n",
    "files_xlsx = gg('*.xlsx')\n",
    "files_xlsx"
   ]
  },
  {
   "cell_type": "code",
   "execution_count": null,
   "metadata": {},
   "outputs": [],
   "source": [
    "xlsx1 = pd.read_excel(files_xlsx[0])\n",
    "xlsx1.head()\n",
    "# ¿El ID lo queremos como índice?"
   ]
  },
  {
   "cell_type": "code",
   "execution_count": null,
   "metadata": {},
   "outputs": [],
   "source": [
    "xlsx1 = pd.read_excel(files_xlsx[0], index_col='ID')\n",
    "print(xlsx1.head())\n",
    "#print(' ')\n",
    "#print(xlsx1.tail())"
   ]
  },
  {
   "cell_type": "code",
   "execution_count": null,
   "metadata": {},
   "outputs": [],
   "source": [
    "# Número de observaciones que tiene el dataset\n",
    "xlsx1.shape #(filas, columnas)"
   ]
  },
  {
   "cell_type": "code",
   "execution_count": null,
   "metadata": {},
   "outputs": [],
   "source": [
    "xlsx1.shape[0] #quiero solo las filas"
   ]
  },
  {
   "cell_type": "code",
   "execution_count": null,
   "metadata": {},
   "outputs": [],
   "source": [
    "xlsx1.shape[1] #quiero solo las columnas"
   ]
  },
  {
   "cell_type": "code",
   "execution_count": null,
   "metadata": {},
   "outputs": [],
   "source": [
    "# Pero deseo toda la información\n",
    "xlsx1.info() #¿Cómo interpretar esta información?"
   ]
  },
  {
   "cell_type": "code",
   "execution_count": null,
   "metadata": {},
   "outputs": [],
   "source": [
    "# Quiero saber solo las filas\n",
    "xlsx1.index"
   ]
  },
  {
   "cell_type": "code",
   "execution_count": null,
   "metadata": {},
   "outputs": [],
   "source": [
    "# Quiero solo saber los nombres de las columnas\n",
    "xlsx1.columns"
   ]
  },
  {
   "cell_type": "code",
   "execution_count": null,
   "metadata": {},
   "outputs": [],
   "source": [
    "print(xlsx1.Var1.unique())\n",
    "print(' ')\n",
    "print(list(xlsx1.Var1.unique()))"
   ]
  },
  {
   "cell_type": "code",
   "execution_count": null,
   "metadata": {},
   "outputs": [],
   "source": [
    "# Quiero saber los valores que convierte la columna Var1 en objeto\n",
    "objetos = [tipo for tipo in xlsx1.Var1.unique() if type(tipo) == str]\n",
    "objetos"
   ]
  },
  {
   "cell_type": "code",
   "execution_count": null,
   "metadata": {},
   "outputs": [],
   "source": [
    "objetos = []\n",
    "for tipo in xlsx1.Var1.unique():\n",
    "    if type(tipo) == str:\n",
    "        objetos.append(tipo)\n",
    "objetos"
   ]
  },
  {
   "cell_type": "code",
   "execution_count": null,
   "metadata": {},
   "outputs": [],
   "source": [
    "objetos = [tipo for tipo in xlsx1.Var5.unique() if type(tipo) == str]\n",
    "objetos"
   ]
  },
  {
   "cell_type": "code",
   "execution_count": null,
   "metadata": {},
   "outputs": [],
   "source": [
    "objetos = []\n",
    "for tipo in xlsx1.Var5.unique():\n",
    "    if type(tipo) == str:\n",
    "        objetos.append(tipo)\n",
    "objetos"
   ]
  },
  {
   "cell_type": "code",
   "execution_count": null,
   "metadata": {},
   "outputs": [],
   "source": [
    "xlsx1.columns"
   ]
  },
  {
   "cell_type": "code",
   "execution_count": null,
   "metadata": {},
   "outputs": [],
   "source": [
    "# Hacerlo por cada uno toma mucho recurso de tiempo ¿Cómo mejoramos esto?\n",
    "objetos = []\n",
    "for columna in xlsx1.columns:\n",
    "    print('En la columna {}'.format(columna))\n",
    "    for tipo in xlsx1[columna].unique():\n",
    "        if type(tipo) == str:\n",
    "            print(tipo)\n",
    "            print(' ')\n",
    "            objetos.append(tipo)\n",
    "            \n",
    "objetos"
   ]
  },
  {
   "cell_type": "code",
   "execution_count": null,
   "metadata": {},
   "outputs": [],
   "source": [
    "objetos = set(objetos)\n",
    "objetos"
   ]
  },
  {
   "cell_type": "code",
   "execution_count": null,
   "metadata": {},
   "outputs": [],
   "source": [
    "objetos = list(set(objetos))\n",
    "objetos"
   ]
  },
  {
   "cell_type": "code",
   "execution_count": null,
   "metadata": {},
   "outputs": [],
   "source": [
    "objetos"
   ]
  },
  {
   "cell_type": "code",
   "execution_count": null,
   "metadata": {},
   "outputs": [],
   "source": [
    "lista1 = objetos\n",
    "lista2 = np.empty(len(lista1))\n",
    "print(lista2)"
   ]
  },
  {
   "cell_type": "code",
   "execution_count": null,
   "metadata": {},
   "outputs": [],
   "source": [
    "lista2[:] = np.nan\n",
    "print(lista2)"
   ]
  },
  {
   "cell_type": "code",
   "execution_count": null,
   "metadata": {},
   "outputs": [],
   "source": [
    "objetos3 = zip(lista1, lista2)\n",
    "objetos4 = dict(objetos3)\n",
    "objetos4"
   ]
  },
  {
   "cell_type": "code",
   "execution_count": null,
   "metadata": {},
   "outputs": [],
   "source": [
    "# Como debe de verse\n",
    "objetos = []\n",
    "for columna in xlsx1.columns:\n",
    "    for tipo in xlsx1[columna].unique():\n",
    "        if type(tipo) == str:\n",
    "            objetos.append(tipo)\n",
    "            \n",
    "lista1 = list(set(objetos))\n",
    "lista2 = np.empty(len(lista1))\n",
    "lista2[:] = np.nan\n",
    "objetos = dict(zip(lista1, lista2))\n",
    "objetos"
   ]
  },
  {
   "cell_type": "code",
   "execution_count": null,
   "metadata": {},
   "outputs": [],
   "source": [
    "xlsx1"
   ]
  },
  {
   "cell_type": "code",
   "execution_count": null,
   "metadata": {},
   "outputs": [],
   "source": [
    "xlsx1 = xlsx1.replace(objetos)\n",
    "xlsx1"
   ]
  },
  {
   "cell_type": "markdown",
   "metadata": {},
   "source": [
    "## ¿Se acuerdan de las demás bases?"
   ]
  },
  {
   "cell_type": "code",
   "execution_count": null,
   "metadata": {},
   "outputs": [],
   "source": [
    "print(files_xlsx)"
   ]
  },
  {
   "cell_type": "markdown",
   "metadata": {},
   "source": [
    "### ¿Qué función aplicamos y cómo lo aplicamos para que haga todo de una buena vez?\n",
    "#### ¿Se acuerdan del \"Ciclo FOR\"?"
   ]
  },
  {
   "cell_type": "code",
   "execution_count": null,
   "metadata": {},
   "outputs": [],
   "source": [
    "print(files_xlsx[0])\n",
    "print(pd.read_excel(files_xlsx[0], index_col='ID').head())\n",
    "print(' ')\n",
    "print(files_xlsx[1])\n",
    "print(pd.read_excel(files_xlsx[1], index_col='ID').head())\n",
    "print(' ')\n",
    "print(files_xlsx[2])\n",
    "print(pd.read_excel(files_xlsx[2], index_col='ID').head())"
   ]
  },
  {
   "cell_type": "code",
   "execution_count": null,
   "metadata": {},
   "outputs": [],
   "source": [
    "for base in files_xlsx:\n",
    "    print(base)"
   ]
  },
  {
   "cell_type": "code",
   "execution_count": null,
   "metadata": {},
   "outputs": [],
   "source": [
    "for mi_base in tqdm(files_xlsx):\n",
    "    print('Se arreglará el archivo {} como usted lo pidió'.format(mi_base))\n",
    "    xlsx = pd.read_excel(mi_base, index_col='ID')\n",
    "    objetos = []\n",
    "    for columna in xlsx.columns:\n",
    "        for tipo in xlsx[columna].unique():\n",
    "            if type(tipo) == str:\n",
    "                objetos.append(tipo)\n",
    "\n",
    "    lista1 = list(set(objetos))\n",
    "    lista2 = np.empty(len(lista1))\n",
    "    lista2[:] = np.nan\n",
    "    objetos = dict(zip(lista1, lista2))\n",
    "    time.sleep(0.01)"
   ]
  },
  {
   "cell_type": "code",
   "execution_count": null,
   "metadata": {},
   "outputs": [],
   "source": [
    "# ¿Son todos los objetos de todas las bases?\n",
    "objetos"
   ]
  },
  {
   "cell_type": "code",
   "execution_count": null,
   "metadata": {},
   "outputs": [],
   "source": [
    "# ¿Porqué está dando solo el archivo \"Ejemplo3.xlsx?\"\n",
    "# ¿Y los demás?\n",
    "xlsx"
   ]
  },
  {
   "cell_type": "code",
   "execution_count": null,
   "metadata": {},
   "outputs": [],
   "source": [
    "xlsx.replace(objetos)"
   ]
  },
  {
   "cell_type": "markdown",
   "metadata": {},
   "source": [
    "## Vamonos despacito"
   ]
  },
  {
   "cell_type": "code",
   "execution_count": null,
   "metadata": {},
   "outputs": [],
   "source": [
    "## Este script solo es para obtener los objetos\n",
    "\n",
    "objetos = [] # Para los objetos que no nos sirve\n",
    "\n",
    "for mi_base in tqdm(files_xlsx):\n",
    "    print('Se arreglará el archivo {} como usted lo pidió'.format(mi_base))\n",
    "    xlsx = pd.read_excel(mi_base, index_col='ID')\n",
    "    for columna in xlsx.columns:\n",
    "        for tipo in xlsx[columna].unique():\n",
    "            if type(tipo) == str:\n",
    "                objetos.append(tipo)\n",
    "    time.sleep(0.01)"
   ]
  },
  {
   "cell_type": "code",
   "execution_count": null,
   "metadata": {},
   "outputs": [],
   "source": [
    "# Aquí hacemos nuestro diccionario de objetos a quitar\n",
    "lista1 = list(set(objetos))\n",
    "lista2 = np.empty(len(lista1))\n",
    "lista2[:] = np.nan\n",
    "objetos = dict(zip(lista1, lista2))"
   ]
  },
  {
   "cell_type": "code",
   "execution_count": null,
   "metadata": {},
   "outputs": [],
   "source": [
    "objetos"
   ]
  },
  {
   "cell_type": "code",
   "execution_count": null,
   "metadata": {},
   "outputs": [],
   "source": [
    "import pandas as pd\n",
    "import numpy as np\n",
    "from glob import glob as gg"
   ]
  },
  {
   "cell_type": "code",
   "execution_count": null,
   "metadata": {},
   "outputs": [],
   "source": [
    "files_xlsx = gg('*.xlsx')\n",
    "files_xlsx"
   ]
  },
  {
   "cell_type": "code",
   "execution_count": null,
   "metadata": {},
   "outputs": [],
   "source": [
    "## Concatenando bases\n",
    "x1 = pd.read_excel(files_xlsx[0], index_col='ID')\n",
    "print(x1.axes)\n",
    "print(x1.shape)\n",
    "print(' ')\n",
    "x2 = pd.read_excel(files_xlsx[1], index_col='ID')\n",
    "print(x2.axes)\n",
    "print(x2.shape)\n",
    "print(' ')\n",
    "x3 = pd.read_excel(files_xlsx[2], index_col='ID')\n",
    "print(x3.axes)\n",
    "print(x3.shape)"
   ]
  },
  {
   "cell_type": "code",
   "execution_count": null,
   "metadata": {},
   "outputs": [],
   "source": [
    "xlsx = pd.concat([x1, x2, x3])\n",
    "xlsx\n",
    "## ¿Qué pasó aquí?"
   ]
  },
  {
   "cell_type": "code",
   "execution_count": null,
   "metadata": {},
   "outputs": [],
   "source": [
    "xlsx = pd.concat([x1, x2, x3], axis=1)\n",
    "xlsx\n",
    "## ¿Por qué se tiene que colocar el argumento de \"axis=1\"?"
   ]
  },
  {
   "cell_type": "code",
   "execution_count": null,
   "metadata": {},
   "outputs": [],
   "source": [
    "xlsx.columns"
   ]
  },
  {
   "cell_type": "code",
   "execution_count": null,
   "metadata": {},
   "outputs": [],
   "source": [
    "xlsx.info()"
   ]
  },
  {
   "cell_type": "code",
   "execution_count": null,
   "metadata": {},
   "outputs": [],
   "source": [
    "objetos = [] # Para los objetos que no nos sirve\n",
    "\n",
    "for columna in xlsx.columns:\n",
    "    for tipo in xlsx[columna].unique():\n",
    "        if type(tipo) == str:\n",
    "            objetos.append(tipo)\n",
    "time.sleep(0.01)\n",
    "# Aquí hacemos nuestro diccionario de objetos a quitar\n",
    "lista1 = list(set(objetos))\n",
    "lista2 = np.empty(len(lista1))\n",
    "lista2[:] = np.nan\n",
    "objetos = dict(zip(lista1, lista2))"
   ]
  },
  {
   "cell_type": "code",
   "execution_count": null,
   "metadata": {},
   "outputs": [],
   "source": [
    "## Reemplazamos los objetos\n",
    "xlsx = xlsx.replace(objetos)\n",
    "xlsx"
   ]
  },
  {
   "cell_type": "code",
   "execution_count": null,
   "metadata": {},
   "outputs": [],
   "source": [
    "xlsx.info()"
   ]
  },
  {
   "cell_type": "code",
   "execution_count": null,
   "metadata": {},
   "outputs": [],
   "source": [
    "## Queremos ordenar las variables\n",
    "xlsx = xlsx.sort_index(axis=1)\n",
    "xlsx.axes\n",
    "#¿Por qué las columnas están de manera diferente?"
   ]
  },
  {
   "cell_type": "code",
   "execution_count": null,
   "metadata": {},
   "outputs": [],
   "source": [
    "xlsx.describe()"
   ]
  },
  {
   "cell_type": "code",
   "execution_count": null,
   "metadata": {},
   "outputs": [],
   "source": [
    "# Ver por separado los descriptivos\n",
    "conteo = xlsx.count()\n",
    "print(conteo)"
   ]
  },
  {
   "cell_type": "code",
   "execution_count": null,
   "metadata": {},
   "outputs": [],
   "source": [
    "tiene_nans = xlsx.isna()\n",
    "print(tiene_nans)"
   ]
  },
  {
   "cell_type": "code",
   "execution_count": null,
   "metadata": {},
   "outputs": [],
   "source": [
    "cuantos_nan = xlsx.isna().sum()\n",
    "print(cuantos_nan)"
   ]
  },
  {
   "cell_type": "code",
   "execution_count": null,
   "metadata": {},
   "outputs": [],
   "source": [
    "conteo + cuantos_nan"
   ]
  },
  {
   "cell_type": "code",
   "execution_count": null,
   "metadata": {},
   "outputs": [],
   "source": [
    "xlsx.mean(axis=1)"
   ]
  },
  {
   "cell_type": "code",
   "execution_count": null,
   "metadata": {},
   "outputs": [],
   "source": [
    "xlsx.median(axis=1)"
   ]
  },
  {
   "cell_type": "code",
   "execution_count": null,
   "metadata": {},
   "outputs": [],
   "source": [
    "xlsx.mode()"
   ]
  },
  {
   "cell_type": "code",
   "execution_count": null,
   "metadata": {},
   "outputs": [],
   "source": [
    "xlsx.iloc[:, 0].mean()"
   ]
  },
  {
   "cell_type": "code",
   "execution_count": null,
   "metadata": {},
   "outputs": [],
   "source": [
    "xlsx.describe()"
   ]
  },
  {
   "cell_type": "code",
   "execution_count": null,
   "metadata": {},
   "outputs": [],
   "source": [
    "xlsx.quantile(.99)"
   ]
  },
  {
   "cell_type": "code",
   "execution_count": null,
   "metadata": {},
   "outputs": [],
   "source": [
    "xlsx.sem()"
   ]
  },
  {
   "cell_type": "code",
   "execution_count": null,
   "metadata": {},
   "outputs": [],
   "source": [
    "xlsx.corr()"
   ]
  },
  {
   "cell_type": "code",
   "execution_count": null,
   "metadata": {},
   "outputs": [],
   "source": [
    "# Guardar los descriptivos en EXCEL\n",
    "xlsx.describe().to_excel('Descrip_Ejemplo.xlsx')"
   ]
  },
  {
   "cell_type": "code",
   "execution_count": null,
   "metadata": {},
   "outputs": [],
   "source": [
    "descriptivos_pa_mi = xlsx.describe()\n",
    "descriptivos_pa_mi.to_excel('Descrip_pa_mi.xlsx', sheet_name='Descrip')"
   ]
  },
  {
   "cell_type": "code",
   "execution_count": null,
   "metadata": {},
   "outputs": [],
   "source": [
    "# Queremos guardar muchas cosas\n",
    "## Base Completa\n",
    "## Media\n",
    "## Mediana\n",
    "## Correlación\n",
    "## Etc"
   ]
  },
  {
   "cell_type": "code",
   "execution_count": null,
   "metadata": {},
   "outputs": [],
   "source": [
    "with pd.ExcelWriter('Nuevo_descrip_flora.xlsx') as writer:\n",
    "    xlsx.to_excel(writer, 'Base Completa')\n",
    "    xlsx.describe().to_excel(writer, 'Descriptivos')\n",
    "    xlsx.mean().to_excel(writer, 'Media')"
   ]
  },
  {
   "cell_type": "code",
   "execution_count": null,
   "metadata": {},
   "outputs": [],
   "source": [
    "with pd.ExcelWriter('Descrip_Otro_Ejemplo.xlsx') as writer:\n",
    "    xlsx.to_excel(writer, 'Base Completa')\n",
    "    xlsx.mean().to_excel(writer, 'Media')\n",
    "    xlsx.median().to_excel(writer, 'Mediana')\n",
    "    xlsx.corr().to_excel(writer, 'Correlación')"
   ]
  },
  {
   "cell_type": "code",
   "execution_count": null,
   "metadata": {},
   "outputs": [],
   "source": [
    "with pd.ExcelWriter('Bases todas.xlsx') as todas:\n",
    "    xlsx.to_excel(todas, 'Basesota')"
   ]
  },
  {
   "cell_type": "code",
   "execution_count": null,
   "metadata": {},
   "outputs": [],
   "source": [
    "xlsx.plot()"
   ]
  },
  {
   "cell_type": "code",
   "execution_count": null,
   "metadata": {},
   "outputs": [],
   "source": [
    "# ¿Cómo ploteamos todo?\n",
    "xlsx.mean().plot()"
   ]
  },
  {
   "cell_type": "code",
   "execution_count": null,
   "metadata": {},
   "outputs": [],
   "source": [
    "# Aumento del tamaño\n",
    "xlsx.mean().plot(figsize=(15, 8))"
   ]
  },
  {
   "cell_type": "code",
   "execution_count": null,
   "metadata": {},
   "outputs": [],
   "source": [
    "# Como arreglamos bonito esta gráfica\n",
    "import matplotlib.pyplot as plt"
   ]
  },
  {
   "cell_type": "code",
   "execution_count": null,
   "metadata": {},
   "outputs": [],
   "source": [
    "list(range(len(xlsx.columns)))\n",
    "print(xlsx.columns)"
   ]
  },
  {
   "cell_type": "code",
   "execution_count": null,
   "metadata": {},
   "outputs": [],
   "source": [
    "xlsx.mean().plot(figsize=(15, 8))\n",
    "plt.xticks(range(len(xlsx.columns)), list(xlsx.columns)) #checar plt.xticks"
   ]
  },
  {
   "cell_type": "code",
   "execution_count": null,
   "metadata": {},
   "outputs": [],
   "source": [
    "xlsx.mean().plot(figsize=(15, 8))\n",
    "plt.xticks(range(len(xlsx.columns)), list(xlsx.columns), rotation='vertical')"
   ]
  },
  {
   "cell_type": "code",
   "execution_count": null,
   "metadata": {},
   "outputs": [],
   "source": [
    "xlsx.mean().plot(figsize=(15, 8))\n",
    "plt.xticks(range(len(xlsx.columns)), list(xlsx.columns), rotation=80)"
   ]
  },
  {
   "cell_type": "code",
   "execution_count": null,
   "metadata": {},
   "outputs": [],
   "source": [
    "# Agregar etiqueta en los ejes\n",
    "xlsx.mean().plot(figsize=(15, 8))\n",
    "plt.xticks(range(len(xlsx.columns)), list(xlsx.columns), rotation='vertical')\n",
    "plt.xlabel('Columnas')\n",
    "plt.ylabel('Datos de las columnas')"
   ]
  },
  {
   "cell_type": "code",
   "execution_count": null,
   "metadata": {},
   "outputs": [],
   "source": [
    "xlsx.mean().plot(figsize=(15, 8))\n",
    "plt.xticks(range(len(xlsx.columns)), list(xlsx.columns), rotation='vertical')\n",
    "plt.xlabel('Columnas', fontsize=20)\n",
    "plt.ylabel('Datos de las columnas', fontsize=20)"
   ]
  },
  {
   "cell_type": "code",
   "execution_count": null,
   "metadata": {},
   "outputs": [],
   "source": [
    "# Aumento del tamaño de las ticks\n",
    "xlsx.mean().plot(figsize=(15, 8))\n",
    "plt.xticks(range(len(xlsx.columns)), list(xlsx.columns), rotation='vertical', fontsize=15)\n",
    "plt.yticks(fontsize=15)\n",
    "plt.xlabel('Columnas', fontsize=20)\n",
    "plt.ylabel('Datos de las columnas', fontsize=20)\n"
   ]
  },
  {
   "cell_type": "code",
   "execution_count": null,
   "metadata": {},
   "outputs": [],
   "source": [
    "list(range(int(xlsx.mean().min()) - 100, int(xlsx.mean().max()) + 100, 100))"
   ]
  },
  {
   "cell_type": "code",
   "execution_count": null,
   "metadata": {},
   "outputs": [],
   "source": [
    "xlsx.mean().min() - 100"
   ]
  },
  {
   "cell_type": "code",
   "execution_count": null,
   "metadata": {},
   "outputs": [],
   "source": [
    "# Aumento del tamaño de las ticks\n",
    "xlsx.mean().plot(figsize=(15, 8), color='r')\n",
    "plt.xticks(range(len(xlsx.columns)), list(xlsx.columns), rotation='vertical', fontsize=15)\n",
    "plt.xlabel('Columnas', fontsize=20)\n",
    "plt.ylabel('Datos de las columnas', fontsize=20)\n",
    "plt.yticks(range(int(xlsx.mean().min()) - 100, int(xlsx.mean().max()) + 100, 100), fontsize=15)\n",
    "plt.grid()"
   ]
  },
  {
   "cell_type": "code",
   "execution_count": null,
   "metadata": {},
   "outputs": [],
   "source": [
    "# Guardar gráficas\n",
    "xlsx.mean().plot(figsize=(15, 8), color='r')\n",
    "plt.xticks(range(len(xlsx.columns)), list(xlsx.columns), rotation='vertical', fontsize=15)\n",
    "plt.xlabel('Columnas', fontsize=20)\n",
    "plt.ylabel('Datos de las columnas', fontsize=20)\n",
    "plt.yticks(range(int(xlsx.mean().min()) - 100, int(xlsx.mean().max()) + 100, 100), fontsize=15)\n",
    "plt.grid()\n",
    "plt.savefig('Gráfica de ejemplo.png', bbox_inches='tight', dpi=1000)\n",
    "plt.show()"
   ]
  },
  {
   "cell_type": "code",
   "execution_count": null,
   "metadata": {},
   "outputs": [],
   "source": [
    "# Las columnas no tienen orden ¿Cómo se ordenan?\n",
    "## Uso de iloc\n",
    "for n, c in enumerate(xlsx.columns):\n",
    "    print(n, c)"
   ]
  },
  {
   "cell_type": "code",
   "execution_count": null,
   "metadata": {},
   "outputs": [],
   "source": [
    "columnas_ordenadas = sorted(xlsx.columns, key=lambda x:len(x))\n",
    "\n",
    "for n, c in enumerate(columnas_ordenadas):\n",
    "    print(n, c)"
   ]
  },
  {
   "cell_type": "code",
   "execution_count": null,
   "metadata": {},
   "outputs": [],
   "source": [
    "xlsx_iloc1 = xlsx.iloc[:, [0, 11, 22, 24, 25, 26, 27, 28, 29, 1, 2, 3, 4, 5, 6, 7, 8, 9, 10, 12, 13, 14, 15, 16, 17, 18, 19, 20, 21, 23]]\n",
    "xlsx_iloc1#.columns"
   ]
  },
  {
   "cell_type": "code",
   "execution_count": null,
   "metadata": {},
   "outputs": [],
   "source": [
    "xlsx_iloc1"
   ]
  },
  {
   "cell_type": "code",
   "execution_count": null,
   "metadata": {},
   "outputs": [],
   "source": [
    "xlsx_iloc1.corr()"
   ]
  },
  {
   "cell_type": "code",
   "execution_count": null,
   "metadata": {},
   "outputs": [],
   "source": [
    "# ¿Cómo graficamos esta correlación?\n",
    "import seaborn as sns; sns.set()"
   ]
  },
  {
   "cell_type": "code",
   "execution_count": null,
   "metadata": {},
   "outputs": [],
   "source": [
    "xlsx_iloc1.head()"
   ]
  },
  {
   "cell_type": "code",
   "execution_count": null,
   "metadata": {},
   "outputs": [],
   "source": [
    "plt.figure(figsize=(15, 8))\n",
    "ax = sns.heatmap(xlsx_iloc1)"
   ]
  },
  {
   "cell_type": "code",
   "execution_count": null,
   "metadata": {},
   "outputs": [],
   "source": [
    "plt.figure(figsize=(15, 8))\n",
    "ax = sns.heatmap(xlsx_iloc1.corr(), vmin=0, vmax=1)"
   ]
  },
  {
   "cell_type": "code",
   "execution_count": null,
   "metadata": {},
   "outputs": [],
   "source": [
    "plt.figure(figsize=(15, 8))\n",
    "ax = sns.heatmap(xlsx_iloc1, center=0)"
   ]
  },
  {
   "cell_type": "code",
   "execution_count": null,
   "metadata": {},
   "outputs": [],
   "source": [
    "plt.figure(figsize=(20, 18))\n",
    "ax = sns.heatmap(xlsx_iloc1.corr(), annot=True, fmt='f')"
   ]
  },
  {
   "cell_type": "code",
   "execution_count": null,
   "metadata": {},
   "outputs": [],
   "source": [
    "plt.figure(figsize=(20, 18))\n",
    "ax = sns.heatmap(xlsx_iloc1.round(1), annot=True, fmt='f')"
   ]
  },
  {
   "cell_type": "code",
   "execution_count": null,
   "metadata": {},
   "outputs": [],
   "source": [
    "plt.figure(figsize=(15, 8))\n",
    "ax = sns.heatmap(xlsx_iloc1, linewidths=.5)"
   ]
  },
  {
   "cell_type": "code",
   "execution_count": null,
   "metadata": {},
   "outputs": [],
   "source": [
    "plt.figure(figsize=(15, 8))\n",
    "ax = sns.heatmap(xlsx_iloc1, vmin=0, vmax=1, linewidths=.5)"
   ]
  },
  {
   "cell_type": "code",
   "execution_count": null,
   "metadata": {},
   "outputs": [],
   "source": [
    "plt.figure(figsize=(15, 8))\n",
    "ax = sns.heatmap(xlsx_iloc1, vmin=0, vmax=1)"
   ]
  },
  {
   "cell_type": "code",
   "execution_count": null,
   "metadata": {},
   "outputs": [],
   "source": [
    "# ¿Cómo se usa el loc?"
   ]
  },
  {
   "cell_type": "code",
   "execution_count": null,
   "metadata": {},
   "outputs": [],
   "source": [
    "xlsx.head()"
   ]
  },
  {
   "cell_type": "code",
   "execution_count": null,
   "metadata": {},
   "outputs": [],
   "source": [
    "xlsx.columns"
   ]
  },
  {
   "cell_type": "code",
   "execution_count": null,
   "metadata": {},
   "outputs": [],
   "source": [
    "columnas_ordenadas"
   ]
  },
  {
   "cell_type": "code",
   "execution_count": null,
   "metadata": {},
   "outputs": [],
   "source": [
    "xlsx_loc1 = xlsx.loc[:, columnas_ordenadas]\n",
    "xlsx_loc1.head()"
   ]
  },
  {
   "cell_type": "code",
   "execution_count": null,
   "metadata": {},
   "outputs": [],
   "source": [
    "xlsx_loc1.mean().plot(figsize=(15, 8))"
   ]
  },
  {
   "cell_type": "code",
   "execution_count": null,
   "metadata": {},
   "outputs": [],
   "source": [
    "xlsx_loc1.mean().plot(figsize=(15, 8))\n",
    "plt.xticks(range(len(xlsx_loc1.columns)), list(xlsx_loc1.columns), rotation='vertical', fontsize=15)\n",
    "plt.xlabel('Columnas', fontsize=20)\n",
    "plt.ylabel('Datos de las columnas', fontsize=20)\n",
    "plt.yticks(range(-2000, 2001, 500), fontsize=15)"
   ]
  },
  {
   "cell_type": "markdown",
   "metadata": {},
   "source": [
    "## Hagamos el ejercicio juntos"
   ]
  },
  {
   "cell_type": "code",
   "execution_count": null,
   "metadata": {},
   "outputs": [],
   "source": [
    "# ¿Qué tengo que escribir?\n",
    "files_xlsx = sorted(gg('*.xlsx'))\n",
    "files_xlsx = files_xlsx[4:7]\n",
    "files_xlsx"
   ]
  },
  {
   "cell_type": "code",
   "execution_count": null,
   "metadata": {},
   "outputs": [],
   "source": [
    "file_xslx = pd.concat([pd.read_excel(files_xlsx[0], index_col='ID'), pd.read_excel(files_xlsx[1], index_col='ID'), pd.read_excel(files_xlsx[2], index_col='ID')], axis=1)\n",
    "file_xslx.columns"
   ]
  },
  {
   "cell_type": "code",
   "execution_count": null,
   "metadata": {},
   "outputs": [],
   "source": [
    "columnas_ordenadas = sorted(file_xslx.columns, key=lambda x:len(x))\n",
    "file_xslx = file_xslx.loc[:, columnas_ordenadas]"
   ]
  },
  {
   "cell_type": "code",
   "execution_count": null,
   "metadata": {},
   "outputs": [],
   "source": [
    "for columna in file_xslx.columns:\n",
    "    file_xslx[columna] = pd.to_numeric(file_xslx[columna], errors='coerce')"
   ]
  },
  {
   "cell_type": "code",
   "execution_count": null,
   "metadata": {},
   "outputs": [],
   "source": [
    "file_xslx#.describe()"
   ]
  },
  {
   "cell_type": "markdown",
   "metadata": {},
   "source": [
    "## 2do Dataset. Datos de la Comunidad."
   ]
  },
  {
   "cell_type": "code",
   "execution_count": null,
   "metadata": {},
   "outputs": [],
   "source": [
    "from glob import glob as gg\n",
    "import numpy as np\n",
    "import matplotlib.pyplot as plt\n",
    "import seaborn as sns\n",
    "import pandas as pd\n",
    "import pandas.plotting as pdplt"
   ]
  },
  {
   "cell_type": "code",
   "execution_count": null,
   "metadata": {},
   "outputs": [],
   "source": [
    "files_csv = sorted(gg('*.csv'))\n",
    "files_csv"
   ]
  },
  {
   "cell_type": "code",
   "execution_count": null,
   "metadata": {},
   "outputs": [],
   "source": [
    "iris = pd.read_csv(files_csv[0])\n",
    "iris"
   ]
  },
  {
   "cell_type": "code",
   "execution_count": null,
   "metadata": {},
   "outputs": [],
   "source": [
    "iris.columns = iris.columns.str.replace('.', '_')\n",
    "iris"
   ]
  },
  {
   "cell_type": "code",
   "execution_count": null,
   "metadata": {},
   "outputs": [],
   "source": [
    "iris.info()"
   ]
  },
  {
   "cell_type": "code",
   "execution_count": null,
   "metadata": {},
   "outputs": [],
   "source": [
    "iris.axes"
   ]
  },
  {
   "cell_type": "code",
   "execution_count": null,
   "metadata": {},
   "outputs": [],
   "source": [
    "iris.head()"
   ]
  },
  {
   "cell_type": "code",
   "execution_count": null,
   "metadata": {},
   "outputs": [],
   "source": [
    "iris.tail()"
   ]
  },
  {
   "cell_type": "code",
   "execution_count": null,
   "metadata": {},
   "outputs": [],
   "source": [
    "# ¿Qué es un Series? y ¿Qué es un DataFrame?\n",
    "# Uso del método iloc y loc\n",
    "\n",
    "\n",
    "### Método iloc\n",
    "\n",
    "## SERIES\n",
    "ejemplo = iris.iloc[0] # solo valores de la fila\n",
    "#ejemplo = iris.iloc[0, 0] # solo valores de la fila y la columna\n",
    "#ejemplo = iris.iloc[:, 0] # solo valores de toda la fila y 1 columna\n",
    "\n",
    "## DATAFRAME\n",
    "#ejemplo = iris.iloc[:, 0:1] # No es lo mismo que [:, 0]\n",
    "#ejemplo = iris.iloc[:20, 0:2]"
   ]
  },
  {
   "cell_type": "code",
   "execution_count": null,
   "metadata": {},
   "outputs": [],
   "source": [
    "print(iris.head())\n",
    "print(' ')\n",
    "print(type(ejemplo))\n",
    "ejemplo"
   ]
  },
  {
   "cell_type": "code",
   "execution_count": null,
   "metadata": {},
   "outputs": [],
   "source": [
    "### Método loc\n",
    "\n",
    "## SERIES\n",
    "#ejemplo = iris.loc[0] # solo valores de la fila\n",
    "## ¿Por qué si tiene número?\n",
    "\n",
    "ejemplo = iris.loc[0, 'sepal_length'] # solo valores de la fila y la columna\n",
    "#ejemplo = iris.iloc[:, 'sepal_width'] # solo valores de toda la fila y 1 columna\n",
    "\n",
    "## DATAFRAME\n",
    "#ejemplo = iris.iloc[:, 'sepal_length':'sepal_width'] # No es lo mismo que [:, 'sepal_length']\n",
    "#ejemplo = iris.iloc[:20, 'sepal_length':'petal_length']"
   ]
  },
  {
   "cell_type": "code",
   "execution_count": null,
   "metadata": {},
   "outputs": [],
   "source": [
    "print(iris.axes)\n",
    "print(' ')\n",
    "print(iris.head())\n",
    "print(' ')\n",
    "print(type(ejemplo))\n",
    "print(' ')\n",
    "ejemplo"
   ]
  },
  {
   "cell_type": "code",
   "execution_count": null,
   "metadata": {},
   "outputs": [],
   "source": [
    "## PARA QUE QUEDE MÁS CLARO\n",
    "indice_uno = ('Uno ' * round((len(iris.index)/3))).split()\n",
    "indice_dos = ('Dos ' * round((len(iris.index)/3))).split()\n",
    "indice_tres = ('Tres ' * round((len(iris.index)/3))).split()"
   ]
  },
  {
   "cell_type": "code",
   "execution_count": null,
   "metadata": {},
   "outputs": [],
   "source": [
    "indice_nuevo = indice_uno + indice_dos + indice_tres\n",
    "print(indice_nuevo)"
   ]
  },
  {
   "cell_type": "code",
   "execution_count": null,
   "metadata": {},
   "outputs": [],
   "source": [
    "iris.index = indice_nuevo\n",
    "iris"
   ]
  },
  {
   "cell_type": "code",
   "execution_count": null,
   "metadata": {},
   "outputs": [],
   "source": [
    "### Método loc\n",
    "\n",
    "## SERIES\n",
    "ejemplo = iris.loc['Uno'] # solo valores de la fila\n",
    "\n",
    "#ejemplo = iris.loc['Dos', 'sepal_length'] # solo valores de la fila y la columna\n",
    "#ejemplo = iris.loc[:, 'sepal_width'] # solo valores de toda la fila y 1 columna\n",
    "\n",
    "## DATAFRAME\n",
    "#ejemplo = iris.loc['Uno':'Dos', 'sepal_length':'sepal_width'] # No es lo mismo que [:, 'sepal_length']\n",
    "#ejemplo = iris.loc[:20, 'sepal_length':'petal_length'] # ¿Por qué no sale?"
   ]
  },
  {
   "cell_type": "code",
   "execution_count": null,
   "metadata": {},
   "outputs": [],
   "source": [
    "print(iris.axes)\n",
    "print(' ')\n",
    "print(type(ejemplo))\n",
    "print(' ')\n",
    "ejemplo"
   ]
  },
  {
   "cell_type": "code",
   "execution_count": null,
   "metadata": {},
   "outputs": [],
   "source": [
    "## ¿Cómo saber cuantos tipos de \"variety\" hay?\n",
    "variedad = iris.variety.unique()\n",
    "variedad"
   ]
  },
  {
   "cell_type": "code",
   "execution_count": null,
   "metadata": {},
   "outputs": [],
   "source": [
    "## Flitrar las bases\n",
    "# Por la columna \"variety\"\n",
    "\n",
    "setosa = iris.loc[iris['variety'] == 'Setosa']\n",
    "versicolor = iris.loc[iris['variety'] == 'Versicolor']\n",
    "virginica = iris.loc[iris['variety'] == 'Virginica']"
   ]
  },
  {
   "cell_type": "code",
   "execution_count": null,
   "metadata": {},
   "outputs": [],
   "source": [
    "setosa"
   ]
  },
  {
   "cell_type": "code",
   "execution_count": null,
   "metadata": {},
   "outputs": [],
   "source": [
    "plt.figure(figsize=(20, 16), dpi=80)\n",
    "sns.FacetGrid(iris, hue=\"variety\", size=3).map(sns.distplot,\"petal_length\").add_legend()\n",
    "sns.FacetGrid(iris, hue=\"variety\", size=3).map(sns.distplot,\"petal_width\").add_legend()\n",
    "sns.FacetGrid(iris, hue=\"variety\", size=3).map(sns.distplot,\"sepal_length\").add_legend()\n",
    "sns.FacetGrid(iris, hue=\"variety\", size=3).map(sns.distplot,\"sepal_width\").add_legend()\n",
    "plt.show()"
   ]
  },
  {
   "cell_type": "code",
   "execution_count": null,
   "metadata": {},
   "outputs": [],
   "source": [
    "plt.figure(figsize=(10, 8))\n",
    "sns.boxplot(x=\"variety\", y=\"petal_length\", data=iris)\n",
    "plt.show()"
   ]
  },
  {
   "cell_type": "code",
   "execution_count": null,
   "metadata": {},
   "outputs": [],
   "source": [
    "plt.figure(figsize=(10, 8))\n",
    "sns.violinplot(x=\"variety\",y=\"petal_length\",data=iris)\n",
    "plt.show()"
   ]
  },
  {
   "cell_type": "code",
   "execution_count": null,
   "metadata": {},
   "outputs": [],
   "source": [
    "plt.figure(figsize=(15, 13))\n",
    "sns.set_style(\"whitegrid\")\n",
    "sns.pairplot(iris, hue=\"variety\", size=3);\n",
    "plt.show()"
   ]
  },
  {
   "cell_type": "code",
   "execution_count": null,
   "metadata": {},
   "outputs": [],
   "source": [
    "## Pandas tiene su propia libería para plotear\n",
    "iris.plot(kind='box', subplots=True, layout=(2,2), sharex=False, sharey=False, figsize=(10, 8))\n",
    "plt.show()"
   ]
  },
  {
   "cell_type": "code",
   "execution_count": null,
   "metadata": {},
   "outputs": [],
   "source": [
    "iris.plot.box(subplots=True, layout=(2,2), sharex=False, sharey=False, figsize=(10, 8))\n",
    "plt.show()"
   ]
  },
  {
   "cell_type": "code",
   "execution_count": null,
   "metadata": {},
   "outputs": [],
   "source": [
    "iris.hist(figsize=(10, 8))"
   ]
  },
  {
   "cell_type": "code",
   "execution_count": null,
   "metadata": {},
   "outputs": [],
   "source": [
    "pdplt.scatter_matrix(iris[iris.columns[0:4]], figsize=(15, 12))\n",
    "plt.show()"
   ]
  },
  {
   "cell_type": "code",
   "execution_count": null,
   "metadata": {},
   "outputs": [],
   "source": [
    "# Agrupandolos\n",
    "por_tipo_media = iris.groupby('variety').mean()\n",
    "print(por_tipo_media)"
   ]
  },
  {
   "cell_type": "code",
   "execution_count": null,
   "metadata": {},
   "outputs": [],
   "source": [
    "por_tipo_corr = iris.groupby('variety').corr() # method{'pearson', 'kendall', 'spearman'}\n",
    "print(por_tipo_corr)"
   ]
  },
  {
   "cell_type": "code",
   "execution_count": null,
   "metadata": {},
   "outputs": [],
   "source": [
    "iris.groupby('variety').plot(figsize=(10, 8))"
   ]
  },
  {
   "cell_type": "code",
   "execution_count": null,
   "metadata": {},
   "outputs": [],
   "source": [
    "# ¿Cómo graficamos esta correlación?\n",
    "plt.figure(figsize=(10, 8))\n",
    "sns.heatmap(iris.iloc[:, :4])#, vmin=0, vmax=1)"
   ]
  },
  {
   "cell_type": "code",
   "execution_count": null,
   "metadata": {},
   "outputs": [],
   "source": [
    "plt.figure(figsize=(10, 8))\n",
    "sns.heatmap(setosa.iloc[:, :4])#, vmin=0, vmax=1)"
   ]
  },
  {
   "cell_type": "code",
   "execution_count": null,
   "metadata": {},
   "outputs": [],
   "source": [
    "plt.figure(figsize=(10, 8))\n",
    "sns.heatmap(setosa.iloc[:, :4])#, vmin=0, vmax=1)#, annot=True)"
   ]
  },
  {
   "cell_type": "code",
   "execution_count": null,
   "metadata": {},
   "outputs": [],
   "source": [
    "iris"
   ]
  },
  {
   "cell_type": "markdown",
   "metadata": {},
   "source": [
    "## Estadística para el dataset de IRIS"
   ]
  },
  {
   "cell_type": "code",
   "execution_count": null,
   "metadata": {},
   "outputs": [],
   "source": [
    "from glob import glob as gg\n",
    "import numpy as np\n",
    "import matplotlib.pyplot as plt\n",
    "import seaborn as sns\n",
    "import pandas as pd\n",
    "import pandas.plotting as pdplt\n",
    "import scipy.stats as spss\n",
    "from statsmodels.formula.api import ols"
   ]
  },
  {
   "cell_type": "code",
   "execution_count": null,
   "metadata": {},
   "outputs": [],
   "source": [
    "find_files = sorted(gg('*.csv'))"
   ]
  },
  {
   "cell_type": "code",
   "execution_count": null,
   "metadata": {},
   "outputs": [],
   "source": [
    "# base de datos iris\n",
    "iris = pd.read_csv(find_files[0])\n",
    "iris.columns = iris.columns.str.replace('.', '_')\n",
    "iris.head()"
   ]
  },
  {
   "cell_type": "markdown",
   "metadata": {},
   "source": [
    "### Comparaciones\n",
    "[Scipy Stats](https://docs.scipy.org/doc/scipy/reference/stats.html)"
   ]
  },
  {
   "cell_type": "code",
   "execution_count": null,
   "metadata": {},
   "outputs": [],
   "source": [
    "# Saber si tiene distribución normal\n",
    "spss.normaltest(iris[\"sepal_length\"])"
   ]
  },
  {
   "cell_type": "code",
   "execution_count": null,
   "metadata": {},
   "outputs": [],
   "source": [
    "valor, pvalor = spss.normaltest(iris[\"sepal_length\"])\n",
    "print(valor)\n",
    "print(pvalor)"
   ]
  },
  {
   "cell_type": "code",
   "execution_count": null,
   "metadata": {},
   "outputs": [],
   "source": [
    "print(iris.columns)\n",
    "print(iris.columns[:-1])"
   ]
  },
  {
   "cell_type": "code",
   "execution_count": null,
   "metadata": {},
   "outputs": [],
   "source": [
    "normalidad = []\n",
    "for col in iris.columns[:-1]:\n",
    "    valor, pvalor = spss.normaltest(iris[col])\n",
    "    normalidad.append('Columna -> {}, Valor estadístico = {}, p-value = {}'.format(col, valor, pvalor))\n",
    "normalidad"
   ]
  },
  {
   "cell_type": "code",
   "execution_count": null,
   "metadata": {},
   "outputs": [],
   "source": [
    "normalidad = []\n",
    "for col in iris.columns[:-1]:\n",
    "    valor, pvalor = spss.normaltest(iris[col])\n",
    "    normalidad.append('Columna -> {}\\nValor estadístico = {}\\np-value = {}\\n\\n'.format(col, valor, pvalor))\n",
    "normalidad"
   ]
  },
  {
   "cell_type": "code",
   "execution_count": null,
   "metadata": {},
   "outputs": [],
   "source": [
    "normalidad = []\n",
    "for col in iris.columns[:-1]:\n",
    "    valor, pvalor = spss.normaltest(iris[col])\n",
    "    if pvalor <= 0.05:\n",
    "        normalidad.append('Columna -> {}, Valor estadístico = {}, p-value = {} -> Presenta normalidad en los datos.'.format(col, valor, pvalor))\n",
    "    else:\n",
    "        normalidad.append('Columna -> {}, Valor estadístico = {}, p-value = {} -> Anormalidad en los datos.'.format(col, valor, pvalor))\n",
    "normalidad"
   ]
  },
  {
   "cell_type": "code",
   "execution_count": null,
   "metadata": {},
   "outputs": [],
   "source": [
    "normalidad = []\n",
    "anormalidad = []\n",
    "for col in iris.columns[:-1]:\n",
    "    valor, pvalor = spss.normaltest(iris[col])\n",
    "    if pvalor <= 0.05:\n",
    "        normalidad.append('Columna -> {}, Valor estadístico = {}, p-value = {} -> Presenta normalidad en los datos.'.format(col, valor, round(pvalor, 3)))\n",
    "    else:\n",
    "        anormalidad.append('Columna -> {}, Valor estadístico = {}, p-value = {} -> Anormalidad en los datos.'.format(col, valor, round(pvalor, 3)))"
   ]
  },
  {
   "cell_type": "code",
   "execution_count": null,
   "metadata": {},
   "outputs": [],
   "source": [
    "for normal in normalidad:\n",
    "    print(normal)\n",
    "print(' ')\n",
    "for anormal in anormalidad:\n",
    "    print(anormal)"
   ]
  },
  {
   "cell_type": "code",
   "execution_count": null,
   "metadata": {},
   "outputs": [],
   "source": [
    "help(spss.ttest_ind)"
   ]
  },
  {
   "cell_type": "code",
   "execution_count": null,
   "metadata": {},
   "outputs": [],
   "source": [
    "# Suponiendo que las variables de IRIS sean teoricamente correlacionadas\n",
    "\n",
    "spss.ttest_ind(iris['petal_length'], iris['sepal_width'])"
   ]
  },
  {
   "cell_type": "code",
   "execution_count": null,
   "metadata": {},
   "outputs": [],
   "source": [
    "estadistico, p_value = spss.ttest_ind(iris['petal_length'], iris['sepal_width'])\n",
    "print(estadistico)\n",
    "print(p_value)"
   ]
  },
  {
   "cell_type": "code",
   "execution_count": null,
   "metadata": {},
   "outputs": [],
   "source": [
    "estadistico, p_value = spss.ttest_ind(iris['petal_length'], iris['sepal_width'])\n",
    "if p_value <= 0.05:\n",
    "    print('P value es de {}: Hay comparación.'.format(round(p_value, 3)))\n",
    "else:\n",
    "    print('P value es de {}: Ni de broma.'.format(round(p_value, 3)))"
   ]
  },
  {
   "cell_type": "code",
   "execution_count": null,
   "metadata": {},
   "outputs": [],
   "source": [
    "comparacion = []\n",
    "for col1 in iris.columns[:-1]:\n",
    "    for col2 in iris.columns[:-1]:\n",
    "        estadistico, p_value = spss.ttest_ind(iris[col1], iris[col2])\n",
    "        comparacion.append('{} - {} = Estadístico: {}, P Value: {}'.format(col1, col2, estadistico, round(p_value, 3)))\n",
    "comparacion"
   ]
  },
  {
   "cell_type": "code",
   "execution_count": null,
   "metadata": {},
   "outputs": [],
   "source": [
    "comparacion = []\n",
    "for tipo in iris.variety.unique():\n",
    "    por_tipo = iris.loc[iris['variety'] == tipo]\n",
    "    for col1 in por_tipo.columns[:-1]:\n",
    "        for col2 in por_tipo.columns[:-1]:\n",
    "            estadistico, p_value = spss.ttest_ind(por_tipo[col1], por_tipo[col2])\n",
    "            if p_value <= 0.05:\n",
    "                comparacion.append('{}: {} - {} = Estadístico: {}, P Value: {}'.format(tipo, col1, col2, round(estadistico, 3), round(p_value, 3)))\n",
    "comparacion"
   ]
  },
  {
   "cell_type": "markdown",
   "metadata": {},
   "source": [
    "### ¿Qué diablos hacer que se analicen las comparaciones de los diferentes tipos de planta?"
   ]
  },
  {
   "cell_type": "code",
   "execution_count": null,
   "metadata": {},
   "outputs": [],
   "source": [
    "# Por tipo\n",
    "comparacion = []\n",
    "\n",
    "for tipo1 in iris['variety'].unique():\n",
    "    por_tipo1 = iris.loc[iris['variety'] == tipo1]\n",
    "    for tipo2 in iris['variety'].unique():\n",
    "        por_tipo2 = iris.loc[iris['variety'] == tipo2]\n",
    "        print(tipo1, '-', tipo2)\n",
    "        #for col1 in por_tipo1.columns[:-1]:\n",
    "        #    for col2 in por_tipo2.columns[:-1]:\n",
    "        #        #print(col1, '-', col2)\n",
    "        #        estadistico, p_value = spss.ttest_ind(por_tipo1[col1], por_tipo2[col2])\n",
    "        #        if p_value <= 0.05:\n",
    "        #            comparacion.append('{}-{}: {} - {} = Estadístico: {}, P Value: {}'.format(tipo1, tipo2, col1, col2, round(estadistico, 3), round(p_value, 3)))"
   ]
  },
  {
   "cell_type": "code",
   "execution_count": null,
   "metadata": {},
   "outputs": [],
   "source": [
    "comparacion"
   ]
  },
  {
   "cell_type": "markdown",
   "metadata": {},
   "source": [
    "### Para pruebas Post Hoc\n",
    "[Post hocs en Python](https://scikit-posthocs.readthedocs.io/en/latest/)"
   ]
  },
  {
   "cell_type": "code",
   "execution_count": null,
   "metadata": {},
   "outputs": [],
   "source": [
    "import scikit_posthocs as sp\n",
    "# Usaremos post hoc \"Scheffé\"\n",
    "# Las comparaciones de todos los pares de Scheffe prueban datos distribuidos normalmente con variaciones de grupo iguales."
   ]
  },
  {
   "cell_type": "code",
   "execution_count": null,
   "metadata": {},
   "outputs": [],
   "source": [
    "x = iris[['petal_length', 'sepal_width']]\n",
    "print(x.head())\n",
    "print(' ')\n",
    "x = x.melt(var_name='grupos', value_name='valores')\n",
    "print(x.head())\n",
    "print(' ')\n",
    "sp.posthoc_scheffe(x, val_col='valores', group_col='grupos')"
   ]
  },
  {
   "cell_type": "code",
   "execution_count": null,
   "metadata": {},
   "outputs": [],
   "source": [
    "scheffe = sp.posthoc_scheffe(x, val_col='valores', group_col='grupos')\n",
    "scheffe"
   ]
  },
  {
   "cell_type": "code",
   "execution_count": null,
   "metadata": {},
   "outputs": [],
   "source": [
    "scheffe = sp.posthoc_scheffe(x, val_col='valores', group_col='grupos').round(2)\n",
    "scheffe_interpretado = scheffe.copy()\n",
    "scheffe_interpretado"
   ]
  },
  {
   "cell_type": "code",
   "execution_count": null,
   "metadata": {},
   "outputs": [],
   "source": [
    "for sig in np.arange(0.00, 0.06, 0.01):\n",
    "    print(sig)"
   ]
  },
  {
   "cell_type": "code",
   "execution_count": null,
   "metadata": {},
   "outputs": [],
   "source": [
    "for sig in np.arange(0.00, 0.06, 0.01):\n",
    "    scheffe_interpretado = scheffe_interpretado.replace(sig, 'Significativo')\n",
    "scheffe_interpretado"
   ]
  },
  {
   "cell_type": "markdown",
   "metadata": {},
   "source": [
    "### ¿Cómo se le hace por tipo?"
   ]
  },
  {
   "cell_type": "code",
   "execution_count": null,
   "metadata": {},
   "outputs": [],
   "source": [
    "# Por tipo\n",
    "setosa = iris.loc[iris['variety'] == 'Setosa']\n",
    "for col in setosa.columns:\n",
    "    setosa.columns = setosa.columns.str.replace('{}'.format(col), '{}_Setosa'.format(col))\n",
    "setosa = setosa.drop('variety_Setosa', axis=1)\n",
    "\n",
    "versicolor = iris.loc[iris['variety'] == 'Versicolor']\n",
    "for col in versicolor.columns:\n",
    "    versicolor.columns = versicolor.columns.str.replace('{}'.format(col), '{}_Versicolor'.format(col))\n",
    "versicolor = versicolor.drop('variety_Versicolor', axis=1)\n",
    "    \n",
    "virginica = iris.loc[iris['variety'] == 'Virginica']\n",
    "for col in virginica.columns:\n",
    "    virginica.columns = virginica.columns.str.replace('{}'.format(col), '{}_Virginica'.format(col))\n",
    "virginica = virginica.drop('variety_Virginica', axis=1)"
   ]
  },
  {
   "cell_type": "code",
   "execution_count": null,
   "metadata": {},
   "outputs": [],
   "source": [
    "super_iris = pd.concat([setosa.reset_index(), versicolor.reset_index(), virginica.reset_index()], axis=1)"
   ]
  },
  {
   "cell_type": "code",
   "execution_count": null,
   "metadata": {},
   "outputs": [],
   "source": [
    "super_iris = super_iris.drop('index', axis=1)"
   ]
  },
  {
   "cell_type": "code",
   "execution_count": null,
   "metadata": {},
   "outputs": [],
   "source": [
    "super_iris.head()"
   ]
  },
  {
   "cell_type": "code",
   "execution_count": null,
   "metadata": {},
   "outputs": [],
   "source": [
    "posthoc = []\n",
    "scheffe_inter = []\n",
    "\n",
    "for col1 in super_iris.columns:\n",
    "    for col2 in super_iris.columns:\n",
    "        x = super_iris[[col1, col2]]\n",
    "        x = x.melt(var_name='grupos', value_name='valores')\n",
    "        scheffe = sp.posthoc_scheffe(x, val_col='valores', group_col='grupos').round(2)\n",
    "        scheffe_interpretado = scheffe.copy()\n",
    "        scheffe_inter.append(scheffe_interpretado)\n",
    "        for sig in np.arange(0.00, 0.06, 0.01):\n",
    "            scheffe_interpretado = scheffe_interpretado.replace(sig, 'Significativo')\n",
    "            posthoc.append(scheffe_interpretado)"
   ]
  },
  {
   "cell_type": "code",
   "execution_count": null,
   "metadata": {},
   "outputs": [],
   "source": [
    "post = pd.concat(posthoc)\n",
    "#print(post.dropna(how='all'))\n",
    "schef = pd.concat(scheffe_inter)\n",
    "#print(schef.dropna(how='all'))\n",
    "#schef#.info()\n",
    "post"
   ]
  },
  {
   "cell_type": "markdown",
   "metadata": {},
   "source": [
    "## Vamos a meterlos todos"
   ]
  },
  {
   "cell_type": "code",
   "execution_count": null,
   "metadata": {},
   "outputs": [],
   "source": [
    "for variedad in iris['variety'].unique():\n",
    "    print(variedad)\n",
    "    for col1 in iris.columns[:-1]:\n",
    "        print(col1)"
   ]
  },
  {
   "cell_type": "code",
   "execution_count": null,
   "metadata": {},
   "outputs": [],
   "source": [
    "normalidad = []\n",
    "anormalidad = []\n",
    "\n",
    "comparacion = []\n",
    "sin_comparacion = []\n",
    "\n",
    "# Variedad 1\n",
    "for variedad1 in iris['variety'].unique():\n",
    "    por_tipo1 = iris.loc[iris['variety'] == variedad1]\n",
    "    \n",
    "    # Test de Normalidad\n",
    "    for col1 in por_tipo1.columns[:-1]:\n",
    "        valor, pvalor = spss.normaltest(por_tipo1[col1])\n",
    "        if pvalor <= 0.05:\n",
    "            normalidad.append('Columna -> {}, Valor estadístico = {}, p-value = {} -> Presenta normalidad en los datos.'.format(col1, round(valor, 3), round(pvalor, 3)))\n",
    "        else:\n",
    "            anormalidad.append('Columna -> {}, Valor estadístico = {}, p-value = {} -> Anormalidad en los datos.'.format(col1, round(valor, 3), round(pvalor, 3)))\n",
    "\n",
    "    # Variedad 2\n",
    "    for variedad2 in iris['variety'].unique():\n",
    "        por_tipo2 = iris.loc[iris['variety'] == variedad2]\n",
    "        \n",
    "        # Columna 1\n",
    "        for col1 in por_tipo1.columns[:-1]:\n",
    "            \n",
    "            # Columna 2\n",
    "            for col2 in por_tipo2.columns[:-1]:\n",
    "                \n",
    "                # Test de Comparación\n",
    "                for col2 in por_tipo2.columns[:-1]:\n",
    "                    estadistico, p_value = spss.ttest_ind(por_tipo1[col1], por_tipo2[col2])\n",
    "                    if p_value <= 0.05:\n",
    "                        comparacion.append('Significativo, {}-{}, {} - {} = Estadístico: {}, P_Value: {}'.format(variedad1, variedad2, col1, col2, round(estadistico, 3), round(p_value, 3)))\n",
    "                    else:\n",
    "                        sin_comparacion.append('Insignificante, {}-{}, {} - {} = Estadístico: {}, P_Value: {}'.format(variedad1, variedad2, col1, col2, round(estadistico, 3), round(p_value, 3)))"
   ]
  },
  {
   "cell_type": "code",
   "execution_count": null,
   "metadata": {},
   "outputs": [],
   "source": [
    "for normal in normalidad:\n",
    "    print(normal)\n",
    "\n",
    "print(' ')\n",
    "\n",
    "for compara in comparacion:\n",
    "    print(compara)"
   ]
  },
  {
   "cell_type": "code",
   "execution_count": null,
   "metadata": {},
   "outputs": [],
   "source": [
    "iris.head()"
   ]
  },
  {
   "cell_type": "code",
   "execution_count": null,
   "metadata": {},
   "outputs": [],
   "source": [
    "x = iris[['sepal_length', 'petal_length']]\n",
    "x = x.melt(var_name='grupos', value_name='valores')\n",
    "print(x)#.head())"
   ]
  },
  {
   "cell_type": "code",
   "execution_count": null,
   "metadata": {},
   "outputs": [],
   "source": [
    "super_iris.head()"
   ]
  },
  {
   "cell_type": "code",
   "execution_count": null,
   "metadata": {},
   "outputs": [],
   "source": [
    "print(super_iris.iloc[:, 0].T.head())\n",
    "print(type(super_iris.iloc[:, 0].T.head()))\n",
    "print(' ')\n",
    "print(super_iris.iloc[:, 0].name)\n",
    "print(type(super_iris.iloc[:, 0].name))\n",
    "print(' ')\n",
    "#print(type(((super_iris.iloc[:, 0].name + ' ') * len(super_iris.iloc[:, 0].T))))"
   ]
  },
  {
   "cell_type": "code",
   "execution_count": null,
   "metadata": {},
   "outputs": [],
   "source": [
    "para_post = pd.DataFrame()\n",
    "para_post['Grupos'] = ((super_iris.iloc[:, 0].name + ' ') * len(super_iris.iloc[:, 0].T)).split()\n",
    "para_post['Valores'] = super_iris.iloc[:, 0].T\n",
    "para_post\n",
    "#super_iris.iloc[:, 0].name\n",
    "#super_iris.iloc[:, 0].T"
   ]
  },
  {
   "cell_type": "code",
   "execution_count": null,
   "metadata": {},
   "outputs": [],
   "source": [
    "for num in range(len(super_iris.columns)):\n",
    "    print(num)"
   ]
  },
  {
   "cell_type": "code",
   "execution_count": null,
   "metadata": {},
   "outputs": [],
   "source": [
    "para_post = []\n",
    "\n",
    "for num in range(len(super_iris.columns)):\n",
    "    super_lista = pd.DataFrame()\n",
    "    super_lista['Grupos'] = ((super_iris.iloc[:, num].name + ' ') * len(super_iris.iloc[:, num].T)).split()\n",
    "    super_lista['Valores'] = super_iris.iloc[:, num].T\n",
    "    para_post.append(super_lista)"
   ]
  },
  {
   "cell_type": "code",
   "execution_count": null,
   "metadata": {},
   "outputs": [],
   "source": [
    "para_post = pd.concat(para_post)"
   ]
  },
  {
   "cell_type": "code",
   "execution_count": null,
   "metadata": {},
   "outputs": [],
   "source": [
    "para_post#.columns\n",
    "#para_post.Grupos.unique()"
   ]
  },
  {
   "cell_type": "code",
   "execution_count": null,
   "metadata": {},
   "outputs": [],
   "source": [
    "x = para_post[['Grupos', 'Valores']]\n",
    "\n",
    "scheffe = sp.posthoc_scheffe(x, val_col='Valores', group_col='Grupos').round(2)\n",
    "scheffe_interpretado = scheffe.copy()\n",
    "\n",
    "for sig in np.arange(0.00, 0.06, 0.01):\n",
    "    scheffe_interpretado = scheffe_interpretado.replace(sig, 'Significativo')"
   ]
  },
  {
   "cell_type": "code",
   "execution_count": null,
   "metadata": {},
   "outputs": [],
   "source": [
    "scheffe"
   ]
  },
  {
   "cell_type": "code",
   "execution_count": null,
   "metadata": {},
   "outputs": [],
   "source": [
    "scheffe_interpretado#.head()"
   ]
  },
  {
   "cell_type": "markdown",
   "metadata": {},
   "source": [
    "## Mínimos Cuadrados"
   ]
  },
  {
   "cell_type": "code",
   "execution_count": null,
   "metadata": {},
   "outputs": [],
   "source": [
    "from statsmodels.formula.api import ols"
   ]
  },
  {
   "cell_type": "code",
   "execution_count": null,
   "metadata": {},
   "outputs": [],
   "source": [
    "model = ols('sepal_width ~ variety + petal_length', iris).fit()\n",
    "print(model.summary())"
   ]
  },
  {
   "cell_type": "code",
   "execution_count": null,
   "metadata": {},
   "outputs": [],
   "source": [
    "# Guardar el módelo\n",
    "with open('OLS-Iris.txt', 'w') as file_txt:\n",
    "    file_txt.write(str(model.summary()))\n",
    "    file_txt.close()"
   ]
  },
  {
   "cell_type": "code",
   "execution_count": null,
   "metadata": {},
   "outputs": [],
   "source": [
    "sns.pairplot(iris, vars=['sepal_length', 'sepal_width', 'petal_length', 'petal_width'], kind='reg', hue='variety') "
   ]
  },
  {
   "cell_type": "code",
   "execution_count": null,
   "metadata": {},
   "outputs": [],
   "source": [
    "sns.lmplot(y='sepal_length', x='petal_length', data=iris)  "
   ]
  },
  {
   "cell_type": "code",
   "execution_count": null,
   "metadata": {},
   "outputs": [],
   "source": [
    "### COMO DEBERÍA DE SER\n",
    "\n",
    "tipos = pd.Categorical(iris['variety'])\n",
    "\n",
    "pdplt.scatter_matrix(iris, c=tipos.codes, marker='o', figsize=(10, 8))"
   ]
  },
  {
   "cell_type": "code",
   "execution_count": null,
   "metadata": {},
   "outputs": [],
   "source": [
    "model = ols('sepal_width ~ variety + petal_length', iris).fit()\n",
    "print(model.summary())\n",
    "print(' ')\n",
    "print('Probando la diferencia entre el efecto de versicolor y virginica')\n",
    "print(model.f_test([0, 1, -1, 0]))\n",
    "plt.show()"
   ]
  },
  {
   "cell_type": "markdown",
   "metadata": {},
   "source": [
    "## 3er Dataset. Datos de la super tesis nunca antes escrita en el mundo mundial."
   ]
  },
  {
   "cell_type": "code",
   "execution_count": null,
   "metadata": {},
   "outputs": [],
   "source": [
    "import pandas as pd\n",
    "import numpy as np\n",
    "import matplotlib.pyplot as plt\n",
    "from glob import glob as gg\n",
    "from tqdm import tqdm\n",
    "import time\n",
    "import seaborn as sns\n",
    "import scipy.stats as spss"
   ]
  },
  {
   "cell_type": "code",
   "execution_count": null,
   "metadata": {},
   "outputs": [],
   "source": [
    "# Búsqueda de las Bases Reales\n",
    "files_txt = sorted(gg('*.txt'))\n",
    "files_txt"
   ]
  },
  {
   "cell_type": "code",
   "execution_count": null,
   "metadata": {},
   "outputs": [],
   "source": [
    "with open(files_txt[0], 'r') as file:\n",
    "    print(file.readlines(1000))\n",
    "    file.close()"
   ]
  },
  {
   "cell_type": "code",
   "execution_count": null,
   "metadata": {},
   "outputs": [],
   "source": [
    "file_txt = open(files_txt[0], 'r')\n",
    "print(file_txt.readlines(200))"
   ]
  },
  {
   "cell_type": "code",
   "execution_count": null,
   "metadata": {},
   "outputs": [],
   "source": [
    "file_txt = open(files_txt[0], 'r').readlines(200)\n",
    "file_txt"
   ]
  },
  {
   "cell_type": "code",
   "execution_count": null,
   "metadata": {},
   "outputs": [],
   "source": [
    "file_txt = pd.read_csv(files_txt[0])\n",
    "file_txt.head(10)"
   ]
  },
  {
   "cell_type": "code",
   "execution_count": null,
   "metadata": {},
   "outputs": [],
   "source": [
    "file_txt = pd.read_csv(files_txt[0], sep='\\t')\n",
    "file_txt.head(10)"
   ]
  },
  {
   "cell_type": "code",
   "execution_count": null,
   "metadata": {},
   "outputs": [],
   "source": [
    "file_txt = pd.read_csv(files_txt[0], sep='\\t', header=6)\n",
    "file_txt.head()"
   ]
  },
  {
   "cell_type": "code",
   "execution_count": null,
   "metadata": {},
   "outputs": [],
   "source": [
    "file_txt.info()"
   ]
  },
  {
   "cell_type": "code",
   "execution_count": null,
   "metadata": {},
   "outputs": [],
   "source": [
    "file_txt.shape[0] * file_txt.shape[1]"
   ]
  },
  {
   "cell_type": "code",
   "execution_count": null,
   "metadata": {},
   "outputs": [],
   "source": [
    "'{:,}'.format(file_txt.shape[0] * file_txt.shape[1])"
   ]
  },
  {
   "cell_type": "code",
   "execution_count": null,
   "metadata": {},
   "outputs": [],
   "source": [
    "sujeto = pd.concat([file_txt.iloc[:, 0:11], file_txt.iloc[:, 47]], axis=1)\n",
    "sujeto.head()"
   ]
  },
  {
   "cell_type": "code",
   "execution_count": null,
   "metadata": {},
   "outputs": [],
   "source": [
    "sujeto.info()"
   ]
  },
  {
   "cell_type": "code",
   "execution_count": null,
   "metadata": {},
   "outputs": [],
   "source": [
    "sujeto.columns = sujeto.columns.str.replace(' ', '_')"
   ]
  },
  {
   "cell_type": "code",
   "execution_count": null,
   "metadata": {},
   "outputs": [],
   "source": [
    "sujeto.info()"
   ]
  },
  {
   "cell_type": "code",
   "execution_count": null,
   "metadata": {},
   "outputs": [],
   "source": [
    "'{:,}'.format(sujeto.shape[0] * sujeto.shape[1])"
   ]
  },
  {
   "cell_type": "code",
   "execution_count": null,
   "metadata": {},
   "outputs": [],
   "source": [
    "sujeto['Video_Time'] = pd.to_datetime(sujeto['Video_Time'])\n",
    "sujeto.head()"
   ]
  },
  {
   "cell_type": "code",
   "execution_count": null,
   "metadata": {},
   "outputs": [],
   "source": [
    "sujeto.info()"
   ]
  },
  {
   "cell_type": "code",
   "execution_count": null,
   "metadata": {},
   "outputs": [],
   "source": [
    "sujeto['Fecha'] = sujeto['Video_Time'].dt.date"
   ]
  },
  {
   "cell_type": "code",
   "execution_count": null,
   "metadata": {},
   "outputs": [],
   "source": [
    "sujeto.head()"
   ]
  },
  {
   "cell_type": "code",
   "execution_count": null,
   "metadata": {},
   "outputs": [],
   "source": [
    "sujeto['Hora'] = sujeto['Video_Time'].dt.time"
   ]
  },
  {
   "cell_type": "code",
   "execution_count": null,
   "metadata": {},
   "outputs": [],
   "source": [
    "sujeto.head()"
   ]
  },
  {
   "cell_type": "code",
   "execution_count": null,
   "metadata": {},
   "outputs": [],
   "source": [
    "sujeto.info()"
   ]
  },
  {
   "cell_type": "code",
   "execution_count": null,
   "metadata": {},
   "outputs": [],
   "source": [
    "objetos = []\n",
    "for columna in sujeto.columns:\n",
    "    for palabra in sujeto[columna].unique():\n",
    "        if type(palabra) == str:\n",
    "            objetos.append(palabra)\n",
    "lista1 = list(set(objetos))\n",
    "lista2 = np.empty(len(lista1))\n",
    "lista2[:] = np.nan\n",
    "objetos = dict(zip(lista1, lista2))"
   ]
  },
  {
   "cell_type": "code",
   "execution_count": null,
   "metadata": {},
   "outputs": [],
   "source": [
    "objetos"
   ]
  },
  {
   "cell_type": "code",
   "execution_count": null,
   "metadata": {},
   "outputs": [],
   "source": [
    "sujeto['Neutral'].unique()"
   ]
  },
  {
   "cell_type": "code",
   "execution_count": null,
   "metadata": {},
   "outputs": [],
   "source": [
    "ejemplo = pd.to_numeric(sujeto['Neutral'], errors='coerce')"
   ]
  },
  {
   "cell_type": "code",
   "execution_count": null,
   "metadata": {},
   "outputs": [],
   "source": [
    "ejemplo.unique()"
   ]
  },
  {
   "cell_type": "code",
   "execution_count": null,
   "metadata": {},
   "outputs": [],
   "source": [
    "ejemplo1 = sujeto.copy()\n",
    "\n",
    "for columna in ejemplo1.columns:\n",
    "    ejemplo1[columna] = pd.to_numeric(ejemplo1[columna], errors='coerce')"
   ]
  },
  {
   "cell_type": "code",
   "execution_count": null,
   "metadata": {},
   "outputs": [],
   "source": [
    "ejemplo1.head()"
   ]
  },
  {
   "cell_type": "code",
   "execution_count": null,
   "metadata": {},
   "outputs": [],
   "source": [
    "ejemplo1.info()"
   ]
  },
  {
   "cell_type": "code",
   "execution_count": null,
   "metadata": {},
   "outputs": [],
   "source": [
    "ejemplo2 = sujeto.copy()\n",
    "\n",
    "for columna in ejemplo2.columns[1:12]:\n",
    "    ejemplo2[columna] = pd.to_numeric(ejemplo2[columna], errors='coerce')"
   ]
  },
  {
   "cell_type": "code",
   "execution_count": null,
   "metadata": {},
   "outputs": [],
   "source": [
    "ejemplo2.head()"
   ]
  },
  {
   "cell_type": "code",
   "execution_count": null,
   "metadata": {},
   "outputs": [],
   "source": [
    "ejemplo2.info()"
   ]
  },
  {
   "cell_type": "code",
   "execution_count": null,
   "metadata": {},
   "outputs": [],
   "source": [
    "ejemplo2.Neutral.unique()"
   ]
  },
  {
   "cell_type": "code",
   "execution_count": null,
   "metadata": {},
   "outputs": [],
   "source": [
    "for columna in sujeto.columns[1:12]:\n",
    "    sujeto[columna] = pd.to_numeric(sujeto[columna], errors='coerce')"
   ]
  },
  {
   "cell_type": "code",
   "execution_count": null,
   "metadata": {},
   "outputs": [],
   "source": [
    "sujeto.head()"
   ]
  },
  {
   "cell_type": "code",
   "execution_count": null,
   "metadata": {},
   "outputs": [],
   "source": [
    "sujeto.info()"
   ]
  },
  {
   "cell_type": "code",
   "execution_count": null,
   "metadata": {},
   "outputs": [],
   "source": [
    "sujeto = sujeto.set_index('Video_Time')"
   ]
  },
  {
   "cell_type": "code",
   "execution_count": null,
   "metadata": {},
   "outputs": [],
   "source": [
    "sujeto"
   ]
  },
  {
   "cell_type": "code",
   "execution_count": null,
   "metadata": {},
   "outputs": [],
   "source": [
    "sujeto.info()"
   ]
  },
  {
   "cell_type": "code",
   "execution_count": null,
   "metadata": {},
   "outputs": [],
   "source": [
    "# ¿Cómo sabemos de quien es esa base?"
   ]
  },
  {
   "cell_type": "code",
   "execution_count": null,
   "metadata": {},
   "outputs": [],
   "source": [
    "files_txt[0] # Ajá, este es el usuario, ¿Cómo le hacemos para incluirlo en la base?"
   ]
  },
  {
   "cell_type": "code",
   "execution_count": null,
   "metadata": {},
   "outputs": [],
   "source": [
    "files_txt[0][:-4]"
   ]
  },
  {
   "cell_type": "code",
   "execution_count": null,
   "metadata": {},
   "outputs": [],
   "source": [
    "sujeto['ID'] = files_txt[0][:-4]"
   ]
  },
  {
   "cell_type": "code",
   "execution_count": null,
   "metadata": {},
   "outputs": [],
   "source": [
    "sujeto.head()"
   ]
  },
  {
   "cell_type": "code",
   "execution_count": null,
   "metadata": {},
   "outputs": [],
   "source": [
    "sujeto.info()"
   ]
  },
  {
   "cell_type": "code",
   "execution_count": null,
   "metadata": {},
   "outputs": [],
   "source": [
    "sujeto.describe()"
   ]
  },
  {
   "cell_type": "code",
   "execution_count": null,
   "metadata": {},
   "outputs": [],
   "source": [
    "sujeto.describe(include='all')"
   ]
  },
  {
   "cell_type": "code",
   "execution_count": null,
   "metadata": {},
   "outputs": [],
   "source": [
    "sujeto.shape"
   ]
  },
  {
   "cell_type": "markdown",
   "metadata": {},
   "source": [
    "### Todos los TXT"
   ]
  },
  {
   "cell_type": "code",
   "execution_count": null,
   "metadata": {},
   "outputs": [],
   "source": [
    "files_txt"
   ]
  },
  {
   "cell_type": "code",
   "execution_count": null,
   "metadata": {},
   "outputs": [],
   "source": [
    "bases = []\n",
    "\n",
    "for txt in tqdm(files_txt):\n",
    "    file_txt = pd.read_csv(txt, sep='\\t', header=6)\n",
    "    sujeto = pd.concat([file_txt.iloc[:, 0:10], file_txt.iloc[:, 47]], axis=1)\n",
    "    sujeto.columns = sujeto.columns.str.replace(' ', '_')\n",
    "    sujeto['Video_Time'] = pd.to_datetime(sujeto['Video_Time'])\n",
    "    sujeto['Fecha'] = sujeto['Video_Time'].dt.date\n",
    "    sujeto['Hora'] = sujeto['Video_Time'].dt.time\n",
    "    for columna in sujeto.columns[1:12]:\n",
    "        sujeto[columna] = pd.to_numeric(sujeto[columna], errors='coerce')\n",
    "    sujeto = sujeto.set_index('Video_Time')\n",
    "    sujeto['ID'] = txt[:-4]\n",
    "    bases.append(sujeto)\n",
    "    time.sleep(0.01)\n",
    "\n",
    "sujetos = pd.concat(bases)"
   ]
  },
  {
   "cell_type": "code",
   "execution_count": null,
   "metadata": {},
   "outputs": [],
   "source": [
    "sujetos.head()"
   ]
  },
  {
   "cell_type": "code",
   "execution_count": null,
   "metadata": {},
   "outputs": [],
   "source": [
    "for txt in files_txt:\n",
    "    print(txt)"
   ]
  },
  {
   "cell_type": "code",
   "execution_count": null,
   "metadata": {},
   "outputs": [],
   "source": [
    "file = open(files_txt[0], 'r').readlines(300)\n",
    "file"
   ]
  },
  {
   "cell_type": "code",
   "execution_count": null,
   "metadata": {},
   "outputs": [],
   "source": [
    "# Detalles descriptivos de cada sujeto\n",
    "file[:8]"
   ]
  },
  {
   "cell_type": "code",
   "execution_count": null,
   "metadata": {},
   "outputs": [],
   "source": [
    "# Columnas o Variables con las que queremos trabajar\n",
    "file[8:]"
   ]
  },
  {
   "cell_type": "code",
   "execution_count": null,
   "metadata": {},
   "outputs": [],
   "source": [
    "type(file[8:])"
   ]
  },
  {
   "cell_type": "code",
   "execution_count": null,
   "metadata": {},
   "outputs": [],
   "source": [
    "columnas_necesarias = ['Video Time', 'Neutral', 'Happy', 'Sad', 'Angry', 'Surprised', 'Scared', 'Disgusted', 'Contempt', 'Valence', 'Arousal', 'Heart Rate']"
   ]
  },
  {
   "cell_type": "code",
   "execution_count": null,
   "metadata": {},
   "outputs": [],
   "source": [
    "bases = []\n",
    "\n",
    "for txt in tqdm(files_txt):\n",
    "    file_txt = pd.read_csv(txt, sep='\\t', header=6)\n",
    "    #sujeto = pd.concat([file_txt.iloc[:, 0:10], file_txt.iloc[:, 47]], axis=1)\n",
    "    sujeto = file_txt.loc[:, columnas_necesarias]\n",
    "    sujeto.columns = sujeto.columns.str.replace(' ', '_')\n",
    "    sujeto['Video_Time'] = pd.to_datetime(sujeto['Video_Time'])\n",
    "    sujeto['Fecha'] = sujeto['Video_Time'].dt.date\n",
    "    sujeto['Hora'] = sujeto['Video_Time'].dt.time\n",
    "    for columna in sujeto.columns[1:12]:\n",
    "        sujeto[columna] = pd.to_numeric(sujeto[columna], errors='coerce')\n",
    "    sujeto = sujeto.set_index('Video_Time')\n",
    "    sujeto['ID'] = txt[:-4]\n",
    "    # OJO a este Detalle\n",
    "    sujeto['ID_Group'] = 'Pacientes' if txt[:-4].find('P') == 0 else 'Controles'\n",
    "    bases.append(sujeto)\n",
    "    time.sleep(0.01)"
   ]
  },
  {
   "cell_type": "code",
   "execution_count": null,
   "metadata": {},
   "outputs": [],
   "source": [
    "bases"
   ]
  },
  {
   "cell_type": "code",
   "execution_count": null,
   "metadata": {},
   "outputs": [],
   "source": [
    "sujetos = pd.concat(bases)"
   ]
  },
  {
   "cell_type": "code",
   "execution_count": null,
   "metadata": {},
   "outputs": [],
   "source": [
    "sujetos"
   ]
  },
  {
   "cell_type": "code",
   "execution_count": null,
   "metadata": {},
   "outputs": [],
   "source": [
    "'{:,}'.format(sujetos.shape[0] * sujetos.shape[1])"
   ]
  },
  {
   "cell_type": "code",
   "execution_count": null,
   "metadata": {},
   "outputs": [],
   "source": [
    "print(sujetos.ID.unique())\n",
    "print(sujetos.ID_Group.unique())"
   ]
  },
  {
   "cell_type": "code",
   "execution_count": null,
   "metadata": {},
   "outputs": [],
   "source": [
    "sujetos.info()"
   ]
  },
  {
   "cell_type": "code",
   "execution_count": null,
   "metadata": {},
   "outputs": [],
   "source": [
    "sujetos.to_excel('Todos los Sujetos.xlsx')"
   ]
  },
  {
   "cell_type": "code",
   "execution_count": null,
   "metadata": {},
   "outputs": [],
   "source": [
    "sujetos.columns"
   ]
  },
  {
   "cell_type": "markdown",
   "metadata": {},
   "source": [
    "### a) Comparar los estados emocionales de los pacientes con TLP y un grupo control durante una intervención terapeutica."
   ]
  },
  {
   "cell_type": "code",
   "execution_count": null,
   "metadata": {},
   "outputs": [],
   "source": [
    "pac = sujetos.loc[sujetos.ID_Group == 'Pacientes']\n",
    "control = sujetos.loc[sujetos.ID_Group == 'Controles']"
   ]
  },
  {
   "cell_type": "markdown",
   "metadata": {},
   "source": [
    "### Distribución"
   ]
  },
  {
   "cell_type": "code",
   "execution_count": null,
   "metadata": {},
   "outputs": [],
   "source": [
    "estats_pac, p_value_pac = spss.shapiro(pac['Neutral'].dropna(how='any'))"
   ]
  },
  {
   "cell_type": "code",
   "execution_count": null,
   "metadata": {},
   "outputs": [],
   "source": [
    "shapvalen_pac = 'W = {} p < {}'.format(estats_pac, p_value_pac)\n",
    "shapvalen_pac"
   ]
  },
  {
   "cell_type": "code",
   "execution_count": null,
   "metadata": {},
   "outputs": [],
   "source": [
    "shapvalen_pac = 'W = {:.3} p < {}'.format(estats_pac, p_value_pac)\n",
    "shapvalen_pac"
   ]
  },
  {
   "cell_type": "code",
   "execution_count": null,
   "metadata": {},
   "outputs": [],
   "source": [
    "shapvalen_pac = 'W = {:.3} p < {:.3}'.format(estats_pac, p_value_pac)\n",
    "shapvalen_pac"
   ]
  },
  {
   "cell_type": "code",
   "execution_count": null,
   "metadata": {},
   "outputs": [],
   "source": [
    "shapvalen_pac = 'W = {:.3} p < {}'.format(estats_pac, round(p_value_pac, 3))\n",
    "shapvalen_pac"
   ]
  },
  {
   "cell_type": "code",
   "execution_count": null,
   "metadata": {},
   "outputs": [],
   "source": [
    "shapvalen_pac = 'W = {:.3} p < {}1'.format(estats_pac, round(p_value_pac, 3))\n",
    "shapvalen_pac"
   ]
  },
  {
   "cell_type": "code",
   "execution_count": null,
   "metadata": {},
   "outputs": [],
   "source": [
    "plt.figure(figsize=(15, 8))\n",
    "sns.distplot(pac['Neutral'].dropna(how='any'), fit=spss.norm, kde=True, axlabel='{}'.format(shapvalen_pac))\n",
    "plt.title('Distribución Pacientes - Neutral')\n",
    "plt.tight_layout()\n",
    "plt.savefig('Neutral_Pacientes.png', bbox_inches='tight', dpi=300)\n",
    "plt.show()"
   ]
  },
  {
   "cell_type": "markdown",
   "metadata": {},
   "source": [
    "### Comparación"
   ]
  },
  {
   "cell_type": "code",
   "execution_count": null,
   "metadata": {},
   "outputs": [],
   "source": [
    "estad, p_value = spss.kruskal(pac['Neutral'].dropna(how='any'), control['Neutral'].dropna(how='any'))\n",
    "krus_val = 'H = {} p < {}1'.format(round(estad, 2), round(p_value, 2))\n",
    "krus_val"
   ]
  },
  {
   "cell_type": "code",
   "execution_count": null,
   "metadata": {},
   "outputs": [],
   "source": [
    "plt.figure(figsize=(15, 8))\n",
    "sns.boxplot(x='ID_Group', y='Neutral', data=sujetos)\n",
    "plt.xlabel(krus_val)\n",
    "plt.title('Comparación - Neutral')\n",
    "plt.tight_layout()\n",
    "plt.savefig('Neutral_Pacientes_Controles_Boxplot.png', bbox_inches='tight', dpi=300)\n",
    "plt.show()"
   ]
  },
  {
   "cell_type": "code",
   "execution_count": null,
   "metadata": {},
   "outputs": [],
   "source": [
    "plt.figure(figsize=(15, 8))\n",
    "sns.violinplot(x='ID_Group', y='Neutral', data=sujetos)\n",
    "plt.xlabel(krus_val)\n",
    "plt.title('Comparación - Neutral')\n",
    "plt.tight_layout()\n",
    "plt.savefig('Neutral_Pacientes_Controles_Violinplot.png', bbox_inches='tight', dpi=300)\n",
    "plt.show()"
   ]
  },
  {
   "cell_type": "markdown",
   "metadata": {},
   "source": [
    "### ¿Cómo le hacemos para obtener la estadística todas las columnas?\n",
    "### ¿Cómo le hacemos para gráficar todas las columnas?\n",
    "### ¿Se puede obtener la estadística por emoción y por grupo?\n",
    "### ¿Se puede gráficar por emoción y por grupo?"
   ]
  },
  {
   "cell_type": "code",
   "execution_count": null,
   "metadata": {},
   "outputs": [],
   "source": [
    "sujetos.columns"
   ]
  },
  {
   "cell_type": "code",
   "execution_count": null,
   "metadata": {},
   "outputs": [],
   "source": [
    "shapiro = []\n",
    "\n",
    "cols = sujetos.columns[:11]\n",
    "\n",
    "for grupo in sujetos.ID_Group.unique():\n",
    "    # Primer grupo iterador\n",
    "    un_grupo = sujetos.loc[sujetos.ID_Group == grupo]\n",
    "    \n",
    "    for emocion in cols:\n",
    "        # Distribución\n",
    "        estats, p_value = spss.shapiro(un_grupo[emocion].dropna(how='any'))\n",
    "        if p_value < 0.01:\n",
    "            shapvalen = 'W = {} p < {}1'.format(round(estats, 2), round(p_value, 2))\n",
    "        else:\n",
    "            shapvalen = 'W = {} p < {}'.format(round(estats, 2), round(p_value, 2))\n",
    "        shapiro.append(emocion)\n",
    "        shapiro.append(shapvalen)\n",
    "\n",
    "        # Graficar Distribución\n",
    "        plt.figure(figsize=(15, 8))\n",
    "        sns.distplot(un_grupo[emocion].dropna(how='any'), fit=spss.norm, kde=True, axlabel='{}'.format(shapvalen))\n",
    "        plt.title('Distribución {} - {}'.format(grupo, emocion))\n",
    "        plt.tight_layout()\n",
    "        plt.savefig('{}_{}_Distribución.png'.format(emocion, grupo), bbox_inches='tight', dpi=300)\n",
    "        plt.show()"
   ]
  },
  {
   "cell_type": "code",
   "execution_count": null,
   "metadata": {},
   "outputs": [],
   "source": [
    "kruskall = []\n",
    "\n",
    "cols = sujetos.columns[:11]\n",
    "        \n",
    "for emocion in cols:\n",
    "\n",
    "    # Comparación\n",
    "    estad, p_value = spss.kruskal(pac[emocion].dropna(how='any'), control[emocion].dropna(how='any'))\n",
    "    if p_value < 0.01:\n",
    "        krus_val = 'H = {} p < {}1'.format(round(estad, 2), round(p_value, 2))\n",
    "    else:\n",
    "        krus_val = 'H = {} p < {}'.format(round(estad, 2), round(p_value, 2))\n",
    "    kruskall.append(emocion)\n",
    "    kruskall.append(krus_val)\n",
    "\n",
    "    # Gráficar Comparación\n",
    "    ## Violinplot\n",
    "    plt.figure(figsize=(15, 8))\n",
    "    sns.violinplot(x='ID_Group', y='{}'.format(emocion), data=sujetos)\n",
    "    plt.xlabel(krus_val)\n",
    "    plt.title('Comparación - {}'.format(emocion))\n",
    "    plt.tight_layout()\n",
    "    plt.savefig('{}_Pacientes_Controles_Violinplot.png'.format(emocion), bbox_inches='tight', dpi=300)\n",
    "    plt.show()\n",
    "    \n",
    "    ## Boxplot\n",
    "    plt.figure(figsize=(15, 8))\n",
    "    sns.boxplot(x='ID_Group', y='{}'.format(emocion), data=sujetos)\n",
    "    plt.xlabel(krus_val)\n",
    "    plt.title('Comparación - {}'.format(emocion))\n",
    "    plt.tight_layout()\n",
    "    plt.savefig('{}_Pacientes_Controles_Boxplot.png'.format(emocion), bbox_inches='tight', dpi=300)\n",
    "    plt.show()"
   ]
  },
  {
   "cell_type": "code",
   "execution_count": null,
   "metadata": {},
   "outputs": [],
   "source": [
    "kruskall"
   ]
  },
  {
   "cell_type": "code",
   "execution_count": null,
   "metadata": {},
   "outputs": [],
   "source": []
  }
 ],
 "metadata": {
  "kernelspec": {
   "display_name": "Python 3",
   "language": "python",
   "name": "python3"
  },
  "language_info": {
   "codemirror_mode": {
    "name": "ipython",
    "version": 3
   },
   "file_extension": ".py",
   "mimetype": "text/x-python",
   "name": "python",
   "nbconvert_exporter": "python",
   "pygments_lexer": "ipython3",
   "version": "3.8.5"
  }
 },
 "nbformat": 4,
 "nbformat_minor": 4
}
