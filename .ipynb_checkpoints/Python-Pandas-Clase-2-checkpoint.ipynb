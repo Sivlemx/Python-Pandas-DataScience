{
 "cells": [
  {
   "cell_type": "markdown",
   "metadata": {},
   "source": [
    "# Pandas pada Psicólogos\n",
    "![](https://numfocus.org/wp-content/uploads/2016/07/pandas-logo-300.png)\n",
    "\n",
    "[pandas - Python Data Analysis Library](https://pandas.pydata.org/docs/)"
   ]
  },
  {
   "cell_type": "markdown",
   "metadata": {},
   "source": [
    "# Numpy para Psicólogos\n",
    "![](https://user-images.githubusercontent.com/50221806/85190325-2b3f4400-b26c-11ea-93f3-81a101614a88.png)\n",
    "\n",
    "[Numerical Python](https://numpy.org/)"
   ]
  },
  {
   "cell_type": "markdown",
   "metadata": {},
   "source": [
    "## Introducción a los DataSets"
   ]
  },
  {
   "cell_type": "code",
   "execution_count": null,
   "metadata": {},
   "outputs": [],
   "source": [
    "import pandas as pd\n",
    "import numpy as np\n",
    "# librería \"glob\" — Busca nombres de archivos que coincidan con un patrón.\n",
    "from glob import glob as gg\n",
    "# Libería \"tqdm\" para ver el progreso del o de los procesos\n",
    "from tqdm import tqdm\n",
    "# Para que \"tqdm\" funcione\n",
    "import time"
   ]
  },
  {
   "cell_type": "markdown",
   "metadata": {},
   "source": [
    "## 1er Dataset. Datos Inventados"
   ]
  },
  {
   "cell_type": "code",
   "execution_count": null,
   "metadata": {},
   "outputs": [],
   "source": [
    "# Búsqueda de las Bases\n",
    "files_xlsx = gg('*.xlsx')\n",
    "files_xlsx"
   ]
  },
  {
   "cell_type": "code",
   "execution_count": null,
   "metadata": {},
   "outputs": [],
   "source": [
    "xlsx1 = pd.read_excel(files_xlsx[0])\n",
    "xlsx1.head()\n",
    "# ¿El ID lo queremos como índice?"
   ]
  },
  {
   "cell_type": "code",
   "execution_count": null,
   "metadata": {},
   "outputs": [],
   "source": [
    "xlsx1 = pd.read_excel(files_xlsx[0], index_col='ID')\n",
    "print(xlsx1.head())\n",
    "#print(' ')\n",
    "#print(xlsx1.tail())"
   ]
  },
  {
   "cell_type": "code",
   "execution_count": null,
   "metadata": {},
   "outputs": [],
   "source": [
    "# Número de observaciones que tiene el dataset\n",
    "xlsx1.shape #(filas, columnas)"
   ]
  },
  {
   "cell_type": "code",
   "execution_count": null,
   "metadata": {},
   "outputs": [],
   "source": [
    "xlsx1.shape[0] #quiero solo las filas"
   ]
  },
  {
   "cell_type": "code",
   "execution_count": null,
   "metadata": {},
   "outputs": [],
   "source": [
    "xlsx1.shape[1] #quiero solo las columnas"
   ]
  },
  {
   "cell_type": "code",
   "execution_count": null,
   "metadata": {},
   "outputs": [],
   "source": [
    "# Pero deseo toda la información\n",
    "xlsx1.info() #¿Cómo interpretar esta información?"
   ]
  },
  {
   "cell_type": "code",
   "execution_count": null,
   "metadata": {},
   "outputs": [],
   "source": [
    "# Quiero saber solo las filas\n",
    "xlsx1.index"
   ]
  },
  {
   "cell_type": "code",
   "execution_count": null,
   "metadata": {},
   "outputs": [],
   "source": [
    "# Quiero solo saber los nombres de las columnas\n",
    "xlsx1.columns"
   ]
  },
  {
   "cell_type": "code",
   "execution_count": null,
   "metadata": {},
   "outputs": [],
   "source": [
    "print(xlsx1.Var1.unique())\n",
    "print(' ')\n",
    "print(list(xlsx1.Var1.unique()))"
   ]
  },
  {
   "cell_type": "code",
   "execution_count": null,
   "metadata": {},
   "outputs": [],
   "source": [
    "# Quiero saber los valores que convierte la columna Var1 en objeto\n",
    "objetos = [tipo for tipo in xlsx1.Var1.unique() if type(tipo) == str]\n",
    "objetos"
   ]
  },
  {
   "cell_type": "code",
   "execution_count": null,
   "metadata": {},
   "outputs": [],
   "source": [
    "objetos = []\n",
    "for tipo in xlsx1.Var1.unique():\n",
    "    if type(tipo) == str:\n",
    "        objetos.append(tipo)\n",
    "objetos"
   ]
  },
  {
   "cell_type": "code",
   "execution_count": null,
   "metadata": {},
   "outputs": [],
   "source": [
    "objetos = [tipo for tipo in xlsx1.Var5.unique() if type(tipo) == str]\n",
    "objetos"
   ]
  },
  {
   "cell_type": "code",
   "execution_count": null,
   "metadata": {},
   "outputs": [],
   "source": [
    "objetos = []\n",
    "for tipo in xlsx1.Var5.unique():\n",
    "    if type(tipo) == str:\n",
    "        objetos.append(tipo)\n",
    "objetos"
   ]
  },
  {
   "cell_type": "code",
   "execution_count": null,
   "metadata": {},
   "outputs": [],
   "source": [
    "xlsx1.columns"
   ]
  },
  {
   "cell_type": "code",
   "execution_count": null,
   "metadata": {},
   "outputs": [],
   "source": [
    "# Hacerlo por cada uno toma mucho recurso de tiempo ¿Cómo mejoramos esto?\n",
    "objetos = []\n",
    "for columna in xlsx1.columns:\n",
    "    print('En la columna {}'.format(columna))\n",
    "    for tipo in xlsx1[columna].unique():\n",
    "        if type(tipo) == str:\n",
    "            print(tipo)\n",
    "            print(' ')\n",
    "            objetos.append(tipo)\n",
    "            \n",
    "objetos"
   ]
  },
  {
   "cell_type": "code",
   "execution_count": null,
   "metadata": {},
   "outputs": [],
   "source": [
    "objetos = set(objetos)\n",
    "objetos"
   ]
  },
  {
   "cell_type": "code",
   "execution_count": null,
   "metadata": {},
   "outputs": [],
   "source": [
    "objetos = list(set(objetos))\n",
    "objetos"
   ]
  },
  {
   "cell_type": "code",
   "execution_count": null,
   "metadata": {},
   "outputs": [],
   "source": [
    "objetos"
   ]
  },
  {
   "cell_type": "code",
   "execution_count": null,
   "metadata": {},
   "outputs": [],
   "source": [
    "lista1 = objetos\n",
    "lista2 = np.empty(len(lista1))\n",
    "print(lista2)"
   ]
  },
  {
   "cell_type": "code",
   "execution_count": null,
   "metadata": {},
   "outputs": [],
   "source": [
    "lista2[:] = np.nan\n",
    "print(lista2)"
   ]
  },
  {
   "cell_type": "code",
   "execution_count": null,
   "metadata": {},
   "outputs": [],
   "source": [
    "objetos3 = zip(lista1, lista2)\n",
    "objetos4 = dict(objetos3)\n",
    "objetos4"
   ]
  },
  {
   "cell_type": "code",
   "execution_count": null,
   "metadata": {},
   "outputs": [],
   "source": [
    "# Como debe de verse\n",
    "objetos = []\n",
    "for columna in xlsx1.columns:\n",
    "    for tipo in xlsx1[columna].unique():\n",
    "        if type(tipo) == str:\n",
    "            objetos.append(tipo)\n",
    "            \n",
    "lista1 = list(set(objetos))\n",
    "lista2 = np.empty(len(lista1))\n",
    "lista2[:] = np.nan\n",
    "objetos = dict(zip(lista1, lista2))\n",
    "objetos"
   ]
  },
  {
   "cell_type": "code",
   "execution_count": null,
   "metadata": {},
   "outputs": [],
   "source": [
    "xlsx1"
   ]
  },
  {
   "cell_type": "code",
   "execution_count": null,
   "metadata": {},
   "outputs": [],
   "source": [
    "xlsx1 = xlsx1.replace(objetos)\n",
    "xlsx1"
   ]
  },
  {
   "cell_type": "markdown",
   "metadata": {},
   "source": [
    "## ¿Se acuerdan de las demás bases?"
   ]
  },
  {
   "cell_type": "code",
   "execution_count": null,
   "metadata": {},
   "outputs": [],
   "source": [
    "print(files_xlsx)"
   ]
  },
  {
   "cell_type": "markdown",
   "metadata": {},
   "source": [
    "### ¿Qué función aplicamos y cómo lo aplicamos para que haga todo de una buena vez?\n",
    "#### ¿Se acuerdan del \"Ciclo FOR\"?"
   ]
  },
  {
   "cell_type": "code",
   "execution_count": null,
   "metadata": {},
   "outputs": [],
   "source": [
    "print(files_xlsx[0])\n",
    "print(pd.read_excel(files_xlsx[0], index_col='ID').head())\n",
    "print(' ')\n",
    "print(files_xlsx[1])\n",
    "print(pd.read_excel(files_xlsx[1], index_col='ID').head())\n",
    "print(' ')\n",
    "print(files_xlsx[2])\n",
    "print(pd.read_excel(files_xlsx[2], index_col='ID').head())"
   ]
  },
  {
   "cell_type": "code",
   "execution_count": null,
   "metadata": {},
   "outputs": [],
   "source": [
    "for base in files_xlsx:\n",
    "    print(base)"
   ]
  },
  {
   "cell_type": "code",
   "execution_count": null,
   "metadata": {},
   "outputs": [],
   "source": [
    "for mi_base in tqdm(files_xlsx):\n",
    "    print('Se arreglará el archivo {} como usted lo pidió'.format(mi_base))\n",
    "    xlsx = pd.read_excel(mi_base, index_col='ID')\n",
    "    objetos = []\n",
    "    for columna in xlsx.columns:\n",
    "        for tipo in xlsx[columna].unique():\n",
    "            if type(tipo) == str:\n",
    "                objetos.append(tipo)\n",
    "\n",
    "    lista1 = list(set(objetos))\n",
    "    lista2 = np.empty(len(lista1))\n",
    "    lista2[:] = np.nan\n",
    "    objetos = dict(zip(lista1, lista2))\n",
    "    time.sleep(0.01)"
   ]
  },
  {
   "cell_type": "code",
   "execution_count": null,
   "metadata": {},
   "outputs": [],
   "source": [
    "# ¿Son todos los objetos de todas las bases?\n",
    "objetos"
   ]
  },
  {
   "cell_type": "code",
   "execution_count": null,
   "metadata": {},
   "outputs": [],
   "source": [
    "# ¿Porqué está dando solo el archivo \"Ejemplo3.xlsx?\"\n",
    "# ¿Y los demás?\n",
    "xlsx"
   ]
  },
  {
   "cell_type": "code",
   "execution_count": null,
   "metadata": {},
   "outputs": [],
   "source": [
    "xlsx.replace(objetos)"
   ]
  },
  {
   "cell_type": "markdown",
   "metadata": {},
   "source": [
    "## Vamonos despacito"
   ]
  },
  {
   "cell_type": "code",
   "execution_count": null,
   "metadata": {},
   "outputs": [],
   "source": [
    "## Este script solo es para obtener los objetos\n",
    "\n",
    "objetos = [] # Para los objetos que no nos sirve\n",
    "\n",
    "for mi_base in tqdm(files_xlsx):\n",
    "    print('Se arreglará el archivo {} como usted lo pidió'.format(mi_base))\n",
    "    xlsx = pd.read_excel(mi_base, index_col='ID')\n",
    "    for columna in xlsx.columns:\n",
    "        for tipo in xlsx[columna].unique():\n",
    "            if type(tipo) == str:\n",
    "                objetos.append(tipo)\n",
    "    time.sleep(0.01)"
   ]
  },
  {
   "cell_type": "code",
   "execution_count": null,
   "metadata": {},
   "outputs": [],
   "source": [
    "# Aquí hacemos nuestro diccionario de objetos a quitar\n",
    "lista1 = list(set(objetos))\n",
    "lista2 = np.empty(len(lista1))\n",
    "lista2[:] = np.nan\n",
    "objetos = dict(zip(lista1, lista2))"
   ]
  },
  {
   "cell_type": "code",
   "execution_count": null,
   "metadata": {},
   "outputs": [],
   "source": [
    "objetos"
   ]
  },
  {
   "cell_type": "code",
   "execution_count": null,
   "metadata": {},
   "outputs": [],
   "source": [
    "import pandas as pd\n",
    "import numpy as np\n",
    "from glob import glob as gg"
   ]
  },
  {
   "cell_type": "code",
   "execution_count": null,
   "metadata": {},
   "outputs": [],
   "source": [
    "files_xlsx = gg('*.xlsx')\n",
    "files_xlsx"
   ]
  },
  {
   "cell_type": "code",
   "execution_count": null,
   "metadata": {},
   "outputs": [],
   "source": [
    "## Concatenando bases\n",
    "x1 = pd.read_excel(files_xlsx[0], index_col='ID')\n",
    "print(x1.axes)\n",
    "print(x1.shape)\n",
    "print(' ')\n",
    "x2 = pd.read_excel(files_xlsx[1], index_col='ID')\n",
    "print(x2.axes)\n",
    "print(x2.shape)\n",
    "print(' ')\n",
    "x3 = pd.read_excel(files_xlsx[2], index_col='ID')\n",
    "print(x3.axes)\n",
    "print(x3.shape)"
   ]
  },
  {
   "cell_type": "code",
   "execution_count": null,
   "metadata": {},
   "outputs": [],
   "source": [
    "xlsx = pd.concat([x1, x2, x3])\n",
    "xlsx\n",
    "## ¿Qué pasó aquí?"
   ]
  },
  {
   "cell_type": "code",
   "execution_count": null,
   "metadata": {},
   "outputs": [],
   "source": [
    "xlsx = pd.concat([x1, x2, x3], axis=1)\n",
    "xlsx\n",
    "## ¿Por qué se tiene que colocar el argumento de \"axis=1\"?"
   ]
  },
  {
   "cell_type": "code",
   "execution_count": null,
   "metadata": {},
   "outputs": [],
   "source": [
    "xlsx.columns"
   ]
  },
  {
   "cell_type": "code",
   "execution_count": null,
   "metadata": {},
   "outputs": [],
   "source": [
    "xlsx.info()"
   ]
  },
  {
   "cell_type": "code",
   "execution_count": null,
   "metadata": {},
   "outputs": [],
   "source": [
    "objetos = [] # Para los objetos que no nos sirve\n",
    "\n",
    "for columna in xlsx.columns:\n",
    "    for tipo in xlsx[columna].unique():\n",
    "        if type(tipo) == str:\n",
    "            objetos.append(tipo)\n",
    "time.sleep(0.01)\n",
    "# Aquí hacemos nuestro diccionario de objetos a quitar\n",
    "lista1 = list(set(objetos))\n",
    "lista2 = np.empty(len(lista1))\n",
    "lista2[:] = np.nan\n",
    "objetos = dict(zip(lista1, lista2))"
   ]
  },
  {
   "cell_type": "code",
   "execution_count": null,
   "metadata": {},
   "outputs": [],
   "source": [
    "## Reemplazamos los objetos\n",
    "xlsx = xlsx.replace(objetos)\n",
    "xlsx"
   ]
  },
  {
   "cell_type": "code",
   "execution_count": null,
   "metadata": {},
   "outputs": [],
   "source": [
    "xlsx.info()"
   ]
  },
  {
   "cell_type": "code",
   "execution_count": null,
   "metadata": {},
   "outputs": [],
   "source": [
    "## Queremos ordenar las variables\n",
    "xlsx = xlsx.sort_index(axis=1)\n",
    "xlsx.axes\n",
    "#¿Por qué las columnas están de manera diferente?"
   ]
  },
  {
   "cell_type": "code",
   "execution_count": null,
   "metadata": {},
   "outputs": [],
   "source": [
    "xlsx.describe()"
   ]
  },
  {
   "cell_type": "code",
   "execution_count": null,
   "metadata": {},
   "outputs": [],
   "source": [
    "# Ver por separado los descriptivos\n",
    "conteo = xlsx.count()\n",
    "print(conteo)"
   ]
  },
  {
   "cell_type": "code",
   "execution_count": null,
   "metadata": {},
   "outputs": [],
   "source": [
    "tiene_nans = xlsx.isna()\n",
    "print(tiene_nans)"
   ]
  },
  {
   "cell_type": "code",
   "execution_count": null,
   "metadata": {},
   "outputs": [],
   "source": [
    "cuantos_nan = xlsx.isna().sum()\n",
    "print(cuantos_nan)"
   ]
  },
  {
   "cell_type": "code",
   "execution_count": null,
   "metadata": {},
   "outputs": [],
   "source": [
    "conteo + cuantos_nan"
   ]
  },
  {
   "cell_type": "code",
   "execution_count": null,
   "metadata": {},
   "outputs": [],
   "source": [
    "xlsx.mean(axis=1)"
   ]
  },
  {
   "cell_type": "code",
   "execution_count": null,
   "metadata": {},
   "outputs": [],
   "source": [
    "xlsx.median(axis=1)"
   ]
  },
  {
   "cell_type": "code",
   "execution_count": null,
   "metadata": {},
   "outputs": [],
   "source": [
    "xlsx.mode()"
   ]
  },
  {
   "cell_type": "code",
   "execution_count": null,
   "metadata": {},
   "outputs": [],
   "source": [
    "xlsx.iloc[:, 0].mean()"
   ]
  },
  {
   "cell_type": "code",
   "execution_count": null,
   "metadata": {},
   "outputs": [],
   "source": [
    "xlsx.describe()"
   ]
  },
  {
   "cell_type": "code",
   "execution_count": null,
   "metadata": {},
   "outputs": [],
   "source": [
    "xlsx.quantile(.99)"
   ]
  },
  {
   "cell_type": "code",
   "execution_count": null,
   "metadata": {},
   "outputs": [],
   "source": [
    "xlsx.sem()"
   ]
  },
  {
   "cell_type": "code",
   "execution_count": null,
   "metadata": {},
   "outputs": [],
   "source": [
    "xlsx.corr()"
   ]
  },
  {
   "cell_type": "code",
   "execution_count": null,
   "metadata": {},
   "outputs": [],
   "source": [
    "# Guardar los descriptivos en EXCEL\n",
    "xlsx.describe().to_excel('Descrip_Ejemplo.xlsx')"
   ]
  },
  {
   "cell_type": "code",
   "execution_count": null,
   "metadata": {},
   "outputs": [],
   "source": [
    "descriptivos_pa_mi = xlsx.describe()\n",
    "descriptivos_pa_mi.to_excel('Descrip_pa_mi.xlsx', sheet_name='Descrip')"
   ]
  },
  {
   "cell_type": "code",
   "execution_count": null,
   "metadata": {},
   "outputs": [],
   "source": [
    "# Queremos guardar muchas cosas\n",
    "## Base Completa\n",
    "## Media\n",
    "## Mediana\n",
    "## Correlación\n",
    "## Etc"
   ]
  },
  {
   "cell_type": "code",
   "execution_count": null,
   "metadata": {},
   "outputs": [],
   "source": [
    "with pd.ExcelWriter('Nuevo_descrip_flora.xlsx') as writer:\n",
    "    xlsx.to_excel(writer, 'Base Completa')\n",
    "    xlsx.describe().to_excel(writer, 'Descriptivos')\n",
    "    xlsx.mean().to_excel(writer, 'Media')"
   ]
  },
  {
   "cell_type": "code",
   "execution_count": null,
   "metadata": {},
   "outputs": [],
   "source": [
    "with pd.ExcelWriter('Descrip_Otro_Ejemplo.xlsx') as writer:\n",
    "    xlsx.to_excel(writer, 'Base Completa')\n",
    "    xlsx.mean().to_excel(writer, 'Media')\n",
    "    xlsx.median().to_excel(writer, 'Mediana')\n",
    "    xlsx.corr().to_excel(writer, 'Correlación')"
   ]
  },
  {
   "cell_type": "code",
   "execution_count": null,
   "metadata": {},
   "outputs": [],
   "source": [
    "with pd.ExcelWriter('Bases todas.xlsx') as todas:\n",
    "    xlsx.to_excel(todas, 'Basesota')"
   ]
  },
  {
   "cell_type": "code",
   "execution_count": null,
   "metadata": {},
   "outputs": [],
   "source": [
    "xlsx.plot()"
   ]
  },
  {
   "cell_type": "code",
   "execution_count": null,
   "metadata": {},
   "outputs": [],
   "source": [
    "# ¿Cómo ploteamos todo?\n",
    "xlsx.mean().plot()"
   ]
  },
  {
   "cell_type": "code",
   "execution_count": null,
   "metadata": {},
   "outputs": [],
   "source": [
    "# Aumento del tamaño\n",
    "xlsx.mean().plot(figsize=(15, 8))"
   ]
  },
  {
   "cell_type": "code",
   "execution_count": null,
   "metadata": {},
   "outputs": [],
   "source": [
    "# Como arreglamos bonito esta gráfica\n",
    "import matplotlib.pyplot as plt"
   ]
  },
  {
   "cell_type": "code",
   "execution_count": null,
   "metadata": {},
   "outputs": [],
   "source": [
    "list(range(len(xlsx.columns)))\n",
    "print(xlsx.columns)"
   ]
  },
  {
   "cell_type": "code",
   "execution_count": null,
   "metadata": {},
   "outputs": [],
   "source": [
    "xlsx.mean().plot(figsize=(15, 8))\n",
    "plt.xticks(range(len(xlsx.columns)), list(xlsx.columns)) #checar plt.xticks"
   ]
  },
  {
   "cell_type": "code",
   "execution_count": null,
   "metadata": {},
   "outputs": [],
   "source": [
    "xlsx.mean().plot(figsize=(15, 8))\n",
    "plt.xticks(range(len(xlsx.columns)), list(xlsx.columns), rotation='vertical')"
   ]
  },
  {
   "cell_type": "code",
   "execution_count": null,
   "metadata": {},
   "outputs": [],
   "source": [
    "xlsx.mean().plot(figsize=(15, 8))\n",
    "plt.xticks(range(len(xlsx.columns)), list(xlsx.columns), rotation=80)"
   ]
  },
  {
   "cell_type": "code",
   "execution_count": null,
   "metadata": {},
   "outputs": [],
   "source": [
    "# Agregar etiqueta en los ejes\n",
    "xlsx.mean().plot(figsize=(15, 8))\n",
    "plt.xticks(range(len(xlsx.columns)), list(xlsx.columns), rotation='vertical')\n",
    "plt.xlabel('Columnas')\n",
    "plt.ylabel('Datos de las columnas')"
   ]
  },
  {
   "cell_type": "code",
   "execution_count": null,
   "metadata": {},
   "outputs": [],
   "source": [
    "xlsx.mean().plot(figsize=(15, 8))\n",
    "plt.xticks(range(len(xlsx.columns)), list(xlsx.columns), rotation='vertical')\n",
    "plt.xlabel('Columnas', fontsize=20)\n",
    "plt.ylabel('Datos de las columnas', fontsize=20)"
   ]
  },
  {
   "cell_type": "code",
   "execution_count": null,
   "metadata": {},
   "outputs": [],
   "source": [
    "# Aumento del tamaño de las ticks\n",
    "xlsx.mean().plot(figsize=(15, 8))\n",
    "plt.xticks(range(len(xlsx.columns)), list(xlsx.columns), rotation='vertical', fontsize=15)\n",
    "plt.yticks(fontsize=15)\n",
    "plt.xlabel('Columnas', fontsize=20)\n",
    "plt.ylabel('Datos de las columnas', fontsize=20)\n"
   ]
  },
  {
   "cell_type": "code",
   "execution_count": null,
   "metadata": {},
   "outputs": [],
   "source": [
    "list(range(int(xlsx.mean().min()) - 100, int(xlsx.mean().max()) + 100, 100))"
   ]
  },
  {
   "cell_type": "code",
   "execution_count": null,
   "metadata": {},
   "outputs": [],
   "source": [
    "xlsx.mean().min() - 100"
   ]
  },
  {
   "cell_type": "code",
   "execution_count": null,
   "metadata": {},
   "outputs": [],
   "source": [
    "# Aumento del tamaño de las ticks\n",
    "xlsx.mean().plot(figsize=(15, 8), color='r')\n",
    "plt.xticks(range(len(xlsx.columns)), list(xlsx.columns), rotation='vertical', fontsize=15)\n",
    "plt.xlabel('Columnas', fontsize=20)\n",
    "plt.ylabel('Datos de las columnas', fontsize=20)\n",
    "plt.yticks(range(int(xlsx.mean().min()) - 100, int(xlsx.mean().max()) + 100, 100), fontsize=15)\n",
    "plt.grid()"
   ]
  },
  {
   "cell_type": "code",
   "execution_count": null,
   "metadata": {},
   "outputs": [],
   "source": [
    "# Guardar gráficas\n",
    "xlsx.mean().plot(figsize=(15, 8), color='r')\n",
    "plt.xticks(range(len(xlsx.columns)), list(xlsx.columns), rotation='vertical', fontsize=15)\n",
    "plt.xlabel('Columnas', fontsize=20)\n",
    "plt.ylabel('Datos de las columnas', fontsize=20)\n",
    "plt.yticks(range(int(xlsx.mean().min()) - 100, int(xlsx.mean().max()) + 100, 100), fontsize=15)\n",
    "plt.grid()\n",
    "plt.savefig('Gráfica de ejemplo.png', bbox_inches='tight', dpi=1000)\n",
    "plt.show()"
   ]
  },
  {
   "cell_type": "code",
   "execution_count": null,
   "metadata": {},
   "outputs": [],
   "source": [
    "# Las columnas no tienen orden ¿Cómo se ordenan?\n",
    "## Uso de iloc\n",
    "for n, c in enumerate(xlsx.columns):\n",
    "    print(n, c)"
   ]
  },
  {
   "cell_type": "code",
   "execution_count": null,
   "metadata": {},
   "outputs": [],
   "source": [
    "columnas_ordenadas = sorted(xlsx.columns, key=lambda x:len(x))\n",
    "\n",
    "for n, c in enumerate(columnas_ordenadas):\n",
    "    print(n, c)"
   ]
  },
  {
   "cell_type": "code",
   "execution_count": null,
   "metadata": {},
   "outputs": [],
   "source": [
    "xlsx_iloc1 = xlsx.iloc[:, [0, 11, 22, 24, 25, 26, 27, 28, 29, 1, 2, 3, 4, 5, 6, 7, 8, 9, 10, 12, 13, 14, 15, 16, 17, 18, 19, 20, 21, 23]]\n",
    "xlsx_iloc1#.columns"
   ]
  },
  {
   "cell_type": "code",
   "execution_count": null,
   "metadata": {},
   "outputs": [],
   "source": [
    "xlsx_iloc1"
   ]
  },
  {
   "cell_type": "code",
   "execution_count": null,
   "metadata": {},
   "outputs": [],
   "source": [
    "xlsx_iloc1.corr()"
   ]
  },
  {
   "cell_type": "code",
   "execution_count": null,
   "metadata": {},
   "outputs": [],
   "source": [
    "# ¿Cómo graficamos esta correlación?\n",
    "import seaborn as sns; sns.set()"
   ]
  },
  {
   "cell_type": "code",
   "execution_count": null,
   "metadata": {},
   "outputs": [],
   "source": [
    "xlsx_iloc1.head()"
   ]
  },
  {
   "cell_type": "code",
   "execution_count": null,
   "metadata": {},
   "outputs": [],
   "source": [
    "plt.figure(figsize=(15, 8))\n",
    "ax = sns.heatmap(xlsx_iloc1)"
   ]
  },
  {
   "cell_type": "code",
   "execution_count": null,
   "metadata": {},
   "outputs": [],
   "source": [
    "plt.figure(figsize=(15, 8))\n",
    "ax = sns.heatmap(xlsx_iloc1.corr(), vmin=0, vmax=1)"
   ]
  },
  {
   "cell_type": "code",
   "execution_count": null,
   "metadata": {},
   "outputs": [],
   "source": [
    "plt.figure(figsize=(15, 8))\n",
    "ax = sns.heatmap(xlsx_iloc1, center=0)"
   ]
  },
  {
   "cell_type": "code",
   "execution_count": null,
   "metadata": {},
   "outputs": [],
   "source": [
    "plt.figure(figsize=(20, 18))\n",
    "ax = sns.heatmap(xlsx_iloc1.corr(), annot=True, fmt='f')"
   ]
  },
  {
   "cell_type": "code",
   "execution_count": null,
   "metadata": {},
   "outputs": [],
   "source": [
    "plt.figure(figsize=(20, 18))\n",
    "ax = sns.heatmap(xlsx_iloc1.round(1), annot=True, fmt='f')"
   ]
  },
  {
   "cell_type": "code",
   "execution_count": null,
   "metadata": {},
   "outputs": [],
   "source": [
    "plt.figure(figsize=(15, 8))\n",
    "ax = sns.heatmap(xlsx_iloc1, linewidths=.5)"
   ]
  },
  {
   "cell_type": "code",
   "execution_count": null,
   "metadata": {},
   "outputs": [],
   "source": [
    "plt.figure(figsize=(15, 8))\n",
    "ax = sns.heatmap(xlsx_iloc1, vmin=0, vmax=1, linewidths=.5)"
   ]
  },
  {
   "cell_type": "code",
   "execution_count": null,
   "metadata": {},
   "outputs": [],
   "source": [
    "plt.figure(figsize=(15, 8))\n",
    "ax = sns.heatmap(xlsx_iloc1, vmin=0, vmax=1)"
   ]
  },
  {
   "cell_type": "code",
   "execution_count": null,
   "metadata": {},
   "outputs": [],
   "source": [
    "# ¿Cómo se usa el loc?"
   ]
  },
  {
   "cell_type": "code",
   "execution_count": null,
   "metadata": {},
   "outputs": [],
   "source": [
    "xlsx.head()"
   ]
  },
  {
   "cell_type": "code",
   "execution_count": null,
   "metadata": {},
   "outputs": [],
   "source": [
    "xlsx.columns"
   ]
  },
  {
   "cell_type": "code",
   "execution_count": null,
   "metadata": {},
   "outputs": [],
   "source": [
    "columnas_ordenadas"
   ]
  },
  {
   "cell_type": "code",
   "execution_count": null,
   "metadata": {},
   "outputs": [],
   "source": [
    "xlsx_loc1 = xlsx.loc[:, columnas_ordenadas]\n",
    "xlsx_loc1.head()"
   ]
  },
  {
   "cell_type": "code",
   "execution_count": null,
   "metadata": {},
   "outputs": [],
   "source": [
    "xlsx_loc1.mean().plot(figsize=(15, 8))"
   ]
  },
  {
   "cell_type": "code",
   "execution_count": null,
   "metadata": {},
   "outputs": [],
   "source": [
    "xlsx_loc1.mean().plot(figsize=(15, 8))\n",
    "plt.xticks(range(len(xlsx_loc1.columns)), list(xlsx_loc1.columns), rotation='vertical', fontsize=15)\n",
    "plt.xlabel('Columnas', fontsize=20)\n",
    "plt.ylabel('Datos de las columnas', fontsize=20)\n",
    "plt.yticks(range(-2000, 2001, 500), fontsize=15)"
   ]
  },
  {
   "cell_type": "markdown",
   "metadata": {},
   "source": [
    "## Hagamos el ejercicio juntos"
   ]
  },
  {
   "cell_type": "code",
   "execution_count": null,
   "metadata": {},
   "outputs": [],
   "source": [
    "# ¿Qué tengo que escribir?\n",
    "files_xlsx = sorted(gg('*.xlsx'))\n",
    "files_xlsx = files_xlsx[4:7]\n",
    "files_xlsx"
   ]
  },
  {
   "cell_type": "code",
   "execution_count": null,
   "metadata": {},
   "outputs": [],
   "source": [
    "file_xslx = pd.concat([pd.read_excel(files_xlsx[0], index_col='ID'), pd.read_excel(files_xlsx[1], index_col='ID'), pd.read_excel(files_xlsx[2], index_col='ID')], axis=1)\n",
    "file_xslx.columns"
   ]
  },
  {
   "cell_type": "code",
   "execution_count": null,
   "metadata": {},
   "outputs": [],
   "source": [
    "columnas_ordenadas = sorted(file_xslx.columns, key=lambda x:len(x))\n",
    "file_xslx = file_xslx.loc[:, columnas_ordenadas]"
   ]
  },
  {
   "cell_type": "code",
   "execution_count": null,
   "metadata": {},
   "outputs": [],
   "source": [
    "for columna in file_xslx.columns:\n",
    "    file_xslx[columna] = pd.to_numeric(file_xslx[columna], errors='coerce')"
   ]
  },
  {
   "cell_type": "code",
   "execution_count": null,
   "metadata": {},
   "outputs": [],
   "source": [
    "file_xslx#.describe()"
   ]
  },
  {
   "cell_type": "markdown",
   "metadata": {},
   "source": [
    "## 2do Dataset. Datos de la Comunidad."
   ]
  },
  {
   "cell_type": "code",
   "execution_count": null,
   "metadata": {},
   "outputs": [],
   "source": [
    "from glob import glob as gg\n",
    "import numpy as np\n",
    "import matplotlib.pyplot as plt\n",
    "import seaborn as sns\n",
    "import pandas as pd\n",
    "import pandas.plotting as pdplt"
   ]
  },
  {
   "cell_type": "code",
   "execution_count": null,
   "metadata": {},
   "outputs": [],
   "source": [
    "files_csv = sorted(gg('*.csv'))\n",
    "files_csv"
   ]
  },
  {
   "cell_type": "code",
   "execution_count": null,
   "metadata": {},
   "outputs": [],
   "source": [
    "iris = pd.read_csv(files_csv[0])\n",
    "iris"
   ]
  },
  {
   "cell_type": "code",
   "execution_count": null,
   "metadata": {},
   "outputs": [],
   "source": [
    "iris.columns = iris.columns.str.replace('.', '_')\n",
    "iris"
   ]
  },
  {
   "cell_type": "code",
   "execution_count": null,
   "metadata": {},
   "outputs": [],
   "source": [
    "iris.info()"
   ]
  },
  {
   "cell_type": "code",
   "execution_count": null,
   "metadata": {},
   "outputs": [],
   "source": [
    "iris.axes"
   ]
  },
  {
   "cell_type": "code",
   "execution_count": null,
   "metadata": {},
   "outputs": [],
   "source": [
    "iris.head()"
   ]
  },
  {
   "cell_type": "code",
   "execution_count": null,
   "metadata": {},
   "outputs": [],
   "source": [
    "iris.tail()"
   ]
  },
  {
   "cell_type": "code",
   "execution_count": null,
   "metadata": {},
   "outputs": [],
   "source": [
    "# ¿Qué es un Series? y ¿Qué es un DataFrame?\n",
    "# Uso del método iloc y loc\n",
    "\n",
    "\n",
    "### Método iloc\n",
    "\n",
    "## SERIES\n",
    "ejemplo = iris.iloc[0] # solo valores de la fila\n",
    "#ejemplo = iris.iloc[0, 0] # solo valores de la fila y la columna\n",
    "#ejemplo = iris.iloc[:, 0] # solo valores de toda la fila y 1 columna\n",
    "\n",
    "## DATAFRAME\n",
    "#ejemplo = iris.iloc[:, 0:1] # No es lo mismo que [:, 0]\n",
    "#ejemplo = iris.iloc[:20, 0:2]"
   ]
  },
  {
   "cell_type": "code",
   "execution_count": null,
   "metadata": {},
   "outputs": [],
   "source": [
    "print(iris.head())\n",
    "print(' ')\n",
    "print(type(ejemplo))\n",
    "ejemplo"
   ]
  },
  {
   "cell_type": "code",
   "execution_count": null,
   "metadata": {},
   "outputs": [],
   "source": [
    "### Método loc\n",
    "\n",
    "## SERIES\n",
    "#ejemplo = iris.loc[0] # solo valores de la fila\n",
    "## ¿Por qué si tiene número?\n",
    "\n",
    "ejemplo = iris.loc[0, 'sepal_length'] # solo valores de la fila y la columna\n",
    "#ejemplo = iris.iloc[:, 'sepal_width'] # solo valores de toda la fila y 1 columna\n",
    "\n",
    "## DATAFRAME\n",
    "#ejemplo = iris.iloc[:, 'sepal_length':'sepal_width'] # No es lo mismo que [:, 'sepal_length']\n",
    "#ejemplo = iris.iloc[:20, 'sepal_length':'petal_length']"
   ]
  },
  {
   "cell_type": "code",
   "execution_count": null,
   "metadata": {},
   "outputs": [],
   "source": [
    "print(iris.axes)\n",
    "print(' ')\n",
    "print(iris.head())\n",
    "print(' ')\n",
    "print(type(ejemplo))\n",
    "print(' ')\n",
    "ejemplo"
   ]
  },
  {
   "cell_type": "code",
   "execution_count": null,
   "metadata": {},
   "outputs": [],
   "source": [
    "## PARA QUE QUEDE MÁS CLARO\n",
    "indice_uno = ('Uno ' * round((len(iris.index)/3))).split()\n",
    "indice_dos = ('Dos ' * round((len(iris.index)/3))).split()\n",
    "indice_tres = ('Tres ' * round((len(iris.index)/3))).split()"
   ]
  },
  {
   "cell_type": "code",
   "execution_count": null,
   "metadata": {},
   "outputs": [],
   "source": [
    "indice_nuevo = indice_uno + indice_dos + indice_tres\n",
    "print(indice_nuevo)"
   ]
  },
  {
   "cell_type": "code",
   "execution_count": null,
   "metadata": {},
   "outputs": [],
   "source": [
    "iris.index = indice_nuevo\n",
    "iris"
   ]
  },
  {
   "cell_type": "code",
   "execution_count": null,
   "metadata": {},
   "outputs": [],
   "source": [
    "### Método loc\n",
    "\n",
    "## SERIES\n",
    "ejemplo = iris.loc['Uno'] # solo valores de la fila\n",
    "\n",
    "#ejemplo = iris.loc['Dos', 'sepal_length'] # solo valores de la fila y la columna\n",
    "#ejemplo = iris.loc[:, 'sepal_width'] # solo valores de toda la fila y 1 columna\n",
    "\n",
    "## DATAFRAME\n",
    "#ejemplo = iris.loc['Uno':'Dos', 'sepal_length':'sepal_width'] # No es lo mismo que [:, 'sepal_length']\n",
    "#ejemplo = iris.loc[:20, 'sepal_length':'petal_length'] # ¿Por qué no sale?"
   ]
  },
  {
   "cell_type": "code",
   "execution_count": null,
   "metadata": {},
   "outputs": [],
   "source": [
    "print(iris.axes)\n",
    "print(' ')\n",
    "print(type(ejemplo))\n",
    "print(' ')\n",
    "ejemplo"
   ]
  },
  {
   "cell_type": "code",
   "execution_count": null,
   "metadata": {},
   "outputs": [],
   "source": [
    "## ¿Cómo saber cuantos tipos de \"variety\" hay?\n",
    "variedad = iris.variety.unique()\n",
    "variedad"
   ]
  },
  {
   "cell_type": "code",
   "execution_count": null,
   "metadata": {},
   "outputs": [],
   "source": [
    "## Flitrar las bases\n",
    "# Por la columna \"variety\"\n",
    "\n",
    "setosa = iris.loc[iris['variety'] == 'Setosa']\n",
    "versicolor = iris.loc[iris['variety'] == 'Versicolor']\n",
    "virginica = iris.loc[iris['variety'] == 'Virginica']"
   ]
  },
  {
   "cell_type": "code",
   "execution_count": null,
   "metadata": {},
   "outputs": [],
   "source": [
    "setosa"
   ]
  },
  {
   "cell_type": "code",
   "execution_count": null,
   "metadata": {},
   "outputs": [],
   "source": [
    "plt.figure(figsize=(20, 16), dpi=80)\n",
    "sns.FacetGrid(iris, hue=\"variety\", size=3).map(sns.distplot,\"petal_length\").add_legend()\n",
    "sns.FacetGrid(iris, hue=\"variety\", size=3).map(sns.distplot,\"petal_width\").add_legend()\n",
    "sns.FacetGrid(iris, hue=\"variety\", size=3).map(sns.distplot,\"sepal_length\").add_legend()\n",
    "sns.FacetGrid(iris, hue=\"variety\", size=3).map(sns.distplot,\"sepal_width\").add_legend()\n",
    "plt.show()"
   ]
  },
  {
   "cell_type": "code",
   "execution_count": null,
   "metadata": {},
   "outputs": [],
   "source": [
    "plt.figure(figsize=(10, 8))\n",
    "sns.boxplot(x=\"variety\", y=\"petal_length\", data=iris)\n",
    "plt.show()"
   ]
  },
  {
   "cell_type": "code",
   "execution_count": null,
   "metadata": {},
   "outputs": [],
   "source": [
    "plt.figure(figsize=(10, 8))\n",
    "sns.violinplot(x=\"variety\",y=\"petal_length\",data=iris)\n",
    "plt.show()"
   ]
  },
  {
   "cell_type": "code",
   "execution_count": null,
   "metadata": {},
   "outputs": [],
   "source": [
    "plt.figure(figsize=(15, 13))\n",
    "sns.set_style(\"whitegrid\")\n",
    "sns.pairplot(iris, hue=\"variety\", size=3);\n",
    "plt.show()"
   ]
  },
  {
   "cell_type": "code",
   "execution_count": null,
   "metadata": {},
   "outputs": [],
   "source": [
    "## Pandas tiene su propia libería para plotear\n",
    "iris.plot(kind='box', subplots=True, layout=(2,2), sharex=False, sharey=False, figsize=(10, 8))\n",
    "plt.show()"
   ]
  },
  {
   "cell_type": "code",
   "execution_count": null,
   "metadata": {},
   "outputs": [],
   "source": [
    "iris.plot.box(subplots=True, layout=(2,2), sharex=False, sharey=False, figsize=(10, 8))\n",
    "plt.show()"
   ]
  },
  {
   "cell_type": "code",
   "execution_count": null,
   "metadata": {},
   "outputs": [],
   "source": [
    "iris.hist(figsize=(10, 8))"
   ]
  },
  {
   "cell_type": "code",
   "execution_count": null,
   "metadata": {},
   "outputs": [],
   "source": [
    "pdplt.scatter_matrix(iris[iris.columns[0:4]], figsize=(15, 12))\n",
    "plt.show()"
   ]
  },
  {
   "cell_type": "code",
   "execution_count": null,
   "metadata": {},
   "outputs": [],
   "source": [
    "# Agrupandolos\n",
    "por_tipo_media = iris.groupby('variety').mean()\n",
    "print(por_tipo_media)"
   ]
  },
  {
   "cell_type": "code",
   "execution_count": null,
   "metadata": {},
   "outputs": [],
   "source": [
    "por_tipo_corr = iris.groupby('variety').corr() # method{'pearson', 'kendall', 'spearman'}\n",
    "print(por_tipo_corr)"
   ]
  },
  {
   "cell_type": "code",
   "execution_count": null,
   "metadata": {},
   "outputs": [],
   "source": [
    "iris.groupby('variety').plot(figsize=(10, 8))"
   ]
  },
  {
   "cell_type": "code",
   "execution_count": null,
   "metadata": {},
   "outputs": [],
   "source": [
    "# ¿Cómo graficamos esta correlación?\n",
    "plt.figure(figsize=(10, 8))\n",
    "sns.heatmap(iris.iloc[:, :4])#, vmin=0, vmax=1)"
   ]
  },
  {
   "cell_type": "code",
   "execution_count": null,
   "metadata": {},
   "outputs": [],
   "source": [
    "plt.figure(figsize=(10, 8))\n",
    "sns.heatmap(setosa.iloc[:, :4])#, vmin=0, vmax=1)"
   ]
  },
  {
   "cell_type": "code",
   "execution_count": null,
   "metadata": {},
   "outputs": [],
   "source": [
    "plt.figure(figsize=(10, 8))\n",
    "sns.heatmap(setosa.iloc[:, :4])#, vmin=0, vmax=1)#, annot=True)"
   ]
  },
  {
   "cell_type": "code",
   "execution_count": null,
   "metadata": {},
   "outputs": [],
   "source": [
    "iris"
   ]
  },
  {
   "cell_type": "markdown",
   "metadata": {},
   "source": [
    "## Estadística para el dataset de IRIS"
   ]
  },
  {
   "cell_type": "code",
   "execution_count": 1,
   "metadata": {},
   "outputs": [],
   "source": [
    "from glob import glob as gg\n",
    "import numpy as np\n",
    "import matplotlib.pyplot as plt\n",
    "import seaborn as sns\n",
    "import pandas as pd\n",
    "import pandas.plotting as pdplt\n",
    "import scipy.stats as spss\n",
    "from statsmodels.formula.api import ols"
   ]
  },
  {
   "cell_type": "code",
   "execution_count": 2,
   "metadata": {},
   "outputs": [],
   "source": [
    "find_files = sorted(gg('*.csv'))"
   ]
  },
  {
   "cell_type": "code",
   "execution_count": 3,
   "metadata": {},
   "outputs": [
    {
     "data": {
      "text/html": [
       "<div>\n",
       "<style scoped>\n",
       "    .dataframe tbody tr th:only-of-type {\n",
       "        vertical-align: middle;\n",
       "    }\n",
       "\n",
       "    .dataframe tbody tr th {\n",
       "        vertical-align: top;\n",
       "    }\n",
       "\n",
       "    .dataframe thead th {\n",
       "        text-align: right;\n",
       "    }\n",
       "</style>\n",
       "<table border=\"1\" class=\"dataframe\">\n",
       "  <thead>\n",
       "    <tr style=\"text-align: right;\">\n",
       "      <th></th>\n",
       "      <th>sepal_length</th>\n",
       "      <th>sepal_width</th>\n",
       "      <th>petal_length</th>\n",
       "      <th>petal_width</th>\n",
       "      <th>variety</th>\n",
       "    </tr>\n",
       "  </thead>\n",
       "  <tbody>\n",
       "    <tr>\n",
       "      <th>0</th>\n",
       "      <td>5.1</td>\n",
       "      <td>3.5</td>\n",
       "      <td>1.4</td>\n",
       "      <td>0.2</td>\n",
       "      <td>Setosa</td>\n",
       "    </tr>\n",
       "    <tr>\n",
       "      <th>1</th>\n",
       "      <td>4.9</td>\n",
       "      <td>3.0</td>\n",
       "      <td>1.4</td>\n",
       "      <td>0.2</td>\n",
       "      <td>Setosa</td>\n",
       "    </tr>\n",
       "    <tr>\n",
       "      <th>2</th>\n",
       "      <td>4.7</td>\n",
       "      <td>3.2</td>\n",
       "      <td>1.3</td>\n",
       "      <td>0.2</td>\n",
       "      <td>Setosa</td>\n",
       "    </tr>\n",
       "    <tr>\n",
       "      <th>3</th>\n",
       "      <td>4.6</td>\n",
       "      <td>3.1</td>\n",
       "      <td>1.5</td>\n",
       "      <td>0.2</td>\n",
       "      <td>Setosa</td>\n",
       "    </tr>\n",
       "    <tr>\n",
       "      <th>4</th>\n",
       "      <td>5.0</td>\n",
       "      <td>3.6</td>\n",
       "      <td>1.4</td>\n",
       "      <td>0.2</td>\n",
       "      <td>Setosa</td>\n",
       "    </tr>\n",
       "  </tbody>\n",
       "</table>\n",
       "</div>"
      ],
      "text/plain": [
       "   sepal_length  sepal_width  petal_length  petal_width variety\n",
       "0           5.1          3.5           1.4          0.2  Setosa\n",
       "1           4.9          3.0           1.4          0.2  Setosa\n",
       "2           4.7          3.2           1.3          0.2  Setosa\n",
       "3           4.6          3.1           1.5          0.2  Setosa\n",
       "4           5.0          3.6           1.4          0.2  Setosa"
      ]
     },
     "execution_count": 3,
     "metadata": {},
     "output_type": "execute_result"
    }
   ],
   "source": [
    "# base de datos iris\n",
    "iris = pd.read_csv(find_files[0])\n",
    "iris.columns = iris.columns.str.replace('.', '_')\n",
    "iris.head()"
   ]
  },
  {
   "cell_type": "markdown",
   "metadata": {},
   "source": [
    "### Comparaciones"
   ]
  },
  {
   "cell_type": "code",
   "execution_count": 4,
   "metadata": {},
   "outputs": [
    {
     "data": {
      "text/plain": [
       "NormaltestResult(statistic=5.735584236235733, pvalue=0.05682424941067306)"
      ]
     },
     "execution_count": 4,
     "metadata": {},
     "output_type": "execute_result"
    }
   ],
   "source": [
    "# Saber si tiene distribución normal\n",
    "spss.normaltest(iris[\"sepal_length\"])"
   ]
  },
  {
   "cell_type": "code",
   "execution_count": 5,
   "metadata": {},
   "outputs": [
    {
     "name": "stdout",
     "output_type": "stream",
     "text": [
      "5.735584236235733\n",
      "0.05682424941067306\n"
     ]
    }
   ],
   "source": [
    "valor, pvalor = spss.normaltest(iris[\"sepal_length\"])\n",
    "print(valor)\n",
    "print(pvalor)"
   ]
  },
  {
   "cell_type": "code",
   "execution_count": 6,
   "metadata": {},
   "outputs": [
    {
     "name": "stdout",
     "output_type": "stream",
     "text": [
      "Index(['sepal_length', 'sepal_width', 'petal_length', 'petal_width',\n",
      "       'variety'],\n",
      "      dtype='object')\n",
      "Index(['sepal_length', 'sepal_width', 'petal_length', 'petal_width'], dtype='object')\n"
     ]
    }
   ],
   "source": [
    "print(iris.columns)\n",
    "print(iris.columns[:-1])"
   ]
  },
  {
   "cell_type": "code",
   "execution_count": 7,
   "metadata": {},
   "outputs": [
    {
     "data": {
      "text/plain": [
       "['Columna -> sepal_length, Valor estadístico = 5.735584236235733, p-value = 0.05682424941067306',\n",
       " 'Columna -> sepal_width, Valor estadístico = 3.1238322481520377, p-value = 0.2097338099298262',\n",
       " 'Columna -> petal_length, Valor estadístico = 221.68729405585384, p-value = 7.264667501338673e-49',\n",
       " 'Columna -> petal_width, Valor estadístico = 137.55596543193647, p-value = 1.3492785927137586e-30']"
      ]
     },
     "execution_count": 7,
     "metadata": {},
     "output_type": "execute_result"
    }
   ],
   "source": [
    "normalidad = []\n",
    "for col in iris.columns[:-1]:\n",
    "    valor, pvalor = spss.normaltest(iris[col])\n",
    "    normalidad.append('Columna -> {}, Valor estadístico = {}, p-value = {}'.format(col, valor, pvalor))\n",
    "normalidad"
   ]
  },
  {
   "cell_type": "code",
   "execution_count": 8,
   "metadata": {},
   "outputs": [
    {
     "data": {
      "text/plain": [
       "['Columna -> sepal_length\\nValor estadístico = 5.735584236235733\\np-value = 0.05682424941067306\\n\\n',\n",
       " 'Columna -> sepal_width\\nValor estadístico = 3.1238322481520377\\np-value = 0.2097338099298262\\n\\n',\n",
       " 'Columna -> petal_length\\nValor estadístico = 221.68729405585384\\np-value = 7.264667501338673e-49\\n\\n',\n",
       " 'Columna -> petal_width\\nValor estadístico = 137.55596543193647\\np-value = 1.3492785927137586e-30\\n\\n']"
      ]
     },
     "execution_count": 8,
     "metadata": {},
     "output_type": "execute_result"
    }
   ],
   "source": [
    "normalidad = []\n",
    "for col in iris.columns[:-1]:\n",
    "    valor, pvalor = spss.normaltest(iris[col])\n",
    "    normalidad.append('Columna -> {}\\nValor estadístico = {}\\np-value = {}\\n\\n'.format(col, valor, pvalor))\n",
    "normalidad"
   ]
  },
  {
   "cell_type": "code",
   "execution_count": 9,
   "metadata": {},
   "outputs": [
    {
     "data": {
      "text/plain": [
       "['Columna -> sepal_length, Valor estadístico = 5.735584236235733, p-value = 0.05682424941067306 -> Anormalidad en los datos.',\n",
       " 'Columna -> sepal_width, Valor estadístico = 3.1238322481520377, p-value = 0.2097338099298262 -> Anormalidad en los datos.',\n",
       " 'Columna -> petal_length, Valor estadístico = 221.68729405585384, p-value = 7.264667501338673e-49 -> Presenta normalidad en los datos.',\n",
       " 'Columna -> petal_width, Valor estadístico = 137.55596543193647, p-value = 1.3492785927137586e-30 -> Presenta normalidad en los datos.']"
      ]
     },
     "execution_count": 9,
     "metadata": {},
     "output_type": "execute_result"
    }
   ],
   "source": [
    "normalidad = []\n",
    "for col in iris.columns[:-1]:\n",
    "    valor, pvalor = spss.normaltest(iris[col])\n",
    "    if pvalor <= 0.05:\n",
    "        normalidad.append('Columna -> {}, Valor estadístico = {}, p-value = {} -> Presenta normalidad en los datos.'.format(col, valor, pvalor))\n",
    "    else:\n",
    "        normalidad.append('Columna -> {}, Valor estadístico = {}, p-value = {} -> Anormalidad en los datos.'.format(col, valor, pvalor))\n",
    "normalidad"
   ]
  },
  {
   "cell_type": "code",
   "execution_count": 11,
   "metadata": {},
   "outputs": [],
   "source": [
    "normalidad = []\n",
    "anormalidad = []\n",
    "for col in iris.columns[:-1]:\n",
    "    valor, pvalor = spss.normaltest(iris[col])\n",
    "    if pvalor <= 0.05:\n",
    "        normalidad.append('Columna -> {}, Valor estadístico = {}, p-value = {} -> Presenta normalidad en los datos.'.format(col, valor, round(pvalor, 3)))\n",
    "    else:\n",
    "        anormalidad.append('Columna -> {}, Valor estadístico = {}, p-value = {} -> Anormalidad en los datos.'.format(col, valor, round(pvalor, 3)))"
   ]
  },
  {
   "cell_type": "code",
   "execution_count": 14,
   "metadata": {},
   "outputs": [
    {
     "name": "stdout",
     "output_type": "stream",
     "text": [
      "Columna -> petal_length, Valor estadístico = 221.68729405585384, p-value = 0.0 -> Presenta normalidad en los datos.\n",
      "Columna -> petal_width, Valor estadístico = 137.55596543193647, p-value = 0.0 -> Presenta normalidad en los datos.\n",
      " \n",
      "Columna -> sepal_length, Valor estadístico = 5.735584236235733, p-value = 0.057 -> Anormalidad en los datos.\n",
      "Columna -> sepal_width, Valor estadístico = 3.1238322481520377, p-value = 0.21 -> Anormalidad en los datos.\n"
     ]
    }
   ],
   "source": [
    "for normal in normalidad:\n",
    "    print(normal)\n",
    "print(' ')\n",
    "for anormal in anormalidad:\n",
    "    print(anormal)"
   ]
  },
  {
   "cell_type": "code",
   "execution_count": null,
   "metadata": {},
   "outputs": [],
   "source": [
    "help(spss.ttest_ind)"
   ]
  },
  {
   "cell_type": "code",
   "execution_count": 15,
   "metadata": {},
   "outputs": [
    {
     "data": {
      "text/plain": [
       "Ttest_indResult(statistic=4.719421473851404, pvalue=3.643008092240217e-06)"
      ]
     },
     "execution_count": 15,
     "metadata": {},
     "output_type": "execute_result"
    }
   ],
   "source": [
    "# Suponiendo que las variables de IRIS sean teoricamente correlacionadas\n",
    "\n",
    "spss.ttest_ind(iris['petal_length'], iris['sepal_width'])"
   ]
  },
  {
   "cell_type": "code",
   "execution_count": 16,
   "metadata": {},
   "outputs": [
    {
     "name": "stdout",
     "output_type": "stream",
     "text": [
      "4.719421473851404\n",
      "3.643008092240217e-06\n"
     ]
    }
   ],
   "source": [
    "estadistico, p_value = spss.ttest_ind(iris['petal_length'], iris['sepal_width'])\n",
    "print(estadistico)\n",
    "print(p_value)"
   ]
  },
  {
   "cell_type": "code",
   "execution_count": 17,
   "metadata": {},
   "outputs": [
    {
     "name": "stdout",
     "output_type": "stream",
     "text": [
      "P value es de 0.0: Hay comparación.\n"
     ]
    }
   ],
   "source": [
    "estadistico, p_value = spss.ttest_ind(iris['petal_length'], iris['sepal_width'])\n",
    "if p_value <= 0.05:\n",
    "    print('P value es de {}: Hay comparación.'.format(round(p_value, 3)))\n",
    "else:\n",
    "    print('P value es de {}: Ni de broma.'.format(round(p_value, 3)))"
   ]
  },
  {
   "cell_type": "code",
   "execution_count": 18,
   "metadata": {},
   "outputs": [
    {
     "data": {
      "text/plain": [
       "['sepal_length - sepal_length = Estadístico: 0.0, P Value: 1.0',\n",
       " 'sepal_length - sepal_width = Estadístico: 36.463283934449116, P Value: 0.0',\n",
       " 'sepal_length - petal_length = Estadístico: 13.09835310896086, P Value: 0.0',\n",
       " 'sepal_length - petal_width = Estadístico: 50.53601510214771, P Value: 0.0',\n",
       " 'sepal_width - sepal_length = Estadístico: -36.463283934449116, P Value: 0.0',\n",
       " 'sepal_width - sepal_width = Estadístico: 0.0, P Value: 1.0',\n",
       " 'sepal_width - petal_length = Estadístico: -4.719421473851404, P Value: 0.0',\n",
       " 'sepal_width - petal_width = Estadístico: 25.916012615382527, P Value: 0.0',\n",
       " 'petal_length - sepal_length = Estadístico: -13.09835310896086, P Value: 0.0',\n",
       " 'petal_length - sepal_width = Estadístico: 4.719421473851404, P Value: 0.0',\n",
       " 'petal_length - petal_length = Estadístico: 0.0, P Value: 1.0',\n",
       " 'petal_length - petal_width = Estadístico: 16.297385118572553, P Value: 0.0',\n",
       " 'petal_width - sepal_length = Estadístico: -50.53601510214771, P Value: 0.0',\n",
       " 'petal_width - sepal_width = Estadístico: -25.916012615382527, P Value: 0.0',\n",
       " 'petal_width - petal_length = Estadístico: -16.297385118572553, P Value: 0.0',\n",
       " 'petal_width - petal_width = Estadístico: 0.0, P Value: 1.0']"
      ]
     },
     "execution_count": 18,
     "metadata": {},
     "output_type": "execute_result"
    }
   ],
   "source": [
    "comparacion = []\n",
    "for col1 in iris.columns[:-1]:\n",
    "    for col2 in iris.columns[:-1]:\n",
    "        estadistico, p_value = spss.ttest_ind(iris[col1], iris[col2])\n",
    "        comparacion.append('{} - {} = Estadístico: {}, P Value: {}'.format(col1, col2, estadistico, round(p_value, 3)))\n",
    "comparacion"
   ]
  },
  {
   "cell_type": "code",
   "execution_count": 19,
   "metadata": {},
   "outputs": [
    {
     "data": {
      "text/plain": [
       "['Setosa: sepal_length - sepal_width = Estadístico: 21.556, P Value: 0.0',\n",
       " 'Setosa: sepal_length - petal_length = Estadístico: 63.774, P Value: 0.0',\n",
       " 'Setosa: sepal_length - petal_width = Estadístico: 91.486, P Value: 0.0',\n",
       " 'Setosa: sepal_width - sepal_length = Estadístico: -21.556, P Value: 0.0',\n",
       " 'Setosa: sepal_width - petal_length = Estadístico: 33.341, P Value: 0.0',\n",
       " 'Setosa: sepal_width - petal_width = Estadístico: 57.188, P Value: 0.0',\n",
       " 'Setosa: petal_length - sepal_length = Estadístico: -63.774, P Value: 0.0',\n",
       " 'Setosa: petal_length - sepal_width = Estadístico: -33.341, P Value: 0.0',\n",
       " 'Setosa: petal_length - petal_width = Estadístico: 42.328, P Value: 0.0',\n",
       " 'Setosa: petal_width - sepal_length = Estadístico: -91.486, P Value: 0.0',\n",
       " 'Setosa: petal_width - sepal_width = Estadístico: -57.188, P Value: 0.0',\n",
       " 'Setosa: petal_width - petal_length = Estadístico: -42.328, P Value: 0.0',\n",
       " 'Versicolor: sepal_length - sepal_width = Estadístico: 37.06, P Value: 0.0',\n",
       " 'Versicolor: sepal_length - petal_length = Estadístico: 16.978, P Value: 0.0',\n",
       " 'Versicolor: sepal_length - petal_width = Estadístico: 58.973, P Value: 0.0',\n",
       " 'Versicolor: sepal_width - sepal_length = Estadístico: -37.06, P Value: 0.0',\n",
       " 'Versicolor: sepal_width - petal_length = Estadístico: -18.646, P Value: 0.0',\n",
       " 'Versicolor: sepal_width - petal_width = Estadístico: 27.528, P Value: 0.0',\n",
       " 'Versicolor: petal_length - sepal_length = Estadístico: -16.978, P Value: 0.0',\n",
       " 'Versicolor: petal_length - sepal_width = Estadístico: 18.646, P Value: 0.0',\n",
       " 'Versicolor: petal_length - petal_width = Estadístico: 40.693, P Value: 0.0',\n",
       " 'Versicolor: petal_width - sepal_length = Estadístico: -58.973, P Value: 0.0',\n",
       " 'Versicolor: petal_width - sepal_width = Estadístico: -27.528, P Value: 0.0',\n",
       " 'Versicolor: petal_width - petal_length = Estadístico: -40.693, P Value: 0.0',\n",
       " 'Virginica: sepal_length - sepal_width = Estadístico: 35.842, P Value: 0.0',\n",
       " 'Virginica: sepal_length - petal_length = Estadístico: 8.7, P Value: 0.0',\n",
       " 'Virginica: sepal_length - petal_width = Estadístico: 46.572, P Value: 0.0',\n",
       " 'Virginica: sepal_width - sepal_length = Estadístico: -35.842, P Value: 0.0',\n",
       " 'Virginica: sepal_width - petal_length = Estadístico: -28.518, P Value: 0.0',\n",
       " 'Virginica: sepal_width - petal_width = Estadístico: 15.825, P Value: 0.0',\n",
       " 'Virginica: petal_length - sepal_length = Estadístico: -8.7, P Value: 0.0',\n",
       " 'Virginica: petal_length - sepal_width = Estadístico: 28.518, P Value: 0.0',\n",
       " 'Virginica: petal_length - petal_width = Estadístico: 40.445, P Value: 0.0',\n",
       " 'Virginica: petal_width - sepal_length = Estadístico: -46.572, P Value: 0.0',\n",
       " 'Virginica: petal_width - sepal_width = Estadístico: -15.825, P Value: 0.0',\n",
       " 'Virginica: petal_width - petal_length = Estadístico: -40.445, P Value: 0.0']"
      ]
     },
     "execution_count": 19,
     "metadata": {},
     "output_type": "execute_result"
    }
   ],
   "source": [
    "comparacion = []\n",
    "for tipo in iris.variety.unique():\n",
    "    por_tipo = iris.loc[iris['variety'] == tipo]\n",
    "    for col1 in por_tipo.columns[:-1]:\n",
    "        for col2 in por_tipo.columns[:-1]:\n",
    "            estadistico, p_value = spss.ttest_ind(por_tipo[col1], por_tipo[col2])\n",
    "            if p_value <= 0.05:\n",
    "                comparacion.append('{}: {} - {} = Estadístico: {}, P Value: {}'.format(tipo, col1, col2, round(estadistico, 3), round(p_value, 3)))\n",
    "comparacion"
   ]
  },
  {
   "cell_type": "markdown",
   "metadata": {},
   "source": [
    "### ¿Qué diablos hacer que se analicen las comparaciones de los diferentes tipos de planta?"
   ]
  },
  {
   "cell_type": "code",
   "execution_count": 20,
   "metadata": {},
   "outputs": [],
   "source": [
    "# Por tipo\n",
    "comparacion = []\n",
    "\n",
    "for tipo1 in iris['variety'].unique():\n",
    "    por_tipo1 = iris.loc[iris['variety'] == tipo1]\n",
    "    for tipo2 in iris['variety'].unique():\n",
    "        por_tipo2 = iris.loc[iris['variety'] == tipo2]\n",
    "        #print(tipo1, '-', tipo2)\n",
    "        for col1 in por_tipo1.columns[:-1]:\n",
    "            for col2 in por_tipo2.columns[:-1]:\n",
    "                #print(col1, '-', col2)\n",
    "                estadistico, p_value = spss.ttest_ind(por_tipo1[col1], por_tipo2[col2])\n",
    "                if p_value <= 0.05:\n",
    "                    comparacion.append('{}-{}: {} - {} = Estadístico: {}, P Value: {}'.format(tipo1, tipo2, col1, col2, round(estadistico, 3), round(p_value, 3)))"
   ]
  },
  {
   "cell_type": "code",
   "execution_count": 21,
   "metadata": {},
   "outputs": [
    {
     "data": {
      "text/plain": [
       "['Setosa-Setosa: sepal_length - sepal_width = Estadístico: 21.556, P Value: 0.0',\n",
       " 'Setosa-Setosa: sepal_length - petal_length = Estadístico: 63.774, P Value: 0.0',\n",
       " 'Setosa-Setosa: sepal_length - petal_width = Estadístico: 91.486, P Value: 0.0',\n",
       " 'Setosa-Setosa: sepal_width - sepal_length = Estadístico: -21.556, P Value: 0.0',\n",
       " 'Setosa-Setosa: sepal_width - petal_length = Estadístico: 33.341, P Value: 0.0',\n",
       " 'Setosa-Setosa: sepal_width - petal_width = Estadístico: 57.188, P Value: 0.0',\n",
       " 'Setosa-Setosa: petal_length - sepal_length = Estadístico: -63.774, P Value: 0.0',\n",
       " 'Setosa-Setosa: petal_length - sepal_width = Estadístico: -33.341, P Value: 0.0',\n",
       " 'Setosa-Setosa: petal_length - petal_width = Estadístico: 42.328, P Value: 0.0',\n",
       " 'Setosa-Setosa: petal_width - sepal_length = Estadístico: -91.486, P Value: 0.0',\n",
       " 'Setosa-Setosa: petal_width - sepal_width = Estadístico: -57.188, P Value: 0.0',\n",
       " 'Setosa-Setosa: petal_width - petal_length = Estadístico: -42.328, P Value: 0.0',\n",
       " 'Setosa-Versicolor: sepal_length - sepal_length = Estadístico: -10.521, P Value: 0.0',\n",
       " 'Setosa-Versicolor: sepal_length - sepal_width = Estadístico: 33.503, P Value: 0.0',\n",
       " 'Setosa-Versicolor: sepal_length - petal_length = Estadístico: 8.98, P Value: 0.0',\n",
       " 'Setosa-Versicolor: sepal_length - petal_width = Estadístico: 64.382, P Value: 0.0',\n",
       " 'Setosa-Versicolor: sepal_width - sepal_length = Estadístico: -27.692, P Value: 0.0',\n",
       " 'Setosa-Versicolor: sepal_width - sepal_width = Estadístico: 9.455, P Value: 0.0',\n",
       " 'Setosa-Versicolor: sepal_width - petal_length = Estadístico: -9.744, P Value: 0.0',\n",
       " 'Setosa-Versicolor: sepal_width - petal_width = Estadístico: 34.764, P Value: 0.0',\n",
       " 'Setosa-Versicolor: petal_length - sepal_length = Estadístico: -58.09, P Value: 0.0',\n",
       " 'Setosa-Versicolor: petal_length - sepal_width = Estadístico: -25.788, P Value: 0.0',\n",
       " 'Setosa-Versicolor: petal_length - petal_length = Estadístico: -39.493, P Value: 0.0',\n",
       " 'Setosa-Versicolor: petal_length - petal_width = Estadístico: 3.654, P Value: 0.0',\n",
       " 'Setosa-Versicolor: petal_width - sepal_length = Estadístico: -76.372, P Value: 0.0',\n",
       " 'Setosa-Versicolor: petal_width - sepal_width = Estadístico: -53.916, P Value: 0.0',\n",
       " 'Setosa-Versicolor: petal_width - petal_length = Estadístico: -58.937, P Value: 0.0',\n",
       " 'Setosa-Versicolor: petal_width - petal_width = Estadístico: -34.08, P Value: 0.0',\n",
       " 'Setosa-Virginica: sepal_length - sepal_length = Estadístico: -15.386, P Value: 0.0',\n",
       " 'Setosa-Virginica: sepal_length - sepal_width = Estadístico: 30.075, P Value: 0.0',\n",
       " 'Setosa-Virginica: sepal_length - petal_length = Estadístico: -5.896, P Value: 0.0',\n",
       " 'Setosa-Virginica: sepal_length - petal_width = Estadístico: 47.155, P Value: 0.0',\n",
       " 'Setosa-Virginica: sepal_width - sepal_length = Estadístico: -30.183, P Value: 0.0',\n",
       " 'Setosa-Virginica: sepal_width - sepal_width = Estadístico: 6.45, P Value: 0.0',\n",
       " 'Setosa-Virginica: sepal_width - petal_length = Estadístico: -22.432, P Value: 0.0',\n",
       " 'Setosa-Virginica: sepal_width - petal_width = Estadístico: 21.178, P Value: 0.0',\n",
       " 'Setosa-Virginica: petal_length - sepal_length = Estadístico: -54.988, P Value: 0.0',\n",
       " 'Setosa-Virginica: petal_length - sepal_width = Estadístico: -29.189, P Value: 0.0',\n",
       " 'Setosa-Virginica: petal_length - petal_length = Estadístico: -49.986, P Value: 0.0',\n",
       " 'Setosa-Virginica: petal_length - petal_width = Estadístico: -12.273, P Value: 0.0',\n",
       " 'Setosa-Virginica: petal_width - sepal_length = Estadístico: -69.575, P Value: 0.0',\n",
       " 'Setosa-Virginica: petal_width - sepal_width = Estadístico: -56.855, P Value: 0.0',\n",
       " 'Setosa-Virginica: petal_width - petal_length = Estadístico: -66.776, P Value: 0.0',\n",
       " 'Setosa-Virginica: petal_width - petal_width = Estadístico: -42.786, P Value: 0.0',\n",
       " 'Versicolor-Setosa: sepal_length - sepal_length = Estadístico: 10.521, P Value: 0.0',\n",
       " 'Versicolor-Setosa: sepal_length - sepal_width = Estadístico: 27.692, P Value: 0.0',\n",
       " 'Versicolor-Setosa: sepal_length - petal_length = Estadístico: 58.09, P Value: 0.0',\n",
       " 'Versicolor-Setosa: sepal_length - petal_width = Estadístico: 76.372, P Value: 0.0',\n",
       " 'Versicolor-Setosa: sepal_width - sepal_length = Estadístico: -33.503, P Value: 0.0',\n",
       " 'Versicolor-Setosa: sepal_width - sepal_width = Estadístico: -9.455, P Value: 0.0',\n",
       " 'Versicolor-Setosa: sepal_width - petal_length = Estadístico: 25.788, P Value: 0.0',\n",
       " 'Versicolor-Setosa: sepal_width - petal_width = Estadístico: 53.916, P Value: 0.0',\n",
       " 'Versicolor-Setosa: petal_length - sepal_length = Estadístico: -8.98, P Value: 0.0',\n",
       " 'Versicolor-Setosa: petal_length - sepal_width = Estadístico: 9.744, P Value: 0.0',\n",
       " 'Versicolor-Setosa: petal_length - petal_length = Estadístico: 39.493, P Value: 0.0',\n",
       " 'Versicolor-Setosa: petal_length - petal_width = Estadístico: 58.937, P Value: 0.0',\n",
       " 'Versicolor-Setosa: petal_width - sepal_length = Estadístico: -64.382, P Value: 0.0',\n",
       " 'Versicolor-Setosa: petal_width - sepal_width = Estadístico: -34.764, P Value: 0.0',\n",
       " 'Versicolor-Setosa: petal_width - petal_length = Estadístico: -3.654, P Value: 0.0',\n",
       " 'Versicolor-Setosa: petal_width - petal_width = Estadístico: 34.08, P Value: 0.0',\n",
       " 'Versicolor-Versicolor: sepal_length - sepal_width = Estadístico: 37.06, P Value: 0.0',\n",
       " 'Versicolor-Versicolor: sepal_length - petal_length = Estadístico: 16.978, P Value: 0.0',\n",
       " 'Versicolor-Versicolor: sepal_length - petal_width = Estadístico: 58.973, P Value: 0.0',\n",
       " 'Versicolor-Versicolor: sepal_width - sepal_length = Estadístico: -37.06, P Value: 0.0',\n",
       " 'Versicolor-Versicolor: sepal_width - petal_length = Estadístico: -18.646, P Value: 0.0',\n",
       " 'Versicolor-Versicolor: sepal_width - petal_width = Estadístico: 27.528, P Value: 0.0',\n",
       " 'Versicolor-Versicolor: petal_length - sepal_length = Estadístico: -16.978, P Value: 0.0',\n",
       " 'Versicolor-Versicolor: petal_length - sepal_width = Estadístico: 18.646, P Value: 0.0',\n",
       " 'Versicolor-Versicolor: petal_length - petal_width = Estadístico: 40.693, P Value: 0.0',\n",
       " 'Versicolor-Versicolor: petal_width - sepal_length = Estadístico: -58.973, P Value: 0.0',\n",
       " 'Versicolor-Versicolor: petal_width - sepal_width = Estadístico: -27.528, P Value: 0.0',\n",
       " 'Versicolor-Versicolor: petal_width - petal_length = Estadístico: -40.693, P Value: 0.0',\n",
       " 'Versicolor-Virginica: sepal_length - sepal_length = Estadístico: -5.629, P Value: 0.0',\n",
       " 'Versicolor-Virginica: sepal_length - sepal_width = Estadístico: 34.412, P Value: 0.0',\n",
       " 'Versicolor-Virginica: sepal_length - petal_length = Estadístico: 3.593, P Value: 0.001',\n",
       " 'Versicolor-Virginica: sepal_length - petal_width = Estadístico: 47.286, P Value: 0.0',\n",
       " 'Versicolor-Virginica: sepal_width - sepal_length = Estadístico: -38.073, P Value: 0.0',\n",
       " 'Versicolor-Virginica: sepal_width - sepal_width = Estadístico: -3.206, P Value: 0.002',\n",
       " 'Versicolor-Virginica: sepal_width - petal_length = Estadístico: -30.986, P Value: 0.0',\n",
       " 'Versicolor-Virginica: sepal_width - petal_width = Estadístico: 12.616, P Value: 0.0',\n",
       " 'Versicolor-Virginica: petal_length - sepal_length = Estadístico: -20.82, P Value: 0.0',\n",
       " 'Versicolor-Virginica: petal_length - sepal_width = Estadístico: 15.955, P Value: 0.0',\n",
       " 'Versicolor-Virginica: petal_length - petal_length = Estadístico: -12.604, P Value: 0.0',\n",
       " 'Versicolor-Virginica: petal_length - petal_width = Estadístico: 29.023, P Value: 0.0',\n",
       " 'Versicolor-Virginica: petal_width - sepal_length = Estadístico: -55.875, P Value: 0.0',\n",
       " 'Versicolor-Virginica: petal_width - sepal_width = Estadístico: -30.804, P Value: 0.0',\n",
       " 'Versicolor-Virginica: petal_width - petal_length = Estadístico: -50.972, P Value: 0.0',\n",
       " 'Versicolor-Virginica: petal_width - petal_width = Estadístico: -14.625, P Value: 0.0',\n",
       " 'Virginica-Setosa: sepal_length - sepal_length = Estadístico: 15.386, P Value: 0.0',\n",
       " 'Virginica-Setosa: sepal_length - sepal_width = Estadístico: 30.183, P Value: 0.0',\n",
       " 'Virginica-Setosa: sepal_length - petal_length = Estadístico: 54.988, P Value: 0.0',\n",
       " 'Virginica-Setosa: sepal_length - petal_width = Estadístico: 69.575, P Value: 0.0',\n",
       " 'Virginica-Setosa: sepal_width - sepal_length = Estadístico: -30.075, P Value: 0.0',\n",
       " 'Virginica-Setosa: sepal_width - sepal_width = Estadístico: -6.45, P Value: 0.0',\n",
       " 'Virginica-Setosa: sepal_width - petal_length = Estadístico: 29.189, P Value: 0.0',\n",
       " 'Virginica-Setosa: sepal_width - petal_width = Estadístico: 56.855, P Value: 0.0',\n",
       " 'Virginica-Setosa: petal_length - sepal_length = Estadístico: 5.896, P Value: 0.0',\n",
       " 'Virginica-Setosa: petal_length - sepal_width = Estadístico: 22.432, P Value: 0.0',\n",
       " 'Virginica-Setosa: petal_length - petal_length = Estadístico: 49.986, P Value: 0.0',\n",
       " 'Virginica-Setosa: petal_length - petal_width = Estadístico: 66.776, P Value: 0.0',\n",
       " 'Virginica-Setosa: petal_width - sepal_length = Estadístico: -47.155, P Value: 0.0',\n",
       " 'Virginica-Setosa: petal_width - sepal_width = Estadístico: -21.178, P Value: 0.0',\n",
       " 'Virginica-Setosa: petal_width - petal_length = Estadístico: 12.273, P Value: 0.0',\n",
       " 'Virginica-Setosa: petal_width - petal_width = Estadístico: 42.786, P Value: 0.0',\n",
       " 'Virginica-Versicolor: sepal_length - sepal_length = Estadístico: 5.629, P Value: 0.0',\n",
       " 'Virginica-Versicolor: sepal_length - sepal_width = Estadístico: 38.073, P Value: 0.0',\n",
       " 'Virginica-Versicolor: sepal_length - petal_length = Estadístico: 20.82, P Value: 0.0',\n",
       " 'Virginica-Versicolor: sepal_length - petal_width = Estadístico: 55.875, P Value: 0.0',\n",
       " 'Virginica-Versicolor: sepal_width - sepal_length = Estadístico: -34.412, P Value: 0.0',\n",
       " 'Virginica-Versicolor: sepal_width - sepal_width = Estadístico: 3.206, P Value: 0.002',\n",
       " 'Virginica-Versicolor: sepal_width - petal_length = Estadístico: -15.955, P Value: 0.0',\n",
       " 'Virginica-Versicolor: sepal_width - petal_width = Estadístico: 30.804, P Value: 0.0',\n",
       " 'Virginica-Versicolor: petal_length - sepal_length = Estadístico: -3.593, P Value: 0.001',\n",
       " 'Virginica-Versicolor: petal_length - sepal_width = Estadístico: 30.986, P Value: 0.0',\n",
       " 'Virginica-Versicolor: petal_length - petal_length = Estadístico: 12.604, P Value: 0.0',\n",
       " 'Virginica-Versicolor: petal_length - petal_width = Estadístico: 50.972, P Value: 0.0',\n",
       " 'Virginica-Versicolor: petal_width - sepal_length = Estadístico: -47.286, P Value: 0.0',\n",
       " 'Virginica-Versicolor: petal_width - sepal_width = Estadístico: -12.616, P Value: 0.0',\n",
       " 'Virginica-Versicolor: petal_width - petal_length = Estadístico: -29.023, P Value: 0.0',\n",
       " 'Virginica-Versicolor: petal_width - petal_width = Estadístico: 14.625, P Value: 0.0',\n",
       " 'Virginica-Virginica: sepal_length - sepal_width = Estadístico: 35.842, P Value: 0.0',\n",
       " 'Virginica-Virginica: sepal_length - petal_length = Estadístico: 8.7, P Value: 0.0',\n",
       " 'Virginica-Virginica: sepal_length - petal_width = Estadístico: 46.572, P Value: 0.0',\n",
       " 'Virginica-Virginica: sepal_width - sepal_length = Estadístico: -35.842, P Value: 0.0',\n",
       " 'Virginica-Virginica: sepal_width - petal_length = Estadístico: -28.518, P Value: 0.0',\n",
       " 'Virginica-Virginica: sepal_width - petal_width = Estadístico: 15.825, P Value: 0.0',\n",
       " 'Virginica-Virginica: petal_length - sepal_length = Estadístico: -8.7, P Value: 0.0',\n",
       " 'Virginica-Virginica: petal_length - sepal_width = Estadístico: 28.518, P Value: 0.0',\n",
       " 'Virginica-Virginica: petal_length - petal_width = Estadístico: 40.445, P Value: 0.0',\n",
       " 'Virginica-Virginica: petal_width - sepal_length = Estadístico: -46.572, P Value: 0.0',\n",
       " 'Virginica-Virginica: petal_width - sepal_width = Estadístico: -15.825, P Value: 0.0',\n",
       " 'Virginica-Virginica: petal_width - petal_length = Estadístico: -40.445, P Value: 0.0']"
      ]
     },
     "execution_count": 21,
     "metadata": {},
     "output_type": "execute_result"
    }
   ],
   "source": [
    "comparacion"
   ]
  },
  {
   "cell_type": "markdown",
   "metadata": {},
   "source": [
    "### Para pruebas Post Hoc\n",
    "[Post hocs en Python](https://scikit-posthocs.readthedocs.io/en/latest/)"
   ]
  },
  {
   "cell_type": "code",
   "execution_count": 22,
   "metadata": {},
   "outputs": [],
   "source": [
    "import scikit_posthocs as sp\n",
    "# Usaremos post hoc \"Scheffé\"\n",
    "# Las comparaciones de todos los pares de Scheffe prueban datos distribuidos normalmente con variaciones de grupo iguales."
   ]
  },
  {
   "cell_type": "code",
   "execution_count": 23,
   "metadata": {},
   "outputs": [
    {
     "name": "stdout",
     "output_type": "stream",
     "text": [
      "   petal_length  sepal_width\n",
      "0           1.4          3.5\n",
      "1           1.4          3.0\n",
      "2           1.3          3.2\n",
      "3           1.5          3.1\n",
      "4           1.4          3.6\n",
      " \n",
      "         grupos  valores\n",
      "0  petal_length      1.4\n",
      "1  petal_length      1.4\n",
      "2  petal_length      1.3\n",
      "3  petal_length      1.5\n",
      "4  petal_length      1.4\n",
      " \n"
     ]
    },
    {
     "data": {
      "text/html": [
       "<div>\n",
       "<style scoped>\n",
       "    .dataframe tbody tr th:only-of-type {\n",
       "        vertical-align: middle;\n",
       "    }\n",
       "\n",
       "    .dataframe tbody tr th {\n",
       "        vertical-align: top;\n",
       "    }\n",
       "\n",
       "    .dataframe thead th {\n",
       "        text-align: right;\n",
       "    }\n",
       "</style>\n",
       "<table border=\"1\" class=\"dataframe\">\n",
       "  <thead>\n",
       "    <tr style=\"text-align: right;\">\n",
       "      <th></th>\n",
       "      <th>petal_length</th>\n",
       "      <th>sepal_width</th>\n",
       "    </tr>\n",
       "  </thead>\n",
       "  <tbody>\n",
       "    <tr>\n",
       "      <th>petal_length</th>\n",
       "      <td>1.000000</td>\n",
       "      <td>0.000004</td>\n",
       "    </tr>\n",
       "    <tr>\n",
       "      <th>sepal_width</th>\n",
       "      <td>0.000004</td>\n",
       "      <td>1.000000</td>\n",
       "    </tr>\n",
       "  </tbody>\n",
       "</table>\n",
       "</div>"
      ],
      "text/plain": [
       "              petal_length  sepal_width\n",
       "petal_length      1.000000     0.000004\n",
       "sepal_width       0.000004     1.000000"
      ]
     },
     "execution_count": 23,
     "metadata": {},
     "output_type": "execute_result"
    }
   ],
   "source": [
    "x = iris[['petal_length', 'sepal_width']]\n",
    "print(x.head())\n",
    "print(' ')\n",
    "x = x.melt(var_name='grupos', value_name='valores')\n",
    "print(x.head())\n",
    "print(' ')\n",
    "sp.posthoc_scheffe(x, val_col='valores', group_col='grupos')"
   ]
  },
  {
   "cell_type": "code",
   "execution_count": 24,
   "metadata": {},
   "outputs": [
    {
     "data": {
      "text/html": [
       "<div>\n",
       "<style scoped>\n",
       "    .dataframe tbody tr th:only-of-type {\n",
       "        vertical-align: middle;\n",
       "    }\n",
       "\n",
       "    .dataframe tbody tr th {\n",
       "        vertical-align: top;\n",
       "    }\n",
       "\n",
       "    .dataframe thead th {\n",
       "        text-align: right;\n",
       "    }\n",
       "</style>\n",
       "<table border=\"1\" class=\"dataframe\">\n",
       "  <thead>\n",
       "    <tr style=\"text-align: right;\">\n",
       "      <th></th>\n",
       "      <th>petal_length</th>\n",
       "      <th>sepal_width</th>\n",
       "    </tr>\n",
       "  </thead>\n",
       "  <tbody>\n",
       "    <tr>\n",
       "      <th>petal_length</th>\n",
       "      <td>1.000000</td>\n",
       "      <td>0.000004</td>\n",
       "    </tr>\n",
       "    <tr>\n",
       "      <th>sepal_width</th>\n",
       "      <td>0.000004</td>\n",
       "      <td>1.000000</td>\n",
       "    </tr>\n",
       "  </tbody>\n",
       "</table>\n",
       "</div>"
      ],
      "text/plain": [
       "              petal_length  sepal_width\n",
       "petal_length      1.000000     0.000004\n",
       "sepal_width       0.000004     1.000000"
      ]
     },
     "execution_count": 24,
     "metadata": {},
     "output_type": "execute_result"
    }
   ],
   "source": [
    "scheffe = sp.posthoc_scheffe(x, val_col='valores', group_col='grupos')\n",
    "scheffe"
   ]
  },
  {
   "cell_type": "code",
   "execution_count": 25,
   "metadata": {},
   "outputs": [
    {
     "data": {
      "text/html": [
       "<div>\n",
       "<style scoped>\n",
       "    .dataframe tbody tr th:only-of-type {\n",
       "        vertical-align: middle;\n",
       "    }\n",
       "\n",
       "    .dataframe tbody tr th {\n",
       "        vertical-align: top;\n",
       "    }\n",
       "\n",
       "    .dataframe thead th {\n",
       "        text-align: right;\n",
       "    }\n",
       "</style>\n",
       "<table border=\"1\" class=\"dataframe\">\n",
       "  <thead>\n",
       "    <tr style=\"text-align: right;\">\n",
       "      <th></th>\n",
       "      <th>petal_length</th>\n",
       "      <th>sepal_width</th>\n",
       "    </tr>\n",
       "  </thead>\n",
       "  <tbody>\n",
       "    <tr>\n",
       "      <th>petal_length</th>\n",
       "      <td>1.0</td>\n",
       "      <td>0.0</td>\n",
       "    </tr>\n",
       "    <tr>\n",
       "      <th>sepal_width</th>\n",
       "      <td>0.0</td>\n",
       "      <td>1.0</td>\n",
       "    </tr>\n",
       "  </tbody>\n",
       "</table>\n",
       "</div>"
      ],
      "text/plain": [
       "              petal_length  sepal_width\n",
       "petal_length           1.0          0.0\n",
       "sepal_width            0.0          1.0"
      ]
     },
     "execution_count": 25,
     "metadata": {},
     "output_type": "execute_result"
    }
   ],
   "source": [
    "scheffe = sp.posthoc_scheffe(x, val_col='valores', group_col='grupos').round(2)\n",
    "scheffe_interpretado = scheffe.copy()\n",
    "scheffe_interpretado"
   ]
  },
  {
   "cell_type": "code",
   "execution_count": 26,
   "metadata": {},
   "outputs": [
    {
     "name": "stdout",
     "output_type": "stream",
     "text": [
      "0.0\n",
      "0.01\n",
      "0.02\n",
      "0.03\n",
      "0.04\n",
      "0.05\n"
     ]
    }
   ],
   "source": [
    "for sig in np.arange(0.00, 0.06, 0.01):\n",
    "    print(sig)"
   ]
  },
  {
   "cell_type": "code",
   "execution_count": 27,
   "metadata": {},
   "outputs": [
    {
     "data": {
      "text/html": [
       "<div>\n",
       "<style scoped>\n",
       "    .dataframe tbody tr th:only-of-type {\n",
       "        vertical-align: middle;\n",
       "    }\n",
       "\n",
       "    .dataframe tbody tr th {\n",
       "        vertical-align: top;\n",
       "    }\n",
       "\n",
       "    .dataframe thead th {\n",
       "        text-align: right;\n",
       "    }\n",
       "</style>\n",
       "<table border=\"1\" class=\"dataframe\">\n",
       "  <thead>\n",
       "    <tr style=\"text-align: right;\">\n",
       "      <th></th>\n",
       "      <th>petal_length</th>\n",
       "      <th>sepal_width</th>\n",
       "    </tr>\n",
       "  </thead>\n",
       "  <tbody>\n",
       "    <tr>\n",
       "      <th>petal_length</th>\n",
       "      <td>1</td>\n",
       "      <td>Significativo</td>\n",
       "    </tr>\n",
       "    <tr>\n",
       "      <th>sepal_width</th>\n",
       "      <td>Significativo</td>\n",
       "      <td>1</td>\n",
       "    </tr>\n",
       "  </tbody>\n",
       "</table>\n",
       "</div>"
      ],
      "text/plain": [
       "               petal_length    sepal_width\n",
       "petal_length              1  Significativo\n",
       "sepal_width   Significativo              1"
      ]
     },
     "execution_count": 27,
     "metadata": {},
     "output_type": "execute_result"
    }
   ],
   "source": [
    "for sig in np.arange(0.00, 0.06, 0.01):\n",
    "    scheffe_interpretado = scheffe_interpretado.replace(sig, 'Significativo')\n",
    "scheffe_interpretado"
   ]
  },
  {
   "cell_type": "markdown",
   "metadata": {},
   "source": [
    "### ¿Cómo se le hace por tipo?"
   ]
  },
  {
   "cell_type": "code",
   "execution_count": 28,
   "metadata": {},
   "outputs": [],
   "source": [
    "# Por tipo\n",
    "setosa = iris.loc[iris['variety'] == 'Setosa']\n",
    "for col in setosa.columns:\n",
    "    setosa.columns = setosa.columns.str.replace('{}'.format(col), '{}_Setosa'.format(col))\n",
    "setosa = setosa.drop('variety_Setosa', axis=1)\n",
    "\n",
    "versicolor = iris.loc[iris['variety'] == 'Versicolor']\n",
    "for col in versicolor.columns:\n",
    "    versicolor.columns = versicolor.columns.str.replace('{}'.format(col), '{}_Versicolor'.format(col))\n",
    "versicolor = versicolor.drop('variety_Versicolor', axis=1)\n",
    "    \n",
    "virginica = iris.loc[iris['variety'] == 'Virginica']\n",
    "for col in virginica.columns:\n",
    "    virginica.columns = virginica.columns.str.replace('{}'.format(col), '{}_Virginica'.format(col))\n",
    "virginica = virginica.drop('variety_Virginica', axis=1)"
   ]
  },
  {
   "cell_type": "code",
   "execution_count": 29,
   "metadata": {},
   "outputs": [],
   "source": [
    "super_iris = pd.concat([setosa.reset_index(), versicolor.reset_index(), virginica.reset_index()], axis=1)"
   ]
  },
  {
   "cell_type": "code",
   "execution_count": 30,
   "metadata": {},
   "outputs": [],
   "source": [
    "super_iris = super_iris.drop('index', axis=1)"
   ]
  },
  {
   "cell_type": "code",
   "execution_count": 31,
   "metadata": {},
   "outputs": [
    {
     "data": {
      "text/html": [
       "<div>\n",
       "<style scoped>\n",
       "    .dataframe tbody tr th:only-of-type {\n",
       "        vertical-align: middle;\n",
       "    }\n",
       "\n",
       "    .dataframe tbody tr th {\n",
       "        vertical-align: top;\n",
       "    }\n",
       "\n",
       "    .dataframe thead th {\n",
       "        text-align: right;\n",
       "    }\n",
       "</style>\n",
       "<table border=\"1\" class=\"dataframe\">\n",
       "  <thead>\n",
       "    <tr style=\"text-align: right;\">\n",
       "      <th></th>\n",
       "      <th>sepal_length_Setosa</th>\n",
       "      <th>sepal_width_Setosa</th>\n",
       "      <th>petal_length_Setosa</th>\n",
       "      <th>petal_width_Setosa</th>\n",
       "      <th>sepal_length_Versicolor</th>\n",
       "      <th>sepal_width_Versicolor</th>\n",
       "      <th>petal_length_Versicolor</th>\n",
       "      <th>petal_width_Versicolor</th>\n",
       "      <th>sepal_length_Virginica</th>\n",
       "      <th>sepal_width_Virginica</th>\n",
       "      <th>petal_length_Virginica</th>\n",
       "      <th>petal_width_Virginica</th>\n",
       "    </tr>\n",
       "  </thead>\n",
       "  <tbody>\n",
       "    <tr>\n",
       "      <th>0</th>\n",
       "      <td>5.1</td>\n",
       "      <td>3.5</td>\n",
       "      <td>1.4</td>\n",
       "      <td>0.2</td>\n",
       "      <td>7.0</td>\n",
       "      <td>3.2</td>\n",
       "      <td>4.7</td>\n",
       "      <td>1.4</td>\n",
       "      <td>6.3</td>\n",
       "      <td>3.3</td>\n",
       "      <td>6.0</td>\n",
       "      <td>2.5</td>\n",
       "    </tr>\n",
       "    <tr>\n",
       "      <th>1</th>\n",
       "      <td>4.9</td>\n",
       "      <td>3.0</td>\n",
       "      <td>1.4</td>\n",
       "      <td>0.2</td>\n",
       "      <td>6.4</td>\n",
       "      <td>3.2</td>\n",
       "      <td>4.5</td>\n",
       "      <td>1.5</td>\n",
       "      <td>5.8</td>\n",
       "      <td>2.7</td>\n",
       "      <td>5.1</td>\n",
       "      <td>1.9</td>\n",
       "    </tr>\n",
       "    <tr>\n",
       "      <th>2</th>\n",
       "      <td>4.7</td>\n",
       "      <td>3.2</td>\n",
       "      <td>1.3</td>\n",
       "      <td>0.2</td>\n",
       "      <td>6.9</td>\n",
       "      <td>3.1</td>\n",
       "      <td>4.9</td>\n",
       "      <td>1.5</td>\n",
       "      <td>7.1</td>\n",
       "      <td>3.0</td>\n",
       "      <td>5.9</td>\n",
       "      <td>2.1</td>\n",
       "    </tr>\n",
       "    <tr>\n",
       "      <th>3</th>\n",
       "      <td>4.6</td>\n",
       "      <td>3.1</td>\n",
       "      <td>1.5</td>\n",
       "      <td>0.2</td>\n",
       "      <td>5.5</td>\n",
       "      <td>2.3</td>\n",
       "      <td>4.0</td>\n",
       "      <td>1.3</td>\n",
       "      <td>6.3</td>\n",
       "      <td>2.9</td>\n",
       "      <td>5.6</td>\n",
       "      <td>1.8</td>\n",
       "    </tr>\n",
       "    <tr>\n",
       "      <th>4</th>\n",
       "      <td>5.0</td>\n",
       "      <td>3.6</td>\n",
       "      <td>1.4</td>\n",
       "      <td>0.2</td>\n",
       "      <td>6.5</td>\n",
       "      <td>2.8</td>\n",
       "      <td>4.6</td>\n",
       "      <td>1.5</td>\n",
       "      <td>6.5</td>\n",
       "      <td>3.0</td>\n",
       "      <td>5.8</td>\n",
       "      <td>2.2</td>\n",
       "    </tr>\n",
       "  </tbody>\n",
       "</table>\n",
       "</div>"
      ],
      "text/plain": [
       "   sepal_length_Setosa  sepal_width_Setosa  petal_length_Setosa  \\\n",
       "0                  5.1                 3.5                  1.4   \n",
       "1                  4.9                 3.0                  1.4   \n",
       "2                  4.7                 3.2                  1.3   \n",
       "3                  4.6                 3.1                  1.5   \n",
       "4                  5.0                 3.6                  1.4   \n",
       "\n",
       "   petal_width_Setosa  sepal_length_Versicolor  sepal_width_Versicolor  \\\n",
       "0                 0.2                      7.0                     3.2   \n",
       "1                 0.2                      6.4                     3.2   \n",
       "2                 0.2                      6.9                     3.1   \n",
       "3                 0.2                      5.5                     2.3   \n",
       "4                 0.2                      6.5                     2.8   \n",
       "\n",
       "   petal_length_Versicolor  petal_width_Versicolor  sepal_length_Virginica  \\\n",
       "0                      4.7                     1.4                     6.3   \n",
       "1                      4.5                     1.5                     5.8   \n",
       "2                      4.9                     1.5                     7.1   \n",
       "3                      4.0                     1.3                     6.3   \n",
       "4                      4.6                     1.5                     6.5   \n",
       "\n",
       "   sepal_width_Virginica  petal_length_Virginica  petal_width_Virginica  \n",
       "0                    3.3                     6.0                    2.5  \n",
       "1                    2.7                     5.1                    1.9  \n",
       "2                    3.0                     5.9                    2.1  \n",
       "3                    2.9                     5.6                    1.8  \n",
       "4                    3.0                     5.8                    2.2  "
      ]
     },
     "execution_count": 31,
     "metadata": {},
     "output_type": "execute_result"
    }
   ],
   "source": [
    "super_iris.head()"
   ]
  },
  {
   "cell_type": "code",
   "execution_count": 32,
   "metadata": {},
   "outputs": [],
   "source": [
    "posthoc = []\n",
    "scheffe_inter = []\n",
    "\n",
    "for col1 in super_iris.columns:\n",
    "    for col2 in super_iris.columns:\n",
    "        x = super_iris[[col1, col2]]\n",
    "        x = x.melt(var_name='grupos', value_name='valores')\n",
    "        scheffe = sp.posthoc_scheffe(x, val_col='valores', group_col='grupos').round(2)\n",
    "        scheffe_interpretado = scheffe.copy()\n",
    "        scheffe_inter.append(scheffe_interpretado)\n",
    "        for sig in np.arange(0.00, 0.06, 0.01):\n",
    "            scheffe_interpretado = scheffe_interpretado.replace(sig, 'Significativo')\n",
    "            posthoc.append(scheffe_interpretado)"
   ]
  },
  {
   "cell_type": "code",
   "execution_count": 40,
   "metadata": {},
   "outputs": [
    {
     "data": {
      "text/html": [
       "<div>\n",
       "<style scoped>\n",
       "    .dataframe tbody tr th:only-of-type {\n",
       "        vertical-align: middle;\n",
       "    }\n",
       "\n",
       "    .dataframe tbody tr th {\n",
       "        vertical-align: top;\n",
       "    }\n",
       "\n",
       "    .dataframe thead th {\n",
       "        text-align: right;\n",
       "    }\n",
       "</style>\n",
       "<table border=\"1\" class=\"dataframe\">\n",
       "  <thead>\n",
       "    <tr style=\"text-align: right;\">\n",
       "      <th></th>\n",
       "      <th>sepal_length_Setosa</th>\n",
       "      <th>sepal_width_Setosa</th>\n",
       "      <th>petal_length_Setosa</th>\n",
       "      <th>petal_width_Setosa</th>\n",
       "      <th>sepal_length_Versicolor</th>\n",
       "      <th>sepal_width_Versicolor</th>\n",
       "      <th>petal_length_Versicolor</th>\n",
       "      <th>petal_width_Versicolor</th>\n",
       "      <th>sepal_length_Virginica</th>\n",
       "      <th>sepal_width_Virginica</th>\n",
       "      <th>petal_length_Virginica</th>\n",
       "      <th>petal_width_Virginica</th>\n",
       "    </tr>\n",
       "  </thead>\n",
       "  <tbody>\n",
       "    <tr>\n",
       "      <th>sepal_length_Setosa</th>\n",
       "      <td>1</td>\n",
       "      <td>NaN</td>\n",
       "      <td>NaN</td>\n",
       "      <td>NaN</td>\n",
       "      <td>NaN</td>\n",
       "      <td>NaN</td>\n",
       "      <td>NaN</td>\n",
       "      <td>NaN</td>\n",
       "      <td>NaN</td>\n",
       "      <td>NaN</td>\n",
       "      <td>NaN</td>\n",
       "      <td>NaN</td>\n",
       "    </tr>\n",
       "    <tr>\n",
       "      <th>sepal_length_Setosa</th>\n",
       "      <td>1</td>\n",
       "      <td>NaN</td>\n",
       "      <td>NaN</td>\n",
       "      <td>NaN</td>\n",
       "      <td>NaN</td>\n",
       "      <td>NaN</td>\n",
       "      <td>NaN</td>\n",
       "      <td>NaN</td>\n",
       "      <td>NaN</td>\n",
       "      <td>NaN</td>\n",
       "      <td>NaN</td>\n",
       "      <td>NaN</td>\n",
       "    </tr>\n",
       "    <tr>\n",
       "      <th>sepal_length_Setosa</th>\n",
       "      <td>1</td>\n",
       "      <td>NaN</td>\n",
       "      <td>NaN</td>\n",
       "      <td>NaN</td>\n",
       "      <td>NaN</td>\n",
       "      <td>NaN</td>\n",
       "      <td>NaN</td>\n",
       "      <td>NaN</td>\n",
       "      <td>NaN</td>\n",
       "      <td>NaN</td>\n",
       "      <td>NaN</td>\n",
       "      <td>NaN</td>\n",
       "    </tr>\n",
       "    <tr>\n",
       "      <th>sepal_length_Setosa</th>\n",
       "      <td>1</td>\n",
       "      <td>NaN</td>\n",
       "      <td>NaN</td>\n",
       "      <td>NaN</td>\n",
       "      <td>NaN</td>\n",
       "      <td>NaN</td>\n",
       "      <td>NaN</td>\n",
       "      <td>NaN</td>\n",
       "      <td>NaN</td>\n",
       "      <td>NaN</td>\n",
       "      <td>NaN</td>\n",
       "      <td>NaN</td>\n",
       "    </tr>\n",
       "    <tr>\n",
       "      <th>sepal_length_Setosa</th>\n",
       "      <td>1</td>\n",
       "      <td>NaN</td>\n",
       "      <td>NaN</td>\n",
       "      <td>NaN</td>\n",
       "      <td>NaN</td>\n",
       "      <td>NaN</td>\n",
       "      <td>NaN</td>\n",
       "      <td>NaN</td>\n",
       "      <td>NaN</td>\n",
       "      <td>NaN</td>\n",
       "      <td>NaN</td>\n",
       "      <td>NaN</td>\n",
       "    </tr>\n",
       "    <tr>\n",
       "      <th>...</th>\n",
       "      <td>...</td>\n",
       "      <td>...</td>\n",
       "      <td>...</td>\n",
       "      <td>...</td>\n",
       "      <td>...</td>\n",
       "      <td>...</td>\n",
       "      <td>...</td>\n",
       "      <td>...</td>\n",
       "      <td>...</td>\n",
       "      <td>...</td>\n",
       "      <td>...</td>\n",
       "      <td>...</td>\n",
       "    </tr>\n",
       "    <tr>\n",
       "      <th>petal_width_Virginica</th>\n",
       "      <td>NaN</td>\n",
       "      <td>NaN</td>\n",
       "      <td>NaN</td>\n",
       "      <td>NaN</td>\n",
       "      <td>NaN</td>\n",
       "      <td>NaN</td>\n",
       "      <td>NaN</td>\n",
       "      <td>NaN</td>\n",
       "      <td>NaN</td>\n",
       "      <td>NaN</td>\n",
       "      <td>NaN</td>\n",
       "      <td>1</td>\n",
       "    </tr>\n",
       "    <tr>\n",
       "      <th>petal_width_Virginica</th>\n",
       "      <td>NaN</td>\n",
       "      <td>NaN</td>\n",
       "      <td>NaN</td>\n",
       "      <td>NaN</td>\n",
       "      <td>NaN</td>\n",
       "      <td>NaN</td>\n",
       "      <td>NaN</td>\n",
       "      <td>NaN</td>\n",
       "      <td>NaN</td>\n",
       "      <td>NaN</td>\n",
       "      <td>NaN</td>\n",
       "      <td>1</td>\n",
       "    </tr>\n",
       "    <tr>\n",
       "      <th>petal_width_Virginica</th>\n",
       "      <td>NaN</td>\n",
       "      <td>NaN</td>\n",
       "      <td>NaN</td>\n",
       "      <td>NaN</td>\n",
       "      <td>NaN</td>\n",
       "      <td>NaN</td>\n",
       "      <td>NaN</td>\n",
       "      <td>NaN</td>\n",
       "      <td>NaN</td>\n",
       "      <td>NaN</td>\n",
       "      <td>NaN</td>\n",
       "      <td>1</td>\n",
       "    </tr>\n",
       "    <tr>\n",
       "      <th>petal_width_Virginica</th>\n",
       "      <td>NaN</td>\n",
       "      <td>NaN</td>\n",
       "      <td>NaN</td>\n",
       "      <td>NaN</td>\n",
       "      <td>NaN</td>\n",
       "      <td>NaN</td>\n",
       "      <td>NaN</td>\n",
       "      <td>NaN</td>\n",
       "      <td>NaN</td>\n",
       "      <td>NaN</td>\n",
       "      <td>NaN</td>\n",
       "      <td>1</td>\n",
       "    </tr>\n",
       "    <tr>\n",
       "      <th>petal_width_Virginica</th>\n",
       "      <td>NaN</td>\n",
       "      <td>NaN</td>\n",
       "      <td>NaN</td>\n",
       "      <td>NaN</td>\n",
       "      <td>NaN</td>\n",
       "      <td>NaN</td>\n",
       "      <td>NaN</td>\n",
       "      <td>NaN</td>\n",
       "      <td>NaN</td>\n",
       "      <td>NaN</td>\n",
       "      <td>NaN</td>\n",
       "      <td>1</td>\n",
       "    </tr>\n",
       "  </tbody>\n",
       "</table>\n",
       "<p>1656 rows × 12 columns</p>\n",
       "</div>"
      ],
      "text/plain": [
       "                      sepal_length_Setosa sepal_width_Setosa  \\\n",
       "sepal_length_Setosa                     1                NaN   \n",
       "sepal_length_Setosa                     1                NaN   \n",
       "sepal_length_Setosa                     1                NaN   \n",
       "sepal_length_Setosa                     1                NaN   \n",
       "sepal_length_Setosa                     1                NaN   \n",
       "...                                   ...                ...   \n",
       "petal_width_Virginica                 NaN                NaN   \n",
       "petal_width_Virginica                 NaN                NaN   \n",
       "petal_width_Virginica                 NaN                NaN   \n",
       "petal_width_Virginica                 NaN                NaN   \n",
       "petal_width_Virginica                 NaN                NaN   \n",
       "\n",
       "                      petal_length_Setosa petal_width_Setosa  \\\n",
       "sepal_length_Setosa                   NaN                NaN   \n",
       "sepal_length_Setosa                   NaN                NaN   \n",
       "sepal_length_Setosa                   NaN                NaN   \n",
       "sepal_length_Setosa                   NaN                NaN   \n",
       "sepal_length_Setosa                   NaN                NaN   \n",
       "...                                   ...                ...   \n",
       "petal_width_Virginica                 NaN                NaN   \n",
       "petal_width_Virginica                 NaN                NaN   \n",
       "petal_width_Virginica                 NaN                NaN   \n",
       "petal_width_Virginica                 NaN                NaN   \n",
       "petal_width_Virginica                 NaN                NaN   \n",
       "\n",
       "                      sepal_length_Versicolor sepal_width_Versicolor  \\\n",
       "sepal_length_Setosa                       NaN                    NaN   \n",
       "sepal_length_Setosa                       NaN                    NaN   \n",
       "sepal_length_Setosa                       NaN                    NaN   \n",
       "sepal_length_Setosa                       NaN                    NaN   \n",
       "sepal_length_Setosa                       NaN                    NaN   \n",
       "...                                       ...                    ...   \n",
       "petal_width_Virginica                     NaN                    NaN   \n",
       "petal_width_Virginica                     NaN                    NaN   \n",
       "petal_width_Virginica                     NaN                    NaN   \n",
       "petal_width_Virginica                     NaN                    NaN   \n",
       "petal_width_Virginica                     NaN                    NaN   \n",
       "\n",
       "                      petal_length_Versicolor petal_width_Versicolor  \\\n",
       "sepal_length_Setosa                       NaN                    NaN   \n",
       "sepal_length_Setosa                       NaN                    NaN   \n",
       "sepal_length_Setosa                       NaN                    NaN   \n",
       "sepal_length_Setosa                       NaN                    NaN   \n",
       "sepal_length_Setosa                       NaN                    NaN   \n",
       "...                                       ...                    ...   \n",
       "petal_width_Virginica                     NaN                    NaN   \n",
       "petal_width_Virginica                     NaN                    NaN   \n",
       "petal_width_Virginica                     NaN                    NaN   \n",
       "petal_width_Virginica                     NaN                    NaN   \n",
       "petal_width_Virginica                     NaN                    NaN   \n",
       "\n",
       "                      sepal_length_Virginica sepal_width_Virginica  \\\n",
       "sepal_length_Setosa                      NaN                   NaN   \n",
       "sepal_length_Setosa                      NaN                   NaN   \n",
       "sepal_length_Setosa                      NaN                   NaN   \n",
       "sepal_length_Setosa                      NaN                   NaN   \n",
       "sepal_length_Setosa                      NaN                   NaN   \n",
       "...                                      ...                   ...   \n",
       "petal_width_Virginica                    NaN                   NaN   \n",
       "petal_width_Virginica                    NaN                   NaN   \n",
       "petal_width_Virginica                    NaN                   NaN   \n",
       "petal_width_Virginica                    NaN                   NaN   \n",
       "petal_width_Virginica                    NaN                   NaN   \n",
       "\n",
       "                      petal_length_Virginica petal_width_Virginica  \n",
       "sepal_length_Setosa                      NaN                   NaN  \n",
       "sepal_length_Setosa                      NaN                   NaN  \n",
       "sepal_length_Setosa                      NaN                   NaN  \n",
       "sepal_length_Setosa                      NaN                   NaN  \n",
       "sepal_length_Setosa                      NaN                   NaN  \n",
       "...                                      ...                   ...  \n",
       "petal_width_Virginica                    NaN                     1  \n",
       "petal_width_Virginica                    NaN                     1  \n",
       "petal_width_Virginica                    NaN                     1  \n",
       "petal_width_Virginica                    NaN                     1  \n",
       "petal_width_Virginica                    NaN                     1  \n",
       "\n",
       "[1656 rows x 12 columns]"
      ]
     },
     "execution_count": 40,
     "metadata": {},
     "output_type": "execute_result"
    }
   ],
   "source": [
    "post = pd.concat(posthoc)\n",
    "#print(post.dropna(how='all'))\n",
    "schef = pd.concat(scheffe_inter)\n",
    "#print(schef.dropna(how='all'))\n",
    "#schef#.info()\n",
    "post"
   ]
  },
  {
   "cell_type": "markdown",
   "metadata": {},
   "source": [
    "## Vamos a meterlos todos"
   ]
  },
  {
   "cell_type": "code",
   "execution_count": null,
   "metadata": {},
   "outputs": [],
   "source": [
    "for variedad in iris['variety'].unique():\n",
    "    print(variedad)\n",
    "    for col1 in iris.columns[:-1]:\n",
    "        print(col1)"
   ]
  },
  {
   "cell_type": "code",
   "execution_count": 54,
   "metadata": {},
   "outputs": [],
   "source": [
    "normalidad = []\n",
    "anormalidad = []\n",
    "\n",
    "comparacion = []\n",
    "sin_comparacion = []\n",
    "\n",
    "# Variedad 1\n",
    "for variedad1 in iris['variety'].unique():\n",
    "    por_tipo1 = iris.loc[iris['variety'] == variedad1]\n",
    "    \n",
    "    # Test de Normalidad\n",
    "    for col1 in por_tipo1.columns[:-1]:\n",
    "        valor, pvalor = spss.normaltest(por_tipo1[col1])\n",
    "        if pvalor <= 0.05:\n",
    "            normalidad.append('Columna -> {}, Valor estadístico = {}, p-value = {} -> Presenta normalidad en los datos.'.format(col1, round(valor, 3), round(pvalor, 3)))\n",
    "        else:\n",
    "            anormalidad.append('Columna -> {}, Valor estadístico = {}, p-value = {} -> Anormalidad en los datos.'.format(col1, round(valor, 3), round(pvalor, 3)))\n",
    "\n",
    "    # Variedad 2\n",
    "    for variedad2 in iris['variety'].unique():\n",
    "        por_tipo2 = iris.loc[iris['variety'] == variedad2]\n",
    "        \n",
    "        # Columna 1\n",
    "        for col1 in por_tipo1.columns[:-1]:\n",
    "            \n",
    "            # Columna 2\n",
    "            for col2 in por_tipo2.columns[:-1]:\n",
    "                \n",
    "                # Test de Comparación\n",
    "                for col2 in por_tipo2.columns[:-1]:\n",
    "                    estadistico, p_value = spss.ttest_ind(por_tipo1[col1], por_tipo2[col2])\n",
    "                    if p_value <= 0.05:\n",
    "                        comparacion.append('Significativo, {}-{}, {} - {} = Estadístico: {}, P_Value: {}'.format(variedad1, variedad2, col1, col2, round(estadistico, 3), round(p_value, 3)))\n",
    "                    else:\n",
    "                        sin_comparacion.append('Insignificante, {}-{}, {} - {} = Estadístico: {}, P_Value: {}'.format(variedad1, variedad2, col1, col2, round(estadistico, 3), round(p_value, 3)))"
   ]
  },
  {
   "cell_type": "code",
   "execution_count": null,
   "metadata": {},
   "outputs": [],
   "source": [
    "for normal in normalidad:\n",
    "    print(normal)\n",
    "\n",
    "print(' ')\n",
    "\n",
    "for compara in comparacion:\n",
    "    print(compara)"
   ]
  },
  {
   "cell_type": "code",
   "execution_count": 58,
   "metadata": {},
   "outputs": [
    {
     "data": {
      "text/html": [
       "<div>\n",
       "<style scoped>\n",
       "    .dataframe tbody tr th:only-of-type {\n",
       "        vertical-align: middle;\n",
       "    }\n",
       "\n",
       "    .dataframe tbody tr th {\n",
       "        vertical-align: top;\n",
       "    }\n",
       "\n",
       "    .dataframe thead th {\n",
       "        text-align: right;\n",
       "    }\n",
       "</style>\n",
       "<table border=\"1\" class=\"dataframe\">\n",
       "  <thead>\n",
       "    <tr style=\"text-align: right;\">\n",
       "      <th></th>\n",
       "      <th>sepal_length</th>\n",
       "      <th>sepal_width</th>\n",
       "      <th>petal_length</th>\n",
       "      <th>petal_width</th>\n",
       "      <th>variety</th>\n",
       "    </tr>\n",
       "  </thead>\n",
       "  <tbody>\n",
       "    <tr>\n",
       "      <th>0</th>\n",
       "      <td>5.1</td>\n",
       "      <td>3.5</td>\n",
       "      <td>1.4</td>\n",
       "      <td>0.2</td>\n",
       "      <td>Setosa</td>\n",
       "    </tr>\n",
       "    <tr>\n",
       "      <th>1</th>\n",
       "      <td>4.9</td>\n",
       "      <td>3.0</td>\n",
       "      <td>1.4</td>\n",
       "      <td>0.2</td>\n",
       "      <td>Setosa</td>\n",
       "    </tr>\n",
       "    <tr>\n",
       "      <th>2</th>\n",
       "      <td>4.7</td>\n",
       "      <td>3.2</td>\n",
       "      <td>1.3</td>\n",
       "      <td>0.2</td>\n",
       "      <td>Setosa</td>\n",
       "    </tr>\n",
       "    <tr>\n",
       "      <th>3</th>\n",
       "      <td>4.6</td>\n",
       "      <td>3.1</td>\n",
       "      <td>1.5</td>\n",
       "      <td>0.2</td>\n",
       "      <td>Setosa</td>\n",
       "    </tr>\n",
       "    <tr>\n",
       "      <th>4</th>\n",
       "      <td>5.0</td>\n",
       "      <td>3.6</td>\n",
       "      <td>1.4</td>\n",
       "      <td>0.2</td>\n",
       "      <td>Setosa</td>\n",
       "    </tr>\n",
       "  </tbody>\n",
       "</table>\n",
       "</div>"
      ],
      "text/plain": [
       "   sepal_length  sepal_width  petal_length  petal_width variety\n",
       "0           5.1          3.5           1.4          0.2  Setosa\n",
       "1           4.9          3.0           1.4          0.2  Setosa\n",
       "2           4.7          3.2           1.3          0.2  Setosa\n",
       "3           4.6          3.1           1.5          0.2  Setosa\n",
       "4           5.0          3.6           1.4          0.2  Setosa"
      ]
     },
     "execution_count": 58,
     "metadata": {},
     "output_type": "execute_result"
    }
   ],
   "source": [
    "iris.head()"
   ]
  },
  {
   "cell_type": "code",
   "execution_count": 59,
   "metadata": {},
   "outputs": [
    {
     "name": "stdout",
     "output_type": "stream",
     "text": [
      "           grupos  valores\n",
      "0    sepal_length      5.1\n",
      "1    sepal_length      4.9\n",
      "2    sepal_length      4.7\n",
      "3    sepal_length      4.6\n",
      "4    sepal_length      5.0\n",
      "..            ...      ...\n",
      "295  petal_length      5.2\n",
      "296  petal_length      5.0\n",
      "297  petal_length      5.2\n",
      "298  petal_length      5.4\n",
      "299  petal_length      5.1\n",
      "\n",
      "[300 rows x 2 columns]\n"
     ]
    }
   ],
   "source": [
    "x = iris[['sepal_length', 'petal_length']]\n",
    "x = x.melt(var_name='grupos', value_name='valores')\n",
    "print(x)#.head())"
   ]
  },
  {
   "cell_type": "code",
   "execution_count": 63,
   "metadata": {},
   "outputs": [
    {
     "data": {
      "text/html": [
       "<div>\n",
       "<style scoped>\n",
       "    .dataframe tbody tr th:only-of-type {\n",
       "        vertical-align: middle;\n",
       "    }\n",
       "\n",
       "    .dataframe tbody tr th {\n",
       "        vertical-align: top;\n",
       "    }\n",
       "\n",
       "    .dataframe thead th {\n",
       "        text-align: right;\n",
       "    }\n",
       "</style>\n",
       "<table border=\"1\" class=\"dataframe\">\n",
       "  <thead>\n",
       "    <tr style=\"text-align: right;\">\n",
       "      <th></th>\n",
       "      <th>sepal_length_Setosa</th>\n",
       "      <th>sepal_width_Setosa</th>\n",
       "      <th>petal_length_Setosa</th>\n",
       "      <th>petal_width_Setosa</th>\n",
       "      <th>sepal_length_Versicolor</th>\n",
       "      <th>sepal_width_Versicolor</th>\n",
       "      <th>petal_length_Versicolor</th>\n",
       "      <th>petal_width_Versicolor</th>\n",
       "      <th>sepal_length_Virginica</th>\n",
       "      <th>sepal_width_Virginica</th>\n",
       "      <th>petal_length_Virginica</th>\n",
       "      <th>petal_width_Virginica</th>\n",
       "    </tr>\n",
       "  </thead>\n",
       "  <tbody>\n",
       "    <tr>\n",
       "      <th>0</th>\n",
       "      <td>5.1</td>\n",
       "      <td>3.5</td>\n",
       "      <td>1.4</td>\n",
       "      <td>0.2</td>\n",
       "      <td>7.0</td>\n",
       "      <td>3.2</td>\n",
       "      <td>4.7</td>\n",
       "      <td>1.4</td>\n",
       "      <td>6.3</td>\n",
       "      <td>3.3</td>\n",
       "      <td>6.0</td>\n",
       "      <td>2.5</td>\n",
       "    </tr>\n",
       "    <tr>\n",
       "      <th>1</th>\n",
       "      <td>4.9</td>\n",
       "      <td>3.0</td>\n",
       "      <td>1.4</td>\n",
       "      <td>0.2</td>\n",
       "      <td>6.4</td>\n",
       "      <td>3.2</td>\n",
       "      <td>4.5</td>\n",
       "      <td>1.5</td>\n",
       "      <td>5.8</td>\n",
       "      <td>2.7</td>\n",
       "      <td>5.1</td>\n",
       "      <td>1.9</td>\n",
       "    </tr>\n",
       "    <tr>\n",
       "      <th>2</th>\n",
       "      <td>4.7</td>\n",
       "      <td>3.2</td>\n",
       "      <td>1.3</td>\n",
       "      <td>0.2</td>\n",
       "      <td>6.9</td>\n",
       "      <td>3.1</td>\n",
       "      <td>4.9</td>\n",
       "      <td>1.5</td>\n",
       "      <td>7.1</td>\n",
       "      <td>3.0</td>\n",
       "      <td>5.9</td>\n",
       "      <td>2.1</td>\n",
       "    </tr>\n",
       "    <tr>\n",
       "      <th>3</th>\n",
       "      <td>4.6</td>\n",
       "      <td>3.1</td>\n",
       "      <td>1.5</td>\n",
       "      <td>0.2</td>\n",
       "      <td>5.5</td>\n",
       "      <td>2.3</td>\n",
       "      <td>4.0</td>\n",
       "      <td>1.3</td>\n",
       "      <td>6.3</td>\n",
       "      <td>2.9</td>\n",
       "      <td>5.6</td>\n",
       "      <td>1.8</td>\n",
       "    </tr>\n",
       "    <tr>\n",
       "      <th>4</th>\n",
       "      <td>5.0</td>\n",
       "      <td>3.6</td>\n",
       "      <td>1.4</td>\n",
       "      <td>0.2</td>\n",
       "      <td>6.5</td>\n",
       "      <td>2.8</td>\n",
       "      <td>4.6</td>\n",
       "      <td>1.5</td>\n",
       "      <td>6.5</td>\n",
       "      <td>3.0</td>\n",
       "      <td>5.8</td>\n",
       "      <td>2.2</td>\n",
       "    </tr>\n",
       "  </tbody>\n",
       "</table>\n",
       "</div>"
      ],
      "text/plain": [
       "   sepal_length_Setosa  sepal_width_Setosa  petal_length_Setosa  \\\n",
       "0                  5.1                 3.5                  1.4   \n",
       "1                  4.9                 3.0                  1.4   \n",
       "2                  4.7                 3.2                  1.3   \n",
       "3                  4.6                 3.1                  1.5   \n",
       "4                  5.0                 3.6                  1.4   \n",
       "\n",
       "   petal_width_Setosa  sepal_length_Versicolor  sepal_width_Versicolor  \\\n",
       "0                 0.2                      7.0                     3.2   \n",
       "1                 0.2                      6.4                     3.2   \n",
       "2                 0.2                      6.9                     3.1   \n",
       "3                 0.2                      5.5                     2.3   \n",
       "4                 0.2                      6.5                     2.8   \n",
       "\n",
       "   petal_length_Versicolor  petal_width_Versicolor  sepal_length_Virginica  \\\n",
       "0                      4.7                     1.4                     6.3   \n",
       "1                      4.5                     1.5                     5.8   \n",
       "2                      4.9                     1.5                     7.1   \n",
       "3                      4.0                     1.3                     6.3   \n",
       "4                      4.6                     1.5                     6.5   \n",
       "\n",
       "   sepal_width_Virginica  petal_length_Virginica  petal_width_Virginica  \n",
       "0                    3.3                     6.0                    2.5  \n",
       "1                    2.7                     5.1                    1.9  \n",
       "2                    3.0                     5.9                    2.1  \n",
       "3                    2.9                     5.6                    1.8  \n",
       "4                    3.0                     5.8                    2.2  "
      ]
     },
     "execution_count": 63,
     "metadata": {},
     "output_type": "execute_result"
    }
   ],
   "source": [
    "super_iris.head()"
   ]
  },
  {
   "cell_type": "code",
   "execution_count": null,
   "metadata": {},
   "outputs": [],
   "source": [
    "para_post = pd.DataFrame()\n",
    "para_post['Grupos'] = len(super_iris.iloc[:, 0].T) * super_iris.iloc[:, 0].name\n",
    "para_post['Valores'] = super_iris.iloc[:, 0].T\n",
    "para_post\n",
    "#super_iris.iloc[:, 0].name\n",
    "#super_iris.iloc[:, 0].T"
   ]
  },
  {
   "cell_type": "code",
   "execution_count": 91,
   "metadata": {},
   "outputs": [
    {
     "data": {
      "text/plain": [
       "['s',\n",
       " 'e',\n",
       " 'p',\n",
       " 'a',\n",
       " 'l',\n",
       " '_',\n",
       " 'l',\n",
       " 'e',\n",
       " 'n',\n",
       " 'g',\n",
       " 't',\n",
       " 'h',\n",
       " '_',\n",
       " 'S',\n",
       " 'e',\n",
       " 't',\n",
       " 'o',\n",
       " 's',\n",
       " 'a']"
      ]
     },
     "execution_count": 91,
     "metadata": {},
     "output_type": "execute_result"
    }
   ],
   "source": [
    "list(super_iris.iloc[:, 0].name)"
   ]
  },
  {
   "cell_type": "code",
   "execution_count": null,
   "metadata": {},
   "outputs": [],
   "source": [
    "posthoc = []\n",
    "scheffe_inter = []\n",
    "\n",
    "for col1 in super_iris.columns:\n",
    "    for col2 in super_iris.columns:\n",
    "        x = super_iris[[col1, col2]]\n",
    "        x = x.melt(var_name='grupos', value_name='valores')\n",
    "        scheffe = sp.posthoc_scheffe(x, val_col='valores', group_col='grupos').round(2)\n",
    "        scheffe_interpretado = scheffe.copy()\n",
    "        scheffe_inter.append(scheffe_interpretado)\n",
    "        for sig in np.arange(0.00, 0.06, 0.01):\n",
    "            scheffe_interpretado = scheffe_interpretado.replace(sig, 'Significativo')\n",
    "            posthoc.append(scheffe_interpretado)"
   ]
  },
  {
   "cell_type": "code",
   "execution_count": 65,
   "metadata": {},
   "outputs": [
    {
     "data": {
      "text/html": [
       "<div>\n",
       "<style scoped>\n",
       "    .dataframe tbody tr th:only-of-type {\n",
       "        vertical-align: middle;\n",
       "    }\n",
       "\n",
       "    .dataframe tbody tr th {\n",
       "        vertical-align: top;\n",
       "    }\n",
       "\n",
       "    .dataframe thead th {\n",
       "        text-align: right;\n",
       "    }\n",
       "</style>\n",
       "<table border=\"1\" class=\"dataframe\">\n",
       "  <thead>\n",
       "    <tr style=\"text-align: right;\">\n",
       "      <th></th>\n",
       "      <th>sepal_length_Setosa</th>\n",
       "      <th>sepal_width_Setosa</th>\n",
       "      <th>petal_length_Setosa</th>\n",
       "      <th>petal_width_Setosa</th>\n",
       "      <th>sepal_length_Versicolor</th>\n",
       "      <th>sepal_width_Versicolor</th>\n",
       "      <th>petal_length_Versicolor</th>\n",
       "      <th>petal_width_Versicolor</th>\n",
       "      <th>sepal_length_Virginica</th>\n",
       "      <th>sepal_width_Virginica</th>\n",
       "      <th>petal_length_Virginica</th>\n",
       "      <th>petal_width_Virginica</th>\n",
       "    </tr>\n",
       "  </thead>\n",
       "  <tbody>\n",
       "    <tr>\n",
       "      <th>sepal_length_Setosa</th>\n",
       "      <td>1</td>\n",
       "      <td>NaN</td>\n",
       "      <td>NaN</td>\n",
       "      <td>NaN</td>\n",
       "      <td>NaN</td>\n",
       "      <td>NaN</td>\n",
       "      <td>NaN</td>\n",
       "      <td>NaN</td>\n",
       "      <td>NaN</td>\n",
       "      <td>NaN</td>\n",
       "      <td>NaN</td>\n",
       "      <td>NaN</td>\n",
       "    </tr>\n",
       "    <tr>\n",
       "      <th>sepal_length_Setosa</th>\n",
       "      <td>1</td>\n",
       "      <td>NaN</td>\n",
       "      <td>NaN</td>\n",
       "      <td>NaN</td>\n",
       "      <td>NaN</td>\n",
       "      <td>NaN</td>\n",
       "      <td>NaN</td>\n",
       "      <td>NaN</td>\n",
       "      <td>NaN</td>\n",
       "      <td>NaN</td>\n",
       "      <td>NaN</td>\n",
       "      <td>NaN</td>\n",
       "    </tr>\n",
       "    <tr>\n",
       "      <th>sepal_length_Setosa</th>\n",
       "      <td>1</td>\n",
       "      <td>NaN</td>\n",
       "      <td>NaN</td>\n",
       "      <td>NaN</td>\n",
       "      <td>NaN</td>\n",
       "      <td>NaN</td>\n",
       "      <td>NaN</td>\n",
       "      <td>NaN</td>\n",
       "      <td>NaN</td>\n",
       "      <td>NaN</td>\n",
       "      <td>NaN</td>\n",
       "      <td>NaN</td>\n",
       "    </tr>\n",
       "    <tr>\n",
       "      <th>sepal_length_Setosa</th>\n",
       "      <td>1</td>\n",
       "      <td>NaN</td>\n",
       "      <td>NaN</td>\n",
       "      <td>NaN</td>\n",
       "      <td>NaN</td>\n",
       "      <td>NaN</td>\n",
       "      <td>NaN</td>\n",
       "      <td>NaN</td>\n",
       "      <td>NaN</td>\n",
       "      <td>NaN</td>\n",
       "      <td>NaN</td>\n",
       "      <td>NaN</td>\n",
       "    </tr>\n",
       "    <tr>\n",
       "      <th>sepal_length_Setosa</th>\n",
       "      <td>1</td>\n",
       "      <td>NaN</td>\n",
       "      <td>NaN</td>\n",
       "      <td>NaN</td>\n",
       "      <td>NaN</td>\n",
       "      <td>NaN</td>\n",
       "      <td>NaN</td>\n",
       "      <td>NaN</td>\n",
       "      <td>NaN</td>\n",
       "      <td>NaN</td>\n",
       "      <td>NaN</td>\n",
       "      <td>NaN</td>\n",
       "    </tr>\n",
       "  </tbody>\n",
       "</table>\n",
       "</div>"
      ],
      "text/plain": [
       "                    sepal_length_Setosa sepal_width_Setosa  \\\n",
       "sepal_length_Setosa                   1                NaN   \n",
       "sepal_length_Setosa                   1                NaN   \n",
       "sepal_length_Setosa                   1                NaN   \n",
       "sepal_length_Setosa                   1                NaN   \n",
       "sepal_length_Setosa                   1                NaN   \n",
       "\n",
       "                    petal_length_Setosa petal_width_Setosa  \\\n",
       "sepal_length_Setosa                 NaN                NaN   \n",
       "sepal_length_Setosa                 NaN                NaN   \n",
       "sepal_length_Setosa                 NaN                NaN   \n",
       "sepal_length_Setosa                 NaN                NaN   \n",
       "sepal_length_Setosa                 NaN                NaN   \n",
       "\n",
       "                    sepal_length_Versicolor sepal_width_Versicolor  \\\n",
       "sepal_length_Setosa                     NaN                    NaN   \n",
       "sepal_length_Setosa                     NaN                    NaN   \n",
       "sepal_length_Setosa                     NaN                    NaN   \n",
       "sepal_length_Setosa                     NaN                    NaN   \n",
       "sepal_length_Setosa                     NaN                    NaN   \n",
       "\n",
       "                    petal_length_Versicolor petal_width_Versicolor  \\\n",
       "sepal_length_Setosa                     NaN                    NaN   \n",
       "sepal_length_Setosa                     NaN                    NaN   \n",
       "sepal_length_Setosa                     NaN                    NaN   \n",
       "sepal_length_Setosa                     NaN                    NaN   \n",
       "sepal_length_Setosa                     NaN                    NaN   \n",
       "\n",
       "                    sepal_length_Virginica sepal_width_Virginica  \\\n",
       "sepal_length_Setosa                    NaN                   NaN   \n",
       "sepal_length_Setosa                    NaN                   NaN   \n",
       "sepal_length_Setosa                    NaN                   NaN   \n",
       "sepal_length_Setosa                    NaN                   NaN   \n",
       "sepal_length_Setosa                    NaN                   NaN   \n",
       "\n",
       "                    petal_length_Virginica petal_width_Virginica  \n",
       "sepal_length_Setosa                    NaN                   NaN  \n",
       "sepal_length_Setosa                    NaN                   NaN  \n",
       "sepal_length_Setosa                    NaN                   NaN  \n",
       "sepal_length_Setosa                    NaN                   NaN  \n",
       "sepal_length_Setosa                    NaN                   NaN  "
      ]
     },
     "execution_count": 65,
     "metadata": {},
     "output_type": "execute_result"
    }
   ],
   "source": [
    "post = pd.concat(posthoc)\n",
    "post.head()"
   ]
  },
  {
   "cell_type": "code",
   "execution_count": 64,
   "metadata": {},
   "outputs": [
    {
     "data": {
      "text/html": [
       "<div>\n",
       "<style scoped>\n",
       "    .dataframe tbody tr th:only-of-type {\n",
       "        vertical-align: middle;\n",
       "    }\n",
       "\n",
       "    .dataframe tbody tr th {\n",
       "        vertical-align: top;\n",
       "    }\n",
       "\n",
       "    .dataframe thead th {\n",
       "        text-align: right;\n",
       "    }\n",
       "</style>\n",
       "<table border=\"1\" class=\"dataframe\">\n",
       "  <thead>\n",
       "    <tr style=\"text-align: right;\">\n",
       "      <th></th>\n",
       "      <th>sepal_length_Setosa</th>\n",
       "      <th>sepal_width_Setosa</th>\n",
       "      <th>petal_length_Setosa</th>\n",
       "      <th>petal_width_Setosa</th>\n",
       "      <th>sepal_length_Versicolor</th>\n",
       "      <th>sepal_width_Versicolor</th>\n",
       "      <th>petal_length_Versicolor</th>\n",
       "      <th>petal_width_Versicolor</th>\n",
       "      <th>sepal_length_Virginica</th>\n",
       "      <th>sepal_width_Virginica</th>\n",
       "      <th>petal_length_Virginica</th>\n",
       "      <th>petal_width_Virginica</th>\n",
       "    </tr>\n",
       "  </thead>\n",
       "  <tbody>\n",
       "    <tr>\n",
       "      <th>sepal_length_Setosa</th>\n",
       "      <td>1.0</td>\n",
       "      <td>NaN</td>\n",
       "      <td>NaN</td>\n",
       "      <td>NaN</td>\n",
       "      <td>NaN</td>\n",
       "      <td>NaN</td>\n",
       "      <td>NaN</td>\n",
       "      <td>NaN</td>\n",
       "      <td>NaN</td>\n",
       "      <td>NaN</td>\n",
       "      <td>NaN</td>\n",
       "      <td>NaN</td>\n",
       "    </tr>\n",
       "    <tr>\n",
       "      <th>sepal_length_Setosa</th>\n",
       "      <td>1.0</td>\n",
       "      <td>0.0</td>\n",
       "      <td>NaN</td>\n",
       "      <td>NaN</td>\n",
       "      <td>NaN</td>\n",
       "      <td>NaN</td>\n",
       "      <td>NaN</td>\n",
       "      <td>NaN</td>\n",
       "      <td>NaN</td>\n",
       "      <td>NaN</td>\n",
       "      <td>NaN</td>\n",
       "      <td>NaN</td>\n",
       "    </tr>\n",
       "    <tr>\n",
       "      <th>sepal_width_Setosa</th>\n",
       "      <td>0.0</td>\n",
       "      <td>1.0</td>\n",
       "      <td>NaN</td>\n",
       "      <td>NaN</td>\n",
       "      <td>NaN</td>\n",
       "      <td>NaN</td>\n",
       "      <td>NaN</td>\n",
       "      <td>NaN</td>\n",
       "      <td>NaN</td>\n",
       "      <td>NaN</td>\n",
       "      <td>NaN</td>\n",
       "      <td>NaN</td>\n",
       "    </tr>\n",
       "    <tr>\n",
       "      <th>sepal_length_Setosa</th>\n",
       "      <td>1.0</td>\n",
       "      <td>NaN</td>\n",
       "      <td>0.0</td>\n",
       "      <td>NaN</td>\n",
       "      <td>NaN</td>\n",
       "      <td>NaN</td>\n",
       "      <td>NaN</td>\n",
       "      <td>NaN</td>\n",
       "      <td>NaN</td>\n",
       "      <td>NaN</td>\n",
       "      <td>NaN</td>\n",
       "      <td>NaN</td>\n",
       "    </tr>\n",
       "    <tr>\n",
       "      <th>petal_length_Setosa</th>\n",
       "      <td>0.0</td>\n",
       "      <td>NaN</td>\n",
       "      <td>1.0</td>\n",
       "      <td>NaN</td>\n",
       "      <td>NaN</td>\n",
       "      <td>NaN</td>\n",
       "      <td>NaN</td>\n",
       "      <td>NaN</td>\n",
       "      <td>NaN</td>\n",
       "      <td>NaN</td>\n",
       "      <td>NaN</td>\n",
       "      <td>NaN</td>\n",
       "    </tr>\n",
       "  </tbody>\n",
       "</table>\n",
       "</div>"
      ],
      "text/plain": [
       "                     sepal_length_Setosa  sepal_width_Setosa  \\\n",
       "sepal_length_Setosa                  1.0                 NaN   \n",
       "sepal_length_Setosa                  1.0                 0.0   \n",
       "sepal_width_Setosa                   0.0                 1.0   \n",
       "sepal_length_Setosa                  1.0                 NaN   \n",
       "petal_length_Setosa                  0.0                 NaN   \n",
       "\n",
       "                     petal_length_Setosa  petal_width_Setosa  \\\n",
       "sepal_length_Setosa                  NaN                 NaN   \n",
       "sepal_length_Setosa                  NaN                 NaN   \n",
       "sepal_width_Setosa                   NaN                 NaN   \n",
       "sepal_length_Setosa                  0.0                 NaN   \n",
       "petal_length_Setosa                  1.0                 NaN   \n",
       "\n",
       "                     sepal_length_Versicolor  sepal_width_Versicolor  \\\n",
       "sepal_length_Setosa                      NaN                     NaN   \n",
       "sepal_length_Setosa                      NaN                     NaN   \n",
       "sepal_width_Setosa                       NaN                     NaN   \n",
       "sepal_length_Setosa                      NaN                     NaN   \n",
       "petal_length_Setosa                      NaN                     NaN   \n",
       "\n",
       "                     petal_length_Versicolor  petal_width_Versicolor  \\\n",
       "sepal_length_Setosa                      NaN                     NaN   \n",
       "sepal_length_Setosa                      NaN                     NaN   \n",
       "sepal_width_Setosa                       NaN                     NaN   \n",
       "sepal_length_Setosa                      NaN                     NaN   \n",
       "petal_length_Setosa                      NaN                     NaN   \n",
       "\n",
       "                     sepal_length_Virginica  sepal_width_Virginica  \\\n",
       "sepal_length_Setosa                     NaN                    NaN   \n",
       "sepal_length_Setosa                     NaN                    NaN   \n",
       "sepal_width_Setosa                      NaN                    NaN   \n",
       "sepal_length_Setosa                     NaN                    NaN   \n",
       "petal_length_Setosa                     NaN                    NaN   \n",
       "\n",
       "                     petal_length_Virginica  petal_width_Virginica  \n",
       "sepal_length_Setosa                     NaN                    NaN  \n",
       "sepal_length_Setosa                     NaN                    NaN  \n",
       "sepal_width_Setosa                      NaN                    NaN  \n",
       "sepal_length_Setosa                     NaN                    NaN  \n",
       "petal_length_Setosa                     NaN                    NaN  "
      ]
     },
     "execution_count": 64,
     "metadata": {},
     "output_type": "execute_result"
    }
   ],
   "source": [
    "interpretacion = pd.concat(scheffe_inter)\n",
    "interpretacion.head()"
   ]
  },
  {
   "cell_type": "code",
   "execution_count": null,
   "metadata": {},
   "outputs": [],
   "source": [
    "scheffe = sp.posthoc_scheffe(x, val_col='valores', group_col='grupos').round(3)\n",
    "print(scheffe)\n",
    "print(' ')\n",
    "scheffe_interpretado = scheffe.copy()\n",
    "for sig in np.arange(0.00, 0.06, 0.01):\n",
    "    scheffe_interpretado = scheffe_interpretado.replace(sig, 'Significativo')\n",
    "print(scheffe_interpretado)"
   ]
  },
  {
   "cell_type": "code",
   "execution_count": null,
   "metadata": {},
   "outputs": [],
   "source": [
    "iris.groupby('variety')[['petal_length', 'sepal_width']]"
   ]
  },
  {
   "cell_type": "code",
   "execution_count": null,
   "metadata": {},
   "outputs": [],
   "source": [
    "normalidad = []\n",
    "for col in iris.columns[:-1]:\n",
    "    valor, pvalor = spss.normaltest(iris[col])\n",
    "    if pvalor <= 0.05:\n",
    "        normalidad.append('Columna -> {}, Valor estadístico = {}, p-value = {} -> Presenta normalidad en los datos.'.format(col, valor, round(pvalor, 3)))\n",
    "    else:\n",
    "        normalidad.append('Columna -> {}, Valor estadístico = {}, p-value = {} -> Anormalidad en los datos.'.format(col, valor, round(pvalor, 3)))\n",
    "normalidad\n",
    "\n",
    "estadistico, p_value = spss.ttest_ind(iris['petal_length'], iris['sepal_width'])\n",
    "if p_value <= 0.05:\n",
    "    print('P value es de {}: Hay comparación.'.format(round(p_value, 3)))\n",
    "else:\n",
    "    print('P value es de {}: Ni de broma.'.format(round(p_value, 3)))"
   ]
  },
  {
   "cell_type": "code",
   "execution_count": null,
   "metadata": {},
   "outputs": [],
   "source": [
    "from statsmodels.formula.api import ols"
   ]
  },
  {
   "cell_type": "code",
   "execution_count": null,
   "metadata": {},
   "outputs": [],
   "source": [
    "model = ols('sepal_width ~ variety + petal_length', iris).fit()\n",
    "print(model.summary())"
   ]
  },
  {
   "cell_type": "code",
   "execution_count": null,
   "metadata": {},
   "outputs": [],
   "source": [
    "# Guardar el módelo\n",
    "with open('OLS-Iris.txt', 'w') as file_txt:\n",
    "    file_txt.write(str(model.summary()))\n",
    "    file_txt.close()"
   ]
  },
  {
   "cell_type": "code",
   "execution_count": null,
   "metadata": {},
   "outputs": [],
   "source": [
    "sns.pairplot(iris, vars=['sepal_length', 'sepal_width', 'petal_length', 'petal_width'], kind='reg', hue='variety') "
   ]
  },
  {
   "cell_type": "code",
   "execution_count": null,
   "metadata": {},
   "outputs": [],
   "source": [
    "sns.lmplot(y='sepal_length', x='petal_length', data=iris)  "
   ]
  },
  {
   "cell_type": "code",
   "execution_count": null,
   "metadata": {},
   "outputs": [],
   "source": [
    "### COMO DEBERÍA DE SER\n",
    "\n",
    "tipos = pd.Categorical(iris['variety'])\n",
    "\n",
    "pdplt.scatter_matrix(iris, c=tipos.codes, marker='o', figsize=(10, 8))"
   ]
  },
  {
   "cell_type": "code",
   "execution_count": null,
   "metadata": {},
   "outputs": [],
   "source": [
    "model = ols('sepal_width ~ variety + petal_length', iris).fit()\n",
    "print(model.summary())\n",
    "print(' ')\n",
    "print('Probando la diferencia entre el efecto de versicolor y virginica')\n",
    "print(model.f_test([0, 1, -1, 0]))\n",
    "plt.show()"
   ]
  },
  {
   "cell_type": "markdown",
   "metadata": {},
   "source": [
    "## 3er Dataset. Datos de tesis."
   ]
  },
  {
   "cell_type": "code",
   "execution_count": null,
   "metadata": {},
   "outputs": [],
   "source": [
    "import pandas as pd\n",
    "import numpy as np\n",
    "import matplotlib.pyplot as plt\n",
    "from glob import glob as gg\n",
    "from tqdm import tqdm\n",
    "import time"
   ]
  },
  {
   "cell_type": "code",
   "execution_count": null,
   "metadata": {},
   "outputs": [],
   "source": [
    "# Búsqueda de las Bases Reales\n",
    "files_txt = sorted(gg('*.txt'))\n",
    "files_txt"
   ]
  },
  {
   "cell_type": "code",
   "execution_count": null,
   "metadata": {},
   "outputs": [],
   "source": [
    "with open(files_txt[0], 'r') as file:\n",
    "    print(file.readlines(1000))\n",
    "    file.close()"
   ]
  },
  {
   "cell_type": "code",
   "execution_count": null,
   "metadata": {},
   "outputs": [],
   "source": [
    "file_txt = open(files_txt[0], 'r')\n",
    "print(file_txt.readlines(200))"
   ]
  },
  {
   "cell_type": "code",
   "execution_count": null,
   "metadata": {},
   "outputs": [],
   "source": [
    "file_txt = pd.read_csv(files_txt[0])\n",
    "file_txt.head(10)"
   ]
  },
  {
   "cell_type": "code",
   "execution_count": null,
   "metadata": {},
   "outputs": [],
   "source": [
    "file_txt = pd.read_csv(files_txt[0], sep='\\t')\n",
    "file_txt.head(10)"
   ]
  },
  {
   "cell_type": "code",
   "execution_count": null,
   "metadata": {},
   "outputs": [],
   "source": [
    "file_txt = pd.read_csv(files_txt[0], sep='\\t', header=6)\n",
    "file_txt.head()"
   ]
  },
  {
   "cell_type": "code",
   "execution_count": null,
   "metadata": {},
   "outputs": [],
   "source": [
    "file_txt.info()"
   ]
  },
  {
   "cell_type": "code",
   "execution_count": null,
   "metadata": {},
   "outputs": [],
   "source": [
    "file_txt.shape[0] * file_txt.shape[1]"
   ]
  },
  {
   "cell_type": "code",
   "execution_count": null,
   "metadata": {},
   "outputs": [],
   "source": [
    "'{:,}'.format(file_txt.shape[0] * file_txt.shape[1])"
   ]
  },
  {
   "cell_type": "code",
   "execution_count": null,
   "metadata": {},
   "outputs": [],
   "source": [
    "sujeto = pd.concat([file_txt.iloc[:, 0:10], file_txt.iloc[:, 47]], axis=1)\n",
    "sujeto.head()"
   ]
  },
  {
   "cell_type": "code",
   "execution_count": null,
   "metadata": {},
   "outputs": [],
   "source": [
    "sujeto.info()"
   ]
  },
  {
   "cell_type": "code",
   "execution_count": null,
   "metadata": {},
   "outputs": [],
   "source": [
    "sujeto.columns = sujeto.columns.str.replace(' ', '_')"
   ]
  },
  {
   "cell_type": "code",
   "execution_count": null,
   "metadata": {},
   "outputs": [],
   "source": [
    "sujeto.info()"
   ]
  },
  {
   "cell_type": "code",
   "execution_count": null,
   "metadata": {},
   "outputs": [],
   "source": [
    "'{:,}'.format(sujeto.shape[0] * sujeto.shape[1])"
   ]
  },
  {
   "cell_type": "code",
   "execution_count": null,
   "metadata": {},
   "outputs": [],
   "source": [
    "sujeto['Video_Time'] = pd.to_datetime(sujeto['Video_Time'])\n",
    "sujeto.head()"
   ]
  },
  {
   "cell_type": "code",
   "execution_count": null,
   "metadata": {},
   "outputs": [],
   "source": [
    "sujeto.info()"
   ]
  },
  {
   "cell_type": "code",
   "execution_count": null,
   "metadata": {},
   "outputs": [],
   "source": [
    "sujeto['Fecha'] = sujeto['Video_Time'].dt.date\n",
    "sujeto.head()"
   ]
  },
  {
   "cell_type": "code",
   "execution_count": null,
   "metadata": {},
   "outputs": [],
   "source": [
    "sujeto['Hora'] = sujeto['Video_Time'].dt.time\n",
    "sujeto.head()"
   ]
  },
  {
   "cell_type": "code",
   "execution_count": null,
   "metadata": {},
   "outputs": [],
   "source": [
    "sujeto.head()"
   ]
  },
  {
   "cell_type": "code",
   "execution_count": null,
   "metadata": {},
   "outputs": [],
   "source": [
    "sujeto.info()"
   ]
  },
  {
   "cell_type": "code",
   "execution_count": null,
   "metadata": {},
   "outputs": [],
   "source": [
    "objetos = []\n",
    "for columna in sujeto.columns:\n",
    "    for palabra in sujeto[columna].unique():\n",
    "        if type(palabra) == str:\n",
    "            objetos.append(palabra)\n",
    "lista1 = list(set(objetos))\n",
    "lista2 = np.empty(len(lista1))\n",
    "lista2[:] = np.nan\n",
    "objetos = dict(zip(lista1, lista2))"
   ]
  },
  {
   "cell_type": "code",
   "execution_count": null,
   "metadata": {},
   "outputs": [],
   "source": [
    "objetos"
   ]
  },
  {
   "cell_type": "code",
   "execution_count": null,
   "metadata": {},
   "outputs": [],
   "source": [
    "sujeto['Neutral'].unique()"
   ]
  },
  {
   "cell_type": "code",
   "execution_count": null,
   "metadata": {},
   "outputs": [],
   "source": [
    "pd.to_numeric(sujeto['Neutral'], errors='coerce')"
   ]
  },
  {
   "cell_type": "code",
   "execution_count": null,
   "metadata": {},
   "outputs": [],
   "source": [
    "ejemplo1 = sujeto.copy()\n",
    "\n",
    "for columna in ejemplo1.columns:\n",
    "    ejemplo1[columna] = pd.to_numeric(ejemplo1[columna], errors='coerce')"
   ]
  },
  {
   "cell_type": "code",
   "execution_count": null,
   "metadata": {},
   "outputs": [],
   "source": [
    "ejemplo1.head()"
   ]
  },
  {
   "cell_type": "code",
   "execution_count": null,
   "metadata": {},
   "outputs": [],
   "source": [
    "ejemplo2 = sujeto.copy()\n",
    "\n",
    "for columna in ejemplo2.columns[1:11]:\n",
    "    ejemplo2[columna] = pd.to_numeric(ejemplo2[columna], errors='coerce')"
   ]
  },
  {
   "cell_type": "code",
   "execution_count": null,
   "metadata": {},
   "outputs": [],
   "source": [
    "ejemplo2.head()"
   ]
  },
  {
   "cell_type": "code",
   "execution_count": null,
   "metadata": {},
   "outputs": [],
   "source": [
    "ejemplo2.Neutral.unique()"
   ]
  },
  {
   "cell_type": "code",
   "execution_count": null,
   "metadata": {},
   "outputs": [],
   "source": [
    "ejemplo2.info()"
   ]
  },
  {
   "cell_type": "code",
   "execution_count": null,
   "metadata": {},
   "outputs": [],
   "source": [
    "for columna in sujeto.columns[1:11]:\n",
    "    sujeto[columna] = pd.to_numeric(sujeto[columna], errors='coerce')"
   ]
  },
  {
   "cell_type": "code",
   "execution_count": null,
   "metadata": {},
   "outputs": [],
   "source": [
    "sujeto.head()"
   ]
  },
  {
   "cell_type": "code",
   "execution_count": null,
   "metadata": {},
   "outputs": [],
   "source": [
    "sujeto.info()"
   ]
  },
  {
   "cell_type": "code",
   "execution_count": null,
   "metadata": {},
   "outputs": [],
   "source": [
    "sujeto = sujeto.set_index('Video_Time')"
   ]
  },
  {
   "cell_type": "code",
   "execution_count": null,
   "metadata": {},
   "outputs": [],
   "source": [
    "sujeto"
   ]
  },
  {
   "cell_type": "code",
   "execution_count": null,
   "metadata": {},
   "outputs": [],
   "source": [
    "sujeto.info()"
   ]
  },
  {
   "cell_type": "code",
   "execution_count": null,
   "metadata": {},
   "outputs": [],
   "source": [
    "# ¿Cómo sabemos de quien es esa base?\n",
    "files_txt[0] # Ajá, este es el usuario, ¿Cómo le hacemos para incluirlo en la base?"
   ]
  },
  {
   "cell_type": "code",
   "execution_count": null,
   "metadata": {},
   "outputs": [],
   "source": [
    "files_txt[0][:-4]"
   ]
  },
  {
   "cell_type": "code",
   "execution_count": null,
   "metadata": {},
   "outputs": [],
   "source": [
    "sujeto['ID'] = files_txt[0][:-4]"
   ]
  },
  {
   "cell_type": "code",
   "execution_count": null,
   "metadata": {},
   "outputs": [],
   "source": [
    "sujeto.head()"
   ]
  },
  {
   "cell_type": "code",
   "execution_count": null,
   "metadata": {},
   "outputs": [],
   "source": [
    "sujeto.info()"
   ]
  },
  {
   "cell_type": "code",
   "execution_count": null,
   "metadata": {},
   "outputs": [],
   "source": [
    "sujeto.describe()"
   ]
  },
  {
   "cell_type": "code",
   "execution_count": null,
   "metadata": {},
   "outputs": [],
   "source": [
    "sujeto.describe(include='all')"
   ]
  },
  {
   "cell_type": "markdown",
   "metadata": {},
   "source": [
    "### Todos los TXT"
   ]
  },
  {
   "cell_type": "code",
   "execution_count": null,
   "metadata": {},
   "outputs": [],
   "source": [
    "files_txt"
   ]
  },
  {
   "cell_type": "code",
   "execution_count": null,
   "metadata": {},
   "outputs": [],
   "source": [
    "bases = []\n",
    "\n",
    "for txt in tqdm(files_txt):\n",
    "    file_txt = pd.read_csv(txt, sep='\\t', header=6)\n",
    "    sujeto = pd.concat([file_txt.iloc[:, 0:10], file_txt.iloc[:, 47]], axis=1)\n",
    "    sujeto.columns = sujeto.columns.str.replace(' ', '_')\n",
    "    sujeto['Video_Time'] = pd.to_datetime(sujeto['Video_Time'])\n",
    "    sujeto['Fecha'] = sujeto['Video_Time'].dt.date\n",
    "    sujeto['Hora'] = sujeto['Video_Time'].dt.time\n",
    "    for columna in sujeto.columns[1:11]:\n",
    "        sujeto[columna] = pd.to_numeric(sujeto[columna], errors='coerce')\n",
    "    sujeto = sujeto.set_index('Video_Time')\n",
    "    sujeto['ID'] = txt[:-4]\n",
    "    bases.append(sujeto)\n",
    "    time.sleep(0.01)\n",
    "\n",
    "sujetos = pd.concat(bases)"
   ]
  },
  {
   "cell_type": "code",
   "execution_count": null,
   "metadata": {},
   "outputs": [],
   "source": [
    "sujetos.head()"
   ]
  },
  {
   "cell_type": "code",
   "execution_count": null,
   "metadata": {},
   "outputs": [],
   "source": [
    "for txt in files_txt:\n",
    "    print(txt)"
   ]
  },
  {
   "cell_type": "code",
   "execution_count": null,
   "metadata": {},
   "outputs": [],
   "source": [
    "file = open(files_txt[0], 'r').readlines(300)\n",
    "file"
   ]
  },
  {
   "cell_type": "code",
   "execution_count": null,
   "metadata": {},
   "outputs": [],
   "source": [
    "file[8:]"
   ]
  },
  {
   "cell_type": "code",
   "execution_count": null,
   "metadata": {},
   "outputs": [],
   "source": [
    "list(file[8:])"
   ]
  },
  {
   "cell_type": "code",
   "execution_count": null,
   "metadata": {},
   "outputs": [],
   "source": [
    "list(file[8:])"
   ]
  },
  {
   "cell_type": "code",
   "execution_count": null,
   "metadata": {},
   "outputs": [],
   "source": [
    "columnas_necesarias = ['Video Time', 'Neutral', 'Happy', 'Sad', 'Angry', 'Surprised', 'Scared', 'Disgusted', 'Contempt', 'Valence', 'Heart Rate']"
   ]
  },
  {
   "cell_type": "code",
   "execution_count": null,
   "metadata": {},
   "outputs": [],
   "source": [
    "bases = []\n",
    "\n",
    "for txt in tqdm(files_txt):\n",
    "    file_txt = pd.read_csv(txt, sep='\\t', header=6)\n",
    "    #sujeto = pd.concat([file_txt.iloc[:, 0:10], file_txt.iloc[:, 47]], axis=1)\n",
    "    sujeto = file_txt.loc[:, columnas_necesarias]\n",
    "    sujeto.columns = sujeto.columns.str.replace(' ', '_')\n",
    "    sujeto['Video_Time'] = pd.to_datetime(sujeto['Video_Time'])\n",
    "    sujeto['Fecha'] = sujeto['Video_Time'].dt.date\n",
    "    sujeto['Hora'] = sujeto['Video_Time'].dt.time\n",
    "    for columna in sujeto.columns[1:11]:\n",
    "        sujeto[columna] = pd.to_numeric(sujeto[columna], errors='coerce')\n",
    "    sujeto = sujeto.set_index('Video_Time')\n",
    "    sujeto['ID'] = txt[:-4]\n",
    "    bases.append(sujeto)\n",
    "    time.sleep(0.01)"
   ]
  },
  {
   "cell_type": "code",
   "execution_count": null,
   "metadata": {},
   "outputs": [],
   "source": [
    "bases"
   ]
  },
  {
   "cell_type": "code",
   "execution_count": null,
   "metadata": {},
   "outputs": [],
   "source": [
    "sujetos = pd.concat(bases)"
   ]
  },
  {
   "cell_type": "code",
   "execution_count": null,
   "metadata": {},
   "outputs": [],
   "source": [
    "sujetos"
   ]
  },
  {
   "cell_type": "code",
   "execution_count": null,
   "metadata": {},
   "outputs": [],
   "source": [
    "'{:,}'.format(sujetos.shape[0] * sujetos.shape[1])"
   ]
  },
  {
   "cell_type": "code",
   "execution_count": null,
   "metadata": {},
   "outputs": [],
   "source": [
    "sujetos.ID.unique()"
   ]
  },
  {
   "cell_type": "code",
   "execution_count": null,
   "metadata": {},
   "outputs": [],
   "source": [
    "sujeto.info()"
   ]
  },
  {
   "cell_type": "code",
   "execution_count": null,
   "metadata": {},
   "outputs": [],
   "source": []
  }
 ],
 "metadata": {
  "kernelspec": {
   "display_name": "Python 3",
   "language": "python",
   "name": "python3"
  },
  "language_info": {
   "codemirror_mode": {
    "name": "ipython",
    "version": 3
   },
   "file_extension": ".py",
   "mimetype": "text/x-python",
   "name": "python",
   "nbconvert_exporter": "python",
   "pygments_lexer": "ipython3",
   "version": "3.8.5"
  }
 },
 "nbformat": 4,
 "nbformat_minor": 4
}
