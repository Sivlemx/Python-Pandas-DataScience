{
 "cells": [
  {
   "cell_type": "markdown",
   "metadata": {},
   "source": [
    "# Pandas pada Psicólogos\n",
    "![](https://numfocus.org/wp-content/uploads/2016/07/pandas-logo-300.png)\n",
    "\n",
    "[pandas - Python Data Analysis Library](https://pandas.pydata.org/docs/)"
   ]
  },
  {
   "cell_type": "markdown",
   "metadata": {},
   "source": [
    "# Numpy para Psicólogos\n",
    "![](https://user-images.githubusercontent.com/50221806/85190325-2b3f4400-b26c-11ea-93f3-81a101614a88.png)\n",
    "\n",
    "[Numerical Python](https://numpy.org/)"
   ]
  },
  {
   "cell_type": "markdown",
   "metadata": {},
   "source": [
    "## Introducción a los DataSets"
   ]
  },
  {
   "cell_type": "code",
   "execution_count": null,
   "metadata": {},
   "outputs": [],
   "source": [
    "import pandas as pd\n",
    "import numpy as np\n",
    "# librería \"glob\" — Busca nombres de archivos que coincidan con un patrón.\n",
    "from glob import glob as gg\n",
    "# Libería \"tqdm\" para ver el progreso del o de los procesos\n",
    "from tqdm import tqdm\n",
    "# Para que \"tqdm\" funcione\n",
    "import time"
   ]
  },
  {
   "cell_type": "markdown",
   "metadata": {},
   "source": [
    "## 1er Dataset. Datos Inventados"
   ]
  },
  {
   "cell_type": "code",
   "execution_count": null,
   "metadata": {},
   "outputs": [],
   "source": [
    "# Búsqueda de las Bases\n",
    "files_xlsx = gg('*.xlsx')\n",
    "files_xlsx"
   ]
  },
  {
   "cell_type": "code",
   "execution_count": null,
   "metadata": {},
   "outputs": [],
   "source": [
    "xlsx1 = pd.read_excel(files_xlsx[0])\n",
    "xlsx1.head()\n",
    "# ¿El ID lo queremos como índice?"
   ]
  },
  {
   "cell_type": "code",
   "execution_count": null,
   "metadata": {},
   "outputs": [],
   "source": [
    "xlsx1 = pd.read_excel(files_xlsx[0], index_col='ID')\n",
    "print(xlsx1.head())\n",
    "#print(' ')\n",
    "#print(xlsx1.tail())"
   ]
  },
  {
   "cell_type": "code",
   "execution_count": null,
   "metadata": {},
   "outputs": [],
   "source": [
    "# Número de observaciones que tiene el dataset\n",
    "xlsx1.shape #(filas, columnas)"
   ]
  },
  {
   "cell_type": "code",
   "execution_count": null,
   "metadata": {},
   "outputs": [],
   "source": [
    "xlsx1.shape[0] #quiero solo las filas"
   ]
  },
  {
   "cell_type": "code",
   "execution_count": null,
   "metadata": {},
   "outputs": [],
   "source": [
    "xlsx1.shape[1] #quiero solo las columnas"
   ]
  },
  {
   "cell_type": "code",
   "execution_count": null,
   "metadata": {},
   "outputs": [],
   "source": [
    "# Pero deseo toda la información\n",
    "xlsx1.info() #¿Cómo interpretar esta información?"
   ]
  },
  {
   "cell_type": "code",
   "execution_count": null,
   "metadata": {},
   "outputs": [],
   "source": [
    "# Quiero saber solo las filas\n",
    "xlsx1.index"
   ]
  },
  {
   "cell_type": "code",
   "execution_count": null,
   "metadata": {},
   "outputs": [],
   "source": [
    "# Quiero solo saber los nombres de las columnas\n",
    "xlsx1.columns"
   ]
  },
  {
   "cell_type": "code",
   "execution_count": null,
   "metadata": {},
   "outputs": [],
   "source": [
    "print(xlsx1.Var1.unique())\n",
    "print(' ')\n",
    "print(list(xlsx1.Var1.unique()))"
   ]
  },
  {
   "cell_type": "code",
   "execution_count": null,
   "metadata": {},
   "outputs": [],
   "source": [
    "# Quiero saber los valores que convierte la columna Var1 en objeto\n",
    "objetos = [tipo for tipo in xlsx1.Var1.unique() if type(tipo) == str]\n",
    "objetos"
   ]
  },
  {
   "cell_type": "code",
   "execution_count": null,
   "metadata": {},
   "outputs": [],
   "source": [
    "objetos = []\n",
    "for tipo in xlsx1.Var1.unique():\n",
    "    if type(tipo) == str:\n",
    "        objetos.append(tipo)\n",
    "objetos"
   ]
  },
  {
   "cell_type": "code",
   "execution_count": null,
   "metadata": {},
   "outputs": [],
   "source": [
    "objetos = [tipo for tipo in xlsx1.Var5.unique() if type(tipo) == str]\n",
    "objetos"
   ]
  },
  {
   "cell_type": "code",
   "execution_count": null,
   "metadata": {},
   "outputs": [],
   "source": [
    "objetos = []\n",
    "for tipo in xlsx1.Var5.unique():\n",
    "    if type(tipo) == str:\n",
    "        objetos.append(tipo)\n",
    "objetos"
   ]
  },
  {
   "cell_type": "code",
   "execution_count": null,
   "metadata": {},
   "outputs": [],
   "source": [
    "xlsx1.columns"
   ]
  },
  {
   "cell_type": "code",
   "execution_count": null,
   "metadata": {},
   "outputs": [],
   "source": [
    "# Hacerlo por cada uno toma mucho recurso de tiempo ¿Cómo mejoramos esto?\n",
    "objetos = []\n",
    "for columna in xlsx1.columns:\n",
    "    print('En la columna {}'.format(columna))\n",
    "    for tipo in xlsx1[columna].unique():\n",
    "        if type(tipo) == str:\n",
    "            print(tipo)\n",
    "            print(' ')\n",
    "            objetos.append(tipo)\n",
    "            \n",
    "objetos"
   ]
  },
  {
   "cell_type": "code",
   "execution_count": null,
   "metadata": {},
   "outputs": [],
   "source": [
    "objetos = set(objetos)\n",
    "objetos"
   ]
  },
  {
   "cell_type": "code",
   "execution_count": null,
   "metadata": {},
   "outputs": [],
   "source": [
    "objetos = list(set(objetos))\n",
    "objetos"
   ]
  },
  {
   "cell_type": "code",
   "execution_count": null,
   "metadata": {},
   "outputs": [],
   "source": [
    "objetos"
   ]
  },
  {
   "cell_type": "code",
   "execution_count": null,
   "metadata": {},
   "outputs": [],
   "source": [
    "lista1 = objetos\n",
    "lista2 = np.empty(len(lista1))\n",
    "print(lista2)"
   ]
  },
  {
   "cell_type": "code",
   "execution_count": null,
   "metadata": {},
   "outputs": [],
   "source": [
    "lista2[:] = np.nan\n",
    "print(lista2)"
   ]
  },
  {
   "cell_type": "code",
   "execution_count": null,
   "metadata": {},
   "outputs": [],
   "source": [
    "objetos3 = zip(lista1, lista2)\n",
    "objetos4 = dict(objetos3)\n",
    "objetos4"
   ]
  },
  {
   "cell_type": "code",
   "execution_count": null,
   "metadata": {},
   "outputs": [],
   "source": [
    "# Como debe de verse\n",
    "objetos = []\n",
    "for columna in xlsx1.columns:\n",
    "    for tipo in xlsx1[columna].unique():\n",
    "        if type(tipo) == str:\n",
    "            objetos.append(tipo)\n",
    "            \n",
    "lista1 = list(set(objetos))\n",
    "lista2 = np.empty(len(lista1))\n",
    "lista2[:] = np.nan\n",
    "objetos = dict(zip(lista1, lista2))\n",
    "objetos"
   ]
  },
  {
   "cell_type": "code",
   "execution_count": null,
   "metadata": {},
   "outputs": [],
   "source": [
    "xlsx1"
   ]
  },
  {
   "cell_type": "code",
   "execution_count": null,
   "metadata": {},
   "outputs": [],
   "source": [
    "xlsx1 = xlsx1.replace(objetos)\n",
    "xlsx1"
   ]
  },
  {
   "cell_type": "markdown",
   "metadata": {},
   "source": [
    "## ¿Se acuerdan de las demás bases?"
   ]
  },
  {
   "cell_type": "code",
   "execution_count": null,
   "metadata": {},
   "outputs": [],
   "source": [
    "print(files_xlsx)"
   ]
  },
  {
   "cell_type": "markdown",
   "metadata": {},
   "source": [
    "### ¿Qué función aplicamos y cómo lo aplicamos para que haga todo de una buena vez?\n",
    "#### ¿Se acuerdan del \"Ciclo FOR\"?"
   ]
  },
  {
   "cell_type": "code",
   "execution_count": null,
   "metadata": {},
   "outputs": [],
   "source": [
    "print(files_xlsx[0])\n",
    "print(pd.read_excel(files_xlsx[0], index_col='ID').head())\n",
    "print(' ')\n",
    "print(files_xlsx[1])\n",
    "print(pd.read_excel(files_xlsx[1], index_col='ID').head())\n",
    "print(' ')\n",
    "print(files_xlsx[2])\n",
    "print(pd.read_excel(files_xlsx[2], index_col='ID').head())"
   ]
  },
  {
   "cell_type": "code",
   "execution_count": null,
   "metadata": {},
   "outputs": [],
   "source": [
    "for base in files_xlsx:\n",
    "    print(base)"
   ]
  },
  {
   "cell_type": "code",
   "execution_count": null,
   "metadata": {},
   "outputs": [],
   "source": [
    "for mi_base in tqdm(files_xlsx):\n",
    "    print('Se arreglará el archivo {} como usted lo pidió'.format(mi_base))\n",
    "    xlsx = pd.read_excel(mi_base, index_col='ID')\n",
    "    objetos = []\n",
    "    for columna in xlsx.columns:\n",
    "        for tipo in xlsx[columna].unique():\n",
    "            if type(tipo) == str:\n",
    "                objetos.append(tipo)\n",
    "\n",
    "    lista1 = list(set(objetos))\n",
    "    lista2 = np.empty(len(lista1))\n",
    "    lista2[:] = np.nan\n",
    "    objetos = dict(zip(lista1, lista2))\n",
    "    time.sleep(0.01)"
   ]
  },
  {
   "cell_type": "code",
   "execution_count": null,
   "metadata": {},
   "outputs": [],
   "source": [
    "# ¿Son todos los objetos de todas las bases?\n",
    "objetos"
   ]
  },
  {
   "cell_type": "code",
   "execution_count": null,
   "metadata": {},
   "outputs": [],
   "source": [
    "# ¿Porqué está dando solo el archivo \"Ejemplo3.xlsx?\"\n",
    "# ¿Y los demás?\n",
    "xlsx"
   ]
  },
  {
   "cell_type": "code",
   "execution_count": null,
   "metadata": {},
   "outputs": [],
   "source": [
    "xlsx.replace(objetos)"
   ]
  },
  {
   "cell_type": "markdown",
   "metadata": {},
   "source": [
    "## Vamonos despacito"
   ]
  },
  {
   "cell_type": "code",
   "execution_count": null,
   "metadata": {},
   "outputs": [],
   "source": [
    "## Este script solo es para obtener los objetos\n",
    "\n",
    "objetos = [] # Para los objetos que no nos sirve\n",
    "\n",
    "for mi_base in tqdm(files_xlsx):\n",
    "    print('Se arreglará el archivo {} como usted lo pidió'.format(mi_base))\n",
    "    xlsx = pd.read_excel(mi_base, index_col='ID')\n",
    "    for columna in xlsx.columns:\n",
    "        for tipo in xlsx[columna].unique():\n",
    "            if type(tipo) == str:\n",
    "                objetos.append(tipo)\n",
    "    time.sleep(0.01)"
   ]
  },
  {
   "cell_type": "code",
   "execution_count": null,
   "metadata": {},
   "outputs": [],
   "source": [
    "# Aquí hacemos nuestro diccionario de objetos a quitar\n",
    "lista1 = list(set(objetos))\n",
    "lista2 = np.empty(len(lista1))\n",
    "lista2[:] = np.nan\n",
    "objetos = dict(zip(lista1, lista2))"
   ]
  },
  {
   "cell_type": "code",
   "execution_count": null,
   "metadata": {},
   "outputs": [],
   "source": [
    "objetos"
   ]
  },
  {
   "cell_type": "code",
   "execution_count": null,
   "metadata": {},
   "outputs": [],
   "source": [
    "import pandas as pd\n",
    "import numpy as np\n",
    "from glob import glob as gg"
   ]
  },
  {
   "cell_type": "code",
   "execution_count": null,
   "metadata": {},
   "outputs": [],
   "source": [
    "files_xlsx = gg('*.xlsx')\n",
    "files_xlsx"
   ]
  },
  {
   "cell_type": "code",
   "execution_count": null,
   "metadata": {},
   "outputs": [],
   "source": [
    "## Concatenando bases\n",
    "x1 = pd.read_excel(files_xlsx[0], index_col='ID')\n",
    "print(x1.axes)\n",
    "print(x1.shape)\n",
    "print(' ')\n",
    "x2 = pd.read_excel(files_xlsx[1], index_col='ID')\n",
    "print(x2.axes)\n",
    "print(x2.shape)\n",
    "print(' ')\n",
    "x3 = pd.read_excel(files_xlsx[2], index_col='ID')\n",
    "print(x3.axes)\n",
    "print(x3.shape)"
   ]
  },
  {
   "cell_type": "code",
   "execution_count": null,
   "metadata": {},
   "outputs": [],
   "source": [
    "xlsx = pd.concat([x1, x2, x3])\n",
    "xlsx\n",
    "## ¿Qué pasó aquí?"
   ]
  },
  {
   "cell_type": "code",
   "execution_count": null,
   "metadata": {},
   "outputs": [],
   "source": [
    "xlsx = pd.concat([x1, x2, x3], axis=1)\n",
    "xlsx\n",
    "## ¿Por qué se tiene que colocar el argumento de \"axis=1\"?"
   ]
  },
  {
   "cell_type": "code",
   "execution_count": null,
   "metadata": {},
   "outputs": [],
   "source": [
    "xlsx.columns"
   ]
  },
  {
   "cell_type": "code",
   "execution_count": null,
   "metadata": {},
   "outputs": [],
   "source": [
    "xlsx.info()"
   ]
  },
  {
   "cell_type": "code",
   "execution_count": null,
   "metadata": {},
   "outputs": [],
   "source": [
    "objetos = [] # Para los objetos que no nos sirve\n",
    "\n",
    "for columna in xlsx.columns:\n",
    "    for tipo in xlsx[columna].unique():\n",
    "        if type(tipo) == str:\n",
    "            objetos.append(tipo)\n",
    "time.sleep(0.01)\n",
    "# Aquí hacemos nuestro diccionario de objetos a quitar\n",
    "lista1 = list(set(objetos))\n",
    "lista2 = np.empty(len(lista1))\n",
    "lista2[:] = np.nan\n",
    "objetos = dict(zip(lista1, lista2))"
   ]
  },
  {
   "cell_type": "code",
   "execution_count": null,
   "metadata": {},
   "outputs": [],
   "source": [
    "## Reemplazamos los objetos\n",
    "xlsx = xlsx.replace(objetos)\n",
    "xlsx"
   ]
  },
  {
   "cell_type": "code",
   "execution_count": null,
   "metadata": {},
   "outputs": [],
   "source": [
    "xlsx.info()"
   ]
  },
  {
   "cell_type": "code",
   "execution_count": null,
   "metadata": {},
   "outputs": [],
   "source": [
    "## Queremos ordenar las variables\n",
    "xlsx = xlsx.sort_index(axis=1)\n",
    "xlsx.axes\n",
    "#¿Por qué las columnas están de manera diferente?"
   ]
  },
  {
   "cell_type": "code",
   "execution_count": null,
   "metadata": {},
   "outputs": [],
   "source": [
    "xlsx.describe()"
   ]
  },
  {
   "cell_type": "code",
   "execution_count": null,
   "metadata": {},
   "outputs": [],
   "source": [
    "# Ver por separado los descriptivos\n",
    "conteo = xlsx.count()\n",
    "print(conteo)"
   ]
  },
  {
   "cell_type": "code",
   "execution_count": null,
   "metadata": {},
   "outputs": [],
   "source": [
    "tiene_nans = xlsx.isna()\n",
    "print(tiene_nans)"
   ]
  },
  {
   "cell_type": "code",
   "execution_count": null,
   "metadata": {},
   "outputs": [],
   "source": [
    "cuantos_nan = xlsx.isna().sum()\n",
    "print(cuantos_nan)"
   ]
  },
  {
   "cell_type": "code",
   "execution_count": null,
   "metadata": {},
   "outputs": [],
   "source": [
    "conteo + cuantos_nan"
   ]
  },
  {
   "cell_type": "code",
   "execution_count": null,
   "metadata": {},
   "outputs": [],
   "source": [
    "xlsx.mean(axis=1)"
   ]
  },
  {
   "cell_type": "code",
   "execution_count": null,
   "metadata": {},
   "outputs": [],
   "source": [
    "xlsx.median(axis=1)"
   ]
  },
  {
   "cell_type": "code",
   "execution_count": null,
   "metadata": {},
   "outputs": [],
   "source": [
    "xlsx.mode()"
   ]
  },
  {
   "cell_type": "code",
   "execution_count": null,
   "metadata": {},
   "outputs": [],
   "source": [
    "xlsx.iloc[:, 0].mean()"
   ]
  },
  {
   "cell_type": "code",
   "execution_count": null,
   "metadata": {},
   "outputs": [],
   "source": [
    "xlsx.describe()"
   ]
  },
  {
   "cell_type": "code",
   "execution_count": null,
   "metadata": {},
   "outputs": [],
   "source": [
    "xlsx.quantile(.99)"
   ]
  },
  {
   "cell_type": "code",
   "execution_count": null,
   "metadata": {},
   "outputs": [],
   "source": [
    "xlsx.sem()"
   ]
  },
  {
   "cell_type": "code",
   "execution_count": null,
   "metadata": {},
   "outputs": [],
   "source": [
    "xlsx.corr()"
   ]
  },
  {
   "cell_type": "code",
   "execution_count": null,
   "metadata": {},
   "outputs": [],
   "source": [
    "# Guardar los descriptivos en EXCEL\n",
    "xlsx.describe().to_excel('Descrip_Ejemplo.xlsx')"
   ]
  },
  {
   "cell_type": "code",
   "execution_count": null,
   "metadata": {},
   "outputs": [],
   "source": [
    "descriptivos_pa_mi = xlsx.describe()\n",
    "descriptivos_pa_mi.to_excel('Descrip_pa_mi.xlsx', sheet_name='Descrip')"
   ]
  },
  {
   "cell_type": "code",
   "execution_count": null,
   "metadata": {},
   "outputs": [],
   "source": [
    "# Queremos guardar muchas cosas\n",
    "## Base Completa\n",
    "## Media\n",
    "## Mediana\n",
    "## Correlación\n",
    "## Etc"
   ]
  },
  {
   "cell_type": "code",
   "execution_count": null,
   "metadata": {},
   "outputs": [],
   "source": [
    "with pd.ExcelWriter('Nuevo_descrip_flora.xlsx') as writer:\n",
    "    xlsx.to_excel(writer, 'Base Completa')\n",
    "    xlsx.describe().to_excel(writer, 'Descriptivos')\n",
    "    xlsx.mean().to_excel(writer, 'Media')"
   ]
  },
  {
   "cell_type": "code",
   "execution_count": null,
   "metadata": {},
   "outputs": [],
   "source": [
    "with pd.ExcelWriter('Descrip_Otro_Ejemplo.xlsx') as writer:\n",
    "    xlsx.to_excel(writer, 'Base Completa')\n",
    "    xlsx.mean().to_excel(writer, 'Media')\n",
    "    xlsx.median().to_excel(writer, 'Mediana')\n",
    "    xlsx.corr().to_excel(writer, 'Correlación')"
   ]
  },
  {
   "cell_type": "code",
   "execution_count": null,
   "metadata": {},
   "outputs": [],
   "source": [
    "with pd.ExcelWriter('Bases todas.xlsx') as todas:\n",
    "    xlsx.to_excel(todas, 'Basesota')"
   ]
  },
  {
   "cell_type": "code",
   "execution_count": null,
   "metadata": {},
   "outputs": [],
   "source": [
    "xlsx.plot()"
   ]
  },
  {
   "cell_type": "code",
   "execution_count": null,
   "metadata": {},
   "outputs": [],
   "source": [
    "# ¿Cómo ploteamos todo?\n",
    "xlsx.mean().plot()"
   ]
  },
  {
   "cell_type": "code",
   "execution_count": null,
   "metadata": {},
   "outputs": [],
   "source": [
    "# Aumento del tamaño\n",
    "xlsx.mean().plot(figsize=(15, 8))"
   ]
  },
  {
   "cell_type": "code",
   "execution_count": null,
   "metadata": {},
   "outputs": [],
   "source": [
    "# Como arreglamos bonito esta gráfica\n",
    "import matplotlib.pyplot as plt"
   ]
  },
  {
   "cell_type": "code",
   "execution_count": null,
   "metadata": {},
   "outputs": [],
   "source": [
    "list(range(len(xlsx.columns)))\n",
    "print(xlsx.columns)"
   ]
  },
  {
   "cell_type": "code",
   "execution_count": null,
   "metadata": {},
   "outputs": [],
   "source": [
    "xlsx.mean().plot(figsize=(15, 8))\n",
    "plt.xticks(range(len(xlsx.columns)), list(xlsx.columns)) #checar plt.xticks"
   ]
  },
  {
   "cell_type": "code",
   "execution_count": null,
   "metadata": {},
   "outputs": [],
   "source": [
    "xlsx.mean().plot(figsize=(15, 8))\n",
    "plt.xticks(range(len(xlsx.columns)), list(xlsx.columns), rotation='vertical')"
   ]
  },
  {
   "cell_type": "code",
   "execution_count": null,
   "metadata": {},
   "outputs": [],
   "source": [
    "xlsx.mean().plot(figsize=(15, 8))\n",
    "plt.xticks(range(len(xlsx.columns)), list(xlsx.columns), rotation=80)"
   ]
  },
  {
   "cell_type": "code",
   "execution_count": null,
   "metadata": {},
   "outputs": [],
   "source": [
    "# Agregar etiqueta en los ejes\n",
    "xlsx.mean().plot(figsize=(15, 8))\n",
    "plt.xticks(range(len(xlsx.columns)), list(xlsx.columns), rotation='vertical')\n",
    "plt.xlabel('Columnas')\n",
    "plt.ylabel('Datos de las columnas')"
   ]
  },
  {
   "cell_type": "code",
   "execution_count": null,
   "metadata": {},
   "outputs": [],
   "source": [
    "xlsx.mean().plot(figsize=(15, 8))\n",
    "plt.xticks(range(len(xlsx.columns)), list(xlsx.columns), rotation='vertical')\n",
    "plt.xlabel('Columnas', fontsize=20)\n",
    "plt.ylabel('Datos de las columnas', fontsize=20)"
   ]
  },
  {
   "cell_type": "code",
   "execution_count": null,
   "metadata": {},
   "outputs": [],
   "source": [
    "# Aumento del tamaño de las ticks\n",
    "xlsx.mean().plot(figsize=(15, 8))\n",
    "plt.xticks(range(len(xlsx.columns)), list(xlsx.columns), rotation='vertical', fontsize=15)\n",
    "plt.yticks(fontsize=15)\n",
    "plt.xlabel('Columnas', fontsize=20)\n",
    "plt.ylabel('Datos de las columnas', fontsize=20)\n"
   ]
  },
  {
   "cell_type": "code",
   "execution_count": null,
   "metadata": {},
   "outputs": [],
   "source": [
    "list(range(int(xlsx.mean().min()) - 100, int(xlsx.mean().max()) + 100, 100))"
   ]
  },
  {
   "cell_type": "code",
   "execution_count": null,
   "metadata": {},
   "outputs": [],
   "source": [
    "xlsx.mean().min() - 100"
   ]
  },
  {
   "cell_type": "code",
   "execution_count": null,
   "metadata": {},
   "outputs": [],
   "source": [
    "# Aumento del tamaño de las ticks\n",
    "xlsx.mean().plot(figsize=(15, 8), color='r')\n",
    "plt.xticks(range(len(xlsx.columns)), list(xlsx.columns), rotation='vertical', fontsize=15)\n",
    "plt.xlabel('Columnas', fontsize=20)\n",
    "plt.ylabel('Datos de las columnas', fontsize=20)\n",
    "plt.yticks(range(int(xlsx.mean().min()) - 100, int(xlsx.mean().max()) + 100, 100), fontsize=15)\n",
    "plt.grid()"
   ]
  },
  {
   "cell_type": "code",
   "execution_count": null,
   "metadata": {},
   "outputs": [],
   "source": [
    "# Guardar gráficas\n",
    "xlsx.mean().plot(figsize=(15, 8), color='r')\n",
    "plt.xticks(range(len(xlsx.columns)), list(xlsx.columns), rotation='vertical', fontsize=15)\n",
    "plt.xlabel('Columnas', fontsize=20)\n",
    "plt.ylabel('Datos de las columnas', fontsize=20)\n",
    "plt.yticks(range(int(xlsx.mean().min()) - 100, int(xlsx.mean().max()) + 100, 100), fontsize=15)\n",
    "plt.grid()\n",
    "plt.savefig('Gráfica de ejemplo.png', bbox_inches='tight', dpi=1000)\n",
    "plt.show()"
   ]
  },
  {
   "cell_type": "code",
   "execution_count": null,
   "metadata": {},
   "outputs": [],
   "source": [
    "# Las columnas no tienen orden ¿Cómo se ordenan?\n",
    "## Uso de iloc\n",
    "for n, c in enumerate(xlsx.columns):\n",
    "    print(n, c)"
   ]
  },
  {
   "cell_type": "code",
   "execution_count": null,
   "metadata": {},
   "outputs": [],
   "source": [
    "columnas_ordenadas = sorted(xlsx.columns, key=lambda x:len(x))\n",
    "\n",
    "for n, c in enumerate(columnas_ordenadas):\n",
    "    print(n, c)"
   ]
  },
  {
   "cell_type": "code",
   "execution_count": null,
   "metadata": {},
   "outputs": [],
   "source": [
    "xlsx_iloc1 = xlsx.iloc[:, [0, 11, 22, 24, 25, 26, 27, 28, 29, 1, 2, 3, 4, 5, 6, 7, 8, 9, 10, 12, 13, 14, 15, 16, 17, 18, 19, 20, 21, 23]]\n",
    "xlsx_iloc1#.columns"
   ]
  },
  {
   "cell_type": "code",
   "execution_count": null,
   "metadata": {},
   "outputs": [],
   "source": [
    "xlsx_iloc1"
   ]
  },
  {
   "cell_type": "code",
   "execution_count": null,
   "metadata": {},
   "outputs": [],
   "source": [
    "xlsx_iloc1.corr()"
   ]
  },
  {
   "cell_type": "code",
   "execution_count": null,
   "metadata": {},
   "outputs": [],
   "source": [
    "# ¿Cómo graficamos esta correlación?\n",
    "import seaborn as sns; sns.set()"
   ]
  },
  {
   "cell_type": "code",
   "execution_count": null,
   "metadata": {},
   "outputs": [],
   "source": [
    "xlsx_iloc1.head()"
   ]
  },
  {
   "cell_type": "code",
   "execution_count": null,
   "metadata": {},
   "outputs": [],
   "source": [
    "plt.figure(figsize=(15, 8))\n",
    "ax = sns.heatmap(xlsx_iloc1)"
   ]
  },
  {
   "cell_type": "code",
   "execution_count": null,
   "metadata": {},
   "outputs": [],
   "source": [
    "plt.figure(figsize=(15, 8))\n",
    "ax = sns.heatmap(xlsx_iloc1.corr(), vmin=0, vmax=1)"
   ]
  },
  {
   "cell_type": "code",
   "execution_count": null,
   "metadata": {},
   "outputs": [],
   "source": [
    "plt.figure(figsize=(15, 8))\n",
    "ax = sns.heatmap(xlsx_iloc1, center=0)"
   ]
  },
  {
   "cell_type": "code",
   "execution_count": null,
   "metadata": {},
   "outputs": [],
   "source": [
    "plt.figure(figsize=(20, 18))\n",
    "ax = sns.heatmap(xlsx_iloc1.corr(), annot=True, fmt='f')"
   ]
  },
  {
   "cell_type": "code",
   "execution_count": null,
   "metadata": {},
   "outputs": [],
   "source": [
    "plt.figure(figsize=(20, 18))\n",
    "ax = sns.heatmap(xlsx_iloc1.round(1), annot=True, fmt='f')"
   ]
  },
  {
   "cell_type": "code",
   "execution_count": null,
   "metadata": {},
   "outputs": [],
   "source": [
    "plt.figure(figsize=(15, 8))\n",
    "ax = sns.heatmap(xlsx_iloc1, linewidths=.5)"
   ]
  },
  {
   "cell_type": "code",
   "execution_count": null,
   "metadata": {},
   "outputs": [],
   "source": [
    "plt.figure(figsize=(15, 8))\n",
    "ax = sns.heatmap(xlsx_iloc1, vmin=0, vmax=1, linewidths=.5)"
   ]
  },
  {
   "cell_type": "code",
   "execution_count": null,
   "metadata": {},
   "outputs": [],
   "source": [
    "plt.figure(figsize=(15, 8))\n",
    "ax = sns.heatmap(xlsx_iloc1, vmin=0, vmax=1)"
   ]
  },
  {
   "cell_type": "code",
   "execution_count": null,
   "metadata": {},
   "outputs": [],
   "source": [
    "# ¿Cómo se usa el loc?"
   ]
  },
  {
   "cell_type": "code",
   "execution_count": null,
   "metadata": {},
   "outputs": [],
   "source": [
    "xlsx.head()"
   ]
  },
  {
   "cell_type": "code",
   "execution_count": null,
   "metadata": {},
   "outputs": [],
   "source": [
    "xlsx.columns"
   ]
  },
  {
   "cell_type": "code",
   "execution_count": null,
   "metadata": {},
   "outputs": [],
   "source": [
    "columnas_ordenadas"
   ]
  },
  {
   "cell_type": "code",
   "execution_count": null,
   "metadata": {},
   "outputs": [],
   "source": [
    "xlsx_loc1 = xlsx.loc[:, columnas_ordenadas]\n",
    "xlsx_loc1.head()"
   ]
  },
  {
   "cell_type": "code",
   "execution_count": null,
   "metadata": {},
   "outputs": [],
   "source": [
    "xlsx_loc1.mean().plot(figsize=(15, 8))"
   ]
  },
  {
   "cell_type": "code",
   "execution_count": null,
   "metadata": {},
   "outputs": [],
   "source": [
    "xlsx_loc1.mean().plot(figsize=(15, 8))\n",
    "plt.xticks(range(len(xlsx_loc1.columns)), list(xlsx_loc1.columns), rotation='vertical', fontsize=15)\n",
    "plt.xlabel('Columnas', fontsize=20)\n",
    "plt.ylabel('Datos de las columnas', fontsize=20)\n",
    "plt.yticks(range(-2000, 2001, 500), fontsize=15)"
   ]
  },
  {
   "cell_type": "markdown",
   "metadata": {},
   "source": [
    "## Hagamos el ejercicio juntos"
   ]
  },
  {
   "cell_type": "code",
   "execution_count": null,
   "metadata": {},
   "outputs": [],
   "source": [
    "# ¿Qué tengo que escribir?\n",
    "files_xlsx = sorted(gg('*.xlsx'))\n",
    "files_xlsx = files_xlsx[4:7]\n",
    "files_xlsx"
   ]
  },
  {
   "cell_type": "code",
   "execution_count": null,
   "metadata": {},
   "outputs": [],
   "source": [
    "file_xslx = pd.concat([pd.read_excel(files_xlsx[0], index_col='ID'), pd.read_excel(files_xlsx[1], index_col='ID'), pd.read_excel(files_xlsx[2], index_col='ID')], axis=1)\n",
    "file_xslx.columns"
   ]
  },
  {
   "cell_type": "code",
   "execution_count": null,
   "metadata": {},
   "outputs": [],
   "source": [
    "columnas_ordenadas = sorted(file_xslx.columns, key=lambda x:len(x))\n",
    "file_xslx = file_xslx.loc[:, columnas_ordenadas]"
   ]
  },
  {
   "cell_type": "code",
   "execution_count": null,
   "metadata": {},
   "outputs": [],
   "source": [
    "for columna in file_xslx.columns:\n",
    "    file_xslx[columna] = pd.to_numeric(file_xslx[columna], errors='coerce')"
   ]
  },
  {
   "cell_type": "code",
   "execution_count": null,
   "metadata": {},
   "outputs": [],
   "source": [
    "file_xslx#.describe()"
   ]
  },
  {
   "cell_type": "markdown",
   "metadata": {},
   "source": [
    "## 2do Dataset. Datos de la Comunidad."
   ]
  },
  {
   "cell_type": "code",
   "execution_count": null,
   "metadata": {},
   "outputs": [],
   "source": [
    "from glob import glob as gg\n",
    "import numpy as np\n",
    "import matplotlib.pyplot as plt\n",
    "import seaborn as sns\n",
    "import pandas as pd\n",
    "import pandas.plotting as pdplt"
   ]
  },
  {
   "cell_type": "code",
   "execution_count": null,
   "metadata": {},
   "outputs": [],
   "source": [
    "files_csv = sorted(gg('*.csv'))\n",
    "files_csv"
   ]
  },
  {
   "cell_type": "code",
   "execution_count": null,
   "metadata": {},
   "outputs": [],
   "source": [
    "iris = pd.read_csv(files_csv[0])\n",
    "iris"
   ]
  },
  {
   "cell_type": "code",
   "execution_count": null,
   "metadata": {},
   "outputs": [],
   "source": [
    "iris.columns = iris.columns.str.replace('.', '_')\n",
    "iris"
   ]
  },
  {
   "cell_type": "code",
   "execution_count": null,
   "metadata": {},
   "outputs": [],
   "source": [
    "iris.info()"
   ]
  },
  {
   "cell_type": "code",
   "execution_count": null,
   "metadata": {},
   "outputs": [],
   "source": [
    "iris.axes"
   ]
  },
  {
   "cell_type": "code",
   "execution_count": null,
   "metadata": {},
   "outputs": [],
   "source": [
    "iris.head()"
   ]
  },
  {
   "cell_type": "code",
   "execution_count": null,
   "metadata": {},
   "outputs": [],
   "source": [
    "iris.tail()"
   ]
  },
  {
   "cell_type": "code",
   "execution_count": null,
   "metadata": {},
   "outputs": [],
   "source": [
    "# ¿Qué es un Series? y ¿Qué es un DataFrame?\n",
    "# Uso del método iloc y loc\n",
    "\n",
    "\n",
    "### Método iloc\n",
    "\n",
    "## SERIES\n",
    "ejemplo = iris.iloc[0] # solo valores de la fila\n",
    "#ejemplo = iris.iloc[0, 0] # solo valores de la fila y la columna\n",
    "#ejemplo = iris.iloc[:, 0] # solo valores de toda la fila y 1 columna\n",
    "\n",
    "## DATAFRAME\n",
    "#ejemplo = iris.iloc[:, 0:1] # No es lo mismo que [:, 0]\n",
    "#ejemplo = iris.iloc[:20, 0:2]"
   ]
  },
  {
   "cell_type": "code",
   "execution_count": null,
   "metadata": {},
   "outputs": [],
   "source": [
    "print(iris.head())\n",
    "print(' ')\n",
    "print(type(ejemplo))\n",
    "ejemplo"
   ]
  },
  {
   "cell_type": "code",
   "execution_count": null,
   "metadata": {},
   "outputs": [],
   "source": [
    "### Método loc\n",
    "\n",
    "## SERIES\n",
    "#ejemplo = iris.loc[0] # solo valores de la fila\n",
    "## ¿Por qué si tiene número?\n",
    "\n",
    "ejemplo = iris.loc[0, 'sepal_length'] # solo valores de la fila y la columna\n",
    "#ejemplo = iris.iloc[:, 'sepal_width'] # solo valores de toda la fila y 1 columna\n",
    "\n",
    "## DATAFRAME\n",
    "#ejemplo = iris.iloc[:, 'sepal_length':'sepal_width'] # No es lo mismo que [:, 'sepal_length']\n",
    "#ejemplo = iris.iloc[:20, 'sepal_length':'petal_length']"
   ]
  },
  {
   "cell_type": "code",
   "execution_count": null,
   "metadata": {},
   "outputs": [],
   "source": [
    "print(iris.axes)\n",
    "print(' ')\n",
    "print(iris.head())\n",
    "print(' ')\n",
    "print(type(ejemplo))\n",
    "print(' ')\n",
    "ejemplo"
   ]
  },
  {
   "cell_type": "code",
   "execution_count": null,
   "metadata": {},
   "outputs": [],
   "source": [
    "## PARA QUE QUEDE MÁS CLARO\n",
    "indice_uno = ('Uno ' * round((len(iris.index)/3))).split()\n",
    "indice_dos = ('Dos ' * round((len(iris.index)/3))).split()\n",
    "indice_tres = ('Tres ' * round((len(iris.index)/3))).split()"
   ]
  },
  {
   "cell_type": "code",
   "execution_count": null,
   "metadata": {},
   "outputs": [],
   "source": [
    "indice_nuevo = indice_uno + indice_dos + indice_tres\n",
    "print(indice_nuevo)"
   ]
  },
  {
   "cell_type": "code",
   "execution_count": null,
   "metadata": {},
   "outputs": [],
   "source": [
    "iris.index = indice_nuevo\n",
    "iris"
   ]
  },
  {
   "cell_type": "code",
   "execution_count": null,
   "metadata": {},
   "outputs": [],
   "source": [
    "### Método loc\n",
    "\n",
    "## SERIES\n",
    "ejemplo = iris.loc['Uno'] # solo valores de la fila\n",
    "\n",
    "#ejemplo = iris.loc['Dos', 'sepal_length'] # solo valores de la fila y la columna\n",
    "#ejemplo = iris.loc[:, 'sepal_width'] # solo valores de toda la fila y 1 columna\n",
    "\n",
    "## DATAFRAME\n",
    "#ejemplo = iris.loc['Uno':'Dos', 'sepal_length':'sepal_width'] # No es lo mismo que [:, 'sepal_length']\n",
    "#ejemplo = iris.loc[:20, 'sepal_length':'petal_length'] # ¿Por qué no sale?"
   ]
  },
  {
   "cell_type": "code",
   "execution_count": null,
   "metadata": {},
   "outputs": [],
   "source": [
    "print(iris.axes)\n",
    "print(' ')\n",
    "print(type(ejemplo))\n",
    "print(' ')\n",
    "ejemplo"
   ]
  },
  {
   "cell_type": "code",
   "execution_count": null,
   "metadata": {},
   "outputs": [],
   "source": [
    "## ¿Cómo saber cuantos tipos de \"variety\" hay?\n",
    "variedad = iris.variety.unique()\n",
    "variedad"
   ]
  },
  {
   "cell_type": "code",
   "execution_count": null,
   "metadata": {},
   "outputs": [],
   "source": [
    "## Flitrar las bases\n",
    "# Por la columna \"variety\"\n",
    "\n",
    "setosa = iris.loc[iris['variety'] == 'Setosa']\n",
    "versicolor = iris.loc[iris['variety'] == 'Versicolor']\n",
    "virginica = iris.loc[iris['variety'] == 'Virginica']"
   ]
  },
  {
   "cell_type": "code",
   "execution_count": null,
   "metadata": {},
   "outputs": [],
   "source": [
    "setosa"
   ]
  },
  {
   "cell_type": "code",
   "execution_count": null,
   "metadata": {},
   "outputs": [],
   "source": [
    "plt.figure(figsize=(20, 16), dpi=80)\n",
    "sns.FacetGrid(iris, hue=\"variety\", size=3).map(sns.distplot,\"petal_length\").add_legend()\n",
    "sns.FacetGrid(iris, hue=\"variety\", size=3).map(sns.distplot,\"petal_width\").add_legend()\n",
    "sns.FacetGrid(iris, hue=\"variety\", size=3).map(sns.distplot,\"sepal_length\").add_legend()\n",
    "sns.FacetGrid(iris, hue=\"variety\", size=3).map(sns.distplot,\"sepal_width\").add_legend()\n",
    "plt.show()"
   ]
  },
  {
   "cell_type": "code",
   "execution_count": null,
   "metadata": {},
   "outputs": [],
   "source": [
    "plt.figure(figsize=(10, 8))\n",
    "sns.boxplot(x=\"variety\", y=\"petal_length\", data=iris)\n",
    "plt.show()"
   ]
  },
  {
   "cell_type": "code",
   "execution_count": null,
   "metadata": {},
   "outputs": [],
   "source": [
    "plt.figure(figsize=(10, 8))\n",
    "sns.violinplot(x=\"variety\",y=\"petal_length\",data=iris)\n",
    "plt.show()"
   ]
  },
  {
   "cell_type": "code",
   "execution_count": null,
   "metadata": {},
   "outputs": [],
   "source": [
    "plt.figure(figsize=(15, 13))\n",
    "sns.set_style(\"whitegrid\")\n",
    "sns.pairplot(iris, hue=\"variety\", size=3);\n",
    "plt.show()"
   ]
  },
  {
   "cell_type": "code",
   "execution_count": null,
   "metadata": {},
   "outputs": [],
   "source": [
    "## Pandas tiene su propia libería para plotear\n",
    "iris.plot(kind='box', subplots=True, layout=(2,2), sharex=False, sharey=False, figsize=(10, 8))\n",
    "plt.show()"
   ]
  },
  {
   "cell_type": "code",
   "execution_count": null,
   "metadata": {},
   "outputs": [],
   "source": [
    "iris.plot.box(subplots=True, layout=(2,2), sharex=False, sharey=False, figsize=(10, 8))\n",
    "plt.show()"
   ]
  },
  {
   "cell_type": "code",
   "execution_count": null,
   "metadata": {},
   "outputs": [],
   "source": [
    "iris.hist(figsize=(10, 8))"
   ]
  },
  {
   "cell_type": "code",
   "execution_count": null,
   "metadata": {},
   "outputs": [],
   "source": [
    "pdplt.scatter_matrix(iris[iris.columns[0:4]], figsize=(15, 12))\n",
    "plt.show()"
   ]
  },
  {
   "cell_type": "code",
   "execution_count": null,
   "metadata": {},
   "outputs": [],
   "source": [
    "# Agrupandolos\n",
    "por_tipo_media = iris.groupby('variety').mean()\n",
    "print(por_tipo_media)"
   ]
  },
  {
   "cell_type": "code",
   "execution_count": null,
   "metadata": {},
   "outputs": [],
   "source": [
    "por_tipo_corr = iris.groupby('variety').corr() # method{'pearson', 'kendall', 'spearman'}\n",
    "print(por_tipo_corr)"
   ]
  },
  {
   "cell_type": "code",
   "execution_count": null,
   "metadata": {},
   "outputs": [],
   "source": [
    "iris.groupby('variety').plot(figsize=(10, 8))"
   ]
  },
  {
   "cell_type": "code",
   "execution_count": null,
   "metadata": {},
   "outputs": [],
   "source": [
    "# ¿Cómo graficamos esta correlación?\n",
    "plt.figure(figsize=(10, 8))\n",
    "sns.heatmap(iris.iloc[:, :4])#, vmin=0, vmax=1)"
   ]
  },
  {
   "cell_type": "code",
   "execution_count": null,
   "metadata": {},
   "outputs": [],
   "source": [
    "plt.figure(figsize=(10, 8))\n",
    "sns.heatmap(setosa.iloc[:, :4])#, vmin=0, vmax=1)"
   ]
  },
  {
   "cell_type": "code",
   "execution_count": null,
   "metadata": {},
   "outputs": [],
   "source": [
    "plt.figure(figsize=(10, 8))\n",
    "sns.heatmap(setosa.iloc[:, :4])#, vmin=0, vmax=1)#, annot=True)"
   ]
  },
  {
   "cell_type": "code",
   "execution_count": null,
   "metadata": {},
   "outputs": [],
   "source": [
    "iris"
   ]
  },
  {
   "cell_type": "markdown",
   "metadata": {},
   "source": [
    "## Estadística para el dataset de IRIS"
   ]
  },
  {
   "cell_type": "code",
   "execution_count": null,
   "metadata": {},
   "outputs": [],
   "source": [
    "from glob import glob as gg\n",
    "import numpy as np\n",
    "import matplotlib.pyplot as plt\n",
    "import seaborn as sns\n",
    "import pandas as pd\n",
    "import pandas.plotting as pdplt\n",
    "import scipy.stats as spss\n",
    "from statsmodels.formula.api import ols"
   ]
  },
  {
   "cell_type": "code",
   "execution_count": null,
   "metadata": {},
   "outputs": [],
   "source": [
    "find_files = sorted(gg('*.csv'))"
   ]
  },
  {
   "cell_type": "code",
   "execution_count": null,
   "metadata": {},
   "outputs": [],
   "source": [
    "# base de datos iris\n",
    "iris = pd.read_csv(find_files[0])\n",
    "iris.columns = iris.columns.str.replace('.', '_')\n",
    "iris.head()"
   ]
  },
  {
   "cell_type": "markdown",
   "metadata": {},
   "source": [
    "### Comparaciones\n",
    "[Scipy Stats](https://docs.scipy.org/doc/scipy/reference/stats.html)"
   ]
  },
  {
   "cell_type": "code",
   "execution_count": null,
   "metadata": {},
   "outputs": [],
   "source": [
    "# Saber si tiene distribución normal\n",
    "spss.normaltest(iris[\"sepal_length\"])"
   ]
  },
  {
   "cell_type": "code",
   "execution_count": null,
   "metadata": {},
   "outputs": [],
   "source": [
    "valor, pvalor = spss.normaltest(iris[\"sepal_length\"])\n",
    "print(valor)\n",
    "print(pvalor)"
   ]
  },
  {
   "cell_type": "code",
   "execution_count": null,
   "metadata": {},
   "outputs": [],
   "source": [
    "print(iris.columns)\n",
    "print(iris.columns[:-1])"
   ]
  },
  {
   "cell_type": "code",
   "execution_count": null,
   "metadata": {},
   "outputs": [],
   "source": [
    "normalidad = []\n",
    "for col in iris.columns[:-1]:\n",
    "    valor, pvalor = spss.normaltest(iris[col])\n",
    "    normalidad.append('Columna -> {}, Valor estadístico = {}, p-value = {}'.format(col, valor, pvalor))\n",
    "normalidad"
   ]
  },
  {
   "cell_type": "code",
   "execution_count": null,
   "metadata": {},
   "outputs": [],
   "source": [
    "normalidad = []\n",
    "for col in iris.columns[:-1]:\n",
    "    valor, pvalor = spss.normaltest(iris[col])\n",
    "    normalidad.append('Columna -> {}\\nValor estadístico = {}\\np-value = {}\\n\\n'.format(col, valor, pvalor))\n",
    "normalidad"
   ]
  },
  {
   "cell_type": "code",
   "execution_count": null,
   "metadata": {},
   "outputs": [],
   "source": [
    "normalidad = []\n",
    "for col in iris.columns[:-1]:\n",
    "    valor, pvalor = spss.normaltest(iris[col])\n",
    "    if pvalor <= 0.05:\n",
    "        normalidad.append('Columna -> {}, Valor estadístico = {}, p-value = {} -> Presenta normalidad en los datos.'.format(col, valor, pvalor))\n",
    "    else:\n",
    "        normalidad.append('Columna -> {}, Valor estadístico = {}, p-value = {} -> Anormalidad en los datos.'.format(col, valor, pvalor))\n",
    "normalidad"
   ]
  },
  {
   "cell_type": "code",
   "execution_count": null,
   "metadata": {},
   "outputs": [],
   "source": [
    "normalidad = []\n",
    "anormalidad = []\n",
    "for col in iris.columns[:-1]:\n",
    "    valor, pvalor = spss.normaltest(iris[col])\n",
    "    if pvalor <= 0.05:\n",
    "        normalidad.append('Columna -> {}, Valor estadístico = {}, p-value = {} -> Presenta normalidad en los datos.'.format(col, valor, round(pvalor, 3)))\n",
    "    else:\n",
    "        anormalidad.append('Columna -> {}, Valor estadístico = {}, p-value = {} -> Anormalidad en los datos.'.format(col, valor, round(pvalor, 3)))"
   ]
  },
  {
   "cell_type": "code",
   "execution_count": null,
   "metadata": {},
   "outputs": [],
   "source": [
    "for normal in normalidad:\n",
    "    print(normal)\n",
    "print(' ')\n",
    "for anormal in anormalidad:\n",
    "    print(anormal)"
   ]
  },
  {
   "cell_type": "code",
   "execution_count": null,
   "metadata": {},
   "outputs": [],
   "source": [
    "help(spss.ttest_ind)"
   ]
  },
  {
   "cell_type": "code",
   "execution_count": null,
   "metadata": {},
   "outputs": [],
   "source": [
    "# Suponiendo que las variables de IRIS sean teoricamente correlacionadas\n",
    "\n",
    "spss.ttest_ind(iris['petal_length'], iris['sepal_width'])"
   ]
  },
  {
   "cell_type": "code",
   "execution_count": null,
   "metadata": {},
   "outputs": [],
   "source": [
    "estadistico, p_value = spss.ttest_ind(iris['petal_length'], iris['sepal_width'])\n",
    "print(estadistico)\n",
    "print(p_value)"
   ]
  },
  {
   "cell_type": "code",
   "execution_count": null,
   "metadata": {},
   "outputs": [],
   "source": [
    "estadistico, p_value = spss.ttest_ind(iris['petal_length'], iris['sepal_width'])\n",
    "if p_value <= 0.05:\n",
    "    print('P value es de {}: Hay comparación.'.format(round(p_value, 3)))\n",
    "else:\n",
    "    print('P value es de {}: Ni de broma.'.format(round(p_value, 3)))"
   ]
  },
  {
   "cell_type": "code",
   "execution_count": null,
   "metadata": {},
   "outputs": [],
   "source": [
    "comparacion = []\n",
    "for col1 in iris.columns[:-1]:\n",
    "    for col2 in iris.columns[:-1]:\n",
    "        estadistico, p_value = spss.ttest_ind(iris[col1], iris[col2])\n",
    "        comparacion.append('{} - {} = Estadístico: {}, P Value: {}'.format(col1, col2, estadistico, round(p_value, 3)))\n",
    "comparacion"
   ]
  },
  {
   "cell_type": "code",
   "execution_count": null,
   "metadata": {},
   "outputs": [],
   "source": [
    "comparacion = []\n",
    "for tipo in iris.variety.unique():\n",
    "    por_tipo = iris.loc[iris['variety'] == tipo]\n",
    "    for col1 in por_tipo.columns[:-1]:\n",
    "        for col2 in por_tipo.columns[:-1]:\n",
    "            estadistico, p_value = spss.ttest_ind(por_tipo[col1], por_tipo[col2])\n",
    "            if p_value <= 0.05:\n",
    "                comparacion.append('{}: {} - {} = Estadístico: {}, P Value: {}'.format(tipo, col1, col2, round(estadistico, 3), round(p_value, 3)))\n",
    "comparacion"
   ]
  },
  {
   "cell_type": "markdown",
   "metadata": {},
   "source": [
    "### ¿Qué diablos hacer que se analicen las comparaciones de los diferentes tipos de planta?"
   ]
  },
  {
   "cell_type": "code",
   "execution_count": null,
   "metadata": {},
   "outputs": [],
   "source": [
    "# Por tipo\n",
    "comparacion = []\n",
    "\n",
    "for tipo1 in iris['variety'].unique():\n",
    "    por_tipo1 = iris.loc[iris['variety'] == tipo1]\n",
    "    for tipo2 in iris['variety'].unique():\n",
    "        por_tipo2 = iris.loc[iris['variety'] == tipo2]\n",
    "        print(tipo1, '-', tipo2)\n",
    "        #for col1 in por_tipo1.columns[:-1]:\n",
    "        #    for col2 in por_tipo2.columns[:-1]:\n",
    "        #        #print(col1, '-', col2)\n",
    "        #        estadistico, p_value = spss.ttest_ind(por_tipo1[col1], por_tipo2[col2])\n",
    "        #        if p_value <= 0.05:\n",
    "        #            comparacion.append('{}-{}: {} - {} = Estadístico: {}, P Value: {}'.format(tipo1, tipo2, col1, col2, round(estadistico, 3), round(p_value, 3)))"
   ]
  },
  {
   "cell_type": "code",
   "execution_count": null,
   "metadata": {},
   "outputs": [],
   "source": [
    "comparacion"
   ]
  },
  {
   "cell_type": "markdown",
   "metadata": {},
   "source": [
    "### Para pruebas Post Hoc\n",
    "[Post hocs en Python](https://scikit-posthocs.readthedocs.io/en/latest/)"
   ]
  },
  {
   "cell_type": "code",
   "execution_count": null,
   "metadata": {},
   "outputs": [],
   "source": [
    "import scikit_posthocs as sp\n",
    "# Usaremos post hoc \"Scheffé\"\n",
    "# Las comparaciones de todos los pares de Scheffe prueban datos distribuidos normalmente con variaciones de grupo iguales."
   ]
  },
  {
   "cell_type": "code",
   "execution_count": null,
   "metadata": {},
   "outputs": [],
   "source": [
    "x = iris[['petal_length', 'sepal_width']]\n",
    "print(x.head())\n",
    "print(' ')\n",
    "x = x.melt(var_name='grupos', value_name='valores')\n",
    "print(x.head())\n",
    "print(' ')\n",
    "sp.posthoc_scheffe(x, val_col='valores', group_col='grupos')"
   ]
  },
  {
   "cell_type": "code",
   "execution_count": null,
   "metadata": {},
   "outputs": [],
   "source": [
    "scheffe = sp.posthoc_scheffe(x, val_col='valores', group_col='grupos')\n",
    "scheffe"
   ]
  },
  {
   "cell_type": "code",
   "execution_count": null,
   "metadata": {},
   "outputs": [],
   "source": [
    "scheffe = sp.posthoc_scheffe(x, val_col='valores', group_col='grupos').round(2)\n",
    "scheffe_interpretado = scheffe.copy()\n",
    "scheffe_interpretado"
   ]
  },
  {
   "cell_type": "code",
   "execution_count": null,
   "metadata": {},
   "outputs": [],
   "source": [
    "for sig in np.arange(0.00, 0.06, 0.01):\n",
    "    print(sig)"
   ]
  },
  {
   "cell_type": "code",
   "execution_count": null,
   "metadata": {},
   "outputs": [],
   "source": [
    "for sig in np.arange(0.00, 0.06, 0.01):\n",
    "    scheffe_interpretado = scheffe_interpretado.replace(sig, 'Significativo')\n",
    "scheffe_interpretado"
   ]
  },
  {
   "cell_type": "markdown",
   "metadata": {},
   "source": [
    "### ¿Cómo se le hace por tipo?"
   ]
  },
  {
   "cell_type": "code",
   "execution_count": null,
   "metadata": {},
   "outputs": [],
   "source": [
    "# Por tipo\n",
    "setosa = iris.loc[iris['variety'] == 'Setosa']\n",
    "for col in setosa.columns:\n",
    "    setosa.columns = setosa.columns.str.replace('{}'.format(col), '{}_Setosa'.format(col))\n",
    "setosa = setosa.drop('variety_Setosa', axis=1)\n",
    "\n",
    "versicolor = iris.loc[iris['variety'] == 'Versicolor']\n",
    "for col in versicolor.columns:\n",
    "    versicolor.columns = versicolor.columns.str.replace('{}'.format(col), '{}_Versicolor'.format(col))\n",
    "versicolor = versicolor.drop('variety_Versicolor', axis=1)\n",
    "    \n",
    "virginica = iris.loc[iris['variety'] == 'Virginica']\n",
    "for col in virginica.columns:\n",
    "    virginica.columns = virginica.columns.str.replace('{}'.format(col), '{}_Virginica'.format(col))\n",
    "virginica = virginica.drop('variety_Virginica', axis=1)"
   ]
  },
  {
   "cell_type": "code",
   "execution_count": null,
   "metadata": {},
   "outputs": [],
   "source": [
    "super_iris = pd.concat([setosa.reset_index(), versicolor.reset_index(), virginica.reset_index()], axis=1)"
   ]
  },
  {
   "cell_type": "code",
   "execution_count": null,
   "metadata": {},
   "outputs": [],
   "source": [
    "super_iris = super_iris.drop('index', axis=1)"
   ]
  },
  {
   "cell_type": "code",
   "execution_count": null,
   "metadata": {},
   "outputs": [],
   "source": [
    "super_iris.head()"
   ]
  },
  {
   "cell_type": "code",
   "execution_count": null,
   "metadata": {},
   "outputs": [],
   "source": [
    "posthoc = []\n",
    "scheffe_inter = []\n",
    "\n",
    "for col1 in super_iris.columns:\n",
    "    for col2 in super_iris.columns:\n",
    "        x = super_iris[[col1, col2]]\n",
    "        x = x.melt(var_name='grupos', value_name='valores')\n",
    "        scheffe = sp.posthoc_scheffe(x, val_col='valores', group_col='grupos').round(2)\n",
    "        scheffe_interpretado = scheffe.copy()\n",
    "        scheffe_inter.append(scheffe_interpretado)\n",
    "        for sig in np.arange(0.00, 0.06, 0.01):\n",
    "            scheffe_interpretado = scheffe_interpretado.replace(sig, 'Significativo')\n",
    "            posthoc.append(scheffe_interpretado)"
   ]
  },
  {
   "cell_type": "code",
   "execution_count": null,
   "metadata": {},
   "outputs": [],
   "source": [
    "post = pd.concat(posthoc)\n",
    "#print(post.dropna(how='all'))\n",
    "schef = pd.concat(scheffe_inter)\n",
    "#print(schef.dropna(how='all'))\n",
    "#schef#.info()\n",
    "post"
   ]
  },
  {
   "cell_type": "markdown",
   "metadata": {},
   "source": [
    "## Vamos a meterlos todos"
   ]
  },
  {
   "cell_type": "code",
   "execution_count": null,
   "metadata": {},
   "outputs": [],
   "source": [
    "for variedad in iris['variety'].unique():\n",
    "    print(variedad)\n",
    "    for col1 in iris.columns[:-1]:\n",
    "        print(col1)"
   ]
  },
  {
   "cell_type": "code",
   "execution_count": null,
   "metadata": {},
   "outputs": [],
   "source": [
    "normalidad = []\n",
    "anormalidad = []\n",
    "\n",
    "comparacion = []\n",
    "sin_comparacion = []\n",
    "\n",
    "# Variedad 1\n",
    "for variedad1 in iris['variety'].unique():\n",
    "    por_tipo1 = iris.loc[iris['variety'] == variedad1]\n",
    "    \n",
    "    # Test de Normalidad\n",
    "    for col1 in por_tipo1.columns[:-1]:\n",
    "        valor, pvalor = spss.normaltest(por_tipo1[col1])\n",
    "        if pvalor <= 0.05:\n",
    "            normalidad.append('Columna -> {}, Valor estadístico = {}, p-value = {} -> Presenta normalidad en los datos.'.format(col1, round(valor, 3), round(pvalor, 3)))\n",
    "        else:\n",
    "            anormalidad.append('Columna -> {}, Valor estadístico = {}, p-value = {} -> Anormalidad en los datos.'.format(col1, round(valor, 3), round(pvalor, 3)))\n",
    "\n",
    "    # Variedad 2\n",
    "    for variedad2 in iris['variety'].unique():\n",
    "        por_tipo2 = iris.loc[iris['variety'] == variedad2]\n",
    "        \n",
    "        # Columna 1\n",
    "        for col1 in por_tipo1.columns[:-1]:\n",
    "            \n",
    "            # Columna 2\n",
    "            for col2 in por_tipo2.columns[:-1]:\n",
    "                \n",
    "                # Test de Comparación\n",
    "                for col2 in por_tipo2.columns[:-1]:\n",
    "                    estadistico, p_value = spss.ttest_ind(por_tipo1[col1], por_tipo2[col2])\n",
    "                    if p_value <= 0.05:\n",
    "                        comparacion.append('Significativo, {}-{}, {} - {} = Estadístico: {}, P_Value: {}'.format(variedad1, variedad2, col1, col2, round(estadistico, 3), round(p_value, 3)))\n",
    "                    else:\n",
    "                        sin_comparacion.append('Insignificante, {}-{}, {} - {} = Estadístico: {}, P_Value: {}'.format(variedad1, variedad2, col1, col2, round(estadistico, 3), round(p_value, 3)))"
   ]
  },
  {
   "cell_type": "code",
   "execution_count": null,
   "metadata": {},
   "outputs": [],
   "source": [
    "for normal in normalidad:\n",
    "    print(normal)\n",
    "\n",
    "print(' ')\n",
    "\n",
    "for compara in comparacion:\n",
    "    print(compara)"
   ]
  },
  {
   "cell_type": "code",
   "execution_count": null,
   "metadata": {},
   "outputs": [],
   "source": [
    "iris.head()"
   ]
  },
  {
   "cell_type": "code",
   "execution_count": null,
   "metadata": {},
   "outputs": [],
   "source": [
    "x = iris[['sepal_length', 'petal_length']]\n",
    "x = x.melt(var_name='grupos', value_name='valores')\n",
    "print(x)#.head())"
   ]
  },
  {
   "cell_type": "code",
   "execution_count": null,
   "metadata": {},
   "outputs": [],
   "source": [
    "super_iris.head()"
   ]
  },
  {
   "cell_type": "code",
   "execution_count": null,
   "metadata": {},
   "outputs": [],
   "source": [
    "print(super_iris.iloc[:, 0].T.head())\n",
    "print(type(super_iris.iloc[:, 0].T.head()))\n",
    "print(' ')\n",
    "print(super_iris.iloc[:, 0].name)\n",
    "print(type(super_iris.iloc[:, 0].name))\n",
    "print(' ')\n",
    "#print(type(((super_iris.iloc[:, 0].name + ' ') * len(super_iris.iloc[:, 0].T))))"
   ]
  },
  {
   "cell_type": "code",
   "execution_count": null,
   "metadata": {},
   "outputs": [],
   "source": [
    "para_post = pd.DataFrame()\n",
    "para_post['Grupos'] = ((super_iris.iloc[:, 0].name + ' ') * len(super_iris.iloc[:, 0].T)).split()\n",
    "para_post['Valores'] = super_iris.iloc[:, 0].T\n",
    "para_post\n",
    "#super_iris.iloc[:, 0].name\n",
    "#super_iris.iloc[:, 0].T"
   ]
  },
  {
   "cell_type": "code",
   "execution_count": null,
   "metadata": {},
   "outputs": [],
   "source": [
    "for num in range(len(super_iris.columns)):\n",
    "    print(num)"
   ]
  },
  {
   "cell_type": "code",
   "execution_count": null,
   "metadata": {},
   "outputs": [],
   "source": [
    "para_post = []\n",
    "\n",
    "for num in range(len(super_iris.columns)):\n",
    "    super_lista = pd.DataFrame()\n",
    "    super_lista['Grupos'] = ((super_iris.iloc[:, num].name + ' ') * len(super_iris.iloc[:, num].T)).split()\n",
    "    super_lista['Valores'] = super_iris.iloc[:, num].T\n",
    "    para_post.append(super_lista)"
   ]
  },
  {
   "cell_type": "code",
   "execution_count": null,
   "metadata": {},
   "outputs": [],
   "source": [
    "para_post = pd.concat(para_post)"
   ]
  },
  {
   "cell_type": "code",
   "execution_count": null,
   "metadata": {},
   "outputs": [],
   "source": [
    "para_post#.columns\n",
    "#para_post.Grupos.unique()"
   ]
  },
  {
   "cell_type": "code",
   "execution_count": null,
   "metadata": {},
   "outputs": [],
   "source": [
    "x = para_post[['Grupos', 'Valores']]\n",
    "\n",
    "scheffe = sp.posthoc_scheffe(x, val_col='Valores', group_col='Grupos').round(2)\n",
    "scheffe_interpretado = scheffe.copy()\n",
    "\n",
    "for sig in np.arange(0.00, 0.06, 0.01):\n",
    "    scheffe_interpretado = scheffe_interpretado.replace(sig, 'Significativo')"
   ]
  },
  {
   "cell_type": "code",
   "execution_count": null,
   "metadata": {},
   "outputs": [],
   "source": [
    "scheffe"
   ]
  },
  {
   "cell_type": "code",
   "execution_count": null,
   "metadata": {},
   "outputs": [],
   "source": [
    "scheffe_interpretado#.head()"
   ]
  },
  {
   "cell_type": "markdown",
   "metadata": {},
   "source": [
    "## Mínimos Cuadrados"
   ]
  },
  {
   "cell_type": "code",
   "execution_count": null,
   "metadata": {},
   "outputs": [],
   "source": [
    "from statsmodels.formula.api import ols"
   ]
  },
  {
   "cell_type": "code",
   "execution_count": null,
   "metadata": {},
   "outputs": [],
   "source": [
    "model = ols('sepal_width ~ variety + petal_length', iris).fit()\n",
    "print(model.summary())"
   ]
  },
  {
   "cell_type": "code",
   "execution_count": null,
   "metadata": {},
   "outputs": [],
   "source": [
    "# Guardar el módelo\n",
    "with open('OLS-Iris.txt', 'w') as file_txt:\n",
    "    file_txt.write(str(model.summary()))\n",
    "    file_txt.close()"
   ]
  },
  {
   "cell_type": "code",
   "execution_count": null,
   "metadata": {},
   "outputs": [],
   "source": [
    "sns.pairplot(iris, vars=['sepal_length', 'sepal_width', 'petal_length', 'petal_width'], kind='reg', hue='variety') "
   ]
  },
  {
   "cell_type": "code",
   "execution_count": null,
   "metadata": {},
   "outputs": [],
   "source": [
    "sns.lmplot(y='sepal_length', x='petal_length', data=iris)  "
   ]
  },
  {
   "cell_type": "code",
   "execution_count": null,
   "metadata": {},
   "outputs": [],
   "source": [
    "### COMO DEBERÍA DE SER\n",
    "\n",
    "tipos = pd.Categorical(iris['variety'])\n",
    "\n",
    "pdplt.scatter_matrix(iris, c=tipos.codes, marker='o', figsize=(10, 8))"
   ]
  },
  {
   "cell_type": "code",
   "execution_count": null,
   "metadata": {},
   "outputs": [],
   "source": [
    "model = ols('sepal_width ~ variety + petal_length', iris).fit()\n",
    "print(model.summary())\n",
    "print(' ')\n",
    "print('Probando la diferencia entre el efecto de versicolor y virginica')\n",
    "print(model.f_test([0, 1, -1, 0]))\n",
    "plt.show()"
   ]
  },
  {
   "cell_type": "markdown",
   "metadata": {},
   "source": [
    "## 3er Dataset. Datos de la super tesis nunca antes escrita en el mundo mundial."
   ]
  },
  {
   "cell_type": "code",
   "execution_count": 80,
   "metadata": {},
   "outputs": [],
   "source": [
    "import pandas as pd\n",
    "import numpy as np\n",
    "import matplotlib.pyplot as plt\n",
    "from glob import glob as gg\n",
    "from tqdm import tqdm\n",
    "import time\n",
    "import seaborn as sns\n",
    "import scipy.stats as spss"
   ]
  },
  {
   "cell_type": "code",
   "execution_count": 2,
   "metadata": {},
   "outputs": [
    {
     "data": {
      "text/plain": [
       "['Control1.txt', 'Control2.txt', 'Paciente1.txt', 'Paciente2.txt']"
      ]
     },
     "execution_count": 2,
     "metadata": {},
     "output_type": "execute_result"
    }
   ],
   "source": [
    "# Búsqueda de las Bases Reales\n",
    "files_txt = sorted(gg('*.txt'))\n",
    "files_txt"
   ]
  },
  {
   "cell_type": "code",
   "execution_count": 3,
   "metadata": {},
   "outputs": [
    {
     "name": "stdout",
     "output_type": "stream",
     "text": [
      "['Video analysis detailed log\\n', '\\n', 'Face Model:\\tGeneral\\n', 'Calibration:\\tContinuous\\n', 'Start time:\\t22/08/2017 16:23:08.356\\n', 'Filename:\\tD:\\\\Javier-Controles\\\\4 Ago 2017\\\\Facial\\\\20170804\\\\20170804\\\\Sujeto1f_xvid.avi\\n', 'Frame rate:\\t25\\n', '\\n', 'Video Time\\tNeutral\\tHappy\\tSad\\tAngry\\tSurprised\\tScared\\tDisgusted\\tContempt\\tValence\\tArousal\\tGender\\tAge\\tBeard\\tMoustache\\tGlasses\\tEthnicity\\tY - Head Orientation\\tX - Head Orientation\\tZ - Head Orientation\\tMouth\\tLeft Eye\\tRight Eye\\tLeft Eyebrow\\tRight Eyebrow\\tGaze Direction\\tIdentity\\tAction Unit 01 - Inner Brow Raiser\\tAction Unit 02 - Outer Brow Raiser\\tAction Unit 04 - Brow Lowerer\\tAction Unit 05 - Upper Lid Raiser\\tAction Unit 06 - Cheek Raiser\\tAction Unit 07 - Lid Tightener\\tAction Unit 09 - Nose Wrinkler\\tAction Unit 10 - Upper Lip Raiser\\tAction Unit 12 - Lip Corner Puller\\tAction Unit 14 - Dimpler\\tAction Unit 15 - Lip Corner Depressor\\tAction Unit 17 - Chin Raiser\\tAction Unit 18 - Lip Puckerer\\tAction Unit 20 - Lip Stretcher\\tAction Unit 23 - Lip Tightener\\tAction Unit 24 - Lip Pressor\\tAction Unit 25 - Lips Part\\tAction Unit 26 - Jaw Drop\\tAction Unit 27 - Mouth Stretch\\tAction Unit 43 - Eyes Closed\\tHeart Rate\\tStimulus\\tEvent Marker\\n']\n"
     ]
    }
   ],
   "source": [
    "with open(files_txt[0], 'r') as file:\n",
    "    print(file.readlines(1000))\n",
    "    file.close()"
   ]
  },
  {
   "cell_type": "code",
   "execution_count": 4,
   "metadata": {},
   "outputs": [
    {
     "name": "stdout",
     "output_type": "stream",
     "text": [
      "['Video analysis detailed log\\n', '\\n', 'Face Model:\\tGeneral\\n', 'Calibration:\\tContinuous\\n', 'Start time:\\t22/08/2017 16:23:08.356\\n', 'Filename:\\tD:\\\\Javier-Controles\\\\4 Ago 2017\\\\Facial\\\\20170804\\\\20170804\\\\Sujeto1f_xvid.avi\\n', 'Frame rate:\\t25\\n']\n"
     ]
    }
   ],
   "source": [
    "file_txt = open(files_txt[0], 'r')\n",
    "print(file_txt.readlines(200))"
   ]
  },
  {
   "cell_type": "code",
   "execution_count": 5,
   "metadata": {},
   "outputs": [
    {
     "data": {
      "text/plain": [
       "['Video analysis detailed log\\n',\n",
       " '\\n',\n",
       " 'Face Model:\\tGeneral\\n',\n",
       " 'Calibration:\\tContinuous\\n',\n",
       " 'Start time:\\t22/08/2017 16:23:08.356\\n',\n",
       " 'Filename:\\tD:\\\\Javier-Controles\\\\4 Ago 2017\\\\Facial\\\\20170804\\\\20170804\\\\Sujeto1f_xvid.avi\\n',\n",
       " 'Frame rate:\\t25\\n']"
      ]
     },
     "execution_count": 5,
     "metadata": {},
     "output_type": "execute_result"
    }
   ],
   "source": [
    "file_txt = open(files_txt[0], 'r').readlines(200)\n",
    "file_txt"
   ]
  },
  {
   "cell_type": "code",
   "execution_count": 6,
   "metadata": {},
   "outputs": [
    {
     "data": {
      "text/html": [
       "<div>\n",
       "<style scoped>\n",
       "    .dataframe tbody tr th:only-of-type {\n",
       "        vertical-align: middle;\n",
       "    }\n",
       "\n",
       "    .dataframe tbody tr th {\n",
       "        vertical-align: top;\n",
       "    }\n",
       "\n",
       "    .dataframe thead th {\n",
       "        text-align: right;\n",
       "    }\n",
       "</style>\n",
       "<table border=\"1\" class=\"dataframe\">\n",
       "  <thead>\n",
       "    <tr style=\"text-align: right;\">\n",
       "      <th></th>\n",
       "      <th>Video analysis detailed log</th>\n",
       "    </tr>\n",
       "  </thead>\n",
       "  <tbody>\n",
       "    <tr>\n",
       "      <th>0</th>\n",
       "      <td>Face Model:\\tGeneral</td>\n",
       "    </tr>\n",
       "    <tr>\n",
       "      <th>1</th>\n",
       "      <td>Calibration:\\tContinuous</td>\n",
       "    </tr>\n",
       "    <tr>\n",
       "      <th>2</th>\n",
       "      <td>Start time:\\t22/08/2017 16:23:08.356</td>\n",
       "    </tr>\n",
       "    <tr>\n",
       "      <th>3</th>\n",
       "      <td>Filename:\\tD:\\Javier-Controles\\4 Ago 2017\\Faci...</td>\n",
       "    </tr>\n",
       "    <tr>\n",
       "      <th>4</th>\n",
       "      <td>Frame rate:\\t25</td>\n",
       "    </tr>\n",
       "    <tr>\n",
       "      <th>5</th>\n",
       "      <td>Video Time\\tNeutral\\tHappy\\tSad\\tAngry\\tSurpri...</td>\n",
       "    </tr>\n",
       "    <tr>\n",
       "      <th>6</th>\n",
       "      <td>00:00:00.000\\tFIND_FAILED\\tFIND_FAILED\\tFIND_F...</td>\n",
       "    </tr>\n",
       "    <tr>\n",
       "      <th>7</th>\n",
       "      <td>00:00:00.040\\tFIND_FAILED\\tFIND_FAILED\\tFIND_F...</td>\n",
       "    </tr>\n",
       "    <tr>\n",
       "      <th>8</th>\n",
       "      <td>00:00:00.080\\tFIND_FAILED\\tFIND_FAILED\\tFIND_F...</td>\n",
       "    </tr>\n",
       "    <tr>\n",
       "      <th>9</th>\n",
       "      <td>00:00:00.120\\tFIND_FAILED\\tFIND_FAILED\\tFIND_F...</td>\n",
       "    </tr>\n",
       "  </tbody>\n",
       "</table>\n",
       "</div>"
      ],
      "text/plain": [
       "                         Video analysis detailed log\n",
       "0                               Face Model:\\tGeneral\n",
       "1                           Calibration:\\tContinuous\n",
       "2               Start time:\\t22/08/2017 16:23:08.356\n",
       "3  Filename:\\tD:\\Javier-Controles\\4 Ago 2017\\Faci...\n",
       "4                                    Frame rate:\\t25\n",
       "5  Video Time\\tNeutral\\tHappy\\tSad\\tAngry\\tSurpri...\n",
       "6  00:00:00.000\\tFIND_FAILED\\tFIND_FAILED\\tFIND_F...\n",
       "7  00:00:00.040\\tFIND_FAILED\\tFIND_FAILED\\tFIND_F...\n",
       "8  00:00:00.080\\tFIND_FAILED\\tFIND_FAILED\\tFIND_F...\n",
       "9  00:00:00.120\\tFIND_FAILED\\tFIND_FAILED\\tFIND_F..."
      ]
     },
     "execution_count": 6,
     "metadata": {},
     "output_type": "execute_result"
    }
   ],
   "source": [
    "file_txt = pd.read_csv(files_txt[0])\n",
    "file_txt.head(10)"
   ]
  },
  {
   "cell_type": "code",
   "execution_count": null,
   "metadata": {},
   "outputs": [],
   "source": [
    "file_txt = pd.read_csv(files_txt[0], sep='\\t')\n",
    "file_txt.head(10)"
   ]
  },
  {
   "cell_type": "code",
   "execution_count": 8,
   "metadata": {},
   "outputs": [
    {
     "data": {
      "text/html": [
       "<div>\n",
       "<style scoped>\n",
       "    .dataframe tbody tr th:only-of-type {\n",
       "        vertical-align: middle;\n",
       "    }\n",
       "\n",
       "    .dataframe tbody tr th {\n",
       "        vertical-align: top;\n",
       "    }\n",
       "\n",
       "    .dataframe thead th {\n",
       "        text-align: right;\n",
       "    }\n",
       "</style>\n",
       "<table border=\"1\" class=\"dataframe\">\n",
       "  <thead>\n",
       "    <tr style=\"text-align: right;\">\n",
       "      <th></th>\n",
       "      <th>Video Time</th>\n",
       "      <th>Neutral</th>\n",
       "      <th>Happy</th>\n",
       "      <th>Sad</th>\n",
       "      <th>Angry</th>\n",
       "      <th>Surprised</th>\n",
       "      <th>Scared</th>\n",
       "      <th>Disgusted</th>\n",
       "      <th>Contempt</th>\n",
       "      <th>Valence</th>\n",
       "      <th>...</th>\n",
       "      <th>Action Unit 20 - Lip Stretcher</th>\n",
       "      <th>Action Unit 23 - Lip Tightener</th>\n",
       "      <th>Action Unit 24 - Lip Pressor</th>\n",
       "      <th>Action Unit 25 - Lips Part</th>\n",
       "      <th>Action Unit 26 - Jaw Drop</th>\n",
       "      <th>Action Unit 27 - Mouth Stretch</th>\n",
       "      <th>Action Unit 43 - Eyes Closed</th>\n",
       "      <th>Heart Rate</th>\n",
       "      <th>Stimulus</th>\n",
       "      <th>Event Marker</th>\n",
       "    </tr>\n",
       "  </thead>\n",
       "  <tbody>\n",
       "    <tr>\n",
       "      <th>0</th>\n",
       "      <td>00:00:00.000</td>\n",
       "      <td>FIND_FAILED</td>\n",
       "      <td>FIND_FAILED</td>\n",
       "      <td>FIND_FAILED</td>\n",
       "      <td>FIND_FAILED</td>\n",
       "      <td>FIND_FAILED</td>\n",
       "      <td>FIND_FAILED</td>\n",
       "      <td>FIND_FAILED</td>\n",
       "      <td>FIND_FAILED</td>\n",
       "      <td>FIND_FAILED</td>\n",
       "      <td>...</td>\n",
       "      <td>FIND_FAILED</td>\n",
       "      <td>FIND_FAILED</td>\n",
       "      <td>FIND_FAILED</td>\n",
       "      <td>FIND_FAILED</td>\n",
       "      <td>FIND_FAILED</td>\n",
       "      <td>FIND_FAILED</td>\n",
       "      <td>FIND_FAILED</td>\n",
       "      <td>FIND_FAILED</td>\n",
       "      <td>No Stimulus</td>\n",
       "      <td>No Event Marker</td>\n",
       "    </tr>\n",
       "    <tr>\n",
       "      <th>1</th>\n",
       "      <td>00:00:00.040</td>\n",
       "      <td>FIND_FAILED</td>\n",
       "      <td>FIND_FAILED</td>\n",
       "      <td>FIND_FAILED</td>\n",
       "      <td>FIND_FAILED</td>\n",
       "      <td>FIND_FAILED</td>\n",
       "      <td>FIND_FAILED</td>\n",
       "      <td>FIND_FAILED</td>\n",
       "      <td>FIND_FAILED</td>\n",
       "      <td>FIND_FAILED</td>\n",
       "      <td>...</td>\n",
       "      <td>FIND_FAILED</td>\n",
       "      <td>FIND_FAILED</td>\n",
       "      <td>FIND_FAILED</td>\n",
       "      <td>FIND_FAILED</td>\n",
       "      <td>FIND_FAILED</td>\n",
       "      <td>FIND_FAILED</td>\n",
       "      <td>FIND_FAILED</td>\n",
       "      <td>FIND_FAILED</td>\n",
       "      <td>No Stimulus</td>\n",
       "      <td>No Event Marker</td>\n",
       "    </tr>\n",
       "    <tr>\n",
       "      <th>2</th>\n",
       "      <td>00:00:00.080</td>\n",
       "      <td>FIND_FAILED</td>\n",
       "      <td>FIND_FAILED</td>\n",
       "      <td>FIND_FAILED</td>\n",
       "      <td>FIND_FAILED</td>\n",
       "      <td>FIND_FAILED</td>\n",
       "      <td>FIND_FAILED</td>\n",
       "      <td>FIND_FAILED</td>\n",
       "      <td>FIND_FAILED</td>\n",
       "      <td>FIND_FAILED</td>\n",
       "      <td>...</td>\n",
       "      <td>FIND_FAILED</td>\n",
       "      <td>FIND_FAILED</td>\n",
       "      <td>FIND_FAILED</td>\n",
       "      <td>FIND_FAILED</td>\n",
       "      <td>FIND_FAILED</td>\n",
       "      <td>FIND_FAILED</td>\n",
       "      <td>FIND_FAILED</td>\n",
       "      <td>FIND_FAILED</td>\n",
       "      <td>No Stimulus</td>\n",
       "      <td>No Event Marker</td>\n",
       "    </tr>\n",
       "    <tr>\n",
       "      <th>3</th>\n",
       "      <td>00:00:00.120</td>\n",
       "      <td>FIND_FAILED</td>\n",
       "      <td>FIND_FAILED</td>\n",
       "      <td>FIND_FAILED</td>\n",
       "      <td>FIND_FAILED</td>\n",
       "      <td>FIND_FAILED</td>\n",
       "      <td>FIND_FAILED</td>\n",
       "      <td>FIND_FAILED</td>\n",
       "      <td>FIND_FAILED</td>\n",
       "      <td>FIND_FAILED</td>\n",
       "      <td>...</td>\n",
       "      <td>FIND_FAILED</td>\n",
       "      <td>FIND_FAILED</td>\n",
       "      <td>FIND_FAILED</td>\n",
       "      <td>FIND_FAILED</td>\n",
       "      <td>FIND_FAILED</td>\n",
       "      <td>FIND_FAILED</td>\n",
       "      <td>FIND_FAILED</td>\n",
       "      <td>FIND_FAILED</td>\n",
       "      <td>No Stimulus</td>\n",
       "      <td>No Event Marker</td>\n",
       "    </tr>\n",
       "    <tr>\n",
       "      <th>4</th>\n",
       "      <td>00:00:00.160</td>\n",
       "      <td>FIND_FAILED</td>\n",
       "      <td>FIND_FAILED</td>\n",
       "      <td>FIND_FAILED</td>\n",
       "      <td>FIND_FAILED</td>\n",
       "      <td>FIND_FAILED</td>\n",
       "      <td>FIND_FAILED</td>\n",
       "      <td>FIND_FAILED</td>\n",
       "      <td>FIND_FAILED</td>\n",
       "      <td>FIND_FAILED</td>\n",
       "      <td>...</td>\n",
       "      <td>FIND_FAILED</td>\n",
       "      <td>FIND_FAILED</td>\n",
       "      <td>FIND_FAILED</td>\n",
       "      <td>FIND_FAILED</td>\n",
       "      <td>FIND_FAILED</td>\n",
       "      <td>FIND_FAILED</td>\n",
       "      <td>FIND_FAILED</td>\n",
       "      <td>FIND_FAILED</td>\n",
       "      <td>No Stimulus</td>\n",
       "      <td>No Event Marker</td>\n",
       "    </tr>\n",
       "  </tbody>\n",
       "</table>\n",
       "<p>5 rows × 50 columns</p>\n",
       "</div>"
      ],
      "text/plain": [
       "     Video Time      Neutral        Happy          Sad        Angry  \\\n",
       "0  00:00:00.000  FIND_FAILED  FIND_FAILED  FIND_FAILED  FIND_FAILED   \n",
       "1  00:00:00.040  FIND_FAILED  FIND_FAILED  FIND_FAILED  FIND_FAILED   \n",
       "2  00:00:00.080  FIND_FAILED  FIND_FAILED  FIND_FAILED  FIND_FAILED   \n",
       "3  00:00:00.120  FIND_FAILED  FIND_FAILED  FIND_FAILED  FIND_FAILED   \n",
       "4  00:00:00.160  FIND_FAILED  FIND_FAILED  FIND_FAILED  FIND_FAILED   \n",
       "\n",
       "     Surprised       Scared    Disgusted     Contempt      Valence  ...  \\\n",
       "0  FIND_FAILED  FIND_FAILED  FIND_FAILED  FIND_FAILED  FIND_FAILED  ...   \n",
       "1  FIND_FAILED  FIND_FAILED  FIND_FAILED  FIND_FAILED  FIND_FAILED  ...   \n",
       "2  FIND_FAILED  FIND_FAILED  FIND_FAILED  FIND_FAILED  FIND_FAILED  ...   \n",
       "3  FIND_FAILED  FIND_FAILED  FIND_FAILED  FIND_FAILED  FIND_FAILED  ...   \n",
       "4  FIND_FAILED  FIND_FAILED  FIND_FAILED  FIND_FAILED  FIND_FAILED  ...   \n",
       "\n",
       "  Action Unit 20 - Lip Stretcher Action Unit 23 - Lip Tightener  \\\n",
       "0                    FIND_FAILED                    FIND_FAILED   \n",
       "1                    FIND_FAILED                    FIND_FAILED   \n",
       "2                    FIND_FAILED                    FIND_FAILED   \n",
       "3                    FIND_FAILED                    FIND_FAILED   \n",
       "4                    FIND_FAILED                    FIND_FAILED   \n",
       "\n",
       "  Action Unit 24 - Lip Pressor Action Unit 25 - Lips Part  \\\n",
       "0                  FIND_FAILED                FIND_FAILED   \n",
       "1                  FIND_FAILED                FIND_FAILED   \n",
       "2                  FIND_FAILED                FIND_FAILED   \n",
       "3                  FIND_FAILED                FIND_FAILED   \n",
       "4                  FIND_FAILED                FIND_FAILED   \n",
       "\n",
       "  Action Unit 26 - Jaw Drop Action Unit 27 - Mouth Stretch  \\\n",
       "0               FIND_FAILED                    FIND_FAILED   \n",
       "1               FIND_FAILED                    FIND_FAILED   \n",
       "2               FIND_FAILED                    FIND_FAILED   \n",
       "3               FIND_FAILED                    FIND_FAILED   \n",
       "4               FIND_FAILED                    FIND_FAILED   \n",
       "\n",
       "  Action Unit 43 - Eyes Closed   Heart Rate     Stimulus     Event Marker  \n",
       "0                  FIND_FAILED  FIND_FAILED  No Stimulus  No Event Marker  \n",
       "1                  FIND_FAILED  FIND_FAILED  No Stimulus  No Event Marker  \n",
       "2                  FIND_FAILED  FIND_FAILED  No Stimulus  No Event Marker  \n",
       "3                  FIND_FAILED  FIND_FAILED  No Stimulus  No Event Marker  \n",
       "4                  FIND_FAILED  FIND_FAILED  No Stimulus  No Event Marker  \n",
       "\n",
       "[5 rows x 50 columns]"
      ]
     },
     "execution_count": 8,
     "metadata": {},
     "output_type": "execute_result"
    }
   ],
   "source": [
    "file_txt = pd.read_csv(files_txt[0], sep='\\t', header=6)\n",
    "file_txt.head()"
   ]
  },
  {
   "cell_type": "code",
   "execution_count": 9,
   "metadata": {},
   "outputs": [
    {
     "name": "stdout",
     "output_type": "stream",
     "text": [
      "<class 'pandas.core.frame.DataFrame'>\n",
      "RangeIndex: 47192 entries, 0 to 47191\n",
      "Data columns (total 50 columns):\n",
      " #   Column                                 Non-Null Count  Dtype \n",
      "---  ------                                 --------------  ----- \n",
      " 0   Video Time                             47192 non-null  object\n",
      " 1   Neutral                                47192 non-null  object\n",
      " 2   Happy                                  47192 non-null  object\n",
      " 3   Sad                                    47192 non-null  object\n",
      " 4   Angry                                  47192 non-null  object\n",
      " 5   Surprised                              47192 non-null  object\n",
      " 6   Scared                                 47192 non-null  object\n",
      " 7   Disgusted                              47192 non-null  object\n",
      " 8   Contempt                               47192 non-null  object\n",
      " 9   Valence                                47192 non-null  object\n",
      " 10  Arousal                                47192 non-null  object\n",
      " 11  Gender                                 47192 non-null  object\n",
      " 12  Age                                    47192 non-null  object\n",
      " 13  Beard                                  47192 non-null  object\n",
      " 14  Moustache                              47192 non-null  object\n",
      " 15  Glasses                                47192 non-null  object\n",
      " 16  Ethnicity                              47192 non-null  object\n",
      " 17  Y - Head Orientation                   47192 non-null  object\n",
      " 18  X - Head Orientation                   47192 non-null  object\n",
      " 19  Z - Head Orientation                   47192 non-null  object\n",
      " 20  Mouth                                  47192 non-null  object\n",
      " 21  Left Eye                               47192 non-null  object\n",
      " 22  Right Eye                              47192 non-null  object\n",
      " 23  Left Eyebrow                           47192 non-null  object\n",
      " 24  Right Eyebrow                          47192 non-null  object\n",
      " 25  Gaze Direction                         47192 non-null  object\n",
      " 26  Identity                               47192 non-null  object\n",
      " 27  Action Unit 01 - Inner Brow Raiser     47192 non-null  object\n",
      " 28  Action Unit 02 - Outer Brow Raiser     47192 non-null  object\n",
      " 29  Action Unit 04 - Brow Lowerer          47192 non-null  object\n",
      " 30  Action Unit 05 - Upper Lid Raiser      47192 non-null  object\n",
      " 31  Action Unit 06 - Cheek Raiser          47192 non-null  object\n",
      " 32  Action Unit 07 - Lid Tightener         47192 non-null  object\n",
      " 33  Action Unit 09 - Nose Wrinkler         47192 non-null  object\n",
      " 34  Action Unit 10 - Upper Lip Raiser      47192 non-null  object\n",
      " 35  Action Unit 12 - Lip Corner Puller     47192 non-null  object\n",
      " 36  Action Unit 14 - Dimpler               47192 non-null  object\n",
      " 37  Action Unit 15 - Lip Corner Depressor  47192 non-null  object\n",
      " 38  Action Unit 17 - Chin Raiser           47192 non-null  object\n",
      " 39  Action Unit 18 - Lip Puckerer          47192 non-null  object\n",
      " 40  Action Unit 20 - Lip Stretcher         47192 non-null  object\n",
      " 41  Action Unit 23 - Lip Tightener         47192 non-null  object\n",
      " 42  Action Unit 24 - Lip Pressor           47192 non-null  object\n",
      " 43  Action Unit 25 - Lips Part             47192 non-null  object\n",
      " 44  Action Unit 26 - Jaw Drop              47192 non-null  object\n",
      " 45  Action Unit 27 - Mouth Stretch         47192 non-null  object\n",
      " 46  Action Unit 43 - Eyes Closed           47192 non-null  object\n",
      " 47  Heart Rate                             47192 non-null  object\n",
      " 48  Stimulus                               47192 non-null  object\n",
      " 49  Event Marker                           47192 non-null  object\n",
      "dtypes: object(50)\n",
      "memory usage: 18.0+ MB\n"
     ]
    }
   ],
   "source": [
    "file_txt.info()"
   ]
  },
  {
   "cell_type": "code",
   "execution_count": 10,
   "metadata": {},
   "outputs": [
    {
     "data": {
      "text/plain": [
       "2359600"
      ]
     },
     "execution_count": 10,
     "metadata": {},
     "output_type": "execute_result"
    }
   ],
   "source": [
    "file_txt.shape[0] * file_txt.shape[1]"
   ]
  },
  {
   "cell_type": "code",
   "execution_count": 11,
   "metadata": {},
   "outputs": [
    {
     "data": {
      "text/plain": [
       "'2,359,600'"
      ]
     },
     "execution_count": 11,
     "metadata": {},
     "output_type": "execute_result"
    }
   ],
   "source": [
    "'{:,}'.format(file_txt.shape[0] * file_txt.shape[1])"
   ]
  },
  {
   "cell_type": "code",
   "execution_count": 12,
   "metadata": {},
   "outputs": [
    {
     "data": {
      "text/html": [
       "<div>\n",
       "<style scoped>\n",
       "    .dataframe tbody tr th:only-of-type {\n",
       "        vertical-align: middle;\n",
       "    }\n",
       "\n",
       "    .dataframe tbody tr th {\n",
       "        vertical-align: top;\n",
       "    }\n",
       "\n",
       "    .dataframe thead th {\n",
       "        text-align: right;\n",
       "    }\n",
       "</style>\n",
       "<table border=\"1\" class=\"dataframe\">\n",
       "  <thead>\n",
       "    <tr style=\"text-align: right;\">\n",
       "      <th></th>\n",
       "      <th>Video Time</th>\n",
       "      <th>Neutral</th>\n",
       "      <th>Happy</th>\n",
       "      <th>Sad</th>\n",
       "      <th>Angry</th>\n",
       "      <th>Surprised</th>\n",
       "      <th>Scared</th>\n",
       "      <th>Disgusted</th>\n",
       "      <th>Contempt</th>\n",
       "      <th>Valence</th>\n",
       "      <th>Arousal</th>\n",
       "      <th>Heart Rate</th>\n",
       "    </tr>\n",
       "  </thead>\n",
       "  <tbody>\n",
       "    <tr>\n",
       "      <th>0</th>\n",
       "      <td>00:00:00.000</td>\n",
       "      <td>FIND_FAILED</td>\n",
       "      <td>FIND_FAILED</td>\n",
       "      <td>FIND_FAILED</td>\n",
       "      <td>FIND_FAILED</td>\n",
       "      <td>FIND_FAILED</td>\n",
       "      <td>FIND_FAILED</td>\n",
       "      <td>FIND_FAILED</td>\n",
       "      <td>FIND_FAILED</td>\n",
       "      <td>FIND_FAILED</td>\n",
       "      <td>FIND_FAILED</td>\n",
       "      <td>FIND_FAILED</td>\n",
       "    </tr>\n",
       "    <tr>\n",
       "      <th>1</th>\n",
       "      <td>00:00:00.040</td>\n",
       "      <td>FIND_FAILED</td>\n",
       "      <td>FIND_FAILED</td>\n",
       "      <td>FIND_FAILED</td>\n",
       "      <td>FIND_FAILED</td>\n",
       "      <td>FIND_FAILED</td>\n",
       "      <td>FIND_FAILED</td>\n",
       "      <td>FIND_FAILED</td>\n",
       "      <td>FIND_FAILED</td>\n",
       "      <td>FIND_FAILED</td>\n",
       "      <td>FIND_FAILED</td>\n",
       "      <td>FIND_FAILED</td>\n",
       "    </tr>\n",
       "    <tr>\n",
       "      <th>2</th>\n",
       "      <td>00:00:00.080</td>\n",
       "      <td>FIND_FAILED</td>\n",
       "      <td>FIND_FAILED</td>\n",
       "      <td>FIND_FAILED</td>\n",
       "      <td>FIND_FAILED</td>\n",
       "      <td>FIND_FAILED</td>\n",
       "      <td>FIND_FAILED</td>\n",
       "      <td>FIND_FAILED</td>\n",
       "      <td>FIND_FAILED</td>\n",
       "      <td>FIND_FAILED</td>\n",
       "      <td>FIND_FAILED</td>\n",
       "      <td>FIND_FAILED</td>\n",
       "    </tr>\n",
       "    <tr>\n",
       "      <th>3</th>\n",
       "      <td>00:00:00.120</td>\n",
       "      <td>FIND_FAILED</td>\n",
       "      <td>FIND_FAILED</td>\n",
       "      <td>FIND_FAILED</td>\n",
       "      <td>FIND_FAILED</td>\n",
       "      <td>FIND_FAILED</td>\n",
       "      <td>FIND_FAILED</td>\n",
       "      <td>FIND_FAILED</td>\n",
       "      <td>FIND_FAILED</td>\n",
       "      <td>FIND_FAILED</td>\n",
       "      <td>FIND_FAILED</td>\n",
       "      <td>FIND_FAILED</td>\n",
       "    </tr>\n",
       "    <tr>\n",
       "      <th>4</th>\n",
       "      <td>00:00:00.160</td>\n",
       "      <td>FIND_FAILED</td>\n",
       "      <td>FIND_FAILED</td>\n",
       "      <td>FIND_FAILED</td>\n",
       "      <td>FIND_FAILED</td>\n",
       "      <td>FIND_FAILED</td>\n",
       "      <td>FIND_FAILED</td>\n",
       "      <td>FIND_FAILED</td>\n",
       "      <td>FIND_FAILED</td>\n",
       "      <td>FIND_FAILED</td>\n",
       "      <td>FIND_FAILED</td>\n",
       "      <td>FIND_FAILED</td>\n",
       "    </tr>\n",
       "  </tbody>\n",
       "</table>\n",
       "</div>"
      ],
      "text/plain": [
       "     Video Time      Neutral        Happy          Sad        Angry  \\\n",
       "0  00:00:00.000  FIND_FAILED  FIND_FAILED  FIND_FAILED  FIND_FAILED   \n",
       "1  00:00:00.040  FIND_FAILED  FIND_FAILED  FIND_FAILED  FIND_FAILED   \n",
       "2  00:00:00.080  FIND_FAILED  FIND_FAILED  FIND_FAILED  FIND_FAILED   \n",
       "3  00:00:00.120  FIND_FAILED  FIND_FAILED  FIND_FAILED  FIND_FAILED   \n",
       "4  00:00:00.160  FIND_FAILED  FIND_FAILED  FIND_FAILED  FIND_FAILED   \n",
       "\n",
       "     Surprised       Scared    Disgusted     Contempt      Valence  \\\n",
       "0  FIND_FAILED  FIND_FAILED  FIND_FAILED  FIND_FAILED  FIND_FAILED   \n",
       "1  FIND_FAILED  FIND_FAILED  FIND_FAILED  FIND_FAILED  FIND_FAILED   \n",
       "2  FIND_FAILED  FIND_FAILED  FIND_FAILED  FIND_FAILED  FIND_FAILED   \n",
       "3  FIND_FAILED  FIND_FAILED  FIND_FAILED  FIND_FAILED  FIND_FAILED   \n",
       "4  FIND_FAILED  FIND_FAILED  FIND_FAILED  FIND_FAILED  FIND_FAILED   \n",
       "\n",
       "       Arousal   Heart Rate  \n",
       "0  FIND_FAILED  FIND_FAILED  \n",
       "1  FIND_FAILED  FIND_FAILED  \n",
       "2  FIND_FAILED  FIND_FAILED  \n",
       "3  FIND_FAILED  FIND_FAILED  \n",
       "4  FIND_FAILED  FIND_FAILED  "
      ]
     },
     "execution_count": 12,
     "metadata": {},
     "output_type": "execute_result"
    }
   ],
   "source": [
    "sujeto = pd.concat([file_txt.iloc[:, 0:11], file_txt.iloc[:, 47]], axis=1)\n",
    "sujeto.head()"
   ]
  },
  {
   "cell_type": "code",
   "execution_count": 13,
   "metadata": {},
   "outputs": [
    {
     "name": "stdout",
     "output_type": "stream",
     "text": [
      "<class 'pandas.core.frame.DataFrame'>\n",
      "RangeIndex: 47192 entries, 0 to 47191\n",
      "Data columns (total 12 columns):\n",
      " #   Column      Non-Null Count  Dtype \n",
      "---  ------      --------------  ----- \n",
      " 0   Video Time  47192 non-null  object\n",
      " 1   Neutral     47192 non-null  object\n",
      " 2   Happy       47192 non-null  object\n",
      " 3   Sad         47192 non-null  object\n",
      " 4   Angry       47192 non-null  object\n",
      " 5   Surprised   47192 non-null  object\n",
      " 6   Scared      47192 non-null  object\n",
      " 7   Disgusted   47192 non-null  object\n",
      " 8   Contempt    47192 non-null  object\n",
      " 9   Valence     47192 non-null  object\n",
      " 10  Arousal     47192 non-null  object\n",
      " 11  Heart Rate  47192 non-null  object\n",
      "dtypes: object(12)\n",
      "memory usage: 4.3+ MB\n"
     ]
    }
   ],
   "source": [
    "sujeto.info()"
   ]
  },
  {
   "cell_type": "code",
   "execution_count": 14,
   "metadata": {},
   "outputs": [],
   "source": [
    "sujeto.columns = sujeto.columns.str.replace(' ', '_')"
   ]
  },
  {
   "cell_type": "code",
   "execution_count": 15,
   "metadata": {},
   "outputs": [
    {
     "name": "stdout",
     "output_type": "stream",
     "text": [
      "<class 'pandas.core.frame.DataFrame'>\n",
      "RangeIndex: 47192 entries, 0 to 47191\n",
      "Data columns (total 12 columns):\n",
      " #   Column      Non-Null Count  Dtype \n",
      "---  ------      --------------  ----- \n",
      " 0   Video_Time  47192 non-null  object\n",
      " 1   Neutral     47192 non-null  object\n",
      " 2   Happy       47192 non-null  object\n",
      " 3   Sad         47192 non-null  object\n",
      " 4   Angry       47192 non-null  object\n",
      " 5   Surprised   47192 non-null  object\n",
      " 6   Scared      47192 non-null  object\n",
      " 7   Disgusted   47192 non-null  object\n",
      " 8   Contempt    47192 non-null  object\n",
      " 9   Valence     47192 non-null  object\n",
      " 10  Arousal     47192 non-null  object\n",
      " 11  Heart_Rate  47192 non-null  object\n",
      "dtypes: object(12)\n",
      "memory usage: 4.3+ MB\n"
     ]
    }
   ],
   "source": [
    "sujeto.info()"
   ]
  },
  {
   "cell_type": "code",
   "execution_count": 16,
   "metadata": {},
   "outputs": [
    {
     "data": {
      "text/plain": [
       "'566,304'"
      ]
     },
     "execution_count": 16,
     "metadata": {},
     "output_type": "execute_result"
    }
   ],
   "source": [
    "'{:,}'.format(sujeto.shape[0] * sujeto.shape[1])"
   ]
  },
  {
   "cell_type": "code",
   "execution_count": 17,
   "metadata": {},
   "outputs": [
    {
     "data": {
      "text/html": [
       "<div>\n",
       "<style scoped>\n",
       "    .dataframe tbody tr th:only-of-type {\n",
       "        vertical-align: middle;\n",
       "    }\n",
       "\n",
       "    .dataframe tbody tr th {\n",
       "        vertical-align: top;\n",
       "    }\n",
       "\n",
       "    .dataframe thead th {\n",
       "        text-align: right;\n",
       "    }\n",
       "</style>\n",
       "<table border=\"1\" class=\"dataframe\">\n",
       "  <thead>\n",
       "    <tr style=\"text-align: right;\">\n",
       "      <th></th>\n",
       "      <th>Video_Time</th>\n",
       "      <th>Neutral</th>\n",
       "      <th>Happy</th>\n",
       "      <th>Sad</th>\n",
       "      <th>Angry</th>\n",
       "      <th>Surprised</th>\n",
       "      <th>Scared</th>\n",
       "      <th>Disgusted</th>\n",
       "      <th>Contempt</th>\n",
       "      <th>Valence</th>\n",
       "      <th>Arousal</th>\n",
       "      <th>Heart_Rate</th>\n",
       "    </tr>\n",
       "  </thead>\n",
       "  <tbody>\n",
       "    <tr>\n",
       "      <th>0</th>\n",
       "      <td>2020-09-11 00:00:00.000</td>\n",
       "      <td>FIND_FAILED</td>\n",
       "      <td>FIND_FAILED</td>\n",
       "      <td>FIND_FAILED</td>\n",
       "      <td>FIND_FAILED</td>\n",
       "      <td>FIND_FAILED</td>\n",
       "      <td>FIND_FAILED</td>\n",
       "      <td>FIND_FAILED</td>\n",
       "      <td>FIND_FAILED</td>\n",
       "      <td>FIND_FAILED</td>\n",
       "      <td>FIND_FAILED</td>\n",
       "      <td>FIND_FAILED</td>\n",
       "    </tr>\n",
       "    <tr>\n",
       "      <th>1</th>\n",
       "      <td>2020-09-11 00:00:00.040</td>\n",
       "      <td>FIND_FAILED</td>\n",
       "      <td>FIND_FAILED</td>\n",
       "      <td>FIND_FAILED</td>\n",
       "      <td>FIND_FAILED</td>\n",
       "      <td>FIND_FAILED</td>\n",
       "      <td>FIND_FAILED</td>\n",
       "      <td>FIND_FAILED</td>\n",
       "      <td>FIND_FAILED</td>\n",
       "      <td>FIND_FAILED</td>\n",
       "      <td>FIND_FAILED</td>\n",
       "      <td>FIND_FAILED</td>\n",
       "    </tr>\n",
       "    <tr>\n",
       "      <th>2</th>\n",
       "      <td>2020-09-11 00:00:00.080</td>\n",
       "      <td>FIND_FAILED</td>\n",
       "      <td>FIND_FAILED</td>\n",
       "      <td>FIND_FAILED</td>\n",
       "      <td>FIND_FAILED</td>\n",
       "      <td>FIND_FAILED</td>\n",
       "      <td>FIND_FAILED</td>\n",
       "      <td>FIND_FAILED</td>\n",
       "      <td>FIND_FAILED</td>\n",
       "      <td>FIND_FAILED</td>\n",
       "      <td>FIND_FAILED</td>\n",
       "      <td>FIND_FAILED</td>\n",
       "    </tr>\n",
       "    <tr>\n",
       "      <th>3</th>\n",
       "      <td>2020-09-11 00:00:00.120</td>\n",
       "      <td>FIND_FAILED</td>\n",
       "      <td>FIND_FAILED</td>\n",
       "      <td>FIND_FAILED</td>\n",
       "      <td>FIND_FAILED</td>\n",
       "      <td>FIND_FAILED</td>\n",
       "      <td>FIND_FAILED</td>\n",
       "      <td>FIND_FAILED</td>\n",
       "      <td>FIND_FAILED</td>\n",
       "      <td>FIND_FAILED</td>\n",
       "      <td>FIND_FAILED</td>\n",
       "      <td>FIND_FAILED</td>\n",
       "    </tr>\n",
       "    <tr>\n",
       "      <th>4</th>\n",
       "      <td>2020-09-11 00:00:00.160</td>\n",
       "      <td>FIND_FAILED</td>\n",
       "      <td>FIND_FAILED</td>\n",
       "      <td>FIND_FAILED</td>\n",
       "      <td>FIND_FAILED</td>\n",
       "      <td>FIND_FAILED</td>\n",
       "      <td>FIND_FAILED</td>\n",
       "      <td>FIND_FAILED</td>\n",
       "      <td>FIND_FAILED</td>\n",
       "      <td>FIND_FAILED</td>\n",
       "      <td>FIND_FAILED</td>\n",
       "      <td>FIND_FAILED</td>\n",
       "    </tr>\n",
       "  </tbody>\n",
       "</table>\n",
       "</div>"
      ],
      "text/plain": [
       "               Video_Time      Neutral        Happy          Sad        Angry  \\\n",
       "0 2020-09-11 00:00:00.000  FIND_FAILED  FIND_FAILED  FIND_FAILED  FIND_FAILED   \n",
       "1 2020-09-11 00:00:00.040  FIND_FAILED  FIND_FAILED  FIND_FAILED  FIND_FAILED   \n",
       "2 2020-09-11 00:00:00.080  FIND_FAILED  FIND_FAILED  FIND_FAILED  FIND_FAILED   \n",
       "3 2020-09-11 00:00:00.120  FIND_FAILED  FIND_FAILED  FIND_FAILED  FIND_FAILED   \n",
       "4 2020-09-11 00:00:00.160  FIND_FAILED  FIND_FAILED  FIND_FAILED  FIND_FAILED   \n",
       "\n",
       "     Surprised       Scared    Disgusted     Contempt      Valence  \\\n",
       "0  FIND_FAILED  FIND_FAILED  FIND_FAILED  FIND_FAILED  FIND_FAILED   \n",
       "1  FIND_FAILED  FIND_FAILED  FIND_FAILED  FIND_FAILED  FIND_FAILED   \n",
       "2  FIND_FAILED  FIND_FAILED  FIND_FAILED  FIND_FAILED  FIND_FAILED   \n",
       "3  FIND_FAILED  FIND_FAILED  FIND_FAILED  FIND_FAILED  FIND_FAILED   \n",
       "4  FIND_FAILED  FIND_FAILED  FIND_FAILED  FIND_FAILED  FIND_FAILED   \n",
       "\n",
       "       Arousal   Heart_Rate  \n",
       "0  FIND_FAILED  FIND_FAILED  \n",
       "1  FIND_FAILED  FIND_FAILED  \n",
       "2  FIND_FAILED  FIND_FAILED  \n",
       "3  FIND_FAILED  FIND_FAILED  \n",
       "4  FIND_FAILED  FIND_FAILED  "
      ]
     },
     "execution_count": 17,
     "metadata": {},
     "output_type": "execute_result"
    }
   ],
   "source": [
    "sujeto['Video_Time'] = pd.to_datetime(sujeto['Video_Time'])\n",
    "sujeto.head()"
   ]
  },
  {
   "cell_type": "code",
   "execution_count": 18,
   "metadata": {},
   "outputs": [
    {
     "name": "stdout",
     "output_type": "stream",
     "text": [
      "<class 'pandas.core.frame.DataFrame'>\n",
      "RangeIndex: 47192 entries, 0 to 47191\n",
      "Data columns (total 12 columns):\n",
      " #   Column      Non-Null Count  Dtype         \n",
      "---  ------      --------------  -----         \n",
      " 0   Video_Time  47192 non-null  datetime64[ns]\n",
      " 1   Neutral     47192 non-null  object        \n",
      " 2   Happy       47192 non-null  object        \n",
      " 3   Sad         47192 non-null  object        \n",
      " 4   Angry       47192 non-null  object        \n",
      " 5   Surprised   47192 non-null  object        \n",
      " 6   Scared      47192 non-null  object        \n",
      " 7   Disgusted   47192 non-null  object        \n",
      " 8   Contempt    47192 non-null  object        \n",
      " 9   Valence     47192 non-null  object        \n",
      " 10  Arousal     47192 non-null  object        \n",
      " 11  Heart_Rate  47192 non-null  object        \n",
      "dtypes: datetime64[ns](1), object(11)\n",
      "memory usage: 4.3+ MB\n"
     ]
    }
   ],
   "source": [
    "sujeto.info()"
   ]
  },
  {
   "cell_type": "code",
   "execution_count": 19,
   "metadata": {},
   "outputs": [
    {
     "data": {
      "text/html": [
       "<div>\n",
       "<style scoped>\n",
       "    .dataframe tbody tr th:only-of-type {\n",
       "        vertical-align: middle;\n",
       "    }\n",
       "\n",
       "    .dataframe tbody tr th {\n",
       "        vertical-align: top;\n",
       "    }\n",
       "\n",
       "    .dataframe thead th {\n",
       "        text-align: right;\n",
       "    }\n",
       "</style>\n",
       "<table border=\"1\" class=\"dataframe\">\n",
       "  <thead>\n",
       "    <tr style=\"text-align: right;\">\n",
       "      <th></th>\n",
       "      <th>Video_Time</th>\n",
       "      <th>Neutral</th>\n",
       "      <th>Happy</th>\n",
       "      <th>Sad</th>\n",
       "      <th>Angry</th>\n",
       "      <th>Surprised</th>\n",
       "      <th>Scared</th>\n",
       "      <th>Disgusted</th>\n",
       "      <th>Contempt</th>\n",
       "      <th>Valence</th>\n",
       "      <th>Arousal</th>\n",
       "      <th>Heart_Rate</th>\n",
       "      <th>Fecha</th>\n",
       "    </tr>\n",
       "  </thead>\n",
       "  <tbody>\n",
       "    <tr>\n",
       "      <th>0</th>\n",
       "      <td>2020-09-11 00:00:00.000</td>\n",
       "      <td>FIND_FAILED</td>\n",
       "      <td>FIND_FAILED</td>\n",
       "      <td>FIND_FAILED</td>\n",
       "      <td>FIND_FAILED</td>\n",
       "      <td>FIND_FAILED</td>\n",
       "      <td>FIND_FAILED</td>\n",
       "      <td>FIND_FAILED</td>\n",
       "      <td>FIND_FAILED</td>\n",
       "      <td>FIND_FAILED</td>\n",
       "      <td>FIND_FAILED</td>\n",
       "      <td>FIND_FAILED</td>\n",
       "      <td>2020-09-11</td>\n",
       "    </tr>\n",
       "    <tr>\n",
       "      <th>1</th>\n",
       "      <td>2020-09-11 00:00:00.040</td>\n",
       "      <td>FIND_FAILED</td>\n",
       "      <td>FIND_FAILED</td>\n",
       "      <td>FIND_FAILED</td>\n",
       "      <td>FIND_FAILED</td>\n",
       "      <td>FIND_FAILED</td>\n",
       "      <td>FIND_FAILED</td>\n",
       "      <td>FIND_FAILED</td>\n",
       "      <td>FIND_FAILED</td>\n",
       "      <td>FIND_FAILED</td>\n",
       "      <td>FIND_FAILED</td>\n",
       "      <td>FIND_FAILED</td>\n",
       "      <td>2020-09-11</td>\n",
       "    </tr>\n",
       "    <tr>\n",
       "      <th>2</th>\n",
       "      <td>2020-09-11 00:00:00.080</td>\n",
       "      <td>FIND_FAILED</td>\n",
       "      <td>FIND_FAILED</td>\n",
       "      <td>FIND_FAILED</td>\n",
       "      <td>FIND_FAILED</td>\n",
       "      <td>FIND_FAILED</td>\n",
       "      <td>FIND_FAILED</td>\n",
       "      <td>FIND_FAILED</td>\n",
       "      <td>FIND_FAILED</td>\n",
       "      <td>FIND_FAILED</td>\n",
       "      <td>FIND_FAILED</td>\n",
       "      <td>FIND_FAILED</td>\n",
       "      <td>2020-09-11</td>\n",
       "    </tr>\n",
       "    <tr>\n",
       "      <th>3</th>\n",
       "      <td>2020-09-11 00:00:00.120</td>\n",
       "      <td>FIND_FAILED</td>\n",
       "      <td>FIND_FAILED</td>\n",
       "      <td>FIND_FAILED</td>\n",
       "      <td>FIND_FAILED</td>\n",
       "      <td>FIND_FAILED</td>\n",
       "      <td>FIND_FAILED</td>\n",
       "      <td>FIND_FAILED</td>\n",
       "      <td>FIND_FAILED</td>\n",
       "      <td>FIND_FAILED</td>\n",
       "      <td>FIND_FAILED</td>\n",
       "      <td>FIND_FAILED</td>\n",
       "      <td>2020-09-11</td>\n",
       "    </tr>\n",
       "    <tr>\n",
       "      <th>4</th>\n",
       "      <td>2020-09-11 00:00:00.160</td>\n",
       "      <td>FIND_FAILED</td>\n",
       "      <td>FIND_FAILED</td>\n",
       "      <td>FIND_FAILED</td>\n",
       "      <td>FIND_FAILED</td>\n",
       "      <td>FIND_FAILED</td>\n",
       "      <td>FIND_FAILED</td>\n",
       "      <td>FIND_FAILED</td>\n",
       "      <td>FIND_FAILED</td>\n",
       "      <td>FIND_FAILED</td>\n",
       "      <td>FIND_FAILED</td>\n",
       "      <td>FIND_FAILED</td>\n",
       "      <td>2020-09-11</td>\n",
       "    </tr>\n",
       "  </tbody>\n",
       "</table>\n",
       "</div>"
      ],
      "text/plain": [
       "               Video_Time      Neutral        Happy          Sad        Angry  \\\n",
       "0 2020-09-11 00:00:00.000  FIND_FAILED  FIND_FAILED  FIND_FAILED  FIND_FAILED   \n",
       "1 2020-09-11 00:00:00.040  FIND_FAILED  FIND_FAILED  FIND_FAILED  FIND_FAILED   \n",
       "2 2020-09-11 00:00:00.080  FIND_FAILED  FIND_FAILED  FIND_FAILED  FIND_FAILED   \n",
       "3 2020-09-11 00:00:00.120  FIND_FAILED  FIND_FAILED  FIND_FAILED  FIND_FAILED   \n",
       "4 2020-09-11 00:00:00.160  FIND_FAILED  FIND_FAILED  FIND_FAILED  FIND_FAILED   \n",
       "\n",
       "     Surprised       Scared    Disgusted     Contempt      Valence  \\\n",
       "0  FIND_FAILED  FIND_FAILED  FIND_FAILED  FIND_FAILED  FIND_FAILED   \n",
       "1  FIND_FAILED  FIND_FAILED  FIND_FAILED  FIND_FAILED  FIND_FAILED   \n",
       "2  FIND_FAILED  FIND_FAILED  FIND_FAILED  FIND_FAILED  FIND_FAILED   \n",
       "3  FIND_FAILED  FIND_FAILED  FIND_FAILED  FIND_FAILED  FIND_FAILED   \n",
       "4  FIND_FAILED  FIND_FAILED  FIND_FAILED  FIND_FAILED  FIND_FAILED   \n",
       "\n",
       "       Arousal   Heart_Rate       Fecha  \n",
       "0  FIND_FAILED  FIND_FAILED  2020-09-11  \n",
       "1  FIND_FAILED  FIND_FAILED  2020-09-11  \n",
       "2  FIND_FAILED  FIND_FAILED  2020-09-11  \n",
       "3  FIND_FAILED  FIND_FAILED  2020-09-11  \n",
       "4  FIND_FAILED  FIND_FAILED  2020-09-11  "
      ]
     },
     "execution_count": 19,
     "metadata": {},
     "output_type": "execute_result"
    }
   ],
   "source": [
    "sujeto['Fecha'] = sujeto['Video_Time'].dt.date\n",
    "sujeto.head()"
   ]
  },
  {
   "cell_type": "code",
   "execution_count": 20,
   "metadata": {},
   "outputs": [
    {
     "data": {
      "text/html": [
       "<div>\n",
       "<style scoped>\n",
       "    .dataframe tbody tr th:only-of-type {\n",
       "        vertical-align: middle;\n",
       "    }\n",
       "\n",
       "    .dataframe tbody tr th {\n",
       "        vertical-align: top;\n",
       "    }\n",
       "\n",
       "    .dataframe thead th {\n",
       "        text-align: right;\n",
       "    }\n",
       "</style>\n",
       "<table border=\"1\" class=\"dataframe\">\n",
       "  <thead>\n",
       "    <tr style=\"text-align: right;\">\n",
       "      <th></th>\n",
       "      <th>Video_Time</th>\n",
       "      <th>Neutral</th>\n",
       "      <th>Happy</th>\n",
       "      <th>Sad</th>\n",
       "      <th>Angry</th>\n",
       "      <th>Surprised</th>\n",
       "      <th>Scared</th>\n",
       "      <th>Disgusted</th>\n",
       "      <th>Contempt</th>\n",
       "      <th>Valence</th>\n",
       "      <th>Arousal</th>\n",
       "      <th>Heart_Rate</th>\n",
       "      <th>Fecha</th>\n",
       "      <th>Hora</th>\n",
       "    </tr>\n",
       "  </thead>\n",
       "  <tbody>\n",
       "    <tr>\n",
       "      <th>0</th>\n",
       "      <td>2020-09-11 00:00:00.000</td>\n",
       "      <td>FIND_FAILED</td>\n",
       "      <td>FIND_FAILED</td>\n",
       "      <td>FIND_FAILED</td>\n",
       "      <td>FIND_FAILED</td>\n",
       "      <td>FIND_FAILED</td>\n",
       "      <td>FIND_FAILED</td>\n",
       "      <td>FIND_FAILED</td>\n",
       "      <td>FIND_FAILED</td>\n",
       "      <td>FIND_FAILED</td>\n",
       "      <td>FIND_FAILED</td>\n",
       "      <td>FIND_FAILED</td>\n",
       "      <td>2020-09-11</td>\n",
       "      <td>00:00:00</td>\n",
       "    </tr>\n",
       "    <tr>\n",
       "      <th>1</th>\n",
       "      <td>2020-09-11 00:00:00.040</td>\n",
       "      <td>FIND_FAILED</td>\n",
       "      <td>FIND_FAILED</td>\n",
       "      <td>FIND_FAILED</td>\n",
       "      <td>FIND_FAILED</td>\n",
       "      <td>FIND_FAILED</td>\n",
       "      <td>FIND_FAILED</td>\n",
       "      <td>FIND_FAILED</td>\n",
       "      <td>FIND_FAILED</td>\n",
       "      <td>FIND_FAILED</td>\n",
       "      <td>FIND_FAILED</td>\n",
       "      <td>FIND_FAILED</td>\n",
       "      <td>2020-09-11</td>\n",
       "      <td>00:00:00.040000</td>\n",
       "    </tr>\n",
       "    <tr>\n",
       "      <th>2</th>\n",
       "      <td>2020-09-11 00:00:00.080</td>\n",
       "      <td>FIND_FAILED</td>\n",
       "      <td>FIND_FAILED</td>\n",
       "      <td>FIND_FAILED</td>\n",
       "      <td>FIND_FAILED</td>\n",
       "      <td>FIND_FAILED</td>\n",
       "      <td>FIND_FAILED</td>\n",
       "      <td>FIND_FAILED</td>\n",
       "      <td>FIND_FAILED</td>\n",
       "      <td>FIND_FAILED</td>\n",
       "      <td>FIND_FAILED</td>\n",
       "      <td>FIND_FAILED</td>\n",
       "      <td>2020-09-11</td>\n",
       "      <td>00:00:00.080000</td>\n",
       "    </tr>\n",
       "    <tr>\n",
       "      <th>3</th>\n",
       "      <td>2020-09-11 00:00:00.120</td>\n",
       "      <td>FIND_FAILED</td>\n",
       "      <td>FIND_FAILED</td>\n",
       "      <td>FIND_FAILED</td>\n",
       "      <td>FIND_FAILED</td>\n",
       "      <td>FIND_FAILED</td>\n",
       "      <td>FIND_FAILED</td>\n",
       "      <td>FIND_FAILED</td>\n",
       "      <td>FIND_FAILED</td>\n",
       "      <td>FIND_FAILED</td>\n",
       "      <td>FIND_FAILED</td>\n",
       "      <td>FIND_FAILED</td>\n",
       "      <td>2020-09-11</td>\n",
       "      <td>00:00:00.120000</td>\n",
       "    </tr>\n",
       "    <tr>\n",
       "      <th>4</th>\n",
       "      <td>2020-09-11 00:00:00.160</td>\n",
       "      <td>FIND_FAILED</td>\n",
       "      <td>FIND_FAILED</td>\n",
       "      <td>FIND_FAILED</td>\n",
       "      <td>FIND_FAILED</td>\n",
       "      <td>FIND_FAILED</td>\n",
       "      <td>FIND_FAILED</td>\n",
       "      <td>FIND_FAILED</td>\n",
       "      <td>FIND_FAILED</td>\n",
       "      <td>FIND_FAILED</td>\n",
       "      <td>FIND_FAILED</td>\n",
       "      <td>FIND_FAILED</td>\n",
       "      <td>2020-09-11</td>\n",
       "      <td>00:00:00.160000</td>\n",
       "    </tr>\n",
       "  </tbody>\n",
       "</table>\n",
       "</div>"
      ],
      "text/plain": [
       "               Video_Time      Neutral        Happy          Sad        Angry  \\\n",
       "0 2020-09-11 00:00:00.000  FIND_FAILED  FIND_FAILED  FIND_FAILED  FIND_FAILED   \n",
       "1 2020-09-11 00:00:00.040  FIND_FAILED  FIND_FAILED  FIND_FAILED  FIND_FAILED   \n",
       "2 2020-09-11 00:00:00.080  FIND_FAILED  FIND_FAILED  FIND_FAILED  FIND_FAILED   \n",
       "3 2020-09-11 00:00:00.120  FIND_FAILED  FIND_FAILED  FIND_FAILED  FIND_FAILED   \n",
       "4 2020-09-11 00:00:00.160  FIND_FAILED  FIND_FAILED  FIND_FAILED  FIND_FAILED   \n",
       "\n",
       "     Surprised       Scared    Disgusted     Contempt      Valence  \\\n",
       "0  FIND_FAILED  FIND_FAILED  FIND_FAILED  FIND_FAILED  FIND_FAILED   \n",
       "1  FIND_FAILED  FIND_FAILED  FIND_FAILED  FIND_FAILED  FIND_FAILED   \n",
       "2  FIND_FAILED  FIND_FAILED  FIND_FAILED  FIND_FAILED  FIND_FAILED   \n",
       "3  FIND_FAILED  FIND_FAILED  FIND_FAILED  FIND_FAILED  FIND_FAILED   \n",
       "4  FIND_FAILED  FIND_FAILED  FIND_FAILED  FIND_FAILED  FIND_FAILED   \n",
       "\n",
       "       Arousal   Heart_Rate       Fecha             Hora  \n",
       "0  FIND_FAILED  FIND_FAILED  2020-09-11         00:00:00  \n",
       "1  FIND_FAILED  FIND_FAILED  2020-09-11  00:00:00.040000  \n",
       "2  FIND_FAILED  FIND_FAILED  2020-09-11  00:00:00.080000  \n",
       "3  FIND_FAILED  FIND_FAILED  2020-09-11  00:00:00.120000  \n",
       "4  FIND_FAILED  FIND_FAILED  2020-09-11  00:00:00.160000  "
      ]
     },
     "execution_count": 20,
     "metadata": {},
     "output_type": "execute_result"
    }
   ],
   "source": [
    "sujeto['Hora'] = sujeto['Video_Time'].dt.time"
   ]
  },
  {
   "cell_type": "code",
   "execution_count": null,
   "metadata": {},
   "outputs": [],
   "source": [
    "sujeto.head()"
   ]
  },
  {
   "cell_type": "code",
   "execution_count": 21,
   "metadata": {},
   "outputs": [
    {
     "name": "stdout",
     "output_type": "stream",
     "text": [
      "<class 'pandas.core.frame.DataFrame'>\n",
      "RangeIndex: 47192 entries, 0 to 47191\n",
      "Data columns (total 14 columns):\n",
      " #   Column      Non-Null Count  Dtype         \n",
      "---  ------      --------------  -----         \n",
      " 0   Video_Time  47192 non-null  datetime64[ns]\n",
      " 1   Neutral     47192 non-null  object        \n",
      " 2   Happy       47192 non-null  object        \n",
      " 3   Sad         47192 non-null  object        \n",
      " 4   Angry       47192 non-null  object        \n",
      " 5   Surprised   47192 non-null  object        \n",
      " 6   Scared      47192 non-null  object        \n",
      " 7   Disgusted   47192 non-null  object        \n",
      " 8   Contempt    47192 non-null  object        \n",
      " 9   Valence     47192 non-null  object        \n",
      " 10  Arousal     47192 non-null  object        \n",
      " 11  Heart_Rate  47192 non-null  object        \n",
      " 12  Fecha       47192 non-null  object        \n",
      " 13  Hora        47192 non-null  object        \n",
      "dtypes: datetime64[ns](1), object(13)\n",
      "memory usage: 5.0+ MB\n"
     ]
    }
   ],
   "source": [
    "sujeto.info()"
   ]
  },
  {
   "cell_type": "code",
   "execution_count": 22,
   "metadata": {},
   "outputs": [],
   "source": [
    "objetos = []\n",
    "for columna in sujeto.columns:\n",
    "    for palabra in sujeto[columna].unique():\n",
    "        if type(palabra) == str:\n",
    "            objetos.append(palabra)\n",
    "lista1 = list(set(objetos))\n",
    "lista2 = np.empty(len(lista1))\n",
    "lista2[:] = np.nan\n",
    "objetos = dict(zip(lista1, lista2))"
   ]
  },
  {
   "cell_type": "code",
   "execution_count": null,
   "metadata": {},
   "outputs": [],
   "source": [
    "objetos"
   ]
  },
  {
   "cell_type": "code",
   "execution_count": 24,
   "metadata": {},
   "outputs": [
    {
     "data": {
      "text/plain": [
       "array(['FIND_FAILED', 'FIT_FAILED', '0.563235400', ..., '0.580223200',\n",
       "       '0.578837900', '0.575946000'], dtype=object)"
      ]
     },
     "execution_count": 24,
     "metadata": {},
     "output_type": "execute_result"
    }
   ],
   "source": [
    "sujeto['Neutral'].unique()"
   ]
  },
  {
   "cell_type": "code",
   "execution_count": 25,
   "metadata": {},
   "outputs": [],
   "source": [
    "ejemplo = pd.to_numeric(sujeto['Neutral'], errors='coerce')"
   ]
  },
  {
   "cell_type": "code",
   "execution_count": 26,
   "metadata": {},
   "outputs": [
    {
     "data": {
      "text/plain": [
       "array([      nan, 0.5632354, 0.3333983, ..., 0.5802232, 0.5788379,\n",
       "       0.575946 ])"
      ]
     },
     "execution_count": 26,
     "metadata": {},
     "output_type": "execute_result"
    }
   ],
   "source": [
    "ejemplo.unique()"
   ]
  },
  {
   "cell_type": "code",
   "execution_count": 27,
   "metadata": {},
   "outputs": [],
   "source": [
    "ejemplo1 = sujeto.copy()\n",
    "\n",
    "for columna in ejemplo1.columns:\n",
    "    ejemplo1[columna] = pd.to_numeric(ejemplo1[columna], errors='coerce')"
   ]
  },
  {
   "cell_type": "code",
   "execution_count": 28,
   "metadata": {},
   "outputs": [
    {
     "data": {
      "text/html": [
       "<div>\n",
       "<style scoped>\n",
       "    .dataframe tbody tr th:only-of-type {\n",
       "        vertical-align: middle;\n",
       "    }\n",
       "\n",
       "    .dataframe tbody tr th {\n",
       "        vertical-align: top;\n",
       "    }\n",
       "\n",
       "    .dataframe thead th {\n",
       "        text-align: right;\n",
       "    }\n",
       "</style>\n",
       "<table border=\"1\" class=\"dataframe\">\n",
       "  <thead>\n",
       "    <tr style=\"text-align: right;\">\n",
       "      <th></th>\n",
       "      <th>Video_Time</th>\n",
       "      <th>Neutral</th>\n",
       "      <th>Happy</th>\n",
       "      <th>Sad</th>\n",
       "      <th>Angry</th>\n",
       "      <th>Surprised</th>\n",
       "      <th>Scared</th>\n",
       "      <th>Disgusted</th>\n",
       "      <th>Contempt</th>\n",
       "      <th>Valence</th>\n",
       "      <th>Arousal</th>\n",
       "      <th>Heart_Rate</th>\n",
       "      <th>Fecha</th>\n",
       "      <th>Hora</th>\n",
       "    </tr>\n",
       "  </thead>\n",
       "  <tbody>\n",
       "    <tr>\n",
       "      <th>0</th>\n",
       "      <td>1599782400000000000</td>\n",
       "      <td>NaN</td>\n",
       "      <td>NaN</td>\n",
       "      <td>NaN</td>\n",
       "      <td>NaN</td>\n",
       "      <td>NaN</td>\n",
       "      <td>NaN</td>\n",
       "      <td>NaN</td>\n",
       "      <td>NaN</td>\n",
       "      <td>NaN</td>\n",
       "      <td>NaN</td>\n",
       "      <td>NaN</td>\n",
       "      <td>NaN</td>\n",
       "      <td>NaN</td>\n",
       "    </tr>\n",
       "    <tr>\n",
       "      <th>1</th>\n",
       "      <td>1599782400040000000</td>\n",
       "      <td>NaN</td>\n",
       "      <td>NaN</td>\n",
       "      <td>NaN</td>\n",
       "      <td>NaN</td>\n",
       "      <td>NaN</td>\n",
       "      <td>NaN</td>\n",
       "      <td>NaN</td>\n",
       "      <td>NaN</td>\n",
       "      <td>NaN</td>\n",
       "      <td>NaN</td>\n",
       "      <td>NaN</td>\n",
       "      <td>NaN</td>\n",
       "      <td>NaN</td>\n",
       "    </tr>\n",
       "    <tr>\n",
       "      <th>2</th>\n",
       "      <td>1599782400080000000</td>\n",
       "      <td>NaN</td>\n",
       "      <td>NaN</td>\n",
       "      <td>NaN</td>\n",
       "      <td>NaN</td>\n",
       "      <td>NaN</td>\n",
       "      <td>NaN</td>\n",
       "      <td>NaN</td>\n",
       "      <td>NaN</td>\n",
       "      <td>NaN</td>\n",
       "      <td>NaN</td>\n",
       "      <td>NaN</td>\n",
       "      <td>NaN</td>\n",
       "      <td>NaN</td>\n",
       "    </tr>\n",
       "    <tr>\n",
       "      <th>3</th>\n",
       "      <td>1599782400120000000</td>\n",
       "      <td>NaN</td>\n",
       "      <td>NaN</td>\n",
       "      <td>NaN</td>\n",
       "      <td>NaN</td>\n",
       "      <td>NaN</td>\n",
       "      <td>NaN</td>\n",
       "      <td>NaN</td>\n",
       "      <td>NaN</td>\n",
       "      <td>NaN</td>\n",
       "      <td>NaN</td>\n",
       "      <td>NaN</td>\n",
       "      <td>NaN</td>\n",
       "      <td>NaN</td>\n",
       "    </tr>\n",
       "    <tr>\n",
       "      <th>4</th>\n",
       "      <td>1599782400160000000</td>\n",
       "      <td>NaN</td>\n",
       "      <td>NaN</td>\n",
       "      <td>NaN</td>\n",
       "      <td>NaN</td>\n",
       "      <td>NaN</td>\n",
       "      <td>NaN</td>\n",
       "      <td>NaN</td>\n",
       "      <td>NaN</td>\n",
       "      <td>NaN</td>\n",
       "      <td>NaN</td>\n",
       "      <td>NaN</td>\n",
       "      <td>NaN</td>\n",
       "      <td>NaN</td>\n",
       "    </tr>\n",
       "  </tbody>\n",
       "</table>\n",
       "</div>"
      ],
      "text/plain": [
       "            Video_Time  Neutral  Happy  Sad  Angry  Surprised  Scared  \\\n",
       "0  1599782400000000000      NaN    NaN  NaN    NaN        NaN     NaN   \n",
       "1  1599782400040000000      NaN    NaN  NaN    NaN        NaN     NaN   \n",
       "2  1599782400080000000      NaN    NaN  NaN    NaN        NaN     NaN   \n",
       "3  1599782400120000000      NaN    NaN  NaN    NaN        NaN     NaN   \n",
       "4  1599782400160000000      NaN    NaN  NaN    NaN        NaN     NaN   \n",
       "\n",
       "   Disgusted  Contempt  Valence  Arousal  Heart_Rate  Fecha  Hora  \n",
       "0        NaN       NaN      NaN      NaN         NaN    NaN   NaN  \n",
       "1        NaN       NaN      NaN      NaN         NaN    NaN   NaN  \n",
       "2        NaN       NaN      NaN      NaN         NaN    NaN   NaN  \n",
       "3        NaN       NaN      NaN      NaN         NaN    NaN   NaN  \n",
       "4        NaN       NaN      NaN      NaN         NaN    NaN   NaN  "
      ]
     },
     "execution_count": 28,
     "metadata": {},
     "output_type": "execute_result"
    }
   ],
   "source": [
    "ejemplo1.head()"
   ]
  },
  {
   "cell_type": "code",
   "execution_count": 29,
   "metadata": {},
   "outputs": [
    {
     "name": "stdout",
     "output_type": "stream",
     "text": [
      "<class 'pandas.core.frame.DataFrame'>\n",
      "RangeIndex: 47192 entries, 0 to 47191\n",
      "Data columns (total 14 columns):\n",
      " #   Column      Non-Null Count  Dtype  \n",
      "---  ------      --------------  -----  \n",
      " 0   Video_Time  47192 non-null  int64  \n",
      " 1   Neutral     35975 non-null  float64\n",
      " 2   Happy       35975 non-null  float64\n",
      " 3   Sad         35975 non-null  float64\n",
      " 4   Angry       35975 non-null  float64\n",
      " 5   Surprised   35975 non-null  float64\n",
      " 6   Scared      35975 non-null  float64\n",
      " 7   Disgusted   35975 non-null  float64\n",
      " 8   Contempt    35975 non-null  float64\n",
      " 9   Valence     35975 non-null  float64\n",
      " 10  Arousal     35975 non-null  float64\n",
      " 11  Heart_Rate  17815 non-null  float64\n",
      " 12  Fecha       0 non-null      float64\n",
      " 13  Hora        0 non-null      float64\n",
      "dtypes: float64(13), int64(1)\n",
      "memory usage: 5.0 MB\n"
     ]
    }
   ],
   "source": [
    "ejemplo1.info()"
   ]
  },
  {
   "cell_type": "code",
   "execution_count": 32,
   "metadata": {},
   "outputs": [],
   "source": [
    "ejemplo2 = sujeto.copy()\n",
    "\n",
    "for columna in ejemplo2.columns[1:12]:\n",
    "    ejemplo2[columna] = pd.to_numeric(ejemplo2[columna], errors='coerce')"
   ]
  },
  {
   "cell_type": "code",
   "execution_count": 33,
   "metadata": {},
   "outputs": [
    {
     "data": {
      "text/html": [
       "<div>\n",
       "<style scoped>\n",
       "    .dataframe tbody tr th:only-of-type {\n",
       "        vertical-align: middle;\n",
       "    }\n",
       "\n",
       "    .dataframe tbody tr th {\n",
       "        vertical-align: top;\n",
       "    }\n",
       "\n",
       "    .dataframe thead th {\n",
       "        text-align: right;\n",
       "    }\n",
       "</style>\n",
       "<table border=\"1\" class=\"dataframe\">\n",
       "  <thead>\n",
       "    <tr style=\"text-align: right;\">\n",
       "      <th></th>\n",
       "      <th>Video_Time</th>\n",
       "      <th>Neutral</th>\n",
       "      <th>Happy</th>\n",
       "      <th>Sad</th>\n",
       "      <th>Angry</th>\n",
       "      <th>Surprised</th>\n",
       "      <th>Scared</th>\n",
       "      <th>Disgusted</th>\n",
       "      <th>Contempt</th>\n",
       "      <th>Valence</th>\n",
       "      <th>Arousal</th>\n",
       "      <th>Heart_Rate</th>\n",
       "      <th>Fecha</th>\n",
       "      <th>Hora</th>\n",
       "    </tr>\n",
       "  </thead>\n",
       "  <tbody>\n",
       "    <tr>\n",
       "      <th>0</th>\n",
       "      <td>2020-09-11 00:00:00.000</td>\n",
       "      <td>NaN</td>\n",
       "      <td>NaN</td>\n",
       "      <td>NaN</td>\n",
       "      <td>NaN</td>\n",
       "      <td>NaN</td>\n",
       "      <td>NaN</td>\n",
       "      <td>NaN</td>\n",
       "      <td>NaN</td>\n",
       "      <td>NaN</td>\n",
       "      <td>NaN</td>\n",
       "      <td>NaN</td>\n",
       "      <td>2020-09-11</td>\n",
       "      <td>00:00:00</td>\n",
       "    </tr>\n",
       "    <tr>\n",
       "      <th>1</th>\n",
       "      <td>2020-09-11 00:00:00.040</td>\n",
       "      <td>NaN</td>\n",
       "      <td>NaN</td>\n",
       "      <td>NaN</td>\n",
       "      <td>NaN</td>\n",
       "      <td>NaN</td>\n",
       "      <td>NaN</td>\n",
       "      <td>NaN</td>\n",
       "      <td>NaN</td>\n",
       "      <td>NaN</td>\n",
       "      <td>NaN</td>\n",
       "      <td>NaN</td>\n",
       "      <td>2020-09-11</td>\n",
       "      <td>00:00:00.040000</td>\n",
       "    </tr>\n",
       "    <tr>\n",
       "      <th>2</th>\n",
       "      <td>2020-09-11 00:00:00.080</td>\n",
       "      <td>NaN</td>\n",
       "      <td>NaN</td>\n",
       "      <td>NaN</td>\n",
       "      <td>NaN</td>\n",
       "      <td>NaN</td>\n",
       "      <td>NaN</td>\n",
       "      <td>NaN</td>\n",
       "      <td>NaN</td>\n",
       "      <td>NaN</td>\n",
       "      <td>NaN</td>\n",
       "      <td>NaN</td>\n",
       "      <td>2020-09-11</td>\n",
       "      <td>00:00:00.080000</td>\n",
       "    </tr>\n",
       "    <tr>\n",
       "      <th>3</th>\n",
       "      <td>2020-09-11 00:00:00.120</td>\n",
       "      <td>NaN</td>\n",
       "      <td>NaN</td>\n",
       "      <td>NaN</td>\n",
       "      <td>NaN</td>\n",
       "      <td>NaN</td>\n",
       "      <td>NaN</td>\n",
       "      <td>NaN</td>\n",
       "      <td>NaN</td>\n",
       "      <td>NaN</td>\n",
       "      <td>NaN</td>\n",
       "      <td>NaN</td>\n",
       "      <td>2020-09-11</td>\n",
       "      <td>00:00:00.120000</td>\n",
       "    </tr>\n",
       "    <tr>\n",
       "      <th>4</th>\n",
       "      <td>2020-09-11 00:00:00.160</td>\n",
       "      <td>NaN</td>\n",
       "      <td>NaN</td>\n",
       "      <td>NaN</td>\n",
       "      <td>NaN</td>\n",
       "      <td>NaN</td>\n",
       "      <td>NaN</td>\n",
       "      <td>NaN</td>\n",
       "      <td>NaN</td>\n",
       "      <td>NaN</td>\n",
       "      <td>NaN</td>\n",
       "      <td>NaN</td>\n",
       "      <td>2020-09-11</td>\n",
       "      <td>00:00:00.160000</td>\n",
       "    </tr>\n",
       "  </tbody>\n",
       "</table>\n",
       "</div>"
      ],
      "text/plain": [
       "               Video_Time  Neutral  Happy  Sad  Angry  Surprised  Scared  \\\n",
       "0 2020-09-11 00:00:00.000      NaN    NaN  NaN    NaN        NaN     NaN   \n",
       "1 2020-09-11 00:00:00.040      NaN    NaN  NaN    NaN        NaN     NaN   \n",
       "2 2020-09-11 00:00:00.080      NaN    NaN  NaN    NaN        NaN     NaN   \n",
       "3 2020-09-11 00:00:00.120      NaN    NaN  NaN    NaN        NaN     NaN   \n",
       "4 2020-09-11 00:00:00.160      NaN    NaN  NaN    NaN        NaN     NaN   \n",
       "\n",
       "   Disgusted  Contempt  Valence  Arousal  Heart_Rate       Fecha  \\\n",
       "0        NaN       NaN      NaN      NaN         NaN  2020-09-11   \n",
       "1        NaN       NaN      NaN      NaN         NaN  2020-09-11   \n",
       "2        NaN       NaN      NaN      NaN         NaN  2020-09-11   \n",
       "3        NaN       NaN      NaN      NaN         NaN  2020-09-11   \n",
       "4        NaN       NaN      NaN      NaN         NaN  2020-09-11   \n",
       "\n",
       "              Hora  \n",
       "0         00:00:00  \n",
       "1  00:00:00.040000  \n",
       "2  00:00:00.080000  \n",
       "3  00:00:00.120000  \n",
       "4  00:00:00.160000  "
      ]
     },
     "execution_count": 33,
     "metadata": {},
     "output_type": "execute_result"
    }
   ],
   "source": [
    "ejemplo2.head()"
   ]
  },
  {
   "cell_type": "code",
   "execution_count": 34,
   "metadata": {},
   "outputs": [
    {
     "name": "stdout",
     "output_type": "stream",
     "text": [
      "<class 'pandas.core.frame.DataFrame'>\n",
      "RangeIndex: 47192 entries, 0 to 47191\n",
      "Data columns (total 14 columns):\n",
      " #   Column      Non-Null Count  Dtype         \n",
      "---  ------      --------------  -----         \n",
      " 0   Video_Time  47192 non-null  datetime64[ns]\n",
      " 1   Neutral     35975 non-null  float64       \n",
      " 2   Happy       35975 non-null  float64       \n",
      " 3   Sad         35975 non-null  float64       \n",
      " 4   Angry       35975 non-null  float64       \n",
      " 5   Surprised   35975 non-null  float64       \n",
      " 6   Scared      35975 non-null  float64       \n",
      " 7   Disgusted   35975 non-null  float64       \n",
      " 8   Contempt    35975 non-null  float64       \n",
      " 9   Valence     35975 non-null  float64       \n",
      " 10  Arousal     35975 non-null  float64       \n",
      " 11  Heart_Rate  17815 non-null  float64       \n",
      " 12  Fecha       47192 non-null  object        \n",
      " 13  Hora        47192 non-null  object        \n",
      "dtypes: datetime64[ns](1), float64(11), object(2)\n",
      "memory usage: 5.0+ MB\n"
     ]
    }
   ],
   "source": [
    "ejemplo2.info()"
   ]
  },
  {
   "cell_type": "code",
   "execution_count": 35,
   "metadata": {},
   "outputs": [
    {
     "data": {
      "text/plain": [
       "array([      nan, 0.5632354, 0.3333983, ..., 0.5802232, 0.5788379,\n",
       "       0.575946 ])"
      ]
     },
     "execution_count": 35,
     "metadata": {},
     "output_type": "execute_result"
    }
   ],
   "source": [
    "ejemplo2.Neutral.unique()"
   ]
  },
  {
   "cell_type": "code",
   "execution_count": 36,
   "metadata": {},
   "outputs": [],
   "source": [
    "for columna in sujeto.columns[1:12]:\n",
    "    sujeto[columna] = pd.to_numeric(sujeto[columna], errors='coerce')"
   ]
  },
  {
   "cell_type": "code",
   "execution_count": 37,
   "metadata": {},
   "outputs": [
    {
     "data": {
      "text/html": [
       "<div>\n",
       "<style scoped>\n",
       "    .dataframe tbody tr th:only-of-type {\n",
       "        vertical-align: middle;\n",
       "    }\n",
       "\n",
       "    .dataframe tbody tr th {\n",
       "        vertical-align: top;\n",
       "    }\n",
       "\n",
       "    .dataframe thead th {\n",
       "        text-align: right;\n",
       "    }\n",
       "</style>\n",
       "<table border=\"1\" class=\"dataframe\">\n",
       "  <thead>\n",
       "    <tr style=\"text-align: right;\">\n",
       "      <th></th>\n",
       "      <th>Video_Time</th>\n",
       "      <th>Neutral</th>\n",
       "      <th>Happy</th>\n",
       "      <th>Sad</th>\n",
       "      <th>Angry</th>\n",
       "      <th>Surprised</th>\n",
       "      <th>Scared</th>\n",
       "      <th>Disgusted</th>\n",
       "      <th>Contempt</th>\n",
       "      <th>Valence</th>\n",
       "      <th>Arousal</th>\n",
       "      <th>Heart_Rate</th>\n",
       "      <th>Fecha</th>\n",
       "      <th>Hora</th>\n",
       "    </tr>\n",
       "  </thead>\n",
       "  <tbody>\n",
       "    <tr>\n",
       "      <th>0</th>\n",
       "      <td>2020-09-11 00:00:00.000</td>\n",
       "      <td>NaN</td>\n",
       "      <td>NaN</td>\n",
       "      <td>NaN</td>\n",
       "      <td>NaN</td>\n",
       "      <td>NaN</td>\n",
       "      <td>NaN</td>\n",
       "      <td>NaN</td>\n",
       "      <td>NaN</td>\n",
       "      <td>NaN</td>\n",
       "      <td>NaN</td>\n",
       "      <td>NaN</td>\n",
       "      <td>2020-09-11</td>\n",
       "      <td>00:00:00</td>\n",
       "    </tr>\n",
       "    <tr>\n",
       "      <th>1</th>\n",
       "      <td>2020-09-11 00:00:00.040</td>\n",
       "      <td>NaN</td>\n",
       "      <td>NaN</td>\n",
       "      <td>NaN</td>\n",
       "      <td>NaN</td>\n",
       "      <td>NaN</td>\n",
       "      <td>NaN</td>\n",
       "      <td>NaN</td>\n",
       "      <td>NaN</td>\n",
       "      <td>NaN</td>\n",
       "      <td>NaN</td>\n",
       "      <td>NaN</td>\n",
       "      <td>2020-09-11</td>\n",
       "      <td>00:00:00.040000</td>\n",
       "    </tr>\n",
       "    <tr>\n",
       "      <th>2</th>\n",
       "      <td>2020-09-11 00:00:00.080</td>\n",
       "      <td>NaN</td>\n",
       "      <td>NaN</td>\n",
       "      <td>NaN</td>\n",
       "      <td>NaN</td>\n",
       "      <td>NaN</td>\n",
       "      <td>NaN</td>\n",
       "      <td>NaN</td>\n",
       "      <td>NaN</td>\n",
       "      <td>NaN</td>\n",
       "      <td>NaN</td>\n",
       "      <td>NaN</td>\n",
       "      <td>2020-09-11</td>\n",
       "      <td>00:00:00.080000</td>\n",
       "    </tr>\n",
       "    <tr>\n",
       "      <th>3</th>\n",
       "      <td>2020-09-11 00:00:00.120</td>\n",
       "      <td>NaN</td>\n",
       "      <td>NaN</td>\n",
       "      <td>NaN</td>\n",
       "      <td>NaN</td>\n",
       "      <td>NaN</td>\n",
       "      <td>NaN</td>\n",
       "      <td>NaN</td>\n",
       "      <td>NaN</td>\n",
       "      <td>NaN</td>\n",
       "      <td>NaN</td>\n",
       "      <td>NaN</td>\n",
       "      <td>2020-09-11</td>\n",
       "      <td>00:00:00.120000</td>\n",
       "    </tr>\n",
       "    <tr>\n",
       "      <th>4</th>\n",
       "      <td>2020-09-11 00:00:00.160</td>\n",
       "      <td>NaN</td>\n",
       "      <td>NaN</td>\n",
       "      <td>NaN</td>\n",
       "      <td>NaN</td>\n",
       "      <td>NaN</td>\n",
       "      <td>NaN</td>\n",
       "      <td>NaN</td>\n",
       "      <td>NaN</td>\n",
       "      <td>NaN</td>\n",
       "      <td>NaN</td>\n",
       "      <td>NaN</td>\n",
       "      <td>2020-09-11</td>\n",
       "      <td>00:00:00.160000</td>\n",
       "    </tr>\n",
       "  </tbody>\n",
       "</table>\n",
       "</div>"
      ],
      "text/plain": [
       "               Video_Time  Neutral  Happy  Sad  Angry  Surprised  Scared  \\\n",
       "0 2020-09-11 00:00:00.000      NaN    NaN  NaN    NaN        NaN     NaN   \n",
       "1 2020-09-11 00:00:00.040      NaN    NaN  NaN    NaN        NaN     NaN   \n",
       "2 2020-09-11 00:00:00.080      NaN    NaN  NaN    NaN        NaN     NaN   \n",
       "3 2020-09-11 00:00:00.120      NaN    NaN  NaN    NaN        NaN     NaN   \n",
       "4 2020-09-11 00:00:00.160      NaN    NaN  NaN    NaN        NaN     NaN   \n",
       "\n",
       "   Disgusted  Contempt  Valence  Arousal  Heart_Rate       Fecha  \\\n",
       "0        NaN       NaN      NaN      NaN         NaN  2020-09-11   \n",
       "1        NaN       NaN      NaN      NaN         NaN  2020-09-11   \n",
       "2        NaN       NaN      NaN      NaN         NaN  2020-09-11   \n",
       "3        NaN       NaN      NaN      NaN         NaN  2020-09-11   \n",
       "4        NaN       NaN      NaN      NaN         NaN  2020-09-11   \n",
       "\n",
       "              Hora  \n",
       "0         00:00:00  \n",
       "1  00:00:00.040000  \n",
       "2  00:00:00.080000  \n",
       "3  00:00:00.120000  \n",
       "4  00:00:00.160000  "
      ]
     },
     "execution_count": 37,
     "metadata": {},
     "output_type": "execute_result"
    }
   ],
   "source": [
    "sujeto.head()"
   ]
  },
  {
   "cell_type": "code",
   "execution_count": 38,
   "metadata": {},
   "outputs": [
    {
     "name": "stdout",
     "output_type": "stream",
     "text": [
      "<class 'pandas.core.frame.DataFrame'>\n",
      "RangeIndex: 47192 entries, 0 to 47191\n",
      "Data columns (total 14 columns):\n",
      " #   Column      Non-Null Count  Dtype         \n",
      "---  ------      --------------  -----         \n",
      " 0   Video_Time  47192 non-null  datetime64[ns]\n",
      " 1   Neutral     35975 non-null  float64       \n",
      " 2   Happy       35975 non-null  float64       \n",
      " 3   Sad         35975 non-null  float64       \n",
      " 4   Angry       35975 non-null  float64       \n",
      " 5   Surprised   35975 non-null  float64       \n",
      " 6   Scared      35975 non-null  float64       \n",
      " 7   Disgusted   35975 non-null  float64       \n",
      " 8   Contempt    35975 non-null  float64       \n",
      " 9   Valence     35975 non-null  float64       \n",
      " 10  Arousal     35975 non-null  float64       \n",
      " 11  Heart_Rate  17815 non-null  float64       \n",
      " 12  Fecha       47192 non-null  object        \n",
      " 13  Hora        47192 non-null  object        \n",
      "dtypes: datetime64[ns](1), float64(11), object(2)\n",
      "memory usage: 5.0+ MB\n"
     ]
    }
   ],
   "source": [
    "sujeto.info()"
   ]
  },
  {
   "cell_type": "code",
   "execution_count": 39,
   "metadata": {},
   "outputs": [],
   "source": [
    "sujeto = sujeto.set_index('Video_Time')"
   ]
  },
  {
   "cell_type": "code",
   "execution_count": 40,
   "metadata": {},
   "outputs": [
    {
     "data": {
      "text/html": [
       "<div>\n",
       "<style scoped>\n",
       "    .dataframe tbody tr th:only-of-type {\n",
       "        vertical-align: middle;\n",
       "    }\n",
       "\n",
       "    .dataframe tbody tr th {\n",
       "        vertical-align: top;\n",
       "    }\n",
       "\n",
       "    .dataframe thead th {\n",
       "        text-align: right;\n",
       "    }\n",
       "</style>\n",
       "<table border=\"1\" class=\"dataframe\">\n",
       "  <thead>\n",
       "    <tr style=\"text-align: right;\">\n",
       "      <th></th>\n",
       "      <th>Neutral</th>\n",
       "      <th>Happy</th>\n",
       "      <th>Sad</th>\n",
       "      <th>Angry</th>\n",
       "      <th>Surprised</th>\n",
       "      <th>Scared</th>\n",
       "      <th>Disgusted</th>\n",
       "      <th>Contempt</th>\n",
       "      <th>Valence</th>\n",
       "      <th>Arousal</th>\n",
       "      <th>Heart_Rate</th>\n",
       "      <th>Fecha</th>\n",
       "      <th>Hora</th>\n",
       "    </tr>\n",
       "    <tr>\n",
       "      <th>Video_Time</th>\n",
       "      <th></th>\n",
       "      <th></th>\n",
       "      <th></th>\n",
       "      <th></th>\n",
       "      <th></th>\n",
       "      <th></th>\n",
       "      <th></th>\n",
       "      <th></th>\n",
       "      <th></th>\n",
       "      <th></th>\n",
       "      <th></th>\n",
       "      <th></th>\n",
       "      <th></th>\n",
       "    </tr>\n",
       "  </thead>\n",
       "  <tbody>\n",
       "    <tr>\n",
       "      <th>2020-09-11 00:00:00.000</th>\n",
       "      <td>NaN</td>\n",
       "      <td>NaN</td>\n",
       "      <td>NaN</td>\n",
       "      <td>NaN</td>\n",
       "      <td>NaN</td>\n",
       "      <td>NaN</td>\n",
       "      <td>NaN</td>\n",
       "      <td>NaN</td>\n",
       "      <td>NaN</td>\n",
       "      <td>NaN</td>\n",
       "      <td>NaN</td>\n",
       "      <td>2020-09-11</td>\n",
       "      <td>00:00:00</td>\n",
       "    </tr>\n",
       "    <tr>\n",
       "      <th>2020-09-11 00:00:00.040</th>\n",
       "      <td>NaN</td>\n",
       "      <td>NaN</td>\n",
       "      <td>NaN</td>\n",
       "      <td>NaN</td>\n",
       "      <td>NaN</td>\n",
       "      <td>NaN</td>\n",
       "      <td>NaN</td>\n",
       "      <td>NaN</td>\n",
       "      <td>NaN</td>\n",
       "      <td>NaN</td>\n",
       "      <td>NaN</td>\n",
       "      <td>2020-09-11</td>\n",
       "      <td>00:00:00.040000</td>\n",
       "    </tr>\n",
       "    <tr>\n",
       "      <th>2020-09-11 00:00:00.080</th>\n",
       "      <td>NaN</td>\n",
       "      <td>NaN</td>\n",
       "      <td>NaN</td>\n",
       "      <td>NaN</td>\n",
       "      <td>NaN</td>\n",
       "      <td>NaN</td>\n",
       "      <td>NaN</td>\n",
       "      <td>NaN</td>\n",
       "      <td>NaN</td>\n",
       "      <td>NaN</td>\n",
       "      <td>NaN</td>\n",
       "      <td>2020-09-11</td>\n",
       "      <td>00:00:00.080000</td>\n",
       "    </tr>\n",
       "    <tr>\n",
       "      <th>2020-09-11 00:00:00.120</th>\n",
       "      <td>NaN</td>\n",
       "      <td>NaN</td>\n",
       "      <td>NaN</td>\n",
       "      <td>NaN</td>\n",
       "      <td>NaN</td>\n",
       "      <td>NaN</td>\n",
       "      <td>NaN</td>\n",
       "      <td>NaN</td>\n",
       "      <td>NaN</td>\n",
       "      <td>NaN</td>\n",
       "      <td>NaN</td>\n",
       "      <td>2020-09-11</td>\n",
       "      <td>00:00:00.120000</td>\n",
       "    </tr>\n",
       "    <tr>\n",
       "      <th>2020-09-11 00:00:00.160</th>\n",
       "      <td>NaN</td>\n",
       "      <td>NaN</td>\n",
       "      <td>NaN</td>\n",
       "      <td>NaN</td>\n",
       "      <td>NaN</td>\n",
       "      <td>NaN</td>\n",
       "      <td>NaN</td>\n",
       "      <td>NaN</td>\n",
       "      <td>NaN</td>\n",
       "      <td>NaN</td>\n",
       "      <td>NaN</td>\n",
       "      <td>2020-09-11</td>\n",
       "      <td>00:00:00.160000</td>\n",
       "    </tr>\n",
       "    <tr>\n",
       "      <th>...</th>\n",
       "      <td>...</td>\n",
       "      <td>...</td>\n",
       "      <td>...</td>\n",
       "      <td>...</td>\n",
       "      <td>...</td>\n",
       "      <td>...</td>\n",
       "      <td>...</td>\n",
       "      <td>...</td>\n",
       "      <td>...</td>\n",
       "      <td>...</td>\n",
       "      <td>...</td>\n",
       "      <td>...</td>\n",
       "      <td>...</td>\n",
       "    </tr>\n",
       "    <tr>\n",
       "      <th>2020-09-11 00:31:27.480</th>\n",
       "      <td>NaN</td>\n",
       "      <td>NaN</td>\n",
       "      <td>NaN</td>\n",
       "      <td>NaN</td>\n",
       "      <td>NaN</td>\n",
       "      <td>NaN</td>\n",
       "      <td>NaN</td>\n",
       "      <td>NaN</td>\n",
       "      <td>NaN</td>\n",
       "      <td>NaN</td>\n",
       "      <td>NaN</td>\n",
       "      <td>2020-09-11</td>\n",
       "      <td>00:31:27.480000</td>\n",
       "    </tr>\n",
       "    <tr>\n",
       "      <th>2020-09-11 00:31:27.520</th>\n",
       "      <td>NaN</td>\n",
       "      <td>NaN</td>\n",
       "      <td>NaN</td>\n",
       "      <td>NaN</td>\n",
       "      <td>NaN</td>\n",
       "      <td>NaN</td>\n",
       "      <td>NaN</td>\n",
       "      <td>NaN</td>\n",
       "      <td>NaN</td>\n",
       "      <td>NaN</td>\n",
       "      <td>NaN</td>\n",
       "      <td>2020-09-11</td>\n",
       "      <td>00:31:27.520000</td>\n",
       "    </tr>\n",
       "    <tr>\n",
       "      <th>2020-09-11 00:31:27.560</th>\n",
       "      <td>NaN</td>\n",
       "      <td>NaN</td>\n",
       "      <td>NaN</td>\n",
       "      <td>NaN</td>\n",
       "      <td>NaN</td>\n",
       "      <td>NaN</td>\n",
       "      <td>NaN</td>\n",
       "      <td>NaN</td>\n",
       "      <td>NaN</td>\n",
       "      <td>NaN</td>\n",
       "      <td>NaN</td>\n",
       "      <td>2020-09-11</td>\n",
       "      <td>00:31:27.560000</td>\n",
       "    </tr>\n",
       "    <tr>\n",
       "      <th>2020-09-11 00:31:27.600</th>\n",
       "      <td>NaN</td>\n",
       "      <td>NaN</td>\n",
       "      <td>NaN</td>\n",
       "      <td>NaN</td>\n",
       "      <td>NaN</td>\n",
       "      <td>NaN</td>\n",
       "      <td>NaN</td>\n",
       "      <td>NaN</td>\n",
       "      <td>NaN</td>\n",
       "      <td>NaN</td>\n",
       "      <td>NaN</td>\n",
       "      <td>2020-09-11</td>\n",
       "      <td>00:31:27.600000</td>\n",
       "    </tr>\n",
       "    <tr>\n",
       "      <th>2020-09-11 00:31:27.640</th>\n",
       "      <td>NaN</td>\n",
       "      <td>NaN</td>\n",
       "      <td>NaN</td>\n",
       "      <td>NaN</td>\n",
       "      <td>NaN</td>\n",
       "      <td>NaN</td>\n",
       "      <td>NaN</td>\n",
       "      <td>NaN</td>\n",
       "      <td>NaN</td>\n",
       "      <td>NaN</td>\n",
       "      <td>NaN</td>\n",
       "      <td>2020-09-11</td>\n",
       "      <td>00:31:27.640000</td>\n",
       "    </tr>\n",
       "  </tbody>\n",
       "</table>\n",
       "<p>47192 rows × 13 columns</p>\n",
       "</div>"
      ],
      "text/plain": [
       "                         Neutral  Happy  Sad  Angry  Surprised  Scared  \\\n",
       "Video_Time                                                               \n",
       "2020-09-11 00:00:00.000      NaN    NaN  NaN    NaN        NaN     NaN   \n",
       "2020-09-11 00:00:00.040      NaN    NaN  NaN    NaN        NaN     NaN   \n",
       "2020-09-11 00:00:00.080      NaN    NaN  NaN    NaN        NaN     NaN   \n",
       "2020-09-11 00:00:00.120      NaN    NaN  NaN    NaN        NaN     NaN   \n",
       "2020-09-11 00:00:00.160      NaN    NaN  NaN    NaN        NaN     NaN   \n",
       "...                          ...    ...  ...    ...        ...     ...   \n",
       "2020-09-11 00:31:27.480      NaN    NaN  NaN    NaN        NaN     NaN   \n",
       "2020-09-11 00:31:27.520      NaN    NaN  NaN    NaN        NaN     NaN   \n",
       "2020-09-11 00:31:27.560      NaN    NaN  NaN    NaN        NaN     NaN   \n",
       "2020-09-11 00:31:27.600      NaN    NaN  NaN    NaN        NaN     NaN   \n",
       "2020-09-11 00:31:27.640      NaN    NaN  NaN    NaN        NaN     NaN   \n",
       "\n",
       "                         Disgusted  Contempt  Valence  Arousal  Heart_Rate  \\\n",
       "Video_Time                                                                   \n",
       "2020-09-11 00:00:00.000        NaN       NaN      NaN      NaN         NaN   \n",
       "2020-09-11 00:00:00.040        NaN       NaN      NaN      NaN         NaN   \n",
       "2020-09-11 00:00:00.080        NaN       NaN      NaN      NaN         NaN   \n",
       "2020-09-11 00:00:00.120        NaN       NaN      NaN      NaN         NaN   \n",
       "2020-09-11 00:00:00.160        NaN       NaN      NaN      NaN         NaN   \n",
       "...                            ...       ...      ...      ...         ...   \n",
       "2020-09-11 00:31:27.480        NaN       NaN      NaN      NaN         NaN   \n",
       "2020-09-11 00:31:27.520        NaN       NaN      NaN      NaN         NaN   \n",
       "2020-09-11 00:31:27.560        NaN       NaN      NaN      NaN         NaN   \n",
       "2020-09-11 00:31:27.600        NaN       NaN      NaN      NaN         NaN   \n",
       "2020-09-11 00:31:27.640        NaN       NaN      NaN      NaN         NaN   \n",
       "\n",
       "                              Fecha             Hora  \n",
       "Video_Time                                            \n",
       "2020-09-11 00:00:00.000  2020-09-11         00:00:00  \n",
       "2020-09-11 00:00:00.040  2020-09-11  00:00:00.040000  \n",
       "2020-09-11 00:00:00.080  2020-09-11  00:00:00.080000  \n",
       "2020-09-11 00:00:00.120  2020-09-11  00:00:00.120000  \n",
       "2020-09-11 00:00:00.160  2020-09-11  00:00:00.160000  \n",
       "...                             ...              ...  \n",
       "2020-09-11 00:31:27.480  2020-09-11  00:31:27.480000  \n",
       "2020-09-11 00:31:27.520  2020-09-11  00:31:27.520000  \n",
       "2020-09-11 00:31:27.560  2020-09-11  00:31:27.560000  \n",
       "2020-09-11 00:31:27.600  2020-09-11  00:31:27.600000  \n",
       "2020-09-11 00:31:27.640  2020-09-11  00:31:27.640000  \n",
       "\n",
       "[47192 rows x 13 columns]"
      ]
     },
     "execution_count": 40,
     "metadata": {},
     "output_type": "execute_result"
    }
   ],
   "source": [
    "sujeto"
   ]
  },
  {
   "cell_type": "code",
   "execution_count": 41,
   "metadata": {},
   "outputs": [
    {
     "name": "stdout",
     "output_type": "stream",
     "text": [
      "<class 'pandas.core.frame.DataFrame'>\n",
      "DatetimeIndex: 47192 entries, 2020-09-11 00:00:00 to 2020-09-11 00:31:27.640000\n",
      "Data columns (total 13 columns):\n",
      " #   Column      Non-Null Count  Dtype  \n",
      "---  ------      --------------  -----  \n",
      " 0   Neutral     35975 non-null  float64\n",
      " 1   Happy       35975 non-null  float64\n",
      " 2   Sad         35975 non-null  float64\n",
      " 3   Angry       35975 non-null  float64\n",
      " 4   Surprised   35975 non-null  float64\n",
      " 5   Scared      35975 non-null  float64\n",
      " 6   Disgusted   35975 non-null  float64\n",
      " 7   Contempt    35975 non-null  float64\n",
      " 8   Valence     35975 non-null  float64\n",
      " 9   Arousal     35975 non-null  float64\n",
      " 10  Heart_Rate  17815 non-null  float64\n",
      " 11  Fecha       47192 non-null  object \n",
      " 12  Hora        47192 non-null  object \n",
      "dtypes: float64(11), object(2)\n",
      "memory usage: 5.0+ MB\n"
     ]
    }
   ],
   "source": [
    "sujeto.info()"
   ]
  },
  {
   "cell_type": "code",
   "execution_count": 42,
   "metadata": {},
   "outputs": [],
   "source": [
    "# ¿Cómo sabemos de quien es esa base?"
   ]
  },
  {
   "cell_type": "code",
   "execution_count": 43,
   "metadata": {},
   "outputs": [
    {
     "data": {
      "text/plain": [
       "'Control1.txt'"
      ]
     },
     "execution_count": 43,
     "metadata": {},
     "output_type": "execute_result"
    }
   ],
   "source": [
    "files_txt[0] # Ajá, este es el usuario, ¿Cómo le hacemos para incluirlo en la base?"
   ]
  },
  {
   "cell_type": "code",
   "execution_count": 44,
   "metadata": {},
   "outputs": [
    {
     "data": {
      "text/plain": [
       "'Control1'"
      ]
     },
     "execution_count": 44,
     "metadata": {},
     "output_type": "execute_result"
    }
   ],
   "source": [
    "files_txt[0][:-4]"
   ]
  },
  {
   "cell_type": "code",
   "execution_count": 45,
   "metadata": {},
   "outputs": [],
   "source": [
    "sujeto['ID'] = files_txt[0][:-4]"
   ]
  },
  {
   "cell_type": "code",
   "execution_count": 46,
   "metadata": {},
   "outputs": [
    {
     "data": {
      "text/html": [
       "<div>\n",
       "<style scoped>\n",
       "    .dataframe tbody tr th:only-of-type {\n",
       "        vertical-align: middle;\n",
       "    }\n",
       "\n",
       "    .dataframe tbody tr th {\n",
       "        vertical-align: top;\n",
       "    }\n",
       "\n",
       "    .dataframe thead th {\n",
       "        text-align: right;\n",
       "    }\n",
       "</style>\n",
       "<table border=\"1\" class=\"dataframe\">\n",
       "  <thead>\n",
       "    <tr style=\"text-align: right;\">\n",
       "      <th></th>\n",
       "      <th>Neutral</th>\n",
       "      <th>Happy</th>\n",
       "      <th>Sad</th>\n",
       "      <th>Angry</th>\n",
       "      <th>Surprised</th>\n",
       "      <th>Scared</th>\n",
       "      <th>Disgusted</th>\n",
       "      <th>Contempt</th>\n",
       "      <th>Valence</th>\n",
       "      <th>Arousal</th>\n",
       "      <th>Heart_Rate</th>\n",
       "      <th>Fecha</th>\n",
       "      <th>Hora</th>\n",
       "      <th>ID</th>\n",
       "    </tr>\n",
       "    <tr>\n",
       "      <th>Video_Time</th>\n",
       "      <th></th>\n",
       "      <th></th>\n",
       "      <th></th>\n",
       "      <th></th>\n",
       "      <th></th>\n",
       "      <th></th>\n",
       "      <th></th>\n",
       "      <th></th>\n",
       "      <th></th>\n",
       "      <th></th>\n",
       "      <th></th>\n",
       "      <th></th>\n",
       "      <th></th>\n",
       "      <th></th>\n",
       "    </tr>\n",
       "  </thead>\n",
       "  <tbody>\n",
       "    <tr>\n",
       "      <th>2020-09-11 00:00:00.000</th>\n",
       "      <td>NaN</td>\n",
       "      <td>NaN</td>\n",
       "      <td>NaN</td>\n",
       "      <td>NaN</td>\n",
       "      <td>NaN</td>\n",
       "      <td>NaN</td>\n",
       "      <td>NaN</td>\n",
       "      <td>NaN</td>\n",
       "      <td>NaN</td>\n",
       "      <td>NaN</td>\n",
       "      <td>NaN</td>\n",
       "      <td>2020-09-11</td>\n",
       "      <td>00:00:00</td>\n",
       "      <td>Control1</td>\n",
       "    </tr>\n",
       "    <tr>\n",
       "      <th>2020-09-11 00:00:00.040</th>\n",
       "      <td>NaN</td>\n",
       "      <td>NaN</td>\n",
       "      <td>NaN</td>\n",
       "      <td>NaN</td>\n",
       "      <td>NaN</td>\n",
       "      <td>NaN</td>\n",
       "      <td>NaN</td>\n",
       "      <td>NaN</td>\n",
       "      <td>NaN</td>\n",
       "      <td>NaN</td>\n",
       "      <td>NaN</td>\n",
       "      <td>2020-09-11</td>\n",
       "      <td>00:00:00.040000</td>\n",
       "      <td>Control1</td>\n",
       "    </tr>\n",
       "    <tr>\n",
       "      <th>2020-09-11 00:00:00.080</th>\n",
       "      <td>NaN</td>\n",
       "      <td>NaN</td>\n",
       "      <td>NaN</td>\n",
       "      <td>NaN</td>\n",
       "      <td>NaN</td>\n",
       "      <td>NaN</td>\n",
       "      <td>NaN</td>\n",
       "      <td>NaN</td>\n",
       "      <td>NaN</td>\n",
       "      <td>NaN</td>\n",
       "      <td>NaN</td>\n",
       "      <td>2020-09-11</td>\n",
       "      <td>00:00:00.080000</td>\n",
       "      <td>Control1</td>\n",
       "    </tr>\n",
       "    <tr>\n",
       "      <th>2020-09-11 00:00:00.120</th>\n",
       "      <td>NaN</td>\n",
       "      <td>NaN</td>\n",
       "      <td>NaN</td>\n",
       "      <td>NaN</td>\n",
       "      <td>NaN</td>\n",
       "      <td>NaN</td>\n",
       "      <td>NaN</td>\n",
       "      <td>NaN</td>\n",
       "      <td>NaN</td>\n",
       "      <td>NaN</td>\n",
       "      <td>NaN</td>\n",
       "      <td>2020-09-11</td>\n",
       "      <td>00:00:00.120000</td>\n",
       "      <td>Control1</td>\n",
       "    </tr>\n",
       "    <tr>\n",
       "      <th>2020-09-11 00:00:00.160</th>\n",
       "      <td>NaN</td>\n",
       "      <td>NaN</td>\n",
       "      <td>NaN</td>\n",
       "      <td>NaN</td>\n",
       "      <td>NaN</td>\n",
       "      <td>NaN</td>\n",
       "      <td>NaN</td>\n",
       "      <td>NaN</td>\n",
       "      <td>NaN</td>\n",
       "      <td>NaN</td>\n",
       "      <td>NaN</td>\n",
       "      <td>2020-09-11</td>\n",
       "      <td>00:00:00.160000</td>\n",
       "      <td>Control1</td>\n",
       "    </tr>\n",
       "  </tbody>\n",
       "</table>\n",
       "</div>"
      ],
      "text/plain": [
       "                         Neutral  Happy  Sad  Angry  Surprised  Scared  \\\n",
       "Video_Time                                                               \n",
       "2020-09-11 00:00:00.000      NaN    NaN  NaN    NaN        NaN     NaN   \n",
       "2020-09-11 00:00:00.040      NaN    NaN  NaN    NaN        NaN     NaN   \n",
       "2020-09-11 00:00:00.080      NaN    NaN  NaN    NaN        NaN     NaN   \n",
       "2020-09-11 00:00:00.120      NaN    NaN  NaN    NaN        NaN     NaN   \n",
       "2020-09-11 00:00:00.160      NaN    NaN  NaN    NaN        NaN     NaN   \n",
       "\n",
       "                         Disgusted  Contempt  Valence  Arousal  Heart_Rate  \\\n",
       "Video_Time                                                                   \n",
       "2020-09-11 00:00:00.000        NaN       NaN      NaN      NaN         NaN   \n",
       "2020-09-11 00:00:00.040        NaN       NaN      NaN      NaN         NaN   \n",
       "2020-09-11 00:00:00.080        NaN       NaN      NaN      NaN         NaN   \n",
       "2020-09-11 00:00:00.120        NaN       NaN      NaN      NaN         NaN   \n",
       "2020-09-11 00:00:00.160        NaN       NaN      NaN      NaN         NaN   \n",
       "\n",
       "                              Fecha             Hora        ID  \n",
       "Video_Time                                                      \n",
       "2020-09-11 00:00:00.000  2020-09-11         00:00:00  Control1  \n",
       "2020-09-11 00:00:00.040  2020-09-11  00:00:00.040000  Control1  \n",
       "2020-09-11 00:00:00.080  2020-09-11  00:00:00.080000  Control1  \n",
       "2020-09-11 00:00:00.120  2020-09-11  00:00:00.120000  Control1  \n",
       "2020-09-11 00:00:00.160  2020-09-11  00:00:00.160000  Control1  "
      ]
     },
     "execution_count": 46,
     "metadata": {},
     "output_type": "execute_result"
    }
   ],
   "source": [
    "sujeto.head()"
   ]
  },
  {
   "cell_type": "code",
   "execution_count": 47,
   "metadata": {},
   "outputs": [
    {
     "name": "stdout",
     "output_type": "stream",
     "text": [
      "<class 'pandas.core.frame.DataFrame'>\n",
      "DatetimeIndex: 47192 entries, 2020-09-11 00:00:00 to 2020-09-11 00:31:27.640000\n",
      "Data columns (total 14 columns):\n",
      " #   Column      Non-Null Count  Dtype  \n",
      "---  ------      --------------  -----  \n",
      " 0   Neutral     35975 non-null  float64\n",
      " 1   Happy       35975 non-null  float64\n",
      " 2   Sad         35975 non-null  float64\n",
      " 3   Angry       35975 non-null  float64\n",
      " 4   Surprised   35975 non-null  float64\n",
      " 5   Scared      35975 non-null  float64\n",
      " 6   Disgusted   35975 non-null  float64\n",
      " 7   Contempt    35975 non-null  float64\n",
      " 8   Valence     35975 non-null  float64\n",
      " 9   Arousal     35975 non-null  float64\n",
      " 10  Heart_Rate  17815 non-null  float64\n",
      " 11  Fecha       47192 non-null  object \n",
      " 12  Hora        47192 non-null  object \n",
      " 13  ID          47192 non-null  object \n",
      "dtypes: float64(11), object(3)\n",
      "memory usage: 5.4+ MB\n"
     ]
    }
   ],
   "source": [
    "sujeto.info()"
   ]
  },
  {
   "cell_type": "code",
   "execution_count": 48,
   "metadata": {},
   "outputs": [
    {
     "data": {
      "text/html": [
       "<div>\n",
       "<style scoped>\n",
       "    .dataframe tbody tr th:only-of-type {\n",
       "        vertical-align: middle;\n",
       "    }\n",
       "\n",
       "    .dataframe tbody tr th {\n",
       "        vertical-align: top;\n",
       "    }\n",
       "\n",
       "    .dataframe thead th {\n",
       "        text-align: right;\n",
       "    }\n",
       "</style>\n",
       "<table border=\"1\" class=\"dataframe\">\n",
       "  <thead>\n",
       "    <tr style=\"text-align: right;\">\n",
       "      <th></th>\n",
       "      <th>Neutral</th>\n",
       "      <th>Happy</th>\n",
       "      <th>Sad</th>\n",
       "      <th>Angry</th>\n",
       "      <th>Surprised</th>\n",
       "      <th>Scared</th>\n",
       "      <th>Disgusted</th>\n",
       "      <th>Contempt</th>\n",
       "      <th>Valence</th>\n",
       "      <th>Arousal</th>\n",
       "      <th>Heart_Rate</th>\n",
       "    </tr>\n",
       "  </thead>\n",
       "  <tbody>\n",
       "    <tr>\n",
       "      <th>count</th>\n",
       "      <td>35975.000000</td>\n",
       "      <td>35975.000000</td>\n",
       "      <td>35975.000000</td>\n",
       "      <td>3.597500e+04</td>\n",
       "      <td>35975.000000</td>\n",
       "      <td>35975.000000</td>\n",
       "      <td>35975.000000</td>\n",
       "      <td>35975.000000</td>\n",
       "      <td>35975.000000</td>\n",
       "      <td>35975.000000</td>\n",
       "      <td>17815.000000</td>\n",
       "    </tr>\n",
       "    <tr>\n",
       "      <th>mean</th>\n",
       "      <td>0.570914</td>\n",
       "      <td>0.059299</td>\n",
       "      <td>0.144835</td>\n",
       "      <td>1.991290e-02</td>\n",
       "      <td>0.077078</td>\n",
       "      <td>0.042953</td>\n",
       "      <td>0.018298</td>\n",
       "      <td>0.020738</td>\n",
       "      <td>-0.130716</td>\n",
       "      <td>0.370436</td>\n",
       "      <td>67.509234</td>\n",
       "    </tr>\n",
       "    <tr>\n",
       "      <th>std</th>\n",
       "      <td>0.206017</td>\n",
       "      <td>0.141134</td>\n",
       "      <td>0.216439</td>\n",
       "      <td>3.445710e-02</td>\n",
       "      <td>0.147486</td>\n",
       "      <td>0.088203</td>\n",
       "      <td>0.036580</td>\n",
       "      <td>0.042662</td>\n",
       "      <td>0.271496</td>\n",
       "      <td>0.193155</td>\n",
       "      <td>7.384811</td>\n",
       "    </tr>\n",
       "    <tr>\n",
       "      <th>min</th>\n",
       "      <td>0.000000</td>\n",
       "      <td>0.000000</td>\n",
       "      <td>0.000000</td>\n",
       "      <td>0.000000e+00</td>\n",
       "      <td>0.000000</td>\n",
       "      <td>0.000000</td>\n",
       "      <td>0.000000</td>\n",
       "      <td>0.000000</td>\n",
       "      <td>-0.997121</td>\n",
       "      <td>0.007082</td>\n",
       "      <td>50.000000</td>\n",
       "    </tr>\n",
       "    <tr>\n",
       "      <th>25%</th>\n",
       "      <td>0.444544</td>\n",
       "      <td>0.000000</td>\n",
       "      <td>0.000003</td>\n",
       "      <td>6.725000e-07</td>\n",
       "      <td>0.000000</td>\n",
       "      <td>0.000000</td>\n",
       "      <td>0.000000</td>\n",
       "      <td>0.000000</td>\n",
       "      <td>-0.301909</td>\n",
       "      <td>0.256962</td>\n",
       "      <td>63.000000</td>\n",
       "    </tr>\n",
       "    <tr>\n",
       "      <th>50%</th>\n",
       "      <td>0.558792</td>\n",
       "      <td>0.000424</td>\n",
       "      <td>0.006799</td>\n",
       "      <td>2.162799e-03</td>\n",
       "      <td>0.002063</td>\n",
       "      <td>0.000832</td>\n",
       "      <td>0.000342</td>\n",
       "      <td>0.000042</td>\n",
       "      <td>-0.083156</td>\n",
       "      <td>0.385068</td>\n",
       "      <td>67.000000</td>\n",
       "    </tr>\n",
       "    <tr>\n",
       "      <th>75%</th>\n",
       "      <td>0.697916</td>\n",
       "      <td>0.039267</td>\n",
       "      <td>0.274123</td>\n",
       "      <td>2.780830e-02</td>\n",
       "      <td>0.085358</td>\n",
       "      <td>0.043920</td>\n",
       "      <td>0.020834</td>\n",
       "      <td>0.015522</td>\n",
       "      <td>-0.002685</td>\n",
       "      <td>0.489315</td>\n",
       "      <td>72.000000</td>\n",
       "    </tr>\n",
       "    <tr>\n",
       "      <th>max</th>\n",
       "      <td>0.976100</td>\n",
       "      <td>0.995359</td>\n",
       "      <td>0.999985</td>\n",
       "      <td>2.707080e-01</td>\n",
       "      <td>0.992727</td>\n",
       "      <td>0.705482</td>\n",
       "      <td>0.448886</td>\n",
       "      <td>0.448097</td>\n",
       "      <td>0.923776</td>\n",
       "      <td>0.924700</td>\n",
       "      <td>120.000000</td>\n",
       "    </tr>\n",
       "  </tbody>\n",
       "</table>\n",
       "</div>"
      ],
      "text/plain": [
       "            Neutral         Happy           Sad         Angry     Surprised  \\\n",
       "count  35975.000000  35975.000000  35975.000000  3.597500e+04  35975.000000   \n",
       "mean       0.570914      0.059299      0.144835  1.991290e-02      0.077078   \n",
       "std        0.206017      0.141134      0.216439  3.445710e-02      0.147486   \n",
       "min        0.000000      0.000000      0.000000  0.000000e+00      0.000000   \n",
       "25%        0.444544      0.000000      0.000003  6.725000e-07      0.000000   \n",
       "50%        0.558792      0.000424      0.006799  2.162799e-03      0.002063   \n",
       "75%        0.697916      0.039267      0.274123  2.780830e-02      0.085358   \n",
       "max        0.976100      0.995359      0.999985  2.707080e-01      0.992727   \n",
       "\n",
       "             Scared     Disgusted      Contempt       Valence       Arousal  \\\n",
       "count  35975.000000  35975.000000  35975.000000  35975.000000  35975.000000   \n",
       "mean       0.042953      0.018298      0.020738     -0.130716      0.370436   \n",
       "std        0.088203      0.036580      0.042662      0.271496      0.193155   \n",
       "min        0.000000      0.000000      0.000000     -0.997121      0.007082   \n",
       "25%        0.000000      0.000000      0.000000     -0.301909      0.256962   \n",
       "50%        0.000832      0.000342      0.000042     -0.083156      0.385068   \n",
       "75%        0.043920      0.020834      0.015522     -0.002685      0.489315   \n",
       "max        0.705482      0.448886      0.448097      0.923776      0.924700   \n",
       "\n",
       "         Heart_Rate  \n",
       "count  17815.000000  \n",
       "mean      67.509234  \n",
       "std        7.384811  \n",
       "min       50.000000  \n",
       "25%       63.000000  \n",
       "50%       67.000000  \n",
       "75%       72.000000  \n",
       "max      120.000000  "
      ]
     },
     "execution_count": 48,
     "metadata": {},
     "output_type": "execute_result"
    }
   ],
   "source": [
    "sujeto.describe()"
   ]
  },
  {
   "cell_type": "code",
   "execution_count": 49,
   "metadata": {},
   "outputs": [
    {
     "data": {
      "text/html": [
       "<div>\n",
       "<style scoped>\n",
       "    .dataframe tbody tr th:only-of-type {\n",
       "        vertical-align: middle;\n",
       "    }\n",
       "\n",
       "    .dataframe tbody tr th {\n",
       "        vertical-align: top;\n",
       "    }\n",
       "\n",
       "    .dataframe thead th {\n",
       "        text-align: right;\n",
       "    }\n",
       "</style>\n",
       "<table border=\"1\" class=\"dataframe\">\n",
       "  <thead>\n",
       "    <tr style=\"text-align: right;\">\n",
       "      <th></th>\n",
       "      <th>Neutral</th>\n",
       "      <th>Happy</th>\n",
       "      <th>Sad</th>\n",
       "      <th>Angry</th>\n",
       "      <th>Surprised</th>\n",
       "      <th>Scared</th>\n",
       "      <th>Disgusted</th>\n",
       "      <th>Contempt</th>\n",
       "      <th>Valence</th>\n",
       "      <th>Arousal</th>\n",
       "      <th>Heart_Rate</th>\n",
       "      <th>Fecha</th>\n",
       "      <th>Hora</th>\n",
       "      <th>ID</th>\n",
       "    </tr>\n",
       "  </thead>\n",
       "  <tbody>\n",
       "    <tr>\n",
       "      <th>count</th>\n",
       "      <td>35975.000000</td>\n",
       "      <td>35975.000000</td>\n",
       "      <td>35975.000000</td>\n",
       "      <td>3.597500e+04</td>\n",
       "      <td>35975.000000</td>\n",
       "      <td>35975.000000</td>\n",
       "      <td>35975.000000</td>\n",
       "      <td>35975.000000</td>\n",
       "      <td>35975.000000</td>\n",
       "      <td>35975.000000</td>\n",
       "      <td>17815.000000</td>\n",
       "      <td>47192</td>\n",
       "      <td>47192</td>\n",
       "      <td>47192</td>\n",
       "    </tr>\n",
       "    <tr>\n",
       "      <th>unique</th>\n",
       "      <td>NaN</td>\n",
       "      <td>NaN</td>\n",
       "      <td>NaN</td>\n",
       "      <td>NaN</td>\n",
       "      <td>NaN</td>\n",
       "      <td>NaN</td>\n",
       "      <td>NaN</td>\n",
       "      <td>NaN</td>\n",
       "      <td>NaN</td>\n",
       "      <td>NaN</td>\n",
       "      <td>NaN</td>\n",
       "      <td>1</td>\n",
       "      <td>47192</td>\n",
       "      <td>1</td>\n",
       "    </tr>\n",
       "    <tr>\n",
       "      <th>top</th>\n",
       "      <td>NaN</td>\n",
       "      <td>NaN</td>\n",
       "      <td>NaN</td>\n",
       "      <td>NaN</td>\n",
       "      <td>NaN</td>\n",
       "      <td>NaN</td>\n",
       "      <td>NaN</td>\n",
       "      <td>NaN</td>\n",
       "      <td>NaN</td>\n",
       "      <td>NaN</td>\n",
       "      <td>NaN</td>\n",
       "      <td>2020-09-11</td>\n",
       "      <td>00:18:28.200000</td>\n",
       "      <td>Control1</td>\n",
       "    </tr>\n",
       "    <tr>\n",
       "      <th>freq</th>\n",
       "      <td>NaN</td>\n",
       "      <td>NaN</td>\n",
       "      <td>NaN</td>\n",
       "      <td>NaN</td>\n",
       "      <td>NaN</td>\n",
       "      <td>NaN</td>\n",
       "      <td>NaN</td>\n",
       "      <td>NaN</td>\n",
       "      <td>NaN</td>\n",
       "      <td>NaN</td>\n",
       "      <td>NaN</td>\n",
       "      <td>47192</td>\n",
       "      <td>1</td>\n",
       "      <td>47192</td>\n",
       "    </tr>\n",
       "    <tr>\n",
       "      <th>mean</th>\n",
       "      <td>0.570914</td>\n",
       "      <td>0.059299</td>\n",
       "      <td>0.144835</td>\n",
       "      <td>1.991290e-02</td>\n",
       "      <td>0.077078</td>\n",
       "      <td>0.042953</td>\n",
       "      <td>0.018298</td>\n",
       "      <td>0.020738</td>\n",
       "      <td>-0.130716</td>\n",
       "      <td>0.370436</td>\n",
       "      <td>67.509234</td>\n",
       "      <td>NaN</td>\n",
       "      <td>NaN</td>\n",
       "      <td>NaN</td>\n",
       "    </tr>\n",
       "    <tr>\n",
       "      <th>std</th>\n",
       "      <td>0.206017</td>\n",
       "      <td>0.141134</td>\n",
       "      <td>0.216439</td>\n",
       "      <td>3.445710e-02</td>\n",
       "      <td>0.147486</td>\n",
       "      <td>0.088203</td>\n",
       "      <td>0.036580</td>\n",
       "      <td>0.042662</td>\n",
       "      <td>0.271496</td>\n",
       "      <td>0.193155</td>\n",
       "      <td>7.384811</td>\n",
       "      <td>NaN</td>\n",
       "      <td>NaN</td>\n",
       "      <td>NaN</td>\n",
       "    </tr>\n",
       "    <tr>\n",
       "      <th>min</th>\n",
       "      <td>0.000000</td>\n",
       "      <td>0.000000</td>\n",
       "      <td>0.000000</td>\n",
       "      <td>0.000000e+00</td>\n",
       "      <td>0.000000</td>\n",
       "      <td>0.000000</td>\n",
       "      <td>0.000000</td>\n",
       "      <td>0.000000</td>\n",
       "      <td>-0.997121</td>\n",
       "      <td>0.007082</td>\n",
       "      <td>50.000000</td>\n",
       "      <td>NaN</td>\n",
       "      <td>NaN</td>\n",
       "      <td>NaN</td>\n",
       "    </tr>\n",
       "    <tr>\n",
       "      <th>25%</th>\n",
       "      <td>0.444544</td>\n",
       "      <td>0.000000</td>\n",
       "      <td>0.000003</td>\n",
       "      <td>6.725000e-07</td>\n",
       "      <td>0.000000</td>\n",
       "      <td>0.000000</td>\n",
       "      <td>0.000000</td>\n",
       "      <td>0.000000</td>\n",
       "      <td>-0.301909</td>\n",
       "      <td>0.256962</td>\n",
       "      <td>63.000000</td>\n",
       "      <td>NaN</td>\n",
       "      <td>NaN</td>\n",
       "      <td>NaN</td>\n",
       "    </tr>\n",
       "    <tr>\n",
       "      <th>50%</th>\n",
       "      <td>0.558792</td>\n",
       "      <td>0.000424</td>\n",
       "      <td>0.006799</td>\n",
       "      <td>2.162799e-03</td>\n",
       "      <td>0.002063</td>\n",
       "      <td>0.000832</td>\n",
       "      <td>0.000342</td>\n",
       "      <td>0.000042</td>\n",
       "      <td>-0.083156</td>\n",
       "      <td>0.385068</td>\n",
       "      <td>67.000000</td>\n",
       "      <td>NaN</td>\n",
       "      <td>NaN</td>\n",
       "      <td>NaN</td>\n",
       "    </tr>\n",
       "    <tr>\n",
       "      <th>75%</th>\n",
       "      <td>0.697916</td>\n",
       "      <td>0.039267</td>\n",
       "      <td>0.274123</td>\n",
       "      <td>2.780830e-02</td>\n",
       "      <td>0.085358</td>\n",
       "      <td>0.043920</td>\n",
       "      <td>0.020834</td>\n",
       "      <td>0.015522</td>\n",
       "      <td>-0.002685</td>\n",
       "      <td>0.489315</td>\n",
       "      <td>72.000000</td>\n",
       "      <td>NaN</td>\n",
       "      <td>NaN</td>\n",
       "      <td>NaN</td>\n",
       "    </tr>\n",
       "    <tr>\n",
       "      <th>max</th>\n",
       "      <td>0.976100</td>\n",
       "      <td>0.995359</td>\n",
       "      <td>0.999985</td>\n",
       "      <td>2.707080e-01</td>\n",
       "      <td>0.992727</td>\n",
       "      <td>0.705482</td>\n",
       "      <td>0.448886</td>\n",
       "      <td>0.448097</td>\n",
       "      <td>0.923776</td>\n",
       "      <td>0.924700</td>\n",
       "      <td>120.000000</td>\n",
       "      <td>NaN</td>\n",
       "      <td>NaN</td>\n",
       "      <td>NaN</td>\n",
       "    </tr>\n",
       "  </tbody>\n",
       "</table>\n",
       "</div>"
      ],
      "text/plain": [
       "             Neutral         Happy           Sad         Angry     Surprised  \\\n",
       "count   35975.000000  35975.000000  35975.000000  3.597500e+04  35975.000000   \n",
       "unique           NaN           NaN           NaN           NaN           NaN   \n",
       "top              NaN           NaN           NaN           NaN           NaN   \n",
       "freq             NaN           NaN           NaN           NaN           NaN   \n",
       "mean        0.570914      0.059299      0.144835  1.991290e-02      0.077078   \n",
       "std         0.206017      0.141134      0.216439  3.445710e-02      0.147486   \n",
       "min         0.000000      0.000000      0.000000  0.000000e+00      0.000000   \n",
       "25%         0.444544      0.000000      0.000003  6.725000e-07      0.000000   \n",
       "50%         0.558792      0.000424      0.006799  2.162799e-03      0.002063   \n",
       "75%         0.697916      0.039267      0.274123  2.780830e-02      0.085358   \n",
       "max         0.976100      0.995359      0.999985  2.707080e-01      0.992727   \n",
       "\n",
       "              Scared     Disgusted      Contempt       Valence       Arousal  \\\n",
       "count   35975.000000  35975.000000  35975.000000  35975.000000  35975.000000   \n",
       "unique           NaN           NaN           NaN           NaN           NaN   \n",
       "top              NaN           NaN           NaN           NaN           NaN   \n",
       "freq             NaN           NaN           NaN           NaN           NaN   \n",
       "mean        0.042953      0.018298      0.020738     -0.130716      0.370436   \n",
       "std         0.088203      0.036580      0.042662      0.271496      0.193155   \n",
       "min         0.000000      0.000000      0.000000     -0.997121      0.007082   \n",
       "25%         0.000000      0.000000      0.000000     -0.301909      0.256962   \n",
       "50%         0.000832      0.000342      0.000042     -0.083156      0.385068   \n",
       "75%         0.043920      0.020834      0.015522     -0.002685      0.489315   \n",
       "max         0.705482      0.448886      0.448097      0.923776      0.924700   \n",
       "\n",
       "          Heart_Rate       Fecha             Hora        ID  \n",
       "count   17815.000000       47192            47192     47192  \n",
       "unique           NaN           1            47192         1  \n",
       "top              NaN  2020-09-11  00:18:28.200000  Control1  \n",
       "freq             NaN       47192                1     47192  \n",
       "mean       67.509234         NaN              NaN       NaN  \n",
       "std         7.384811         NaN              NaN       NaN  \n",
       "min        50.000000         NaN              NaN       NaN  \n",
       "25%        63.000000         NaN              NaN       NaN  \n",
       "50%        67.000000         NaN              NaN       NaN  \n",
       "75%        72.000000         NaN              NaN       NaN  \n",
       "max       120.000000         NaN              NaN       NaN  "
      ]
     },
     "execution_count": 49,
     "metadata": {},
     "output_type": "execute_result"
    }
   ],
   "source": [
    "sujeto.describe(include='all')"
   ]
  },
  {
   "cell_type": "code",
   "execution_count": 50,
   "metadata": {},
   "outputs": [
    {
     "data": {
      "text/plain": [
       "(47192, 14)"
      ]
     },
     "execution_count": 50,
     "metadata": {},
     "output_type": "execute_result"
    }
   ],
   "source": [
    "sujeto.shape"
   ]
  },
  {
   "cell_type": "markdown",
   "metadata": {},
   "source": [
    "### Todos los TXT"
   ]
  },
  {
   "cell_type": "code",
   "execution_count": 51,
   "metadata": {},
   "outputs": [
    {
     "data": {
      "text/plain": [
       "['Control1.txt', 'Control2.txt', 'Paciente1.txt', 'Paciente2.txt']"
      ]
     },
     "execution_count": 51,
     "metadata": {},
     "output_type": "execute_result"
    }
   ],
   "source": [
    "files_txt"
   ]
  },
  {
   "cell_type": "code",
   "execution_count": 54,
   "metadata": {},
   "outputs": [
    {
     "name": "stderr",
     "output_type": "stream",
     "text": [
      "100%|██████████| 4/4 [00:08<00:00,  2.09s/it]\n"
     ]
    }
   ],
   "source": [
    "bases = []\n",
    "\n",
    "for txt in tqdm(files_txt):\n",
    "    file_txt = pd.read_csv(txt, sep='\\t', header=6)\n",
    "    sujeto = pd.concat([file_txt.iloc[:, 0:10], file_txt.iloc[:, 47]], axis=1)\n",
    "    sujeto.columns = sujeto.columns.str.replace(' ', '_')\n",
    "    sujeto['Video_Time'] = pd.to_datetime(sujeto['Video_Time'])\n",
    "    sujeto['Fecha'] = sujeto['Video_Time'].dt.date\n",
    "    sujeto['Hora'] = sujeto['Video_Time'].dt.time\n",
    "    for columna in sujeto.columns[1:12]:\n",
    "        sujeto[columna] = pd.to_numeric(sujeto[columna], errors='coerce')\n",
    "    sujeto = sujeto.set_index('Video_Time')\n",
    "    sujeto['ID'] = txt[:-4]\n",
    "    bases.append(sujeto)\n",
    "    time.sleep(0.01)\n",
    "\n",
    "sujetos = pd.concat(bases)"
   ]
  },
  {
   "cell_type": "code",
   "execution_count": 55,
   "metadata": {},
   "outputs": [
    {
     "data": {
      "text/html": [
       "<div>\n",
       "<style scoped>\n",
       "    .dataframe tbody tr th:only-of-type {\n",
       "        vertical-align: middle;\n",
       "    }\n",
       "\n",
       "    .dataframe tbody tr th {\n",
       "        vertical-align: top;\n",
       "    }\n",
       "\n",
       "    .dataframe thead th {\n",
       "        text-align: right;\n",
       "    }\n",
       "</style>\n",
       "<table border=\"1\" class=\"dataframe\">\n",
       "  <thead>\n",
       "    <tr style=\"text-align: right;\">\n",
       "      <th></th>\n",
       "      <th>Neutral</th>\n",
       "      <th>Happy</th>\n",
       "      <th>Sad</th>\n",
       "      <th>Angry</th>\n",
       "      <th>Surprised</th>\n",
       "      <th>Scared</th>\n",
       "      <th>Disgusted</th>\n",
       "      <th>Contempt</th>\n",
       "      <th>Valence</th>\n",
       "      <th>Heart_Rate</th>\n",
       "      <th>Fecha</th>\n",
       "      <th>Hora</th>\n",
       "      <th>ID</th>\n",
       "      <th>Action_Unit_43_-_Eyes_Closed</th>\n",
       "    </tr>\n",
       "    <tr>\n",
       "      <th>Video_Time</th>\n",
       "      <th></th>\n",
       "      <th></th>\n",
       "      <th></th>\n",
       "      <th></th>\n",
       "      <th></th>\n",
       "      <th></th>\n",
       "      <th></th>\n",
       "      <th></th>\n",
       "      <th></th>\n",
       "      <th></th>\n",
       "      <th></th>\n",
       "      <th></th>\n",
       "      <th></th>\n",
       "      <th></th>\n",
       "    </tr>\n",
       "  </thead>\n",
       "  <tbody>\n",
       "    <tr>\n",
       "      <th>2020-09-11 00:00:00.000</th>\n",
       "      <td>NaN</td>\n",
       "      <td>NaN</td>\n",
       "      <td>NaN</td>\n",
       "      <td>NaN</td>\n",
       "      <td>NaN</td>\n",
       "      <td>NaN</td>\n",
       "      <td>NaN</td>\n",
       "      <td>NaN</td>\n",
       "      <td>NaN</td>\n",
       "      <td>NaN</td>\n",
       "      <td>NaN</td>\n",
       "      <td>00:00:00</td>\n",
       "      <td>Control1</td>\n",
       "      <td>NaN</td>\n",
       "    </tr>\n",
       "    <tr>\n",
       "      <th>2020-09-11 00:00:00.040</th>\n",
       "      <td>NaN</td>\n",
       "      <td>NaN</td>\n",
       "      <td>NaN</td>\n",
       "      <td>NaN</td>\n",
       "      <td>NaN</td>\n",
       "      <td>NaN</td>\n",
       "      <td>NaN</td>\n",
       "      <td>NaN</td>\n",
       "      <td>NaN</td>\n",
       "      <td>NaN</td>\n",
       "      <td>NaN</td>\n",
       "      <td>00:00:00.040000</td>\n",
       "      <td>Control1</td>\n",
       "      <td>NaN</td>\n",
       "    </tr>\n",
       "    <tr>\n",
       "      <th>2020-09-11 00:00:00.080</th>\n",
       "      <td>NaN</td>\n",
       "      <td>NaN</td>\n",
       "      <td>NaN</td>\n",
       "      <td>NaN</td>\n",
       "      <td>NaN</td>\n",
       "      <td>NaN</td>\n",
       "      <td>NaN</td>\n",
       "      <td>NaN</td>\n",
       "      <td>NaN</td>\n",
       "      <td>NaN</td>\n",
       "      <td>NaN</td>\n",
       "      <td>00:00:00.080000</td>\n",
       "      <td>Control1</td>\n",
       "      <td>NaN</td>\n",
       "    </tr>\n",
       "    <tr>\n",
       "      <th>2020-09-11 00:00:00.120</th>\n",
       "      <td>NaN</td>\n",
       "      <td>NaN</td>\n",
       "      <td>NaN</td>\n",
       "      <td>NaN</td>\n",
       "      <td>NaN</td>\n",
       "      <td>NaN</td>\n",
       "      <td>NaN</td>\n",
       "      <td>NaN</td>\n",
       "      <td>NaN</td>\n",
       "      <td>NaN</td>\n",
       "      <td>NaN</td>\n",
       "      <td>00:00:00.120000</td>\n",
       "      <td>Control1</td>\n",
       "      <td>NaN</td>\n",
       "    </tr>\n",
       "    <tr>\n",
       "      <th>2020-09-11 00:00:00.160</th>\n",
       "      <td>NaN</td>\n",
       "      <td>NaN</td>\n",
       "      <td>NaN</td>\n",
       "      <td>NaN</td>\n",
       "      <td>NaN</td>\n",
       "      <td>NaN</td>\n",
       "      <td>NaN</td>\n",
       "      <td>NaN</td>\n",
       "      <td>NaN</td>\n",
       "      <td>NaN</td>\n",
       "      <td>NaN</td>\n",
       "      <td>00:00:00.160000</td>\n",
       "      <td>Control1</td>\n",
       "      <td>NaN</td>\n",
       "    </tr>\n",
       "  </tbody>\n",
       "</table>\n",
       "</div>"
      ],
      "text/plain": [
       "                         Neutral  Happy  Sad  Angry  Surprised  Scared  \\\n",
       "Video_Time                                                               \n",
       "2020-09-11 00:00:00.000      NaN    NaN  NaN    NaN        NaN     NaN   \n",
       "2020-09-11 00:00:00.040      NaN    NaN  NaN    NaN        NaN     NaN   \n",
       "2020-09-11 00:00:00.080      NaN    NaN  NaN    NaN        NaN     NaN   \n",
       "2020-09-11 00:00:00.120      NaN    NaN  NaN    NaN        NaN     NaN   \n",
       "2020-09-11 00:00:00.160      NaN    NaN  NaN    NaN        NaN     NaN   \n",
       "\n",
       "                         Disgusted  Contempt  Valence  Heart_Rate  Fecha  \\\n",
       "Video_Time                                                                 \n",
       "2020-09-11 00:00:00.000        NaN       NaN      NaN         NaN    NaN   \n",
       "2020-09-11 00:00:00.040        NaN       NaN      NaN         NaN    NaN   \n",
       "2020-09-11 00:00:00.080        NaN       NaN      NaN         NaN    NaN   \n",
       "2020-09-11 00:00:00.120        NaN       NaN      NaN         NaN    NaN   \n",
       "2020-09-11 00:00:00.160        NaN       NaN      NaN         NaN    NaN   \n",
       "\n",
       "                                    Hora        ID  \\\n",
       "Video_Time                                           \n",
       "2020-09-11 00:00:00.000         00:00:00  Control1   \n",
       "2020-09-11 00:00:00.040  00:00:00.040000  Control1   \n",
       "2020-09-11 00:00:00.080  00:00:00.080000  Control1   \n",
       "2020-09-11 00:00:00.120  00:00:00.120000  Control1   \n",
       "2020-09-11 00:00:00.160  00:00:00.160000  Control1   \n",
       "\n",
       "                         Action_Unit_43_-_Eyes_Closed  \n",
       "Video_Time                                             \n",
       "2020-09-11 00:00:00.000                           NaN  \n",
       "2020-09-11 00:00:00.040                           NaN  \n",
       "2020-09-11 00:00:00.080                           NaN  \n",
       "2020-09-11 00:00:00.120                           NaN  \n",
       "2020-09-11 00:00:00.160                           NaN  "
      ]
     },
     "execution_count": 55,
     "metadata": {},
     "output_type": "execute_result"
    }
   ],
   "source": [
    "sujetos.head()"
   ]
  },
  {
   "cell_type": "code",
   "execution_count": 56,
   "metadata": {},
   "outputs": [
    {
     "name": "stdout",
     "output_type": "stream",
     "text": [
      "Control1.txt\n",
      "Control2.txt\n",
      "Paciente1.txt\n",
      "Paciente2.txt\n"
     ]
    }
   ],
   "source": [
    "for txt in files_txt:\n",
    "    print(txt)"
   ]
  },
  {
   "cell_type": "code",
   "execution_count": 57,
   "metadata": {},
   "outputs": [
    {
     "data": {
      "text/plain": [
       "['Video analysis detailed log\\n',\n",
       " '\\n',\n",
       " 'Face Model:\\tGeneral\\n',\n",
       " 'Calibration:\\tContinuous\\n',\n",
       " 'Start time:\\t22/08/2017 16:23:08.356\\n',\n",
       " 'Filename:\\tD:\\\\Javier-Controles\\\\4 Ago 2017\\\\Facial\\\\20170804\\\\20170804\\\\Sujeto1f_xvid.avi\\n',\n",
       " 'Frame rate:\\t25\\n',\n",
       " '\\n',\n",
       " 'Video Time\\tNeutral\\tHappy\\tSad\\tAngry\\tSurprised\\tScared\\tDisgusted\\tContempt\\tValence\\tArousal\\tGender\\tAge\\tBeard\\tMoustache\\tGlasses\\tEthnicity\\tY - Head Orientation\\tX - Head Orientation\\tZ - Head Orientation\\tMouth\\tLeft Eye\\tRight Eye\\tLeft Eyebrow\\tRight Eyebrow\\tGaze Direction\\tIdentity\\tAction Unit 01 - Inner Brow Raiser\\tAction Unit 02 - Outer Brow Raiser\\tAction Unit 04 - Brow Lowerer\\tAction Unit 05 - Upper Lid Raiser\\tAction Unit 06 - Cheek Raiser\\tAction Unit 07 - Lid Tightener\\tAction Unit 09 - Nose Wrinkler\\tAction Unit 10 - Upper Lip Raiser\\tAction Unit 12 - Lip Corner Puller\\tAction Unit 14 - Dimpler\\tAction Unit 15 - Lip Corner Depressor\\tAction Unit 17 - Chin Raiser\\tAction Unit 18 - Lip Puckerer\\tAction Unit 20 - Lip Stretcher\\tAction Unit 23 - Lip Tightener\\tAction Unit 24 - Lip Pressor\\tAction Unit 25 - Lips Part\\tAction Unit 26 - Jaw Drop\\tAction Unit 27 - Mouth Stretch\\tAction Unit 43 - Eyes Closed\\tHeart Rate\\tStimulus\\tEvent Marker\\n']"
      ]
     },
     "execution_count": 57,
     "metadata": {},
     "output_type": "execute_result"
    }
   ],
   "source": [
    "file = open(files_txt[0], 'r').readlines(300)\n",
    "file"
   ]
  },
  {
   "cell_type": "code",
   "execution_count": 59,
   "metadata": {},
   "outputs": [
    {
     "data": {
      "text/plain": [
       "['Video analysis detailed log\\n',\n",
       " '\\n',\n",
       " 'Face Model:\\tGeneral\\n',\n",
       " 'Calibration:\\tContinuous\\n',\n",
       " 'Start time:\\t22/08/2017 16:23:08.356\\n',\n",
       " 'Filename:\\tD:\\\\Javier-Controles\\\\4 Ago 2017\\\\Facial\\\\20170804\\\\20170804\\\\Sujeto1f_xvid.avi\\n',\n",
       " 'Frame rate:\\t25\\n',\n",
       " '\\n']"
      ]
     },
     "execution_count": 59,
     "metadata": {},
     "output_type": "execute_result"
    }
   ],
   "source": [
    "# Detalles descriptivos de cada sujeto\n",
    "file[:8]"
   ]
  },
  {
   "cell_type": "code",
   "execution_count": 60,
   "metadata": {},
   "outputs": [
    {
     "data": {
      "text/plain": [
       "['Video Time\\tNeutral\\tHappy\\tSad\\tAngry\\tSurprised\\tScared\\tDisgusted\\tContempt\\tValence\\tArousal\\tGender\\tAge\\tBeard\\tMoustache\\tGlasses\\tEthnicity\\tY - Head Orientation\\tX - Head Orientation\\tZ - Head Orientation\\tMouth\\tLeft Eye\\tRight Eye\\tLeft Eyebrow\\tRight Eyebrow\\tGaze Direction\\tIdentity\\tAction Unit 01 - Inner Brow Raiser\\tAction Unit 02 - Outer Brow Raiser\\tAction Unit 04 - Brow Lowerer\\tAction Unit 05 - Upper Lid Raiser\\tAction Unit 06 - Cheek Raiser\\tAction Unit 07 - Lid Tightener\\tAction Unit 09 - Nose Wrinkler\\tAction Unit 10 - Upper Lip Raiser\\tAction Unit 12 - Lip Corner Puller\\tAction Unit 14 - Dimpler\\tAction Unit 15 - Lip Corner Depressor\\tAction Unit 17 - Chin Raiser\\tAction Unit 18 - Lip Puckerer\\tAction Unit 20 - Lip Stretcher\\tAction Unit 23 - Lip Tightener\\tAction Unit 24 - Lip Pressor\\tAction Unit 25 - Lips Part\\tAction Unit 26 - Jaw Drop\\tAction Unit 27 - Mouth Stretch\\tAction Unit 43 - Eyes Closed\\tHeart Rate\\tStimulus\\tEvent Marker\\n']"
      ]
     },
     "execution_count": 60,
     "metadata": {},
     "output_type": "execute_result"
    }
   ],
   "source": [
    "# Columnas o Variables con las que queremos trabajar\n",
    "file[8:]"
   ]
  },
  {
   "cell_type": "code",
   "execution_count": 81,
   "metadata": {},
   "outputs": [
    {
     "data": {
      "text/plain": [
       "list"
      ]
     },
     "execution_count": 81,
     "metadata": {},
     "output_type": "execute_result"
    }
   ],
   "source": [
    "type(file[8:])"
   ]
  },
  {
   "cell_type": "code",
   "execution_count": 62,
   "metadata": {},
   "outputs": [],
   "source": [
    "columnas_necesarias = ['Video Time', 'Neutral', 'Happy', 'Sad', 'Angry', 'Surprised', 'Scared', 'Disgusted', 'Contempt', 'Valence', 'Arousal', 'Heart Rate']"
   ]
  },
  {
   "cell_type": "code",
   "execution_count": 71,
   "metadata": {},
   "outputs": [
    {
     "name": "stderr",
     "output_type": "stream",
     "text": [
      "100%|██████████| 4/4 [00:08<00:00,  2.09s/it]\n"
     ]
    }
   ],
   "source": [
    "bases = []\n",
    "\n",
    "for txt in tqdm(files_txt):\n",
    "    file_txt = pd.read_csv(txt, sep='\\t', header=6)\n",
    "    #sujeto = pd.concat([file_txt.iloc[:, 0:10], file_txt.iloc[:, 47]], axis=1)\n",
    "    sujeto = file_txt.loc[:, columnas_necesarias]\n",
    "    sujeto.columns = sujeto.columns.str.replace(' ', '_')\n",
    "    sujeto['Video_Time'] = pd.to_datetime(sujeto['Video_Time'])\n",
    "    sujeto['Fecha'] = sujeto['Video_Time'].dt.date\n",
    "    sujeto['Hora'] = sujeto['Video_Time'].dt.time\n",
    "    for columna in sujeto.columns[1:12]:\n",
    "        sujeto[columna] = pd.to_numeric(sujeto[columna], errors='coerce')\n",
    "    sujeto = sujeto.set_index('Video_Time')\n",
    "    sujeto['ID'] = txt[:-4]\n",
    "    # OJO a este Detalle\n",
    "    sujeto['ID_Group'] = 'Pacientes' if txt[:-4].find('P') == 0 else 'Controles'\n",
    "    bases.append(sujeto)\n",
    "    time.sleep(0.01)"
   ]
  },
  {
   "cell_type": "code",
   "execution_count": null,
   "metadata": {},
   "outputs": [],
   "source": [
    "bases"
   ]
  },
  {
   "cell_type": "code",
   "execution_count": 72,
   "metadata": {},
   "outputs": [],
   "source": [
    "sujetos = pd.concat(bases)"
   ]
  },
  {
   "cell_type": "code",
   "execution_count": 73,
   "metadata": {},
   "outputs": [
    {
     "data": {
      "text/html": [
       "<div>\n",
       "<style scoped>\n",
       "    .dataframe tbody tr th:only-of-type {\n",
       "        vertical-align: middle;\n",
       "    }\n",
       "\n",
       "    .dataframe tbody tr th {\n",
       "        vertical-align: top;\n",
       "    }\n",
       "\n",
       "    .dataframe thead th {\n",
       "        text-align: right;\n",
       "    }\n",
       "</style>\n",
       "<table border=\"1\" class=\"dataframe\">\n",
       "  <thead>\n",
       "    <tr style=\"text-align: right;\">\n",
       "      <th></th>\n",
       "      <th>Neutral</th>\n",
       "      <th>Happy</th>\n",
       "      <th>Sad</th>\n",
       "      <th>Angry</th>\n",
       "      <th>Surprised</th>\n",
       "      <th>Scared</th>\n",
       "      <th>Disgusted</th>\n",
       "      <th>Contempt</th>\n",
       "      <th>Valence</th>\n",
       "      <th>Arousal</th>\n",
       "      <th>Heart_Rate</th>\n",
       "      <th>Fecha</th>\n",
       "      <th>Hora</th>\n",
       "      <th>ID</th>\n",
       "      <th>ID_Group</th>\n",
       "    </tr>\n",
       "    <tr>\n",
       "      <th>Video_Time</th>\n",
       "      <th></th>\n",
       "      <th></th>\n",
       "      <th></th>\n",
       "      <th></th>\n",
       "      <th></th>\n",
       "      <th></th>\n",
       "      <th></th>\n",
       "      <th></th>\n",
       "      <th></th>\n",
       "      <th></th>\n",
       "      <th></th>\n",
       "      <th></th>\n",
       "      <th></th>\n",
       "      <th></th>\n",
       "      <th></th>\n",
       "    </tr>\n",
       "  </thead>\n",
       "  <tbody>\n",
       "    <tr>\n",
       "      <th>2020-09-11 00:00:00.000</th>\n",
       "      <td>NaN</td>\n",
       "      <td>NaN</td>\n",
       "      <td>NaN</td>\n",
       "      <td>NaN</td>\n",
       "      <td>NaN</td>\n",
       "      <td>NaN</td>\n",
       "      <td>NaN</td>\n",
       "      <td>NaN</td>\n",
       "      <td>NaN</td>\n",
       "      <td>NaN</td>\n",
       "      <td>NaN</td>\n",
       "      <td>2020-09-11</td>\n",
       "      <td>00:00:00</td>\n",
       "      <td>Control1</td>\n",
       "      <td>Controles</td>\n",
       "    </tr>\n",
       "    <tr>\n",
       "      <th>2020-09-11 00:00:00.040</th>\n",
       "      <td>NaN</td>\n",
       "      <td>NaN</td>\n",
       "      <td>NaN</td>\n",
       "      <td>NaN</td>\n",
       "      <td>NaN</td>\n",
       "      <td>NaN</td>\n",
       "      <td>NaN</td>\n",
       "      <td>NaN</td>\n",
       "      <td>NaN</td>\n",
       "      <td>NaN</td>\n",
       "      <td>NaN</td>\n",
       "      <td>2020-09-11</td>\n",
       "      <td>00:00:00.040000</td>\n",
       "      <td>Control1</td>\n",
       "      <td>Controles</td>\n",
       "    </tr>\n",
       "    <tr>\n",
       "      <th>2020-09-11 00:00:00.080</th>\n",
       "      <td>NaN</td>\n",
       "      <td>NaN</td>\n",
       "      <td>NaN</td>\n",
       "      <td>NaN</td>\n",
       "      <td>NaN</td>\n",
       "      <td>NaN</td>\n",
       "      <td>NaN</td>\n",
       "      <td>NaN</td>\n",
       "      <td>NaN</td>\n",
       "      <td>NaN</td>\n",
       "      <td>NaN</td>\n",
       "      <td>2020-09-11</td>\n",
       "      <td>00:00:00.080000</td>\n",
       "      <td>Control1</td>\n",
       "      <td>Controles</td>\n",
       "    </tr>\n",
       "    <tr>\n",
       "      <th>2020-09-11 00:00:00.120</th>\n",
       "      <td>NaN</td>\n",
       "      <td>NaN</td>\n",
       "      <td>NaN</td>\n",
       "      <td>NaN</td>\n",
       "      <td>NaN</td>\n",
       "      <td>NaN</td>\n",
       "      <td>NaN</td>\n",
       "      <td>NaN</td>\n",
       "      <td>NaN</td>\n",
       "      <td>NaN</td>\n",
       "      <td>NaN</td>\n",
       "      <td>2020-09-11</td>\n",
       "      <td>00:00:00.120000</td>\n",
       "      <td>Control1</td>\n",
       "      <td>Controles</td>\n",
       "    </tr>\n",
       "    <tr>\n",
       "      <th>2020-09-11 00:00:00.160</th>\n",
       "      <td>NaN</td>\n",
       "      <td>NaN</td>\n",
       "      <td>NaN</td>\n",
       "      <td>NaN</td>\n",
       "      <td>NaN</td>\n",
       "      <td>NaN</td>\n",
       "      <td>NaN</td>\n",
       "      <td>NaN</td>\n",
       "      <td>NaN</td>\n",
       "      <td>NaN</td>\n",
       "      <td>NaN</td>\n",
       "      <td>2020-09-11</td>\n",
       "      <td>00:00:00.160000</td>\n",
       "      <td>Control1</td>\n",
       "      <td>Controles</td>\n",
       "    </tr>\n",
       "    <tr>\n",
       "      <th>...</th>\n",
       "      <td>...</td>\n",
       "      <td>...</td>\n",
       "      <td>...</td>\n",
       "      <td>...</td>\n",
       "      <td>...</td>\n",
       "      <td>...</td>\n",
       "      <td>...</td>\n",
       "      <td>...</td>\n",
       "      <td>...</td>\n",
       "      <td>...</td>\n",
       "      <td>...</td>\n",
       "      <td>...</td>\n",
       "      <td>...</td>\n",
       "      <td>...</td>\n",
       "      <td>...</td>\n",
       "    </tr>\n",
       "    <tr>\n",
       "      <th>2020-09-11 00:25:25.560</th>\n",
       "      <td>NaN</td>\n",
       "      <td>NaN</td>\n",
       "      <td>NaN</td>\n",
       "      <td>NaN</td>\n",
       "      <td>NaN</td>\n",
       "      <td>NaN</td>\n",
       "      <td>NaN</td>\n",
       "      <td>NaN</td>\n",
       "      <td>NaN</td>\n",
       "      <td>NaN</td>\n",
       "      <td>NaN</td>\n",
       "      <td>2020-09-11</td>\n",
       "      <td>00:25:25.560000</td>\n",
       "      <td>Paciente2</td>\n",
       "      <td>Pacientes</td>\n",
       "    </tr>\n",
       "    <tr>\n",
       "      <th>2020-09-11 00:25:25.679</th>\n",
       "      <td>NaN</td>\n",
       "      <td>NaN</td>\n",
       "      <td>NaN</td>\n",
       "      <td>NaN</td>\n",
       "      <td>NaN</td>\n",
       "      <td>NaN</td>\n",
       "      <td>NaN</td>\n",
       "      <td>NaN</td>\n",
       "      <td>NaN</td>\n",
       "      <td>NaN</td>\n",
       "      <td>NaN</td>\n",
       "      <td>2020-09-11</td>\n",
       "      <td>00:25:25.679000</td>\n",
       "      <td>Paciente2</td>\n",
       "      <td>Pacientes</td>\n",
       "    </tr>\n",
       "    <tr>\n",
       "      <th>2020-09-11 00:25:25.800</th>\n",
       "      <td>NaN</td>\n",
       "      <td>NaN</td>\n",
       "      <td>NaN</td>\n",
       "      <td>NaN</td>\n",
       "      <td>NaN</td>\n",
       "      <td>NaN</td>\n",
       "      <td>NaN</td>\n",
       "      <td>NaN</td>\n",
       "      <td>NaN</td>\n",
       "      <td>NaN</td>\n",
       "      <td>NaN</td>\n",
       "      <td>2020-09-11</td>\n",
       "      <td>00:25:25.800000</td>\n",
       "      <td>Paciente2</td>\n",
       "      <td>Pacientes</td>\n",
       "    </tr>\n",
       "    <tr>\n",
       "      <th>2020-09-11 00:25:25.919</th>\n",
       "      <td>NaN</td>\n",
       "      <td>NaN</td>\n",
       "      <td>NaN</td>\n",
       "      <td>NaN</td>\n",
       "      <td>NaN</td>\n",
       "      <td>NaN</td>\n",
       "      <td>NaN</td>\n",
       "      <td>NaN</td>\n",
       "      <td>NaN</td>\n",
       "      <td>NaN</td>\n",
       "      <td>NaN</td>\n",
       "      <td>2020-09-11</td>\n",
       "      <td>00:25:25.919000</td>\n",
       "      <td>Paciente2</td>\n",
       "      <td>Pacientes</td>\n",
       "    </tr>\n",
       "    <tr>\n",
       "      <th>2020-09-11 00:25:26.040</th>\n",
       "      <td>NaN</td>\n",
       "      <td>NaN</td>\n",
       "      <td>NaN</td>\n",
       "      <td>NaN</td>\n",
       "      <td>NaN</td>\n",
       "      <td>NaN</td>\n",
       "      <td>NaN</td>\n",
       "      <td>NaN</td>\n",
       "      <td>NaN</td>\n",
       "      <td>NaN</td>\n",
       "      <td>NaN</td>\n",
       "      <td>2020-09-11</td>\n",
       "      <td>00:25:26.040000</td>\n",
       "      <td>Paciente2</td>\n",
       "      <td>Pacientes</td>\n",
       "    </tr>\n",
       "  </tbody>\n",
       "</table>\n",
       "<p>150326 rows × 15 columns</p>\n",
       "</div>"
      ],
      "text/plain": [
       "                         Neutral  Happy  Sad  Angry  Surprised  Scared  \\\n",
       "Video_Time                                                               \n",
       "2020-09-11 00:00:00.000      NaN    NaN  NaN    NaN        NaN     NaN   \n",
       "2020-09-11 00:00:00.040      NaN    NaN  NaN    NaN        NaN     NaN   \n",
       "2020-09-11 00:00:00.080      NaN    NaN  NaN    NaN        NaN     NaN   \n",
       "2020-09-11 00:00:00.120      NaN    NaN  NaN    NaN        NaN     NaN   \n",
       "2020-09-11 00:00:00.160      NaN    NaN  NaN    NaN        NaN     NaN   \n",
       "...                          ...    ...  ...    ...        ...     ...   \n",
       "2020-09-11 00:25:25.560      NaN    NaN  NaN    NaN        NaN     NaN   \n",
       "2020-09-11 00:25:25.679      NaN    NaN  NaN    NaN        NaN     NaN   \n",
       "2020-09-11 00:25:25.800      NaN    NaN  NaN    NaN        NaN     NaN   \n",
       "2020-09-11 00:25:25.919      NaN    NaN  NaN    NaN        NaN     NaN   \n",
       "2020-09-11 00:25:26.040      NaN    NaN  NaN    NaN        NaN     NaN   \n",
       "\n",
       "                         Disgusted  Contempt  Valence  Arousal  Heart_Rate  \\\n",
       "Video_Time                                                                   \n",
       "2020-09-11 00:00:00.000        NaN       NaN      NaN      NaN         NaN   \n",
       "2020-09-11 00:00:00.040        NaN       NaN      NaN      NaN         NaN   \n",
       "2020-09-11 00:00:00.080        NaN       NaN      NaN      NaN         NaN   \n",
       "2020-09-11 00:00:00.120        NaN       NaN      NaN      NaN         NaN   \n",
       "2020-09-11 00:00:00.160        NaN       NaN      NaN      NaN         NaN   \n",
       "...                            ...       ...      ...      ...         ...   \n",
       "2020-09-11 00:25:25.560        NaN       NaN      NaN      NaN         NaN   \n",
       "2020-09-11 00:25:25.679        NaN       NaN      NaN      NaN         NaN   \n",
       "2020-09-11 00:25:25.800        NaN       NaN      NaN      NaN         NaN   \n",
       "2020-09-11 00:25:25.919        NaN       NaN      NaN      NaN         NaN   \n",
       "2020-09-11 00:25:26.040        NaN       NaN      NaN      NaN         NaN   \n",
       "\n",
       "                              Fecha             Hora         ID   ID_Group  \n",
       "Video_Time                                                                  \n",
       "2020-09-11 00:00:00.000  2020-09-11         00:00:00   Control1  Controles  \n",
       "2020-09-11 00:00:00.040  2020-09-11  00:00:00.040000   Control1  Controles  \n",
       "2020-09-11 00:00:00.080  2020-09-11  00:00:00.080000   Control1  Controles  \n",
       "2020-09-11 00:00:00.120  2020-09-11  00:00:00.120000   Control1  Controles  \n",
       "2020-09-11 00:00:00.160  2020-09-11  00:00:00.160000   Control1  Controles  \n",
       "...                             ...              ...        ...        ...  \n",
       "2020-09-11 00:25:25.560  2020-09-11  00:25:25.560000  Paciente2  Pacientes  \n",
       "2020-09-11 00:25:25.679  2020-09-11  00:25:25.679000  Paciente2  Pacientes  \n",
       "2020-09-11 00:25:25.800  2020-09-11  00:25:25.800000  Paciente2  Pacientes  \n",
       "2020-09-11 00:25:25.919  2020-09-11  00:25:25.919000  Paciente2  Pacientes  \n",
       "2020-09-11 00:25:26.040  2020-09-11  00:25:26.040000  Paciente2  Pacientes  \n",
       "\n",
       "[150326 rows x 15 columns]"
      ]
     },
     "execution_count": 73,
     "metadata": {},
     "output_type": "execute_result"
    }
   ],
   "source": [
    "sujetos"
   ]
  },
  {
   "cell_type": "code",
   "execution_count": 74,
   "metadata": {},
   "outputs": [
    {
     "data": {
      "text/plain": [
       "'2,254,890'"
      ]
     },
     "execution_count": 74,
     "metadata": {},
     "output_type": "execute_result"
    }
   ],
   "source": [
    "'{:,}'.format(sujetos.shape[0] * sujetos.shape[1])"
   ]
  },
  {
   "cell_type": "code",
   "execution_count": 75,
   "metadata": {},
   "outputs": [
    {
     "name": "stdout",
     "output_type": "stream",
     "text": [
      "['Control1' 'Control2' 'Paciente1' 'Paciente2']\n",
      "['Controles' 'Pacientes']\n"
     ]
    }
   ],
   "source": [
    "print(sujetos.ID.unique())\n",
    "print(sujetos.ID_Group.unique())"
   ]
  },
  {
   "cell_type": "code",
   "execution_count": 76,
   "metadata": {},
   "outputs": [
    {
     "name": "stdout",
     "output_type": "stream",
     "text": [
      "<class 'pandas.core.frame.DataFrame'>\n",
      "DatetimeIndex: 150326 entries, 2020-09-11 00:00:00 to 2020-09-11 00:25:26.040000\n",
      "Data columns (total 15 columns):\n",
      " #   Column      Non-Null Count   Dtype  \n",
      "---  ------      --------------   -----  \n",
      " 0   Neutral     122552 non-null  float64\n",
      " 1   Happy       122552 non-null  float64\n",
      " 2   Sad         122552 non-null  float64\n",
      " 3   Angry       122552 non-null  float64\n",
      " 4   Surprised   122552 non-null  float64\n",
      " 5   Scared      122552 non-null  float64\n",
      " 6   Disgusted   122552 non-null  float64\n",
      " 7   Contempt    122552 non-null  float64\n",
      " 8   Valence     122552 non-null  float64\n",
      " 9   Arousal     122552 non-null  float64\n",
      " 10  Heart_Rate  98478 non-null   float64\n",
      " 11  Fecha       150326 non-null  object \n",
      " 12  Hora        150326 non-null  object \n",
      " 13  ID          150326 non-null  object \n",
      " 14  ID_Group    150326 non-null  object \n",
      "dtypes: float64(11), object(4)\n",
      "memory usage: 18.4+ MB\n"
     ]
    }
   ],
   "source": [
    "sujetos.info()"
   ]
  },
  {
   "cell_type": "code",
   "execution_count": null,
   "metadata": {},
   "outputs": [],
   "source": [
    "sujetos.to_excel('Todos los Sujetos.xlsx')"
   ]
  },
  {
   "cell_type": "code",
   "execution_count": 77,
   "metadata": {},
   "outputs": [
    {
     "data": {
      "text/plain": [
       "Index(['Neutral', 'Happy', 'Sad', 'Angry', 'Surprised', 'Scared', 'Disgusted',\n",
       "       'Contempt', 'Valence', 'Arousal', 'Heart_Rate', 'Fecha', 'Hora', 'ID',\n",
       "       'ID_Group'],\n",
       "      dtype='object')"
      ]
     },
     "execution_count": 77,
     "metadata": {},
     "output_type": "execute_result"
    }
   ],
   "source": [
    "sujetos.columns"
   ]
  },
  {
   "cell_type": "markdown",
   "metadata": {},
   "source": [
    "### a) Comparar los estados emocionales de los pacientes con TLP y un grupo control durante una intervención terapeutica."
   ]
  },
  {
   "cell_type": "code",
   "execution_count": 78,
   "metadata": {},
   "outputs": [],
   "source": [
    "pac = sujetos.loc[sujetos.ID_Group == 'Pacientes']\n",
    "control = sujetos.loc[sujetos.ID_Group == 'Controles']"
   ]
  },
  {
   "cell_type": "code",
   "execution_count": 82,
   "metadata": {},
   "outputs": [
    {
     "name": "stderr",
     "output_type": "stream",
     "text": [
      "/Users/javier/anaconda3/envs/pandaspython/lib/python3.8/site-packages/scipy/stats/morestats.py:1681: UserWarning: p-value may not be accurate for N > 5000.\n",
      "  warnings.warn(\"p-value may not be accurate for N > 5000.\")\n"
     ]
    }
   ],
   "source": [
    "estats_pac, p_value_pac = spss.shapiro(pac['Neutral'].dropna(how='any'))"
   ]
  },
  {
   "cell_type": "code",
   "execution_count": 83,
   "metadata": {},
   "outputs": [
    {
     "data": {
      "text/plain": [
       "'W = 0.9953005313873291 p < 1.4804413774312495e-30'"
      ]
     },
     "execution_count": 83,
     "metadata": {},
     "output_type": "execute_result"
    }
   ],
   "source": [
    "shapvalen_pac = 'W = {} p < {}'.format(estats_pac, p_value_pac)\n",
    "shapvalen_pac"
   ]
  },
  {
   "cell_type": "code",
   "execution_count": 84,
   "metadata": {},
   "outputs": [
    {
     "data": {
      "text/plain": [
       "'W = 0.995 p < 1.4804413774312495e-30'"
      ]
     },
     "execution_count": 84,
     "metadata": {},
     "output_type": "execute_result"
    }
   ],
   "source": [
    "shapvalen_pac = 'W = {:.3} p < {}'.format(estats_pac, p_value_pac)\n",
    "shapvalen_pac"
   ]
  },
  {
   "cell_type": "code",
   "execution_count": 91,
   "metadata": {},
   "outputs": [
    {
     "data": {
      "text/plain": [
       "'W = 0.995 p < 1.48e-30'"
      ]
     },
     "execution_count": 91,
     "metadata": {},
     "output_type": "execute_result"
    }
   ],
   "source": [
    "shapvalen_pac = 'W = {:.3} p < {:.3}'.format(estats_pac, p_value_pac)\n",
    "shapvalen_pac"
   ]
  },
  {
   "cell_type": "code",
   "execution_count": 90,
   "metadata": {},
   "outputs": [
    {
     "data": {
      "text/plain": [
       "'W = 0.995 p < 0.0'"
      ]
     },
     "execution_count": 90,
     "metadata": {},
     "output_type": "execute_result"
    }
   ],
   "source": [
    "shapvalen_pac = 'W = {:.3} p < {}'.format(estats_pac, round(p_value_pac, 3))\n",
    "shapvalen_pac"
   ]
  },
  {
   "cell_type": "code",
   "execution_count": 92,
   "metadata": {},
   "outputs": [
    {
     "data": {
      "text/plain": [
       "'W = 0.995 p < 0.01'"
      ]
     },
     "execution_count": 92,
     "metadata": {},
     "output_type": "execute_result"
    }
   ],
   "source": [
    "shapvalen_pac = 'W = {:.3} p < {}1'.format(estats_pac, round(p_value_pac, 3))\n",
    "shapvalen_pac"
   ]
  },
  {
   "cell_type": "code",
   "execution_count": 93,
   "metadata": {},
   "outputs": [
    {
     "data": {
      "image/png": "[encoded data removed]",
      "text/plain": [
       "<Figure size 432x288 with 1 Axes>"
      ]
     },
     "metadata": {
      "needs_background": "light"
     },
     "output_type": "display_data"
    }
   ],
   "source": [
    "sns.distplot(pac['Neutral'].dropna(how='any'), fit=spss.norm, kde=True, axlabel='{}'.format(shapvalen_pac))\n",
    "plt.title('Distribución Pacientes - Neutral')\n",
    "plt.tight_layout()"
   ]
  },
  {
   "cell_type": "code",
   "execution_count": 94,
   "metadata": {},
   "outputs": [
    {
     "name": "stderr",
     "output_type": "stream",
     "text": [
      "/Users/javier/anaconda3/envs/pandaspython/lib/python3.8/site-packages/scipy/stats/morestats.py:1681: UserWarning: p-value may not be accurate for N > 5000.\n",
      "  warnings.warn(\"p-value may not be accurate for N > 5000.\")\n"
     ]
    }
   ],
   "source": [
    "estats_control, p_value_control = spss.shapiro(control['Neutral'].dropna(how='any'))\n",
    "shapvalen_control = 'W = {:.3} p < {}1'.format(estats_control, p_value_control)"
   ]
  },
  {
   "cell_type": "code",
   "execution_count": 95,
   "metadata": {},
   "outputs": [
    {
     "data": {
      "image/png": "[encoded data removed]",
      "text/plain": [
       "<Figure size 432x288 with 1 Axes>"
      ]
     },
     "metadata": {
      "needs_background": "light"
     },
     "output_type": "display_data"
    }
   ],
   "source": [
    "sns.distplot(control['Neutral'].dropna(how='any'), fit=spss.norm, kde=True, axlabel='{}'.format(shapvalen_control))\n",
    "plt.title('Distribución Controles - Neutral')\n",
    "plt.tight_layout()"
   ]
  },
  {
   "cell_type": "code",
   "execution_count": null,
   "metadata": {},
   "outputs": [],
   "source": []
  }
 ],
 "metadata": {
  "kernelspec": {
   "display_name": "Python 3",
   "language": "python",
   "name": "python3"
  },
  "language_info": {
   "codemirror_mode": {
    "name": "ipython",
    "version": 3
   },
   "file_extension": ".py",
   "mimetype": "text/x-python",
   "name": "python",
   "nbconvert_exporter": "python",
   "pygments_lexer": "ipython3",
   "version": "3.8.5"
  }
 },
 "nbformat": 4,
 "nbformat_minor": 4
}
